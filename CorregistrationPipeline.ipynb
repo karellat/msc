{
 "cells": [
  {
   "cell_type": "code",
   "execution_count": 10,
   "metadata": {},
   "outputs": [],
   "source": [
    "INPUT_PATH=\"/ADNI/ADNI\"\n",
    "CSV_PATH=\"/ADNI/ADNI1_Complete_1Yr_1.5T_10_13_2019.csv\"\n",
    "OUTPUT_PATH=\"/ADNI/flirt_ADNI\""
   ]
  },
  {
   "cell_type": "code",
   "execution_count": 11,
   "metadata": {},
   "outputs": [],
   "source": [
    "import logging\n",
    "logger = logging.getLogger()\n",
    "logger.setLevel(logging.INFO)"
   ]
  },
  {
   "cell_type": "code",
   "execution_count": 12,
   "metadata": {},
   "outputs": [
    {
     "name": "stderr",
     "output_type": "stream",
     "text": [
      "MCI images 1036, CN images 638, AD images 445\n"
     ]
    }
   ],
   "source": [
    "import pandas as pd\n",
    "import re\n",
    "import os\n",
    "df = pd.read_csv(CSV_PATH)\n",
    "\n",
    "all_files = []\n",
    "for (dirpath, dirnames, filenames) in os.walk(INPUT_PATH): \n",
    "    for f in filenames: \n",
    "        if f.endswith(\"nii\"): \n",
    "            all_files.append(int(re.split(\"_|\\.\", f)[-2][1:]))\n",
    "all_files = set(all_files)\n",
    "            \n",
    "mci_img_ids = list(set(df.loc[df['Group'] == 'MCI']['Image Data ID'].unique()) & all_files)\n",
    "cn_img_ids = list(set(df.loc[df['Group'] == 'CN']['Image Data ID'].unique())& all_files)\n",
    "ad_img_ids = list(set(df.loc[df['Group'] == 'AD']['Image Data ID'].unique()) & all_files)\n",
    "\n",
    "id_lists = {\n",
    "    \"mci\" : mci_img_ids, \n",
    "    \"cn\"  : cn_img_ids, \n",
    "    \"ad\"  : ad_img_ids\n",
    "}\n",
    "\n",
    "logger.warning(f\"MCI images {len(mci_img_ids)}, CN images {len(cn_img_ids)}, AD images {len(ad_img_ids)}\")"
   ]
  },
  {
   "cell_type": "code",
   "execution_count": 13,
   "metadata": {},
   "outputs": [],
   "source": [
    "import os\n",
    "import nipype.interfaces.io as nio\n",
    "import logging\n",
    "import matplotlib.pyplot as plt\n",
    "import numpy as np\n",
    "import nibabel as nb\n",
    "from src.preprocess import RescaleImage"
   ]
  },
  {
   "cell_type": "code",
   "execution_count": 14,
   "metadata": {},
   "outputs": [],
   "source": [
    "id_lists[\"test\"] = id_lists['ad'][:2] "
   ]
  },
  {
   "cell_type": "code",
   "execution_count": 15,
   "metadata": {},
   "outputs": [],
   "source": [
    "diagnosis = \"test\"\n",
    "output_dir = os.path.join(OUTPUT_PATH, diagnosis)\n",
    "iterables = id_lists[diagnosis]\n",
    "new_shape = (192, 192, 160)\n",
    "image_format='*_S_*/*/*/S*/*_I{image_id}.nii'\n",
    "input_path = INPUT_PATH"
   ]
  },
  {
   "cell_type": "code",
   "execution_count": 16,
   "metadata": {},
   "outputs": [],
   "source": [
    "from nipype import SelectFiles, Node, Workflow, MapNode, IdentityInterface \n",
    "from nipype.interfaces.fsl import BET, Info, FNIRT, ApplyWarp, FLIRT\n",
    "from nipype.interfaces.base import BaseInterfaceInputSpec, BaseInterface, File, TraitedSpec, traits, isdefined"
   ]
  },
  {
   "cell_type": "code",
   "execution_count": null,
   "metadata": {},
   "outputs": [],
   "source": []
  },
  {
   "cell_type": "code",
   "execution_count": 17,
   "metadata": {},
   "outputs": [],
   "source": [
    "# Template coregistra\n",
    "template = Info.standard_image('MNI152_T1_1mm_brain.nii.gz')\n",
    "# Input\n",
    "infosource = Node(IdentityInterface(fields=['image_id']),\n",
    "                name=\"infosource\")\n",
    "infosource.iterables = [('image_id', iterables)]\n",
    "\n",
    "input_node = Node(SelectFiles({'anat' : image_format},\n",
    "                               base_directory=input_path),\n",
    "                              name=\"input_node\")\n",
    "\n",
    "# Calculate coregistration \n",
    "coregistration = MapNode(FNIRT(ref_file=\"/ADNI/mni_icbm152_nl_VI_nifti/icbm_avg_152_t1_tal_nlin_symmetric_VI.nii\",field_file=True, fieldcoeff_file=True),\n",
    "                     name='fslreg',\n",
    "                     iterfield=['in_file'])\n",
    "# Aplicate coregistration \n",
    "apply_warp = Node(ApplyWarp(ref_file=\"/ADNI/mni_icbm152_nl_VI_nifti/icbm_avg_152_t1_tal_nlin_symmetric_VI.nii\"),\n",
    "                  name='warp', \n",
    "                  iterfield=['in_file'])\n",
    "\n",
    "# Linear coregistration\n",
    "lin_cor = Node(FLIRT(reference=\"/ADNI/mni_icbm152_nl_VI_nifti/icbm_avg_152_t1_tal_nlin_symmetric_VI.nii\"),\n",
    "                     name='flirt',iterfield=['in_file'])\n",
    "\n",
    "# Skull stripping Node with BET\n",
    "skullstrip = Node(BET(mask=True),\n",
    "                  name=\"skullstrip\",\n",
    "                  iterfield=['in_file'])\n",
    "\n",
    "\n",
    "\n",
    "# Sink\n",
    "sink = Node(interface=nio.DataSink(),\n",
    "            name='sink')\n",
    "sink.inputs.regexp_substitutions = [(\"_skullstrip[0-9]+\", \"\")]\n",
    "sink.inputs.base_directory = output_dir\n",
    "# Preprocess Workflow\n",
    "wf = Workflow(name='preproc')\n",
    "# Connections\n",
    "wf.connect(infosource, \"image_id\", input_node, \"image_id\")\n",
    "wf.connect(input_node, \"anat\", lin_cor, \"in_file\")\n",
    "wf.connect(lin_cor, \"out_file\", coregistration, \"in_file\")\n",
    "wf.connect(lin_cor, \"out_file\", apply_warp, \"in_file\")\n",
    "wf.connect(coregistration, \"field_file\", apply_warp, \"field_file\")\n",
    "wf.connect(apply_warp, \"out_file\", sink, \"@out_file\")\n",
    "\n",
    "#wf.connect(apply_warp, \"out_file\", skullstrip, \"in_file\")\n",
    "#wf.connect(skullstrip, \"out_file\",sink, \"@out_file\")\n"
   ]
  },
  {
   "cell_type": "code",
   "execution_count": 18,
   "metadata": {},
   "outputs": [
    {
     "name": "stdout",
     "output_type": "stream",
     "text": [
      "200313-14:54:40,335 nipype.workflow INFO:\n",
      "\t Generated workflow graph: /home/neuro/thesis/graph.png (graph2use=hierarchical, simple_form=True).\n"
     ]
    },
    {
     "data": {
      "image/png": "[encoded data removed]",
      "text/plain": [
       "<IPython.core.display.Image object>"
      ]
     },
     "execution_count": 18,
     "metadata": {},
     "output_type": "execute_result"
    }
   ],
   "source": [
    "wf.write_graph()\n",
    "from IPython.display import Image\n",
    "Image('/home/neuro/thesis/graph.png')"
   ]
  },
  {
   "cell_type": "code",
   "execution_count": 19,
   "metadata": {},
   "outputs": [
    {
     "data": {
      "text/plain": [
       "[118788, 102405]"
      ]
     },
     "execution_count": 19,
     "metadata": {},
     "output_type": "execute_result"
    }
   ],
   "source": [
    "iterables"
   ]
  },
  {
   "cell_type": "code",
   "execution_count": null,
   "metadata": {},
   "outputs": [
    {
     "name": "stdout",
     "output_type": "stream",
     "text": [
      "200313-14:54:57,712 nipype.workflow INFO:\n",
      "\t Workflow preproc settings: ['check', 'execution', 'logging', 'monitoring']\n",
      "200313-14:54:58,88 nipype.workflow INFO:\n",
      "\t Running in parallel.\n",
      "200313-14:54:58,96 nipype.workflow INFO:\n",
      "\t [MultiProc] Running 0 tasks, and 2 jobs ready. Free memory (GB): 5.24/5.24, Free processors: 2/2.\n",
      "200313-14:54:58,188 nipype.workflow INFO:\n",
      "\t [Node] Setting-up \"preproc.input_node\" in \"/tmp/tmpflq85ti1/preproc/_image_id_102405/input_node\".200313-14:54:58,188 nipype.workflow INFO:\n",
      "\t [Node] Setting-up \"preproc.input_node\" in \"/tmp/tmp8i4agp_v/preproc/_image_id_118788/input_node\".\n",
      "\n",
      "200313-14:54:58,200 nipype.workflow INFO:\n",
      "\t [Node] Running \"input_node\" (\"nipype.interfaces.io.SelectFiles\")200313-14:54:58,200 nipype.workflow INFO:\n",
      "\t [Node] Running \"input_node\" (\"nipype.interfaces.io.SelectFiles\")\n",
      "\n",
      "200313-14:55:00,97 nipype.workflow INFO:\n",
      "\t [MultiProc] Running 2 tasks, and 0 jobs ready. Free memory (GB): 4.84/5.24, Free processors: 0/2.\n",
      "                     Currently running:\n",
      "                       * preproc.input_node\n",
      "                       * preproc.input_node\n",
      "200313-14:55:10,205 nipype.workflow INFO:\n",
      "\t [Node] Finished \"preproc.input_node\"."
     ]
    }
   ],
   "source": [
    "wf.run(plugin='MultiProc', plugin_args={'n_procs' : 2})"
   ]
  },
  {
   "cell_type": "code",
   "execution_count": null,
   "metadata": {},
   "outputs": [],
   "source": []
  }
 ],
 "metadata": {
  "kernelspec": {
   "display_name": "Python 3",
   "language": "python",
   "name": "python3"
  },
  "language_info": {
   "codemirror_mode": {
    "name": "ipython",
    "version": 3
   },
   "file_extension": ".py",
   "mimetype": "text/x-python",
   "name": "python",
   "nbconvert_exporter": "python",
   "pygments_lexer": "ipython3",
   "version": "3.6.10"
  }
 },
 "nbformat": 4,
 "nbformat_minor": 4
}
