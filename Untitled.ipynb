{
 "cells": [
  {
   "cell_type": "code",
   "execution_count": 6,
   "metadata": {},
   "outputs": [],
   "source": [
    "from nipype.interfaces.base import BaseInterfaceInputSpec, BaseInterface, File, TraitedSpec, traits, isdefined\n",
    "from src.reader import nii_reader"
   ]
  },
  {
   "cell_type": "code",
   "execution_count": 3,
   "metadata": {},
   "outputs": [],
   "source": [
    "class EntropySlicerInputSpec(BaseInterfaceInputSpec):\n",
    "    in_file = File(exists=True, mandatory=True, desc='the input 3d image')\n",
    "    out_file = File(desc='output file')\n",
    "    \n",
    "class EntropySlicerOutputSpec(TraitedSpec):\n",
    "    out_file = File(desc='the output image')\n",
    "    "
   ]
  },
  {
   "cell_type": "code",
   "execution_count": 5,
   "metadata": {},
   "outputs": [],
   "source": [
    "class EntropySlicer(BaseInterface):\n",
    "    input_spec = EntropySlicerInputSpec\n",
    "    output_spec = EntropySlicerOutputSpec\n",
    "    \n",
    "    \n",
    "    def _gen_outfilename(self):\n",
    "        out_file = self.inputs.out_file\n",
    "        if not isdefined(out_file) and isdefined(self.inputs.in_file):\n",
    "            no_ext = os.path.splitext(self.inputs.in_file)[0]\n",
    "            n = os.path.split(no_ext)[-1] + \".nii\"\n",
    "            out_file = os.path.join(os.getcwd(), n)\n",
    "        return os.path.abspath(out_file)\n",
    "\n",
    "    def _gen_filename(self, name):\n",
    "        if name == \"out_file\":\n",
    "            return self._gen_outfilename()\n",
    "        return None\n",
    "\n",
    "    def _run_interface(self, runtime):\n",
    "        # Call our python code here:\n",
    "        reshape_img(\n",
    "            self.inputs.in_file,\n",
    "            self.inputs.new_shape,\n",
    "            self._gen_outfilename(),\n",
    "        )\n",
    "        # And we are done\n",
    "        return runtime\n",
    "\n",
    "    def _list_outputs(self):\n",
    "        outputs = self.output_spec().get()\n",
    "        outputs[\"out_file\"] = self._gen_outfilename()\n",
    "        return outputs"
   ]
  },
  {
   "cell_type": "code",
   "execution_count": null,
   "metadata": {},
   "outputs": [],
   "source": [
    "def get_entropy_slices(in_file, num_slices=5, out_file): \n",
    "    assert num_slices > 0\n",
    "    num_slices *= -1 \n",
    "    \n",
    "    img = nii_reader(path=in_file, ignore_shape=False, as_numpy=True)\n",
    "    diff, slices = max_entropy_slices(img, num_slices)\n",
    "    \n",
    "    \n",
    "    \n",
    "def calc_entropy(array):\n",
    "    hist = np.histogram(array)\n",
    "    rv = rv_histogram(hist)\n",
    "    return float(rv.entropy())\n",
    "\n",
    "def max_entropy_slices(img, index):\n",
    "    slices = img.reshape((img.shape[0], img.shape[1] *  img.shape[2]))\n",
    "    entropies = [calc_entropy(slices[i]) for i in range(256)]\n",
    "    means = [np.mean(slices[i]) for i in range(256)]\n",
    "    max_entropy = np.argsort(entropies)\n",
    "    max_mean = np.argsort(means)\n",
    "    entropy_mean_difference = len(set(max_entropy[index:]) - set(max_mean[index:]))\n",
    "    return entropy_mean_difference, max_entropy[index:]"
   ]
  },
  {
   "cell_type": "code",
   "execution_count": 7,
   "metadata": {},
   "outputs": [],
   "source": [
    "nii_reader?"
   ]
  },
  {
   "cell_type": "code",
   "execution_count": null,
   "metadata": {},
   "outputs": [],
   "source": []
  }
 ],
 "metadata": {
  "kernelspec": {
   "display_name": "Python 3",
   "language": "python",
   "name": "python3"
  },
  "language_info": {
   "codemirror_mode": {
    "name": "ipython",
    "version": 3
   },
   "file_extension": ".py",
   "mimetype": "text/x-python",
   "name": "python",
   "nbconvert_exporter": "python",
   "pygments_lexer": "ipython3",
   "version": "3.6.10"
  }
 },
 "nbformat": 4,
 "nbformat_minor": 4
}
