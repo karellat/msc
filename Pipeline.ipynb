{
 "cells": [
  {
   "cell_type": "code",
   "execution_count": 72,
   "metadata": {},
   "outputs": [],
   "source": [
    "import nibabel as nib \n",
    "import numpy as np\n",
    "import logging\n",
    "import matplotlib.pyplot as plt\n",
    "import os\n",
    "from typing import Callable"
   ]
  },
  {
   "cell_type": "code",
   "execution_count": 73,
   "metadata": {},
   "outputs": [],
   "source": [
    "import nibabel as nib \n",
    "import numpy as np\n",
    "import logging\n",
    "import os\n",
    "from typing import Callable\n",
    "# TODO: Could be refactor as TFRecord class\n",
    "def nii_reader(path:str, default_shape:tuple=(256, 256, 166), ignore_shape:bool=True):\n",
    "    # TODO: Could be extended to multiple formats\n",
    "    # TODO: Could return objects of Nibel etc.\n",
    "    # TODO: Optimalize reading, test different methods \n",
    "    # https://simpleitk.readthedocs.io\n",
    "    # https://nipy.org/nibael/\n",
    "    # https://nilearn.github.io/\n",
    "    assert os.path.isfile(path)\n",
    "    img = nib.load(path)\n",
    "    if img.shape != default_shape:\n",
    "        logging.warning(f'Unexpected shape {img.shape}, default shape {default_shape}, file {path}')\n",
    "        if ignore_shape: return None \n",
    "    \n",
    "    return np.squeeze(np.array(img.get_fdata()))\n",
    "\n",
    "def nii_dir_generator(input_dir:str,\n",
    "                      fname2label: Callable[[str], str]=None,\n",
    "                      image_ext:str=\"nii\",\n",
    "                      default_shape:tuple=(256, 256, 166),\n",
    "                      ignore_shape:bool=False):\n",
    "    for (dirpath, dirnames, filenames) in os.walk(input_dir):\n",
    "        for f in filenames:\n",
    "            if f.endswith(image_ext):\n",
    "                f_path = os.path.join(dirpath, f)\n",
    "                logging.info(f'Read nii file from {f_path}')\n",
    "                img = nii_reader(f_path, default_shape=default_shape, ignore_shape=ignore_shape)\n",
    "                if fname2label:\n",
    "                    yield fname2label(f), img\n",
    "                else:\n",
    "                    yield f, img"
   ]
  },
  {
   "cell_type": "code",
   "execution_count": 74,
   "metadata": {},
   "outputs": [],
   "source": [
    "import re\n",
    "# ADNI tools\n",
    "# TODO: Separate\n",
    "def parse_adni_id(adni_img_name):\n",
    "    assert adni_img_name.startswith(\"ADNI_\")\n",
    "    adni_id = re.findall(r\"ADNI_([0-9]+_S_[0-9]+)_\", adni_img_name)\n",
    "    if len(adni_id) != 1:\n",
    "        logging.error(\"Unknown subject ID: {}\".format(adni_img_name))\n",
    "    return adni_id[0]"
   ]
  },
  {
   "cell_type": "code",
   "execution_count": 124,
   "metadata": {},
   "outputs": [],
   "source": [
    "# TODO: Inplace method much more faster \n",
    "# TODO: Aware of diffrent scanners \n",
    "# MARK: Sklearn does not work od 3D data\n",
    "# TODO: Registration etc... https://mirtk.github.io\n",
    "# https://nilearn.github.io\n",
    "def normalize(data, feature_range=(0,1), method=\"MinMax\", min_data=None, max_data=None, copy=True):\n",
    "    min_out, max_out = feature_range\n",
    "    if method == \"MinMax\":\n",
    "        if not min_data: np.min(data)\n",
    "        if not max_data: np.max(data)\n",
    "            \n",
    "        scale = (max_out - min_out) / (max_data - min_data)\n",
    "        if copy: \n",
    "            return data * scale + min_out - min_data * scale\n",
    "        else: \n",
    "            data *= scale\n",
    "            data += min_out - min_data * scale\n",
    "    else:\n",
    "        raise Exception(\"Unknown method {}\".format(method))"
   ]
  },
  {
   "cell_type": "code",
   "execution_count": null,
   "metadata": {},
   "outputs": [],
   "source": [
    "# TODO: Check existing sollution\n",
    "# tensorflow NiftyNet https://niftynet.io\n",
    "# "
   ]
  },
  {
   "cell_type": "code",
   "execution_count": 129,
   "metadata": {},
   "outputs": [],
   "source": [
    "# CONFIG\n",
    "# TODO: Move to config file\n",
    "# IMG\n",
    "# READING\n",
    "IMG_PATH = 'data'\n",
    "IMG_EXT = 'nii'\n",
    "IMG_SHAPE = (256, 256, 166)\n",
    "IMG_IGNORE_BAD_SHAPE = True\n",
    "FNAME_TO_LABEL = parse_adni_id\n",
    "# NORMALIZATION\n",
    "NORM_METHOD = 'MinMax'\n",
    "NORM_RANGE = (0, 1)\n",
    "# AUGMENTATION \n",
    "\n",
    "# CLASS BALANCING\n",
    "\n",
    "# TRAINING"
   ]
  },
  {
   "cell_type": "code",
   "execution_count": 128,
   "metadata": {},
   "outputs": [],
   "source": [
    "# READ PHASE\n",
    "filenames = []\n",
    "images = []\n",
    "img_generator = nii_dir_generator(input_dir=IMG_PATH,\n",
    "                                  fname2label=FNAME_TO_LABEL,\n",
    "                                  image_ext=IMG_EXT,\n",
    "                                  default_shape=IMG_SHAPE,\n",
    "                                  ignore_shape=IMG_IGNORE_BAD_SHAPE)\n",
    "for fname, img in img_generator:\n",
    "    filenames.append(fname)\n",
    "    images.append(img)\n",
    "    \n",
    "images = np.array(images)\n",
    "\n",
    "# NORMALIZATION PHASE\n",
    "voxel_mean = np.mean(images)\n",
    "voxel_std = np.std(images)\n",
    "voxel_max = np.max(images)\n",
    "voxel_min = np.min(images)\n",
    "\n",
    "normalize(images, \n",
    "          feature_range=(0,1),\n",
    "          method=NORM_METHOD, \n",
    "          min_data=voxel_min,\n",
    "          max_data=voxel_max, \n",
    "          copy=False)\n",
    "\n",
    "# DATA AUGMENTATION PHASE\n",
    "# TODO: Implement\n",
    "\n",
    "#CLASS BALANCING PHASE \n",
    "# TODO: Implement \n",
    "\n",
    "# TRAINING PHASE\n"
   ]
  },
  {
   "cell_type": "code",
   "execution_count": 125,
   "metadata": {},
   "outputs": [],
   "source": [
    "\n",
    "\n"
   ]
  },
  {
   "cell_type": "code",
   "execution_count": null,
   "metadata": {},
   "outputs": [],
   "source": []
  },
  {
   "cell_type": "code",
   "execution_count": null,
   "metadata": {},
   "outputs": [],
   "source": []
  },
  {
   "cell_type": "code",
   "execution_count": null,
   "metadata": {},
   "outputs": [],
   "source": []
  }
 ],
 "metadata": {
  "kernelspec": {
   "display_name": "Python 3",
   "language": "python",
   "name": "python3"
  },
  "language_info": {
   "codemirror_mode": {
    "name": "ipython",
    "version": 3
   },
   "file_extension": ".py",
   "mimetype": "text/x-python",
   "name": "python",
   "nbconvert_exporter": "python",
   "pygments_lexer": "ipython3",
   "version": "3.6.8"
  }
 },
 "nbformat": 4,
 "nbformat_minor": 2
}
