{
 "cells": [
  {
   "cell_type": "code",
   "execution_count": 1,
   "metadata": {},
   "outputs": [
    {
     "name": "stdout",
     "output_type": "stream",
     "text": [
      "200302-19:49:33,600 nipype.utils INFO:\n",
      "\t Running nipype version 1.5.0-dev (latest: 1.4.2)\n"
     ]
    }
   ],
   "source": [
    "from src.preprocess import reshape_img\n",
    "\n",
    "\n",
    "from nilearn.plotting import plot_anat\n",
    "%matplotlib inline\n",
    "\n",
    "import os\n",
    "import re\n",
    "import nipype.interfaces.io as nio\n",
    "import logging\n",
    "import matplotlib.pyplot as plt\n",
    "import numpy as np\n",
    "import nibabel as nb\n",
    "from nipype import SelectFiles, Node, Workflow, MapNode, IdentityInterface\n",
    "from nipype.interfaces.fsl import BET\n"
   ]
  },
  {
   "cell_type": "code",
   "execution_count": 2,
   "metadata": {},
   "outputs": [],
   "source": [
    "p = \"/ADNI/ADNI/002_S_0295/MPR__GradWarp__B1_Correction__N3__Scaled/2006-04-18_08_20_30.0/S13408/ADNI_002_S_0295_MR_MPR__GradWarp__B1_Correction__N3__Scaled_Br_20070319113623975_S13408_I45108.nii\"\n",
    "o = \"rescaled.nii\"\n",
    "n_s = (192, 192, 160)\n",
    "OUTPUT_PATH=\"/ADNI/test\""
   ]
  },
  {
   "cell_type": "code",
   "execution_count": null,
   "metadata": {},
   "outputs": [],
   "source": [
    "from nipype.interfaces.utility import Function\n",
    "\n",
    "my_python_interface = Function(\n",
    "    input_names=['in_file', 'new_shape', 'out_file'],\n",
    "    output_names=['out_file'],\n",
    "    function=reshape_img\n",
    ")"
   ]
  },
  {
   "cell_type": "code",
   "execution_count": null,
   "metadata": {},
   "outputs": [],
   "source": [
    "# Set inputs\n",
    "my_python_interface.inputs.in_file = p\n",
    "my_python_interface.inputs.new_shape = (192, 192, 160)\n",
    "my_python_interface.inputs.out_file = \"rescaled.nii\""
   ]
  },
  {
   "cell_type": "code",
   "execution_count": null,
   "metadata": {},
   "outputs": [],
   "source": [
    "# Run the interface\n",
    "result = my_python_interface.run()\n",
    "\n"
   ]
  },
  {
   "cell_type": "code",
   "execution_count": null,
   "metadata": {},
   "outputs": [],
   "source": [
    "# Plot the result\n",
    "plot_anat(o, dim=-1);\n",
    "\n"
   ]
  },
  {
   "cell_type": "code",
   "execution_count": null,
   "metadata": {},
   "outputs": [],
   "source": [
    "#workflow \n",
    "iterables = [45108]\n",
    "image_format='*_S_*/*/*/S*/*_I{image_id}.nii'\n",
    "infosource = Node(IdentityInterface(fields=['image_id']),\n",
    "                name=\"infosource\")\n",
    "infosource.iterables = [('image_id', iterables)]\n",
    "\n",
    "input_node = Node(SelectFiles({'anat' : image_format},\n",
    "                               base_directory=\"/ADNI/ADNI\"),\n",
    "                                  name=\"input_node\")\n",
    "\n",
    "rescale_node = Node(Function(\n",
    "        input_names=['in_file', 'new_shape'],\n",
    "        output_names=['out_file'],\n",
    "        function=reshape_img),\n",
    "    name=\"rescale_node\")\n",
    "\n",
    "rescale_node.inputs.new_shape = (192, 192, 160)\n",
    "\n",
    "sink = Node(interface=nio.DataSink(),name='sink')\n",
    "sink.inputs.base_directory = OUTPUT_PATH\n",
    "\n",
    "pre_wf = Workflow(name='preproc')\n",
    "# Connections\n",
    "pre_wf.connect(infosource, \"image_id\", input_node, \"image_id\")\n",
    "pre_wf.connect(input_node, \"anat\", rescale_node, \"in_file\")\n",
    "pre_wf.connect(rescale_node, \"out_file\",sink, \"@out_file\")"
   ]
  },
  {
   "cell_type": "code",
   "execution_count": null,
   "metadata": {},
   "outputs": [],
   "source": [
    "pre_wf.run()"
   ]
  },
  {
   "cell_type": "code",
   "execution_count": null,
   "metadata": {},
   "outputs": [],
   "source": []
  },
  {
   "cell_type": "code",
   "execution_count": null,
   "metadata": {},
   "outputs": [],
   "source": [
    "from nipype.interfaces.base import "
   ]
  },
  {
   "cell_type": "code",
   "execution_count": null,
   "metadata": {},
   "outputs": [],
   "source": [
    "\n",
    "new_shape = traits.Tuple(traits.Int, traits.Int, traits.Int)"
   ]
  },
  {
   "cell_type": "code",
   "execution_count": null,
   "metadata": {},
   "outputs": [],
   "source": []
  },
  {
   "cell_type": "code",
   "execution_count": 3,
   "metadata": {},
   "outputs": [],
   "source": [
    "from src.preprocess import RescaleImage"
   ]
  },
  {
   "cell_type": "code",
   "execution_count": 7,
   "metadata": {},
   "outputs": [
    {
     "name": "stdout",
     "output_type": "stream",
     "text": [
      "200302-19:51:49,252 nipype.workflow INFO:\n",
      "\t Workflow preproc settings: ['check', 'execution', 'logging', 'monitoring']\n",
      "200302-19:51:49,410 nipype.workflow INFO:\n",
      "\t Running serially.\n",
      "200302-19:51:49,412 nipype.workflow INFO:\n",
      "\t [Node] Setting-up \"preproc.input_node\" in \"/tmp/tmp89kk_74o/preproc/_image_id_45108/input_node\".\n",
      "200302-19:51:49,418 nipype.workflow INFO:\n",
      "\t [Node] Running \"input_node\" (\"nipype.interfaces.io.SelectFiles\")\n",
      "200302-19:51:57,611 nipype.workflow INFO:\n",
      "\t [Node] Finished \"preproc.input_node\".\n",
      "200302-19:51:57,612 nipype.workflow INFO:\n",
      "\t [Node] Setting-up \"preproc.rescale_node\" in \"/tmp/tmpivz54_5c/preproc/_image_id_45108/rescale_node\".\n",
      "200302-19:51:57,618 nipype.workflow INFO:\n",
      "\t [Node] Running \"rescale_node\" (\"src.preprocess.RescaleImage\")\n",
      "200302-19:51:59,480 nipype.workflow INFO:\n",
      "\t [Node] Finished \"preproc.rescale_node\".\n",
      "200302-19:51:59,482 nipype.workflow INFO:\n",
      "\t [Node] Setting-up \"preproc.skullstrip\" in \"/tmp/tmp0zeszduf/preproc/_image_id_45108/skullstrip\".\n",
      "200302-19:51:59,489 nipype.workflow INFO:\n",
      "\t [Node] Running \"skullstrip\" (\"nipype.interfaces.fsl.preprocess.BET\"), a CommandLine Interface with command:\n",
      "bet /tmp/tmpivz54_5c/preproc/_image_id_45108/rescale_node/ADNI_002_S_0295_MR_MPR__GradWarp__B1_Correction__N3__Scaled_Br_20070319113623975_S13408_I45108.nii /tmp/tmp0zeszduf/preproc/_image_id_45108/skullstrip/ADNI_002_S_0295_MR_MPR__GradWarp__B1_Correction__N3__Scaled_Br_20070319113623975_S13408_I45108_brain.nii.gz -m\n",
      "200302-19:52:08,241 nipype.workflow INFO:\n",
      "\t [Node] Finished \"preproc.skullstrip\".\n",
      "200302-19:52:08,243 nipype.workflow INFO:\n",
      "\t [Node] Setting-up \"preproc.sink\" in \"/tmp/tmpuakidm1m/preproc/_image_id_45108/sink\".\n",
      "200302-19:52:08,253 nipype.workflow INFO:\n",
      "\t [Node] Running \"sink\" (\"nipype.interfaces.io.DataSink\")\n",
      "200302-19:52:08,399 nipype.workflow INFO:\n",
      "\t [Node] Finished \"preproc.sink\".\n"
     ]
    },
    {
     "data": {
      "text/plain": [
       "<networkx.classes.digraph.DiGraph at 0x7fe7c3851908>"
      ]
     },
     "execution_count": 7,
     "metadata": {},
     "output_type": "execute_result"
    }
   ],
   "source": [
    "#workflow \n",
    "iterables = [45108]\n",
    "image_format='*_S_*/*/*/S*/*_I{image_id}.nii'\n",
    "infosource = Node(IdentityInterface(fields=['image_id']),\n",
    "                name=\"infosource\")\n",
    "infosource.iterables = [('image_id', iterables)]\n",
    "\n",
    "input_node = Node(SelectFiles({'anat' : image_format},\n",
    "                               base_directory=\"/ADNI/ADNI\"),\n",
    "                                  name=\"input_node\")\n",
    "\n",
    "rescale_node = Node(RescaleImage(new_shape=n_s), name=\"rescale_node\", iterfield=['in_file'])\n",
    "\n",
    "skullstrip = Node(BET(mask=True), name=\"skullstrip\", iterfield=['in_file'])\n",
    "\n",
    "sink = Node(interface=nio.DataSink(),name='sink')\n",
    "sink.inputs.base_directory = OUTPUT_PATH\n",
    "sink.inputs.regexp_substitutions = [(\"_skullstrip[0-9]+\", \"\")]\n",
    "\n",
    "pre_wf = Workflow(name='preproc')\n",
    "# Connections\n",
    "pre_wf.connect(infosource, \"image_id\", input_node, \"image_id\")\n",
    "pre_wf.connect(input_node, \"anat\", rescale_node, \"in_file\")\n",
    "pre_wf.connect(rescale_node, \"out_file\", skullstrip, \"in_file\")\n",
    "pre_wf.connect(skullstrip, \"out_file\",sink, \"@out_file\")\n",
    "\n",
    "pre_wf.run()"
   ]
  },
  {
   "cell_type": "code",
   "execution_count": null,
   "metadata": {},
   "outputs": [],
   "source": []
  },
  {
   "cell_type": "code",
   "execution_count": 8,
   "metadata": {},
   "outputs": [
    {
     "name": "stdout",
     "output_type": "stream",
     "text": [
      "total 6540\r\n",
      "drwxrwxrwx 2 root root       0 Mar  2 19:49 .\r\n",
      "drwxrwxrwx 2 root root       0 Mar  2 19:49 ..\r\n",
      "-rwxr-xr-x 1 root root 6694695 Mar  2 19:49 ADNI_002_S_0295_MR_MPR__GradWarp__B1_Correction__N3__Scaled_Br_20070319113623975_S13408_I45108_brain.nii.gz\r\n"
     ]
    }
   ],
   "source": [
    "!ls -la /ADNI/test/_image_id_45108/"
   ]
  },
  {
   "cell_type": "code",
   "execution_count": 2,
   "metadata": {},
   "outputs": [
    {
     "name": "stdout",
     "output_type": "stream",
     "text": [
      "/opt/minc-1.9.15/bin/nii2mnc\r\n"
     ]
    }
   ],
   "source": [
    "!which nii2mnc\n"
   ]
  },
  {
   "cell_type": "code",
   "execution_count": null,
   "metadata": {},
   "outputs": [],
   "source": []
  },
  {
   "cell_type": "code",
   "execution_count": null,
   "metadata": {},
   "outputs": [],
   "source": []
  },
  {
   "cell_type": "code",
   "execution_count": null,
   "metadata": {},
   "outputs": [],
   "source": []
  },
  {
   "cell_type": "code",
   "execution_count": null,
   "metadata": {},
   "outputs": [],
   "source": []
  }
 ],
 "metadata": {
  "kernelspec": {
   "display_name": "Python 3",
   "language": "python",
   "name": "python3"
  },
  "language_info": {
   "codemirror_mode": {
    "name": "ipython",
    "version": 3
   },
   "file_extension": ".py",
   "mimetype": "text/x-python",
   "name": "python",
   "nbconvert_exporter": "python",
   "pygments_lexer": "ipython3",
   "version": "3.6.10"
  }
 },
 "nbformat": 4,
 "nbformat_minor": 4
}
