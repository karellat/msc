{
 "cells": [
  {
   "cell_type": "code",
   "execution_count": 62,
   "metadata": {},
   "outputs": [
    {
     "name": "stderr",
     "output_type": "stream",
     "text": [
      "WARNING:root:MCI images 1036, CN images 638, AD images 445\n"
     ]
    },
    {
     "name": "stdout",
     "output_type": "stream",
     "text": [
      "[118792]\n"
     ]
    }
   ],
   "source": [
    "\n"
   ]
  },
  {
   "cell_type": "code",
   "execution_count": 63,
   "metadata": {},
   "outputs": [
    {
     "data": {
      "text/plain": [
       "[118789, 118791, 118792]"
      ]
     },
     "execution_count": 63,
     "metadata": {},
     "output_type": "execute_result"
    }
   ],
   "source": [
    "adni_lists[DIAGNOSIS]"
   ]
  },
  {
   "cell_type": "code",
   "execution_count": 48,
   "metadata": {},
   "outputs": [
    {
     "name": "stdout",
     "output_type": "stream",
     "text": [
      "0 24 [35849, 35875, 35920, 35938, 36456, 36474, 36501, 36504, 36530, 36540, 36549, 36589, 36599, 36613, 36632, 36640, 36726, 36734, 36886, 36892, 36924, 36949, 36959, 36993]\n",
      "24 48 [36999, 37199, 37206, 37217, 37224, 37238, 37548, 37557, 38670, 38944, 38964, 39028, 39122, 39132, 39142, 39147, 39152, 39190, 39460, 39486, 39506, 39519, 39542, 39569]\n",
      "48 72 [39583, 39674, 39692, 39701, 39805, 39824, 39845, 39909, 40000, 40037, 40046, 40387, 40410, 40419, 40433, 40437, 40445, 40452, 40708, 40717, 40744, 40781, 40799, 40831]\n",
      "72 96 [40845, 40858, 40954, 42240, 42249, 42258, 42276, 42292, 42370, 42375, 42384, 42409, 42468, 42493, 42844, 42985, 43001, 43009, 43022, 43035, 43048, 43060, 43121, 45166, 45192, 45250]\n"
     ]
    }
   ],
   "source": []
  },
  {
   "cell_type": "code",
   "execution_count": 40,
   "metadata": {},
   "outputs": [
    {
     "data": {
      "text/plain": [
       "[35849,\n",
       " 35875,\n",
       " 35920,\n",
       " 35938,\n",
       " 36456,\n",
       " 36474,\n",
       " 36501,\n",
       " 36504,\n",
       " 36530,\n",
       " 36540,\n",
       " 36549,\n",
       " 36589,\n",
       " 36599,\n",
       " 36613,\n",
       " 36632,\n",
       " 36640,\n",
       " 36726,\n",
       " 36734,\n",
       " 36886,\n",
       " 36892,\n",
       " 36924,\n",
       " 36949,\n",
       " 36959,\n",
       " 36993,\n",
       " 36999,\n",
       " 37199,\n",
       " 37206,\n",
       " 37217,\n",
       " 37224,\n",
       " 37238,\n",
       " 37548,\n",
       " 37557,\n",
       " 38670,\n",
       " 38944,\n",
       " 38964,\n",
       " 39028,\n",
       " 39122,\n",
       " 39132,\n",
       " 39142,\n",
       " 39147,\n",
       " 39152,\n",
       " 39190,\n",
       " 39460,\n",
       " 39486,\n",
       " 39506,\n",
       " 39519,\n",
       " 39542,\n",
       " 39569,\n",
       " 39583,\n",
       " 39674,\n",
       " 39692,\n",
       " 39701,\n",
       " 39805,\n",
       " 39824,\n",
       " 39845,\n",
       " 39909,\n",
       " 40000,\n",
       " 40037,\n",
       " 40046,\n",
       " 40387,\n",
       " 40410,\n",
       " 40419,\n",
       " 40433,\n",
       " 40437,\n",
       " 40445,\n",
       " 40452,\n",
       " 40708,\n",
       " 40717,\n",
       " 40744,\n",
       " 40781,\n",
       " 40799,\n",
       " 40831,\n",
       " 40845,\n",
       " 40858,\n",
       " 40954,\n",
       " 42240,\n",
       " 42249,\n",
       " 42258,\n",
       " 42276,\n",
       " 42292,\n",
       " 42370,\n",
       " 42375,\n",
       " 42384,\n",
       " 42409,\n",
       " 42468,\n",
       " 42493,\n",
       " 42844,\n",
       " 42985,\n",
       " 43001,\n",
       " 43009,\n",
       " 43022,\n",
       " 43035,\n",
       " 43048,\n",
       " 43060,\n",
       " 43121,\n",
       " 45166,\n",
       " 45192,\n",
       " 45250,\n",
       " 45726,\n",
       " 45872,\n",
       " 45920,\n",
       " 45943]"
      ]
     },
     "execution_count": 40,
     "metadata": {},
     "output_type": "execute_result"
    }
   ],
   "source": [
    "adni_lists['test']"
   ]
  },
  {
   "cell_type": "code",
   "execution_count": 26,
   "metadata": {},
   "outputs": [],
   "source": [
    "adni_lists['test'] = adni_lists['mci'][2:10]"
   ]
  },
  {
   "cell_type": "code",
   "execution_count": 21,
   "metadata": {},
   "outputs": [
    {
     "data": {
      "text/plain": [
       "[35849, 35875, 35920, 35938, 36456, 36474, 36501, 36504]"
      ]
     },
     "execution_count": 21,
     "metadata": {},
     "output_type": "execute_result"
    }
   ],
   "source": [
    "adni_lists['test']"
   ]
  },
  {
   "cell_type": "code",
   "execution_count": null,
   "metadata": {},
   "outputs": [],
   "source": []
  }
 ],
 "metadata": {
  "kernelspec": {
   "display_name": "Python 3",
   "language": "python",
   "name": "python3"
  },
  "language_info": {
   "codemirror_mode": {
    "name": "ipython",
    "version": 3
   },
   "file_extension": ".py",
   "mimetype": "text/x-python",
   "name": "python",
   "nbconvert_exporter": "python",
   "pygments_lexer": "ipython3",
   "version": "3.6.10"
  }
 },
 "nbformat": 4,
 "nbformat_minor": 4
}
