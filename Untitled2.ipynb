{
 "cells": [
  {
   "cell_type": "code",
   "execution_count": 22,
   "metadata": {},
   "outputs": [],
   "source": [
    "INPUT_PATH=\"/ADNI/ADNI\"\n",
    "CSV_PATH=\"/ADNI/ADNI1_Complete_1Yr_1.5T_10_13_2019.csv\"\n",
    "OUTPUT_PATH=\"/ADNI/minc_test\""
   ]
  },
  {
   "cell_type": "code",
   "execution_count": 23,
   "metadata": {},
   "outputs": [],
   "source": [
    "import logging\n",
    "logger = logging.getLogger()\n",
    "logger.setLevel(logging.INFO)"
   ]
  },
  {
   "cell_type": "code",
   "execution_count": 24,
   "metadata": {},
   "outputs": [
    {
     "name": "stderr",
     "output_type": "stream",
     "text": [
      "WARNING:root:MCI images 1036, CN images 638, AD images 445\n"
     ]
    }
   ],
   "source": [
    "import pandas as pd\n",
    "import re\n",
    "import os\n",
    "df = pd.read_csv(CSV_PATH)\n",
    "\n",
    "all_files = []\n",
    "for (dirpath, dirnames, filenames) in os.walk(INPUT_PATH): \n",
    "    for f in filenames: \n",
    "        if f.endswith(\"nii\"): \n",
    "            all_files.append(int(re.split(\"_|\\.\", f)[-2][1:]))\n",
    "all_files = set(all_files)\n",
    "            \n",
    "mci_img_ids = list(set(df.loc[df['Group'] == 'MCI']['Image Data ID'].unique()) & all_files)\n",
    "cn_img_ids = list(set(df.loc[df['Group'] == 'CN']['Image Data ID'].unique())& all_files)\n",
    "ad_img_ids = list(set(df.loc[df['Group'] == 'AD']['Image Data ID'].unique()) & all_files)\n",
    "\n",
    "id_lists = {\n",
    "    \"mci\" : mci_img_ids, \n",
    "    \"cn\"  : cn_img_ids, \n",
    "    \"ad\"  : ad_img_ids\n",
    "}\n",
    "\n",
    "logger.warning(f\"MCI images {len(mci_img_ids)}, CN images {len(cn_img_ids)}, AD images {len(ad_img_ids)}\")"
   ]
  },
  {
   "cell_type": "code",
   "execution_count": 25,
   "metadata": {},
   "outputs": [],
   "source": [
    "import os\n",
    "import nipype.interfaces.io as nio\n",
    "import logging\n",
    "import matplotlib.pyplot as plt\n",
    "import numpy as np\n",
    "import nibabel as nb\n",
    "from src.preprocess import RescaleImage\n",
    "from nipype import SelectFiles, Node, Workflow, MapNode, IdentityInterface "
   ]
  },
  {
   "cell_type": "code",
   "execution_count": 26,
   "metadata": {},
   "outputs": [],
   "source": [
    "id_lists[\"test\"] = id_lists['ad'][:8] "
   ]
  },
  {
   "cell_type": "code",
   "execution_count": 27,
   "metadata": {},
   "outputs": [],
   "source": [
    "diagnosis = \"test\"\n",
    "output_dir = os.path.join(OUTPUT_PATH, diagnosis)\n",
    "iterables = id_lists[diagnosis]\n",
    "new_shape = (192, 192, 160)\n",
    "image_format='*_S_*/*/*/S*/*_I{image_id}.nii'\n",
    "input_path = INPUT_PATH"
   ]
  },
  {
   "cell_type": "code",
   "execution_count": 28,
   "metadata": {},
   "outputs": [],
   "source": [
    "# Input\n",
    "iterables = id_lists[diagnosis]\n",
    "infosource = Node(IdentityInterface(fields=['image_id']),\n",
    "                name=\"infosource\")\n",
    "infosource.iterables = [('image_id', iterables)]\n",
    "\n",
    "input_node = Node(SelectFiles({'anat' : image_format},\n",
    "                               base_directory=input_path),\n",
    "                              name=\"input_node\")"
   ]
  },
  {
   "cell_type": "code",
   "execution_count": 29,
   "metadata": {},
   "outputs": [],
   "source": [
    "from nipype.interfaces.base.core import CommandLine\n",
    "from nipype.interfaces.base.specs import CommandLineInputSpec, TraitedSpec\n",
    "from nipype.interfaces.base.traits_extension import File, traits, Directory\n",
    "\n",
    "\n",
    "class Nii2MncInputSpec(CommandLineInputSpec):\n",
    "    output_file = File(mandatory=False,\n",
    "                       argstr='%s',\n",
    "                       position=2,\n",
    "                       name_source = [\"input_file\"],\n",
    "                       name_template=\"%s.mnc\",\n",
    "                       desc='the output image')\n",
    "    \n",
    "    input_file = File(desc=\"input file\",\n",
    "                      exists=True,\n",
    "                      mandatory=True,\n",
    "                      argstr=\"%s\",\n",
    "                      position=1,\n",
    "                      )\n",
    "    \n",
    "    clobber = traits.Bool(\n",
    "    desc=\"Overwrite existing file.\",\n",
    "    argstr=\"-clobber\",\n",
    "    usedefault=True,\n",
    "    default_value=True,\n",
    "    position=0)\n",
    "    \n",
    "    \n",
    "class Nii2MncOutputSpec(TraitedSpec):\n",
    "    output_file = File(desc=\"output file\")\n",
    "    \n",
    "class Nii2Mnc(CommandLine):\n",
    "    _cmd = \"nii2mnc\"\n",
    "    input_spec = Nii2MncInputSpec\n",
    "    output_spec = Nii2MncOutputSpec\n",
    "    \n",
    "    \n",
    "class Mnc2NiiInputSpec(CommandLineInputSpec): \n",
    "    output_file = File(mandatory=False,\n",
    "                       argstr='%s',\n",
    "                       position=2,\n",
    "                       name_source = [\"input_file\"],\n",
    "                       name_template=\"%s.nii\",\n",
    "                       desc='the output image')\n",
    "    \n",
    "    input_file = File(desc=\"input file\",\n",
    "                      exists=True,\n",
    "                      mandatory=True,\n",
    "                      argstr=\"%s\",\n",
    "                      position=1,\n",
    "                      )\n",
    "    \n",
    "    \n",
    "class Mnc2NiiOutputSpec(TraitedSpec): \n",
    "    output_file = File(desc=\"output file\")\n",
    "    \n",
    "class Mnc2Nii(CommandLine):\n",
    "    input_spec  = Mnc2NiiInputSpec\n",
    "    output_spec = Mnc2NiiOutputSpec\n",
    "    _cmd = \"mnc2nii\"\n",
    "\n",
    "class BeastNormalizeInputSpec(CommandLineInputSpec): \n",
    "    input_file = File(desc=\"input file\",\n",
    "                  exists=True,\n",
    "                  mandatory=True,\n",
    "                  argstr=\"%s\",\n",
    "                  position=0,\n",
    "                  )\n",
    "    output_file = File(mandatory=False,\n",
    "                       argstr='%s',\n",
    "                       position=1,\n",
    "                       name_source = [\"input_file\"],\n",
    "                       name_template=\"%s_normalized.mnc\",\n",
    "                       desc='the output image')\n",
    "    output_xml  = File(mandatory=False,\n",
    "                       argstr='%s',\n",
    "                       position=2,\n",
    "                       name_source = [\"input_file\"],\n",
    "                       name_template=\"%s_normalized.xml\",\n",
    "                       desc='the output xml')\n",
    "\n",
    "class BeastNormalizeOutputSpec(TraitedSpec): \n",
    "    output_file = File(desc=\"output file\")\n",
    "    output_xml = File(desc=\"output xml\")\n",
    "    \n",
    "class BeastNormalize(CommandLine):\n",
    "    _cmd = \"beast_normalize\"\n",
    "    input_spec  = BeastNormalizeInputSpec\n",
    "    output_spec =  BeastNormalizeOutputSpec\n",
    "    \n",
    "    \n",
    "class MincBeastInputSpec(CommandLineInputSpec):\n",
    "    library_dir = Directory(value=\"/opt/minc-1.9.15/share/beast-library-1.1/\",\n",
    "                            argstr=\"%s\",\n",
    "                            usedefault=True,\n",
    "                            mandatory=False,\n",
    "                            resolve=True,\n",
    "                            position=6)\n",
    "    \n",
    "    input_file = File(desc=\"input file\",\n",
    "                  exists=True,\n",
    "                  mandatory=True,\n",
    "                  argstr=\"%s\",\n",
    "                  position=7,\n",
    "                  )\n",
    "    \n",
    "    output_file = File(mandatory=False,\n",
    "                       argstr='%s',\n",
    "                       position=8,\n",
    "                       name_source = [\"input_file\"],\n",
    "                       name_template=\"%s_beasted.mnc\",\n",
    "                       desc='the output image')\n",
    "    \n",
    "    clobber = traits.Bool(\n",
    "                desc=\"Overwrite existing file.\",\n",
    "                argstr=\"-clobber\",\n",
    "                usedefault=True,\n",
    "                default_value=True,\n",
    "                position=0)\n",
    "    \n",
    "    fill = traits.Bool(\n",
    "                desc=\"Overwrite existing file.\",\n",
    "                argstr=\"-fill\",\n",
    "                usedefault=True,\n",
    "                default_value=True,\n",
    "                position=1)\n",
    "    \n",
    "    median = traits.Bool(\n",
    "                desc=\"Overwrite existing file.\",\n",
    "                argstr=\"-median\",\n",
    "                usedefault=True,\n",
    "                default_value=True,\n",
    "                position=2)\n",
    "    \n",
    "    same_res = traits.Bool(\n",
    "                desc=\"Overwrite existing file.\",\n",
    "                argstr=\"-same_res\",\n",
    "                usedefault=True,\n",
    "                default_value=True,\n",
    "                position=3)\n",
    "    \n",
    "    flip = traits.Bool(\n",
    "                desc=\"Overwrite existing file.\",\n",
    "                argstr=\"-flip\",\n",
    "                usedefault=True,\n",
    "                default_value=True,\n",
    "                position=4)\n",
    "    \n",
    "    \n",
    "    conf = File(mandatory=False,\n",
    "                       value=\"/opt/minc-1.9.15/share/beast-library-1.1/default.1mm.conf\",\n",
    "                       argstr='-conf %s',\n",
    "                       usedefault=True,\n",
    "                       position=5,\n",
    "                       desc='the output image')\n",
    "\n",
    "    \n",
    "class MincBeastOutputSpec(TraitedSpec):\n",
    "    output_file = File(desc=\"output file\")\n",
    "    \n",
    "class MincBeast(CommandLine):\n",
    "    _cmd = \"mincbeast\"\n",
    "    input_spec = MincBeastInputSpec\n",
    "    output_spec = MincBeastOutputSpec\n",
    "    \n",
    "\n",
    "class MincProductInputSpec(CommandLineInputSpec):\n",
    "    input_file = File(desc=\"input file\",\n",
    "                  exists=True,\n",
    "                  mandatory=True,\n",
    "                  argstr=\"%s\",\n",
    "                  position=5,\n",
    "                  )\n",
    "    \n",
    "    mask_file = File(desc=\"mask file\",\n",
    "                  exists=True,\n",
    "                  mandatory=True,\n",
    "                  argstr=\"%s\",\n",
    "                  position=6,\n",
    "                  )\n",
    "    \n",
    "    output_file = File(mandatory=False,\n",
    "                       argstr='%s',\n",
    "                       position=8,\n",
    "                       name_source = [\"input_file\"],\n",
    "                       name_template=\"%s_masked.mnc\",\n",
    "                       desc='the output image')\n",
    "    \n",
    "    unsinged = traits.Bool(\n",
    "                desc=\"Overwrite existing file.\",\n",
    "                argstr=\"-unsigned\",\n",
    "                usedefault=True,\n",
    "                default_value=True,\n",
    "                position=1)\n",
    "    \n",
    "    expression =  traits.Bool(\n",
    "                desc=\"Overwrite existing file.\",\n",
    "                argstr=\"-expression 'A[0]*A[1]'\",\n",
    "                usedefault=True,\n",
    "                default_value=True,\n",
    "                position=4)\n",
    "    \n",
    "    clobber = traits.Bool(\n",
    "                desc=\"Overwrite existing file.\",\n",
    "                argstr=\"-clobber\",\n",
    "                usedefault=True,\n",
    "                default_value=True,\n",
    "                position=3)\n",
    "    \n",
    "    verbose  = traits.Bool(\n",
    "                desc=\"Overwrite existing file.\",\n",
    "                argstr=\"-verbose\",\n",
    "                usedefault=True,\n",
    "                default_value=True,\n",
    "                position=2)\n",
    "    \n",
    "\n",
    "class MincProductOutputSpec(TraitedSpec):\n",
    "    output_file = File(desc=\"output file\")\n",
    "\n",
    "class MincProduct(CommandLine):\n",
    "    _cmd = \"minccalc\"\n",
    "    input_spec = MincProductInputSpec\n",
    "    output_spec = MincProductOutputSpec\n",
    "\n",
    "from nipype.interfaces.base import BaseInterfaceInputSpec, BaseInterface, File, TraitedSpec, Directory\n",
    "import os\n",
    "import shutil\n",
    "import logging \n",
    "\n",
    "class CopyDirInputSpec(BaseInterfaceInputSpec):\n",
    "    input_file = File(exists=True, mandatory=True, desc='image file location')\n",
    "    copy_dir = Directory(exists=True, mandatory=True, desc='dir to be copied') # Do not set exists=True !!\n",
    "    \n",
    "class CopyDirOutputSpec(TraitedSpec):\n",
    "    new_path = Directory(desc='new path to dir')\n",
    "\n",
    "class CopyDir(BaseInterface):\n",
    "    input_spec = CopyDirInputSpec\n",
    "    output_spec = CopyDirOutputSpec\n",
    "\n",
    "    import logging\n",
    "    \n",
    "    def _logpath(self, path, names):\n",
    "        logging.info(f'Coping files from {path}')\n",
    "        return []   # nothing will be ignored\n",
    "    \n",
    "    def _run_interface(self, runtime):\n",
    "\n",
    "        # Call our python code here:\n",
    "        new_dir = os.path.dirname(self.inputs.input_file)\n",
    "        dir_name = os.path.basename(self.inputs.copy_dir)\n",
    "        shutil.copytree(self.inputs.copy_dir, os.path.join(new_dir, dir_name), ignore=self._logpath)\n",
    "        \n",
    "        return runtime\n",
    "\n",
    "    def _list_outputs(self):\n",
    "        return {'new_path': os.path.join(os.path.dirname(self.inputs.input_file),\n",
    "                                            os.path.basename(self.inputs.copy_dir))}"
   ]
  },
  {
   "cell_type": "code",
   "execution_count": 18,
   "metadata": {},
   "outputs": [
    {
     "data": {
      "text/plain": [
       "{'output_file': '/home/neuro/thesis/output.mnc'}"
      ]
     },
     "execution_count": 18,
     "metadata": {},
     "output_type": "execute_result"
    }
   ],
   "source": [
    "test_file_path =\"/ADNI/minc/ADNI_022_S_0004_MR_MPR-R__GradWarp__B1_Correction__N3__Scaled_Br_20070804134614900_S9234_I64631.nii\"\n",
    "\n",
    "convertor = Nii2Mnc(input_file=test_file_path, output_file=\"output.mnc\")\n",
    "convertor._list_outputs()"
   ]
  },
  {
   "cell_type": "code",
   "execution_count": 17,
   "metadata": {},
   "outputs": [
    {
     "data": {
      "text/plain": [
       "'mincbeast -clobber -fill -median -same_res -flip -conf /opt/minc-1.9.15/share/beast-library-1.1/default.1mm.conf /opt/minc-1.9.15/share/beast-library-1.1 test_find2_normalized.mnc test_find2_normalized_beasted.mnc'"
      ]
     },
     "execution_count": 17,
     "metadata": {},
     "output_type": "execute_result"
    }
   ],
   "source": [
    "beast = MincBeast(input_file=\"test_find2_normalized.mnc\", library_dir=\"/opt/minc-1.9.15/share/beast-library-1.1/\")\n",
    "beast.cmdline"
   ]
  },
  {
   "cell_type": "code",
   "execution_count": 18,
   "metadata": {},
   "outputs": [
    {
     "name": "stdout",
     "output_type": "stream",
     "text": [
      "200425-17:50:49,56 nipype.interface INFO:\n",
      "\t stdout 2020-04-25T17:50:49.056635:found zspace at 0 0\n",
      "200425-17:50:49,58 nipype.interface INFO:\n",
      "\t stdout 2020-04-25T17:50:49.056635:found yspace at 1 1\n",
      "200425-17:50:49,60 nipype.interface INFO:\n",
      "\t stdout 2020-04-25T17:50:49.056635:found xspace at 2 2\n",
      "200425-17:50:49,61 nipype.interface INFO:\n",
      "\t stdout 2020-04-25T17:50:49.056635:0 2 0 1 193 1.000000\n",
      "200425-17:50:49,64 nipype.interface INFO:\n",
      "\t stdout 2020-04-25T17:50:49.056635:1 1 1 1 229 1.000000\n",
      "200425-17:50:49,65 nipype.interface INFO:\n",
      "\t stdout 2020-04-25T17:50:49.056635:2 0 2 1 193 1.000000\n"
     ]
    },
    {
     "data": {
      "text/plain": [
       "<nipype.interfaces.base.support.InterfaceResult at 0x7ff2d35ac828>"
      ]
     },
     "execution_count": 18,
     "metadata": {},
     "output_type": "execute_result"
    }
   ],
   "source": [
    "test_file_path =\"/ADNI/minc/ADNI_022_S_0004_MR_MPR-R__GradWarp__B1_Correction__N3__Scaled_Br_20070804134614900_S9234_I64631.nii\"\n",
    "\n",
    "\n",
    "\n",
    "conv = Mnc2Nii(input_file=\"test_find2_normalized_masked.mnc\", output_file=\"test_beasted.nii\") \n",
    "conv.run()\n",
    "\n"
   ]
  },
  {
   "cell_type": "code",
   "execution_count": 19,
   "metadata": {},
   "outputs": [
    {
     "name": "stdout",
     "output_type": "stream",
     "text": [
      "200425-17:50:50,628 nipype.interface INFO:\n",
      "\t stdout 2020-04-25T17:50:50.628310:Processing:.................................................................................................................................................................................................Done\n"
     ]
    },
    {
     "data": {
      "text/plain": [
       "<nipype.interfaces.base.support.InterfaceResult at 0x7ff2a38d4e10>"
      ]
     },
     "execution_count": 19,
     "metadata": {},
     "output_type": "execute_result"
    }
   ],
   "source": [
    "product = MincProduct(input_file=\"test_find2_normalized.mnc\",mask_file=\"test_find2_normalized_beasted.mnc\")\n",
    "product.run()"
   ]
  },
  {
   "cell_type": "code",
   "execution_count": 30,
   "metadata": {},
   "outputs": [],
   "source": [
    "# Input\n",
    "infosource = Node(IdentityInterface(fields=['image_id']),\n",
    "                name=\"infosource\")\n",
    "infosource.iterables = [('image_id', iterables)]\n",
    "\n",
    "input_node = Node(SelectFiles({'anat' : image_format},\n",
    "                               base_directory=input_path),\n",
    "                              name=\"input_node\")\n",
    "\n",
    "niimnc = Node(Nii2Mnc(), name=\"nii_2_mnc_node\") \n",
    "\n",
    "normalizer = Node(BeastNormalize(), name=\"beast_normalizer_node\")\n",
    "# Copy library \n",
    "copydir = Node(CopyDir(copy_dir=\"/opt/minc-1.9.15/share/beast-library-1.1/\"), name=\"copydir_node\")\n",
    "beast = Node(MincBeast(), name=\"beast_node\")\n",
    "product = Node(MincProduct(), name=\"product_node\") \n",
    "\n",
    "mncnii = Node(Mnc2Nii(), name=\"mnc_2_nii_node\")\n",
    "\n",
    "# Sink\n",
    "sink = Node(interface=nio.DataSink(),\n",
    "            name='sink')\n",
    "sink.inputs.regexp_substitutions = [(\"_skullstrip[0-9]+\", \"\")]\n",
    "sink.inputs.base_directory = output_dir\n",
    "\n",
    "# Preprocess Workflow\n",
    "wf = Workflow(name='preproc')\n",
    "\n",
    "# Connections\n",
    "wf.connect(infosource, \"image_id\", input_node, \"image_id\")\n",
    "wf.connect(input_node, \"anat\", niimnc, \"input_file\")\n",
    "wf.connect(niimnc, \"output_file\", normalizer, \"input_file\")\n",
    "wf.connect(normalizer,\"output_file\", copydir, \"input_file\")\n",
    "wf.connect(normalizer,\"output_file\", beast, \"input_file\")\n",
    "wf.connect(copydir, \"new_path\", beast, \"library_dir\")\n",
    "wf.connect(beast, \"output_file\", product, \"mask_file\")\n",
    "wf.connect(normalizer, \"output_file\", product, \"input_file\")\n",
    "wf.connect(product, \"output_file\", mncnii, \"input_file\")\n",
    "wf.connect(mncnii,\"output_file\", sink,\"@out_file\")\n"
   ]
  },
  {
   "cell_type": "code",
   "execution_count": 20,
   "metadata": {},
   "outputs": [
    {
     "name": "stdout",
     "output_type": "stream",
     "text": [
      "200425-19:09:23,936 nipype.workflow INFO:\n",
      "\t Generated workflow graph: /home/neuro/thesis/graph.png (graph2use=hierarchical, simple_form=True).\n"
     ]
    },
    {
     "name": "stderr",
     "output_type": "stream",
     "text": [
      "INFO:nipype.workflow:Generated workflow graph: /home/neuro/thesis/graph.png (graph2use=hierarchical, simple_form=True).\n"
     ]
    },
    {
     "data": {
      "image/png": "[encoded data removed]",
      "text/plain": [
       "<IPython.core.display.Image object>"
      ]
     },
     "execution_count": 20,
     "metadata": {},
     "output_type": "execute_result"
    }
   ],
   "source": [
    "wf.write_graph()\n",
    "from IPython.display import Image\n",
    "Image('/home/neuro/thesis/graph.png')"
   ]
  },
  {
   "cell_type": "code",
   "execution_count": 31,
   "metadata": {
    "scrolled": true
   },
   "outputs": [
    {
     "name": "stdout",
     "output_type": "stream",
     "text": [
      "200425-19:41:02,324 nipype.workflow INFO:\n",
      "\t Workflow preproc settings: ['check', 'execution', 'logging', 'monitoring']\n"
     ]
    },
    {
     "name": "stderr",
     "output_type": "stream",
     "text": [
      "INFO:nipype.workflow:Workflow preproc settings: ['check', 'execution', 'logging', 'monitoring']\n"
     ]
    },
    {
     "name": "stdout",
     "output_type": "stream",
     "text": [
      "200425-19:41:02,990 nipype.workflow INFO:\n",
      "\t Running in parallel.\n"
     ]
    },
    {
     "name": "stderr",
     "output_type": "stream",
     "text": [
      "INFO:nipype.workflow:Running in parallel.\n"
     ]
    },
    {
     "name": "stdout",
     "output_type": "stream",
     "text": [
      "200425-19:41:03,94 nipype.workflow INFO:\n",
      "\t [MultiProc] Running 0 tasks, and 8 jobs ready. Free memory (GB): 5.23/5.23, Free processors: 4/4.\n"
     ]
    },
    {
     "name": "stderr",
     "output_type": "stream",
     "text": [
      "INFO:nipype.workflow:[MultiProc] Running 0 tasks, and 8 jobs ready. Free memory (GB): 5.23/5.23, Free processors: 4/4.\n"
     ]
    },
    {
     "name": "stdout",
     "output_type": "stream",
     "text": [
      "200425-19:41:03,250 nipype.workflow INFO:\n",
      "\t [Node] Setting-up \"preproc.input_node\" in \"/tmp/tmpuz7qfp_2/preproc/_image_id_92194/input_node\".200425-19:41:03,250 nipype.workflow INFO:\n",
      "\t [Node] Setting-up \"preproc.input_node\" in \"/tmp/tmpcz92714q/preproc/_image_id_92187/input_node\".200425-19:41:03,250 nipype.workflow INFO:\n",
      "\t [Node] Setting-up \"preproc.input_node\" in \"/tmp/tmpf_eqj957/preproc/_image_id_92182/input_node\".200425-19:41:03,250 nipype.workflow INFO:\n",
      "\t [Node] Setting-up \"preproc.input_node\" in \"/tmp/tmp9l5s1p3a/preproc/_image_id_40980/input_node\".\n"
     ]
    }
   ],
   "source": [
    "wf.run(plugin='MultiProc', plugin_args={'n_procs' : 4})"
   ]
  },
  {
   "cell_type": "code",
   "execution_count": null,
   "metadata": {},
   "outputs": [],
   "source": [
    "output_dir"
   ]
  },
  {
   "cell_type": "code",
   "execution_count": null,
   "metadata": {},
   "outputs": [],
   "source": [
    "!mnc2nii"
   ]
  },
  {
   "cell_type": "code",
   "execution_count": null,
   "metadata": {},
   "outputs": [],
   "source": [
    "!nii2mnc"
   ]
  },
  {
   "cell_type": "code",
   "execution_count": null,
   "metadata": {},
   "outputs": [],
   "source": [
    "!mincinfo "
   ]
  },
  {
   "cell_type": "code",
   "execution_count": null,
   "metadata": {},
   "outputs": [],
   "source": []
  },
  {
   "cell_type": "code",
   "execution_count": 8,
   "metadata": {},
   "outputs": [
    {
     "name": "stderr",
     "output_type": "stream",
     "text": [
      "INFO:root:Coping files from /opt/minc-1.9.15/share/beast-library-1.1\n",
      "INFO:root:Coping files from /opt/minc-1.9.15/share/beast-library-1.1/ICBM_pol\n",
      "INFO:root:Coping files from /opt/minc-1.9.15/share/beast-library-1.1/ICBM_pol/stx\n",
      "INFO:root:Coping files from /opt/minc-1.9.15/share/beast-library-1.1/ICBM_pol/stx/2mm\n",
      "INFO:root:Coping files from /opt/minc-1.9.15/share/beast-library-1.1/ICBM_pol/stx/1mm\n",
      "INFO:root:Coping files from /opt/minc-1.9.15/share/beast-library-1.1/ICBM_pol/stx/4mm\n",
      "INFO:root:Coping files from /opt/minc-1.9.15/share/beast-library-1.1/ICBM_pol/masks\n",
      "INFO:root:Coping files from /opt/minc-1.9.15/share/beast-library-1.1/ICBM_pol/masks/2mm\n",
      "INFO:root:Coping files from /opt/minc-1.9.15/share/beast-library-1.1/ICBM_pol/masks/1mm\n",
      "INFO:root:Coping files from /opt/minc-1.9.15/share/beast-library-1.1/ICBM_pol/masks/4mm\n"
     ]
    }
   ],
   "source": [
    "copynode = CopyDir(input_file=\"/ADNI/minc/ADNI_022_S_0004_MR_MPR-R__GradWarp__B1_Correction__N3__Scaled_Br_20070804134614900_S9234_I64631.nii\", \n",
    "                   copy_dir=\"/opt/minc-1.9.15/share/beast-library-1.1/\")\n",
    "res = copynode.run()"
   ]
  },
  {
   "cell_type": "code",
   "execution_count": 9,
   "metadata": {},
   "outputs": [
    {
     "data": {
      "text/plain": [
       "\n",
       "new_path = /ADNI/minc/beast-library-1.1"
      ]
     },
     "execution_count": 9,
     "metadata": {},
     "output_type": "execute_result"
    }
   ],
   "source": [
    "res.outputs"
   ]
  },
  {
   "cell_type": "code",
   "execution_count": null,
   "metadata": {},
   "outputs": [],
   "source": []
  }
 ],
 "metadata": {
  "kernelspec": {
   "display_name": "Python [conda env:neuro] *",
   "language": "python",
   "name": "conda-env-neuro-py"
  },
  "language_info": {
   "codemirror_mode": {
    "name": "ipython",
    "version": 3
   },
   "file_extension": ".py",
   "mimetype": "text/x-python",
   "name": "python",
   "nbconvert_exporter": "python",
   "pygments_lexer": "ipython3",
   "version": "3.6.10"
  }
 },
 "nbformat": 4,
 "nbformat_minor": 4
}
