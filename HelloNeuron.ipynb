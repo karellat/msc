{
 "cells": [
  {
   "cell_type": "code",
   "execution_count": 17,
   "metadata": {},
   "outputs": [],
   "source": [
    "%matplotlib inline\n",
    "%load_ext autoreload\n",
    "from nilearn import image, plotting\n",
    "from matplotlib import pyplot as plt\n",
    "import numpy as np \n",
    "from scipy import stats\n",
    "import seaborn as sns\n",
    "import pickle"
   ]
  },
  {
   "cell_type": "code",
   "execution_count": 18,
   "metadata": {},
   "outputs": [],
   "source": [
    "%autoreload 1"
   ]
  },
  {
   "cell_type": "code",
   "execution_count": 19,
   "metadata": {},
   "outputs": [],
   "source": [
    "%aimport preprocess.normalization\n",
    "%aimport preprocess.reader\n",
    "%aimport preprocess.analyzer"
   ]
  },
  {
   "cell_type": "code",
   "execution_count": null,
   "metadata": {},
   "outputs": [],
   "source": [
    "img = image.load_img('example.nii')"
   ]
  },
  {
   "cell_type": "code",
   "execution_count": null,
   "metadata": {},
   "outputs": [],
   "source": [
    "plotting.plot_anat(img)"
   ]
  },
  {
   "cell_type": "code",
   "execution_count": null,
   "metadata": {},
   "outputs": [],
   "source": [
    "plotting.plot_img(img)"
   ]
  },
  {
   "cell_type": "code",
   "execution_count": null,
   "metadata": {},
   "outputs": [],
   "source": [
    "raw_data = img.get_data()"
   ]
  },
  {
   "cell_type": "markdown",
   "metadata": {},
   "source": [
    "### Draw by layers"
   ]
  },
  {
   "cell_type": "code",
   "execution_count": null,
   "metadata": {},
   "outputs": [],
   "source": [
    "plt.imshow(raw_data[:,:,21])"
   ]
  },
  {
   "cell_type": "code",
   "execution_count": null,
   "metadata": {},
   "outputs": [],
   "source": [
    "plt.imshow(raw_data[:,80,:])"
   ]
  },
  {
   "cell_type": "code",
   "execution_count": null,
   "metadata": {},
   "outputs": [],
   "source": [
    "plt.imshow(raw_data[80,:,:])"
   ]
  },
  {
   "cell_type": "code",
   "execution_count": null,
   "metadata": {},
   "outputs": [],
   "source": [
    "\n"
   ]
  },
  {
   "cell_type": "code",
   "execution_count": null,
   "metadata": {},
   "outputs": [],
   "source": []
  },
  {
   "cell_type": "code",
   "execution_count": null,
   "metadata": {},
   "outputs": [],
   "source": []
  },
  {
   "cell_type": "code",
   "execution_count": null,
   "metadata": {},
   "outputs": [],
   "source": [
    "from os import walk"
   ]
  },
  {
   "cell_type": "code",
   "execution_count": null,
   "metadata": {},
   "outputs": [],
   "source": [
    "imgs = {}\n",
    "for  (dirpath, dirnames, filenames) in walk(\"data\"): \n",
    "    for i in filenames: \n",
    "        if i.endswith(\"nii\"):\n",
    "            name = dirpath + \"/\" + i\n",
    "            group = dirpath.split(\"/\")[1].split(\"_\")[-1][-1]\n",
    "            session = dirpath.split(\"/\")[-2]\n",
    "            date = dirpath.split(\"/\")[-1]\n",
    "            imgs[name] = {\n",
    "                \"img\" : image.smooth_img(name, None), \n",
    "                \"group\" : group,\n",
    "                \"session\" : session,\n",
    "                \"date\" : date,\n",
    "                \"data\" : image.smooth_img(name, None).get_data()\n",
    "            }"
   ]
  },
  {
   "cell_type": "code",
   "execution_count": null,
   "metadata": {},
   "outputs": [],
   "source": [
    "data = [ v[\"data\"] for _, v in imgs.items()]\n",
    "data = list(filter(lambda x: x.shape == (256, 256, 128, 1), data))"
   ]
  },
  {
   "cell_type": "code",
   "execution_count": null,
   "metadata": {},
   "outputs": [],
   "source": []
  },
  {
   "cell_type": "code",
   "execution_count": null,
   "metadata": {},
   "outputs": [],
   "source": [
    "imgs['OASIS2/OAS2_0001_MR2/1/123127131/mpr-1.nifti.img'][\"data\"].shape"
   ]
  },
  {
   "cell_type": "code",
   "execution_count": null,
   "metadata": {},
   "outputs": [],
   "source": [
    "import seaborn as sns\n"
   ]
  },
  {
   "cell_type": "code",
   "execution_count": null,
   "metadata": {},
   "outputs": [],
   "source": [
    "sns.distplot(voxel_dist[80][80][80][0], bins=40)\n",
    "#stats.entropy(voxel_dist[80][60][60][0])"
   ]
  },
  {
   "cell_type": "code",
   "execution_count": null,
   "metadata": {},
   "outputs": [],
   "source": [
    "stats.entropy(voxel_dist[30][0][0][0])"
   ]
  },
  {
   "cell_type": "code",
   "execution_count": null,
   "metadata": {},
   "outputs": [],
   "source": [
    "np.min(voxel_dist[0][0][0][0])"
   ]
  },
  {
   "cell_type": "code",
   "execution_count": null,
   "metadata": {},
   "outputs": [],
   "source": [
    "voxel_dist.shape"
   ]
  },
  {
   "cell_type": "code",
   "execution_count": null,
   "metadata": {},
   "outputs": [],
   "source": [
    "voxel_dist.shape"
   ]
  },
  {
   "cell_type": "code",
   "execution_count": null,
   "metadata": {},
   "outputs": [],
   "source": [
    "voxel_entropy = np.apply_over_axes(, voxel_dist,[-1] )"
   ]
  },
  {
   "cell_type": "code",
   "execution_count": null,
   "metadata": {},
   "outputs": [],
   "source": [
    "stats.entropy([0, 0])"
   ]
  },
  {
   "cell_type": "code",
   "execution_count": 14,
   "metadata": {},
   "outputs": [],
   "source": [
    "import os\n",
    "from nilearn import image, plotting\n",
    "from matplotlib import pyplot as plt\n",
    "import numpy as np \n",
    "from scipy import stats\n",
    "import logging\n",
    "import pickle"
   ]
  },
  {
   "cell_type": "code",
   "execution_count": null,
   "metadata": {},
   "outputs": [],
   "source": [
    "\n"
   ]
  },
  {
   "cell_type": "code",
   "execution_count": null,
   "metadata": {},
   "outputs": [],
   "source": []
  },
  {
   "cell_type": "code",
   "execution_count": null,
   "metadata": {},
   "outputs": [],
   "source": [
    "plt.imshow(data[0][:,80,:])"
   ]
  },
  {
   "cell_type": "code",
   "execution_count": null,
   "metadata": {},
   "outputs": [],
   "source": [
    "import numpy as np\n",
    "from scipy import stats\n",
    "\n"
   ]
  },
  {
   "cell_type": "code",
   "execution_count": null,
   "metadata": {},
   "outputs": [],
   "source": []
  },
  {
   "cell_type": "code",
   "execution_count": null,
   "metadata": {},
   "outputs": [],
   "source": [
    "plt.imshow(res['norm_test'][80,:,:])"
   ]
  },
  {
   "cell_type": "code",
   "execution_count": null,
   "metadata": {},
   "outputs": [],
   "source": [
    "voxel_dist = np.stack(data, axis=-1)\n",
    "np.apply_over_axes(np.histogram, voxel_dist,[-1])"
   ]
  },
  {
   "cell_type": "code",
   "execution_count": null,
   "metadata": {},
   "outputs": [],
   "source": [
    "x = [0.1, 0.2, 0.4, 0.8]\n",
    "voxel_dist = np.stack(data, axis=-1)\n",
    "for x in np.nditer(data, op_axes=[[0,1,2]]):\n",
    "    print(x)\n",
    "    break"
   ]
  },
  {
   "cell_type": "code",
   "execution_count": null,
   "metadata": {},
   "outputs": [],
   "source": [
    "data = preprocess.reader.read_nii_arrays(\"data/test/\", \"nii\", (256,256,166))\n",
    "norm_data = preprocess.normalization.normalize(data)"
   ]
  },
  {
   "cell_type": "code",
   "execution_count": null,
   "metadata": {},
   "outputs": [],
   "source": [
    "operators = [np.max, np.mean, np.var, np.min, np.median, preprocess.analyzer.norm_test, samples_to_entropy]\n",
    "res = preprocess.analyzer.voxel_dist_operations(norm_data, operators)"
   ]
  },
  {
   "cell_type": "code",
   "execution_count": null,
   "metadata": {},
   "outputs": [],
   "source": [
    "\n",
    "samples = 0\n",
    "calc = 0\n",
    "\n",
    "def calc_entropy(a, bins=100):\n",
    "    global calc\n",
    "    calc += 1\n",
    "    return stats.entropy(np.histogram(a, bins=bins)[0]/len(a))\n",
    "\n",
    "def samples_to_entropy(data, axis, bins=100):\n",
    "    global samples\n",
    "    samples += 1\n",
    "    return np.apply_along_axis(calc_entropy, axis, data)"
   ]
  },
  {
   "cell_type": "code",
   "execution_count": null,
   "metadata": {},
   "outputs": [],
   "source": [
    "calc"
   ]
  },
  {
   "cell_type": "code",
   "execution_count": null,
   "metadata": {},
   "outputs": [],
   "source": [
    "res = preprocess.analyzer.voxel_dist_operations(norm_data, [samples_to_entropy])"
   ]
  },
  {
   "cell_type": "code",
   "execution_count": null,
   "metadata": {},
   "outputs": [],
   "source": [
    "from nilearn.input_data import NiftiMasker\n",
    "masker = NiftiMasker(mask_img=None, standardize=True)\n",
    "normalized_imgs = masker.fit_transform(data)"
   ]
  },
  {
   "cell_type": "code",
   "execution_count": null,
   "metadata": {},
   "outputs": [],
   "source": [
    "import nibabel"
   ]
  },
  {
   "cell_type": "code",
   "execution_count": null,
   "metadata": {},
   "outputs": [],
   "source": [
    "sns.heatmap(res['samples_to_entropy'][:,80,:], cmap=\"YlGnBu\")"
   ]
  },
  {
   "cell_type": "code",
   "execution_count": null,
   "metadata": {},
   "outputs": [],
   "source": [
    "import nibabel as nib"
   ]
  },
  {
   "cell_type": "code",
   "execution_count": null,
   "metadata": {},
   "outputs": [],
   "source": [
    "img = nib.load(\"data/ADNI_002_S_0295_MR_MPR__GradWarp__B1_Correction__N3__Scaled_Br_20070319113623975_S13408_I45108.nii\")"
   ]
  },
  {
   "cell_type": "code",
   "execution_count": null,
   "metadata": {},
   "outputs": [],
   "source": [
    "ax[0,0,0]"
   ]
  },
  {
   "cell_type": "code",
   "execution_count": null,
   "metadata": {},
   "outputs": [],
   "source": [
    "?nib.load"
   ]
  },
  {
   "cell_type": "code",
   "execution_count": null,
   "metadata": {},
   "outputs": [],
   "source": [
    "from sklearn import preprocessing\n",
    "preprocessing.scale(data)"
   ]
  },
  {
   "cell_type": "code",
   "execution_count": null,
   "metadata": {},
   "outputs": [],
   "source": [
    "data = preprocess.reader.read_nii_arrays(\"data/ADNI/\")"
   ]
  },
  {
   "cell_type": "code",
   "execution_count": null,
   "metadata": {},
   "outputs": [],
   "source": [
    "norm_data = preprocess.normalization.normalize(data)"
   ]
  },
  {
   "cell_type": "code",
   "execution_count": null,
   "metadata": {},
   "outputs": [],
   "source": [
    "plt.imshow(norm_data[0][:, 80,:])"
   ]
  },
  {
   "cell_type": "code",
   "execution_count": null,
   "metadata": {},
   "outputs": [],
   "source": [
    "norm_data"
   ]
  },
  {
   "cell_type": "code",
   "execution_count": null,
   "metadata": {},
   "outputs": [],
   "source": [
    "stats.entropy([0,1])"
   ]
  },
  {
   "cell_type": "code",
   "execution_count": null,
   "metadata": {},
   "outputs": [],
   "source": [
    "plt.imshow(data[0][:,0,:])"
   ]
  },
  {
   "cell_type": "code",
   "execution_count": null,
   "metadata": {},
   "outputs": [],
   "source": [
    "%aimport preprocess.normalization\n",
    "%aimport preprocess.reader\n",
    "%aimport preprocess.analyzer"
   ]
  },
  {
   "cell_type": "code",
   "execution_count": null,
   "metadata": {},
   "outputs": [],
   "source": []
  },
  {
   "cell_type": "code",
   "execution_count": null,
   "metadata": {},
   "outputs": [],
   "source": [
    "b.keys()"
   ]
  },
  {
   "cell_type": "code",
   "execution_count": null,
   "metadata": {},
   "outputs": [],
   "source": [
    "plt.figure(figsize=(20,8))\n",
    "#plt.imshow(b['mean'])\n",
    "plt.imshow(b['mean'][80,:,:])"
   ]
  },
  {
   "cell_type": "code",
   "execution_count": null,
   "metadata": {},
   "outputs": [],
   "source": []
  },
  {
   "cell_type": "code",
   "execution_count": null,
   "metadata": {},
   "outputs": [],
   "source": [
    "with open(\"13391751.arien-pro.ics.muni.cz.pickle\", \"rb\") as f: \n",
    "    b = pickle.load(f)\n",
    "# Set very small variance for zero variance\n",
    "b['var'][b['var'] == 0] = np.min(b['var'][b['var'] != 0 ])/100\n",
    "# Calculate entropy for each variance\n",
    "b['entropy'] = normal_dist_entropy(b['var'])\n",
    "# Sum over given dimension\n",
    "first_dim_entropy = np.sum(np.sum(b['entropy'],-1),-1)\n",
    "second_dim_entropy = np.sum(np.sum(b['entropy'],0), -1)\n",
    "third_dim_entropy  = np.sum(np.sum(b['entropy'],0), 0)\n",
    "\n",
    "res = [np.argsort(first_dim_entropy)[-6:],\n",
    "np.argsort(second_dim_entropy)[-6:],\n",
    "np.argsort(third_dim_entropy)[-6:]]\n",
    "res"
   ]
  },
  {
   "cell_type": "code",
   "execution_count": 25,
   "metadata": {},
   "outputs": [],
   "source": [
    "with open(\"analysis/13391751.arien-pro.ics.muni.cz.pickle\", \"rb\") as f: \n",
    "    c = pickle.load(f)\n",
    "    \n",
    "slices = preprocess.analyzer.get_entropy_slices(c['var'], 5)\n",
    "\n",
    "\n",
    "with open(\"max_entropy_slices.pickle\", \"wb\") as f:\n",
    "    pickle.dump(slices, f)"
   ]
  },
  {
   "cell_type": "code",
   "execution_count": 22,
   "metadata": {},
   "outputs": [
    {
     "data": {
      "text/plain": [
       "array([[244, 242, 239, 241, 240],\n",
       "       [161, 166, 164, 162, 173],\n",
       "       [ 84,  70,  85,  86,  87]])"
      ]
     },
     "execution_count": 22,
     "metadata": {},
     "output_type": "execute_result"
    }
   ],
   "source": [
    "with open(\"maximum_entropy_slices.pickle\", \"rb\") as f:\n",
    "    d = pickle.load(f)\n",
    "d"
   ]
  },
  {
   "cell_type": "code",
   "execution_count": null,
   "metadata": {},
   "outputs": [],
   "source": [
    "ind = np.argmax(second_dim_entropy)\n",
    "plt.imshow(b['mean'][:, ind, :])"
   ]
  },
  {
   "cell_type": "code",
   "execution_count": null,
   "metadata": {},
   "outputs": [],
   "source": [
    "ind = np.argmax(third_dim_entropy)\n",
    "plt.imshow(b['mean'][:,:, ind])"
   ]
  },
  {
   "cell_type": "code",
   "execution_count": null,
   "metadata": {},
   "outputs": [],
   "source": [
    "b['mean'][80,80,80]\n"
   ]
  },
  {
   "cell_type": "code",
   "execution_count": null,
   "metadata": {},
   "outputs": [],
   "source": [
    "np.sum(b['entropy'][:,80,:])"
   ]
  },
  {
   "cell_type": "code",
   "execution_count": null,
   "metadata": {},
   "outputs": [],
   "source": [
    "nrv = norm(loc=b['mean'][80,80,80], scale=np.sqrt(b['var'][80,80,80]))"
   ]
  },
  {
   "cell_type": "code",
   "execution_count": null,
   "metadata": {},
   "outputs": [],
   "source": [
    "b['var'][(b['var'] == 0)] = 12"
   ]
  },
  {
   "cell_type": "code",
   "execution_count": null,
   "metadata": {},
   "outputs": [],
   "source": [
    "nrv.entropy()"
   ]
  },
  {
   "cell_type": "code",
   "execution_count": null,
   "metadata": {},
   "outputs": [],
   "source": []
  },
  {
   "cell_type": "code",
   "execution_count": 2,
   "metadata": {},
   "outputs": [
    {
     "name": "stdout",
     "output_type": "stream",
     "text": [
      "ADNI_027_S_0403_MR_MPR__GradWarp__B1_Correction__N3__Scaled_Br_20070828111655487_S32438_I70692.nii\n",
      "ADNI_027_S_0403_MR_MPR-R__GradWarp__B1_Correction__N3__Scaled_Br_20070327115739484_S21484_I47047.nii\n",
      "ADNI_027_S_0408_MR_MPR__GradWarp__B1_Correction__N3__Scaled_Br_20071029104638201_S22824_I79326.nii\n",
      "ADNI_027_S_0408_MR_MPR__GradWarp__B1_Correction__N3__Scaled_Br_20080225174521629_S32849_I92534.nii\n",
      "ADNI_027_S_0408_MR_MPR__GradWarp__B1_Correction__N3__Scaled_Br_20070129173016787_S14231_I37548.nii\n",
      "ADNI_027_S_0404_MR_MPR__GradWarp__B1_Correction__N3__Scaled_Br_20070327132615623_S22758_I47091.nii\n",
      "ADNI_027_S_0404_MR_MPR__GradWarp__B1_Correction__N3__Scaled_Br_20071115094127885_S32020_I82214.nii\n",
      "ADNI_027_S_0404_MR_MPR__GradWarp__B1_Correction__N3__Scaled_Br_20070327132615623_S22758_I47091.nii\n",
      "ADNI_027_S_0403_MR_MPR__GradWarp__B1_Correction__N3__Scaled_Br_20070828111655487_S32438_I70692.nii\n"
     ]
    }
   ],
   "source": [
    "import os\n",
    "for (dirpath, dirnames, filenames) in os.walk(\"data\"):\n",
    "    for f in filenames:\n",
    "        if f.endswith(\"nii\"):\n",
    "            print(f)"
   ]
  },
  {
   "cell_type": "code",
   "execution_count": 8,
   "metadata": {},
   "outputs": [],
   "source": [
    "import re\n",
    "import logging\n",
    "adni_img_name = \"ADNI_027_S_0403_MR_MPR__GradWarp__B1_Correction__N3__Scaled_Br_20070828111655487_S32438_I70692.nii\"\n",
    "\n"
   ]
  },
  {
   "cell_type": "code",
   "execution_count": null,
   "metadata": {},
   "outputs": [],
   "source": []
  }
 ],
 "metadata": {
  "kernelspec": {
   "display_name": "Python 3",
   "language": "python",
   "name": "python3"
  },
  "language_info": {
   "codemirror_mode": {
    "name": "ipython",
    "version": 3
   },
   "file_extension": ".py",
   "mimetype": "text/x-python",
   "name": "python",
   "nbconvert_exporter": "python",
   "pygments_lexer": "ipython3",
   "version": "3.6.8"
  }
 },
 "nbformat": 4,
 "nbformat_minor": 4
}
