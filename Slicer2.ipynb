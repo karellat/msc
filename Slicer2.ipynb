{
 "cells": [
  {
   "cell_type": "code",
   "execution_count": 6,
   "metadata": {},
   "outputs": [],
   "source": [
    "PREPROCESSED_PATH=\"/ADNI/bet_rescaled_ADNI/\"\n",
    "OUTPUT_PATH=\"/ADNI/entropy_sliced_ADNI\""
   ]
  },
  {
   "cell_type": "code",
   "execution_count": 7,
   "metadata": {},
   "outputs": [],
   "source": [
    "from src.reader import nii_dir_generator, max_entropy_slice_generator\n",
    "import os \n",
    "from src.normalize import normalize_img\n",
    "from matplotlib import pyplot as plt\n",
    "from tqdm import notebook"
   ]
  },
  {
   "cell_type": "code",
   "execution_count": null,
   "metadata": {},
   "outputs": [],
   "source": [
    "diagnosis = \"mci\"\n",
    "\n",
    "pbar = notebook.tqdm(total=len([name for name in os.listdir(os.path.join(PREPROCESSED_PATH, diagnosis))]))\n",
    "for fname, img in nii_dir_generator(input_dir=os.path.join(PREPROCESSED_PATH, diagnosis),default_shape=(192, 192, 160)):\n",
    "    img_num = fname.split('_')[-2][1:]\n",
    "    ind = 0 \n",
    "    for s in max_entropy_slice_generator(img, n=8, normalizer=normalize_img):\n",
    "        s_path = os.path.join(OUTPUT_PATH, diagnosis, img_num + \"_\" + str(ind)+\".png\")\n",
    "        plt.imsave(s_path,s)\n",
    "        ind += 1\n",
    "    pbar.update(1)"
   ]
  },
  {
   "cell_type": "code",
   "execution_count": null,
   "metadata": {},
   "outputs": [],
   "source": [
    "max_entropy_slice_generator?"
   ]
  },
  {
   "cell_type": "code",
   "execution_count": 5,
   "metadata": {},
   "outputs": [
    {
     "name": "stdout",
     "output_type": "stream",
     "text": [
      "Requirement already satisfied: opencv-python in /opt/miniconda-latest/envs/neuro/lib/python3.6/site-packages (4.2.0.32)\r\n",
      "Requirement already satisfied: numpy>=1.11.3 in /opt/miniconda-latest/envs/neuro/lib/python3.6/site-packages (from opencv-python) (1.18.1)\r\n"
     ]
    }
   ],
   "source": [
    "!pip install opencv-python"
   ]
  },
  {
   "cell_type": "code",
   "execution_count": null,
   "metadata": {},
   "outputs": [],
   "source": [
    "!mkdir /ADNI/entropy_sliced_ADNI/cn"
   ]
  },
  {
   "cell_type": "code",
   "execution_count": null,
   "metadata": {},
   "outputs": [],
   "source": [
    "!mkdir /ADNI/entropy_sliced_ADNI/mci"
   ]
  },
  {
   "cell_type": "code",
   "execution_count": 55,
   "metadata": {},
   "outputs": [
    {
     "data": {
      "application/vnd.jupyter.widget-view+json": {
       "model_id": "e1b89106d2fd4bd9a9c57a7954ad1cb9",
       "version_major": 2,
       "version_minor": 0
      },
      "text/plain": [
       "HBox(children=(FloatProgress(value=0.0, max=445.0), HTML(value='')))"
      ]
     },
     "metadata": {},
     "output_type": "display_data"
    }
   ],
   "source": []
  },
  {
   "cell_type": "code",
   "execution_count": 57,
   "metadata": {},
   "outputs": [],
   "source": [
    "pbar.update(1)"
   ]
  },
  {
   "cell_type": "code",
   "execution_count": 8,
   "metadata": {},
   "outputs": [],
   "source": [
    "import numpy as np\n",
    "import cv2 as cv\n",
    "from matplotlib import pyplot as plt\n",
    "import seaborn as sns"
   ]
  },
  {
   "cell_type": "code",
   "execution_count": 9,
   "metadata": {},
   "outputs": [],
   "source": [
    "import numpy as np"
   ]
  },
  {
   "cell_type": "code",
   "execution_count": 10,
   "metadata": {},
   "outputs": [
    {
     "data": {
      "text/plain": [
       "<matplotlib.axes._subplots.AxesSubplot at 0x7ff9d5f1bb00>"
      ]
     },
     "execution_count": 10,
     "metadata": {},
     "output_type": "execute_result"
    },
    {
     "data": {
      "image/png": "[encoded data removed]",
      "text/plain": [
       "<Figure size 432x288 with 1 Axes>"
      ]
     },
     "metadata": {
      "needs_background": "light"
     },
     "output_type": "display_data"
    }
   ],
   "source": [
    "img = cv.imread('/ADNI/entropy_sliced_ADNI/ad/36514_2.png',0)\n",
    "hist,bins = np.histogram(img.ravel(),256,[0,256])\n",
    "sns.distplot(list(filter(lambda x: x != 30.0, img.ravel())))"
   ]
  },
  {
   "cell_type": "code",
   "execution_count": 11,
   "metadata": {},
   "outputs": [
    {
     "data": {
      "text/plain": [
       "<matplotlib.axes._subplots.AxesSubplot at 0x7ff9d5c94278>"
      ]
     },
     "execution_count": 11,
     "metadata": {},
     "output_type": "execute_result"
    },
    {
     "data": {
      "image/png": "[encoded data removed]",
      "text/plain": [
       "<Figure size 432x288 with 1 Axes>"
      ]
     },
     "metadata": {
      "needs_background": "light"
     },
     "output_type": "display_data"
    }
   ],
   "source": [
    "img = cv.imread('/ADNI/entropy_sliced_ADNI/ad/54731_2.png',0)\n",
    "hist,bins = np.histogram(img.ravel(),256,[0,256])\n",
    "sns.distplot(list(filter(lambda x: x != 30.0, img.ravel())))"
   ]
  },
  {
   "cell_type": "code",
   "execution_count": 13,
   "metadata": {},
   "outputs": [
    {
     "ename": "AttributeError",
     "evalue": "'NoneType' object has no attribute 'ravel'",
     "output_type": "error",
     "traceback": [
      "\u001b[0;31m---------------------------------------------------------------------------\u001b[0m",
      "\u001b[0;31mAttributeError\u001b[0m                            Traceback (most recent call last)",
      "\u001b[0;32m<ipython-input-13-a66f1516ebbf>\u001b[0m in \u001b[0;36m<module>\u001b[0;34m\u001b[0m\n\u001b[1;32m      1\u001b[0m \u001b[0mimg\u001b[0m \u001b[0;34m=\u001b[0m \u001b[0mcv\u001b[0m\u001b[0;34m.\u001b[0m\u001b[0mimread\u001b[0m\u001b[0;34m(\u001b[0m\u001b[0;34m'/ADNI/entropy_sliced_ADNI/ad/'\u001b[0m\u001b[0;34m,\u001b[0m\u001b[0;36m0\u001b[0m\u001b[0;34m)\u001b[0m\u001b[0;34m\u001b[0m\u001b[0;34m\u001b[0m\u001b[0m\n\u001b[0;32m----> 2\u001b[0;31m \u001b[0mhist\u001b[0m\u001b[0;34m,\u001b[0m\u001b[0mbins\u001b[0m \u001b[0;34m=\u001b[0m \u001b[0mnp\u001b[0m\u001b[0;34m.\u001b[0m\u001b[0mhistogram\u001b[0m\u001b[0;34m(\u001b[0m\u001b[0mimg\u001b[0m\u001b[0;34m.\u001b[0m\u001b[0mravel\u001b[0m\u001b[0;34m(\u001b[0m\u001b[0;34m)\u001b[0m\u001b[0;34m,\u001b[0m\u001b[0;36m256\u001b[0m\u001b[0;34m,\u001b[0m\u001b[0;34m[\u001b[0m\u001b[0;36m0\u001b[0m\u001b[0;34m,\u001b[0m\u001b[0;36m256\u001b[0m\u001b[0;34m]\u001b[0m\u001b[0;34m)\u001b[0m\u001b[0;34m\u001b[0m\u001b[0;34m\u001b[0m\u001b[0m\n\u001b[0m\u001b[1;32m      3\u001b[0m \u001b[0msns\u001b[0m\u001b[0;34m.\u001b[0m\u001b[0mdistplot\u001b[0m\u001b[0;34m(\u001b[0m\u001b[0mlist\u001b[0m\u001b[0;34m(\u001b[0m\u001b[0mfilter\u001b[0m\u001b[0;34m(\u001b[0m\u001b[0;32mlambda\u001b[0m \u001b[0mx\u001b[0m\u001b[0;34m:\u001b[0m \u001b[0mx\u001b[0m \u001b[0;34m!=\u001b[0m \u001b[0;36m30.0\u001b[0m\u001b[0;34m,\u001b[0m \u001b[0mimg\u001b[0m\u001b[0;34m.\u001b[0m\u001b[0mravel\u001b[0m\u001b[0;34m(\u001b[0m\u001b[0;34m)\u001b[0m\u001b[0;34m)\u001b[0m\u001b[0;34m)\u001b[0m\u001b[0;34m)\u001b[0m\u001b[0;34m\u001b[0m\u001b[0;34m\u001b[0m\u001b[0m\n",
      "\u001b[0;31mAttributeError\u001b[0m: 'NoneType' object has no attribute 'ravel'"
     ]
    }
   ],
   "source": [
    "img = cv.imread('/ADNI/entropy_sliced_ADNI/ad/',0)\n",
    "hist,bins = np.histogram(img.ravel(),256,[0,256])\n",
    "sns.distplot(list(filter(lambda x: x != 30.0, img.ravel())))"
   ]
  },
  {
   "cell_type": "code",
   "execution_count": 32,
   "metadata": {},
   "outputs": [
    {
     "data": {
      "text/plain": [
       "<matplotlib.axes._subplots.AxesSubplot at 0x7ff9d4cdf630>"
      ]
     },
     "execution_count": 32,
     "metadata": {},
     "output_type": "execute_result"
    },
    {
     "data": {
      "image/png": "[encoded data removed]",
      "text/plain": [
       "<Figure size 432x288 with 1 Axes>"
      ]
     },
     "metadata": {
      "needs_background": "light"
     },
     "output_type": "display_data"
    }
   ],
   "source": [
    "img = cv.imread('/ADNI/entropy_sliced_ADNI/ad/52066_2.png',0)\n",
    "hist,bins = np.histogram(img.ravel(),256,[0,256])\n",
    "sns.distplot(list(filter(lambda x: x != 30.0, img.ravel())))"
   ]
  },
  {
   "cell_type": "code",
   "execution_count": 15,
   "metadata": {},
   "outputs": [],
   "source": [
    "from scipy.stats import normaltest"
   ]
  },
  {
   "cell_type": "code",
   "execution_count": 16,
   "metadata": {},
   "outputs": [
    {
     "data": {
      "text/plain": [
       "<matplotlib.axes._subplots.AxesSubplot at 0x7ff9d5dbc908>"
      ]
     },
     "execution_count": 16,
     "metadata": {},
     "output_type": "execute_result"
    },
    {
     "data": {
      "image/png": "[encoded data removed]",
      "text/plain": [
       "<Figure size 432x288 with 1 Axes>"
      ]
     },
     "metadata": {
      "needs_background": "light"
     },
     "output_type": "display_data"
    }
   ],
   "source": [
    "img = cv.imread('/ADNI/entropy_sliced_ADNI/ad/35911_3.png',0)\n",
    "hist,bins = np.histogram(img.ravel(),256,[0,256])\n",
    "filt = list(filter(lambda x: x != 30.0, img.ravel()))\n",
    "sns.distplot(filt)\n",
    "\n"
   ]
  },
  {
   "cell_type": "code",
   "execution_count": null,
   "metadata": {},
   "outputs": [],
   "source": [
    "normaltest(np.random.normal(0, 1, size=10000000000))"
   ]
  },
  {
   "cell_type": "code",
   "execution_count": 17,
   "metadata": {},
   "outputs": [],
   "source": [
    "import cv2 as cv\n",
    "import os"
   ]
  },
  {
   "cell_type": "code",
   "execution_count": 27,
   "metadata": {},
   "outputs": [],
   "source": [
    "def calc_histogram_distance(src, test, compare_method): \n",
    "    assert compare_method >= 0\n",
    "    assert compare_method < 6\n",
    "    \n",
    "    src = cv.imread(src)\n",
    "    test = cv.imread(test)\n",
    "    \n",
    "    if src is None or test is None: \n",
    "        raise(f'Could not open images {src}, {test}')\n",
    "        \n",
    "    hsv_src  = cv.cvtColor(src, cv.COLOR_BGR2HSV)\n",
    "    hsv_test = cv.cvtColor(test, cv.COLOR_BGR2HSV)\n",
    "    \n",
    "    h_bins = 50\n",
    "    s_bins = 60\n",
    "    histSize = [h_bins, s_bins]\n",
    "    # hue varies from 0 to 179, saturation from 0 to 255\n",
    "    h_ranges = [0, 180]\n",
    "    s_ranges = [0, 256]\n",
    "    ranges = h_ranges + s_ranges \n",
    "    # Use the 0-th and 1-st channels\n",
    "    channels = [0, 1]\n",
    "    \n",
    "    hist_src = cv.calcHist([hsv_src], channels, None, histSize, ranges, accumulate=False)\n",
    "    cv.normalize(hist_src, hist_src, alpha=0, beta=1, norm_type=cv.NORM_MINMAX)\n",
    "    \n",
    "    hist_test = cv.calcHist([hsv_test], channels, None, histSize, ranges, accumulate=False)\n",
    "    cv.normalize(hist_test, hist_test, alpha=0, beta=1, norm_type=cv.NORM_MINMAX)\n",
    "    \n",
    "    return cv.compareHist(hist_src, hist_test, compare_method)"
   ]
  },
  {
   "cell_type": "code",
   "execution_count": 31,
   "metadata": {},
   "outputs": [
    {
     "data": {
      "text/plain": [
       "0.0"
      ]
     },
     "execution_count": 31,
     "metadata": {},
     "output_type": "execute_result"
    }
   ],
   "source": [
    "calc_histogram_distance('/ADNI/entropy_sliced_ADNI/ad/39919_3.png','/ADNI/entropy_sliced_ADNI/ad/39919_3.png',4)"
   ]
  },
  {
   "cell_type": "code",
   "execution_count": 35,
   "metadata": {},
   "outputs": [],
   "source": [
    "test = '/ADNI/entropy_sliced_ADNI/ad/36514_2.png'\n",
    "tested = [ '39919_2.png',\n",
    "          '40239_1.png',\n",
    "          '38918_0.png',\n",
    "          '39185_6.png',\n",
    "          '39185_6.png'\n",
    "]\n",
    "hist_diff = []\n",
    "\n",
    "for i in tested:\n",
    "    hist_diff.append(calc_histogram_distance(os.path.join('/ADNI/entropy_sliced_ADNI/ad', i), test,4 ))"
   ]
  },
  {
   "cell_type": "code",
   "execution_count": 33,
   "metadata": {},
   "outputs": [
    {
     "name": "stdout",
     "output_type": "stream",
     "text": [
      "Method: 0 Perfect, Bad, Good : 1.0 / 0.9847418530263184 / 0.9714378469803627\n",
      "Method: 1 Perfect, Bad, Good : 0.0 / 1.0237708616906387 / 12.837732467718862\n",
      "Method: 2 Perfect, Bad, Good : 2.592842713391292 / 1.6526694028907514 / 1.2251236036499904\n",
      "Method: 3 Perfect, Bad, Good : 0.0 / 0.2355594214979352 / 0.4626315841089765\n",
      "Method: 4 Perfect, Bad, Good : 0.0 / 1.1396319099435084 / 2.8331411931958663\n",
      "Method: 5 Perfect, Bad, Good : 0.0 / 1.6534277096422019 / 3.85312303445235\n"
     ]
    }
   ],
   "source": [
    "src_base = cv.imread('/ADNI/entropy_sliced_ADNI/ad/54731_2.png')\n",
    "src_test1 = cv.imread('/ADNI/entropy_sliced_ADNI/ad/35911_3.png')\n",
    "src_test2 = cv.imread('/ADNI/entropy_sliced_ADNI/ad/36514_2.png')\n",
    "if src_base is None or src_test1 is None or src_test2 is None:\n",
    "    print('Could not open or find the images!')\n",
    "    exit(0)\n",
    "hsv_base = cv.cvtColor(src_base, cv.COLOR_BGR2HSV)\n",
    "hsv_test1 = cv.cvtColor(src_test1, cv.COLOR_BGR2HSV)\n",
    "hsv_test2 = cv.cvtColor(src_test2, cv.COLOR_BGR2HSV)\n",
    "hsv_half_down = hsv_base[hsv_base.shape[0]//2:,:]\n",
    "h_bins = 50\n",
    "s_bins = 60\n",
    "histSize = [h_bins, s_bins]\n",
    "# hue varies from 0 to 179, saturation from 0 to 255\n",
    "h_ranges = [0, 180]\n",
    "s_ranges = [0, 256]\n",
    "ranges = h_ranges + s_ranges # concat lists\n",
    "# Use the 0-th and 1-st channels\n",
    "channels = [0, 1]\n",
    "hist_base = cv.calcHist([hsv_base], channels, None, histSize, ranges, accumulate=False)\n",
    "cv.normalize(hist_base, hist_base, alpha=0, beta=1, norm_type=cv.NORM_MINMAX)\n",
    "hist_half_down = cv.calcHist([hsv_half_down], channels, None, histSize, ranges, accumulate=False)\n",
    "cv.normalize(hist_half_down, hist_half_down, alpha=0, beta=1, norm_type=cv.NORM_MINMAX)\n",
    "hist_test1 = cv.calcHist([hsv_test1], channels, None, histSize, ranges, accumulate=False)\n",
    "cv.normalize(hist_test1, hist_test1, alpha=0, beta=1, norm_type=cv.NORM_MINMAX)\n",
    "hist_test2 = cv.calcHist([hsv_test2], channels, None, histSize, ranges, accumulate=False)\n",
    "cv.normalize(hist_test2, hist_test2, alpha=0, beta=1, norm_type=cv.NORM_MINMAX)\n",
    "for compare_method in range(6):\n",
    "    base_base = cv.compareHist(hist_base, hist_base, compare_method)\n",
    "    base_test1 = cv.compareHist(hist_base, hist_test1, compare_method)\n",
    "    base_test2 = cv.compareHist(hist_base, hist_test2, compare_method)\n",
    "    print('Method:', compare_method, 'Perfect, Bad, Good :',\\\n",
    "          base_base, '/', base_test1, '/', base_test2)"
   ]
  },
  {
   "cell_type": "code",
   "execution_count": 40,
   "metadata": {},
   "outputs": [],
   "source": [
    "test = '/ADNI/entropy_sliced_ADNI/ad/36514_2.png'\n",
    "tested = [ '40731_0.png',\n",
    "          '45213_0.png',\n",
    "          '45910_0.png',\n",
    "          '47228_0.png',\n",
    "          '48581_0.png',\n",
    "          '48996_0.png'\n",
    "]\n",
    "hist_diff = []\n",
    "\n",
    "for i in tested:\n",
    "    hist_diff.append(calc_histogram_distance(os.path.join('/ADNI/entropy_sliced_ADNI/ad', i), test,4 ))"
   ]
  },
  {
   "cell_type": "code",
   "execution_count": 67,
   "metadata": {},
   "outputs": [],
   "source": [
    "from shutil import copyfile"
   ]
  },
  {
   "cell_type": "code",
   "execution_count": 70,
   "metadata": {},
   "outputs": [],
   "source": [
    "test_good = '/ADNI/entropy_sliced_ADNI/ad/36514_2.png'\n",
    "test_bad = '/ADNI/entropy_sliced_ADNI/ad/35911_3.png'\n",
    "INPUT_PATH = '/ADNI/entropy_sliced_ADNI'\n",
    "OUTPUT_PATH = '/ADNI/hist_selected_ADNI'\n",
    "diagnosis = 'cn'\n",
    "os.makedirs(os.path.join(OUTPUT_PATH,'close', diagnosis), exist_ok=True)\n",
    "os.makedirs(os.path.join(OUTPUT_PATH,'distant', diagnosis), exist_ok=True)\n",
    "for (dirpath, dirnames, filenames) in os.walk(os.path.join(INPUT_PATH,diagnosis)):\n",
    "        for f in filenames:\n",
    "            if f.endswith(\"png\"):\n",
    "                good = calc_histogram_distance(os.path.join(dirpath, f), test_good,4)\n",
    "                bad = calc_histogram_distance(os.path.join(dirpath, f), test_bad,4)\n",
    "                if good < bad: \n",
    "                    copyfile(os.path.join(dirpath, f),os.path.join(OUTPUT_PATH,'close', diagnosis, f))\n",
    "                else:\n",
    "                    copyfile(os.path.join(dirpath, f),os.path.join(OUTPUT_PATH,'distant', diagnosis, f))\n",
    "                \n",
    "                    "
   ]
  },
  {
   "cell_type": "code",
   "execution_count": 56,
   "metadata": {},
   "outputs": [],
   "source": [
    "os.makedirs(os.path.join(OUTPUT_PATH,'close'), exist_ok=True)\n",
    "os.makedirs(os.path.join(OUTPUT_PATH,'distant'), exist_ok=True)"
   ]
  },
  {
   "cell_type": "code",
   "execution_count": 55,
   "metadata": {},
   "outputs": [
    {
     "data": {
      "text/plain": [
       "'/ADNI/entropy_sliced_ADNI/close'"
      ]
     },
     "execution_count": 55,
     "metadata": {},
     "output_type": "execute_result"
    }
   ],
   "source": [
    "os.path.join(OUTPUT_PATH,'close')"
   ]
  },
  {
   "cell_type": "code",
   "execution_count": 61,
   "metadata": {},
   "outputs": [
    {
     "ename": "FileExistsError",
     "evalue": "[Errno 17] File exists: '/ADNI/entropy_sliced_ADNI/close'",
     "output_type": "error",
     "traceback": [
      "\u001b[0;31m---------------------------------------------------------------------------\u001b[0m",
      "\u001b[0;31mFileExistsError\u001b[0m                           Traceback (most recent call last)",
      "\u001b[0;32m<ipython-input-61-0d74cdef40da>\u001b[0m in \u001b[0;36m<module>\u001b[0;34m\u001b[0m\n\u001b[0;32m----> 1\u001b[0;31m \u001b[0mos\u001b[0m\u001b[0;34m.\u001b[0m\u001b[0mmakedirs\u001b[0m\u001b[0;34m(\u001b[0m\u001b[0mos\u001b[0m\u001b[0;34m.\u001b[0m\u001b[0mpath\u001b[0m\u001b[0;34m.\u001b[0m\u001b[0mdirname\u001b[0m\u001b[0;34m(\u001b[0m\u001b[0mos\u001b[0m\u001b[0;34m.\u001b[0m\u001b[0mpath\u001b[0m\u001b[0;34m.\u001b[0m\u001b[0mjoin\u001b[0m\u001b[0;34m(\u001b[0m\u001b[0mOUTPUT_PATH\u001b[0m\u001b[0;34m,\u001b[0m\u001b[0;34m'close'\u001b[0m\u001b[0;34m,\u001b[0m \u001b[0;34m'ad'\u001b[0m\u001b[0;34m)\u001b[0m\u001b[0;34m)\u001b[0m\u001b[0;34m)\u001b[0m\u001b[0;34m\u001b[0m\u001b[0;34m\u001b[0m\u001b[0m\n\u001b[0m",
      "\u001b[0;32m/opt/miniconda-latest/envs/neuro/lib/python3.6/os.py\u001b[0m in \u001b[0;36mmakedirs\u001b[0;34m(name, mode, exist_ok)\u001b[0m\n\u001b[1;32m    218\u001b[0m             \u001b[0;32mreturn\u001b[0m\u001b[0;34m\u001b[0m\u001b[0;34m\u001b[0m\u001b[0m\n\u001b[1;32m    219\u001b[0m     \u001b[0;32mtry\u001b[0m\u001b[0;34m:\u001b[0m\u001b[0;34m\u001b[0m\u001b[0;34m\u001b[0m\u001b[0m\n\u001b[0;32m--> 220\u001b[0;31m         \u001b[0mmkdir\u001b[0m\u001b[0;34m(\u001b[0m\u001b[0mname\u001b[0m\u001b[0;34m,\u001b[0m \u001b[0mmode\u001b[0m\u001b[0;34m)\u001b[0m\u001b[0;34m\u001b[0m\u001b[0;34m\u001b[0m\u001b[0m\n\u001b[0m\u001b[1;32m    221\u001b[0m     \u001b[0;32mexcept\u001b[0m \u001b[0mOSError\u001b[0m\u001b[0;34m:\u001b[0m\u001b[0;34m\u001b[0m\u001b[0;34m\u001b[0m\u001b[0m\n\u001b[1;32m    222\u001b[0m         \u001b[0;31m# Cannot rely on checking for EEXIST, since the operating system\u001b[0m\u001b[0;34m\u001b[0m\u001b[0;34m\u001b[0m\u001b[0;34m\u001b[0m\u001b[0m\n",
      "\u001b[0;31mFileExistsError\u001b[0m: [Errno 17] File exists: '/ADNI/entropy_sliced_ADNI/close'"
     ]
    }
   ],
   "source": [
    "os.makedirs(os.path.dirname(os.path.join(OUTPUT_PATH,'close', 'ad')))"
   ]
  },
  {
   "cell_type": "code",
   "execution_count": null,
   "metadata": {},
   "outputs": [],
   "source": []
  }
 ],
 "metadata": {
  "kernelspec": {
   "display_name": "Python 3",
   "language": "python",
   "name": "python3"
  },
  "language_info": {
   "codemirror_mode": {
    "name": "ipython",
    "version": 3
   },
   "file_extension": ".py",
   "mimetype": "text/x-python",
   "name": "python",
   "nbconvert_exporter": "python",
   "pygments_lexer": "ipython3",
   "version": "3.6.7"
  }
 },
 "nbformat": 4,
 "nbformat_minor": 4
}
