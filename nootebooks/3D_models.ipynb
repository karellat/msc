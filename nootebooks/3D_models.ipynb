{
 "cells": [
  {
   "cell_type": "code",
   "execution_count": 1,
   "metadata": {},
   "outputs": [],
   "source": [
    "from deep_mri.dataset import dataset_factory, CLASS_NAMES\n",
    "from deep_mri.model_zoo import model_factory"
   ]
  },
  {
   "cell_type": "code",
   "execution_count": 2,
   "metadata": {},
   "outputs": [
    {
     "name": "stdout",
     "output_type": "stream",
     "text": [
      "Num GPUs Available:  1\n"
     ]
    },
    {
     "data": {
      "text/plain": [
       "[PhysicalDevice(name='/physical_device:GPU:0', device_type='GPU')]"
      ]
     },
     "execution_count": 2,
     "metadata": {},
     "output_type": "execute_result"
    }
   ],
   "source": [
    "import tensorflow as tf\n",
    "print(\"Num GPUs Available: \", len(tf.config.experimental.list_physical_devices('GPU')))\n",
    "tf.config.experimental.list_physical_devices('GPU')"
   ]
  },
  {
   "cell_type": "code",
   "execution_count": 3,
   "metadata": {},
   "outputs": [
    {
     "name": "stdout",
     "output_type": "stream",
     "text": [
      "Model: \"sequential\"\n",
      "_________________________________________________________________\n",
      "Layer (type)                 Output Shape              Param #   \n",
      "=================================================================\n",
      "conv3d (Conv3D)              (None, 49, 58, 49, 128)   3584      \n",
      "_________________________________________________________________\n",
      "conv3d_1 (Conv3D)            (None, 25, 29, 25, 256)   884992    \n",
      "_________________________________________________________________\n",
      "flatten (Flatten)            (None, 4640000)           0         \n",
      "_________________________________________________________________\n",
      "dense (Dense)                (None, 400)               1856000400\n",
      "_________________________________________________________________\n",
      "dense_1 (Dense)              (None, 3)                 1203      \n",
      "=================================================================\n",
      "Total params: 1,856,890,179\n",
      "Trainable params: 1,856,890,179\n",
      "Non-trainable params: 0\n",
      "_________________________________________________________________\n"
     ]
    }
   ],
   "source": [
    "model = model_factory('3d_martin', **{\"input_shape\" : (97, 115, 97, 1),\n",
    "                                      \"conv_layers\": 2,\n",
    "                                      \"conv_kernel\" : 3,\n",
    "                                      \"init_filters\" : 128})\n",
    "model.summary()"
   ]
  },
  {
   "cell_type": "code",
   "execution_count": null,
   "metadata": {},
   "outputs": [],
   "source": [
    "train_ds, valid_ds = dataset_factory(\"3d\", True, True, '/home/karelto1/MRI/minc_beast/*/*/*.nii', **{\n",
    "    \"normalize\" : True,\n",
    "    \"downscale_ratio\" : 2\n",
    "  })"
   ]
  },
  {
   "cell_type": "code",
   "execution_count": null,
   "metadata": {
    "scrolled": true
   },
   "outputs": [],
   "source": [
    "import numpy as np\n",
    "np.sum([False, False, True])\n",
    "img, label = next(iter(train_ds))"
   ]
  },
  {
   "cell_type": "code",
   "execution_count": null,
   "metadata": {},
   "outputs": [],
   "source": [
    "img, label = next(iter(train_ds))\n",
    "label"
   ]
  },
  {
   "cell_type": "code",
   "execution_count": null,
   "metadata": {},
   "outputs": [],
   "source": [
    "pd.read_csv( '/home/karelto1/ADNI1_Complete_1Yr_1.5T_10_13_2019.csv')"
   ]
  },
  {
   "cell_type": "code",
   "execution_count": null,
   "metadata": {},
   "outputs": [],
   "source": [
    "%ls /home/karelto1/MRI/minc_beast/ad/_image_id_101549/ADNI_027_S_1385_MR_MPR__GradWarp__B1_Correction__N3__Scaled_Br_20080408153436647_S47223_I101549_normalized_masked.nii"
   ]
  },
  {
   "cell_type": "code",
   "execution_count": null,
   "metadata": {},
   "outputs": [],
   "source": [
    "batch_size=1\n",
    "epochs=100\n",
    "model.compile(optimizer='adam',\n",
    "              loss=tf.keras.losses.CategoricalCrossentropy(),\n",
    "              metrics=['AUC', 'accuracy'])\n",
    "\n",
    "model.fit(train_ds.batch(batch_size),\n",
    "          epochs=epochs,\n",
    "          validation_data=valid_ds.batch(batch_size),\n",
    "          verbose=1,\n",
    "          workers=40,\n",
    "          use_multiprocessing=True\n",
    "          )"
   ]
  },
  {
   "cell_type": "code",
   "execution_count": null,
   "metadata": {},
   "outputs": [],
   "source": [
    "label"
   ]
  },
  {
   "cell_type": "code",
   "execution_count": null,
   "metadata": {},
   "outputs": [],
   "source": [
    "def _get_image_group(file_path, class_folder=-3):\n",
    "    parts = file_path.split(os.path.sep)\n",
    "    return parts[class_folder] == CLASS_NAMES"
   ]
  },
  {
   "cell_type": "code",
   "execution_count": null,
   "metadata": {},
   "outputs": [],
   "source": [
    "_get_image_group('/home/karelto1/MRI/minc_beast/ad/_image_id_101549/ADNI_027_S_1385_MR_MPR__GradWarp__B1_Correction__N3__Scaled_Br_20080408153436647_S47223_I101549_normalized_masked.nii')"
   ]
  },
  {
   "cell_type": "code",
   "execution_count": null,
   "metadata": {},
   "outputs": [],
   "source": [
    "['', 'home', 'karelto1', 'MRI', 'minc_beast', 'mci', '_image_id_130241', 'ADNI_068_S_0442_MR_MPR-R____N3__Scaled_2_Br_20081212150437526_S14128_I130241_normalized_masked.nii'][-3]"
   ]
  },
  {
   "cell_type": "code",
   "execution_count": null,
   "metadata": {},
   "outputs": [],
   "source": [
    "%pip install fslpy"
   ]
  },
  {
   "cell_type": "code",
   "execution_count": 1,
   "metadata": {},
   "outputs": [],
   "source": [
    "from fsl.data.image import Image\n",
    "from fsl.utils.image.resample import resample\n",
    "from nilearn.plotting import plot_anat\n",
    "from deep_mri.dataset import numpy_to_nibabel"
   ]
  },
  {
   "cell_type": "code",
   "execution_count": null,
   "metadata": {},
   "outputs": [],
   "source": [
    "img_path = '/home/karelto1/MRI/minc_beast/ad/_image_id_101549/ADNI_027_S_1385_MR_MPR__GradWarp__B1_Correction__N3__Scaled_Br_20080408153436647_S47223_I101549_normalized_masked.nii'\n",
    "img = Image(img_path)\n",
    "plot_anat(numpy_to_nibabel(img.data))"
   ]
  },
  {
   "cell_type": "code",
   "execution_count": null,
   "metadata": {},
   "outputs": [],
   "source": [
    "res_img = resample(img, newShape=(96, 96, 96),order=3)\n",
    "plot_anat(numpy_to_nibabel(res_img[0]))"
   ]
  },
  {
   "cell_type": "code",
   "execution_count": 3,
   "metadata": {},
   "outputs": [],
   "source": [
    "from glob import glob\n",
    "import os\n",
    "def create_dir_if_not_exists(path):\n",
    "    if not os.path.exists(path):\n",
    "        os.makedirs(path)\n"
   ]
  },
  {
   "cell_type": "code",
   "execution_count": null,
   "metadata": {},
   "outputs": [],
   "source": [
    "\n",
    "\n",
    "create_dir_if_not_exists(new_dir)\n",
    "create_dir_if_not_exists(os.path.join(new_dir, 'ad'))\n",
    "create_dir_if_not_exists(os.path.join(new_dir, 'mci'))\n",
    "create_dir_if_not_exists(os.path.join(new_dir, 'cn'))\n",
    "pbar = tqdm(total=len(files))\n",
    "for img_path in files:\n",
    "    group_dir = img_path.split(os.path.sep)[-3]\n",
    "    img_dir = img_path.split(os.path.sep)[-2]\n",
    "    img_name = img_path.split(os.path.sep)[-1]\n",
    "    img_root = os.path.join(new_dir, group_dir, img_dir)\n",
    "    create_dir_if_not_exists(img_root)\n",
    "    img = Image(img_path)\n",
    "    res_img = resample(img, newShape=new_shape,order=3)\n",
    "    Image(res_img[0]).save(os.path.join(img_root, img_name))\n",
    "    pbar.update(1)"
   ]
  },
  {
   "cell_type": "code",
   "execution_count": null,
   "metadata": {},
   "outputs": [],
   "source": [
    "from auto_tqdm import tqdm"
   ]
  },
  {
   "cell_type": "code",
   "execution_count": 1,
   "metadata": {
    "scrolled": true
   },
   "outputs": [
    {
     "ename": "NameError",
     "evalue": "name 'new_dir' is not defined",
     "output_type": "error",
     "traceback": [
      "\u001b[0;31m---------------------------------------------------------------------------\u001b[0m",
      "\u001b[0;31mNameError\u001b[0m                                 Traceback (most recent call last)",
      "\u001b[0;32m<ipython-input-1-2bbe22ee93dd>\u001b[0m in \u001b[0;36m<module>\u001b[0;34m\u001b[0m\n\u001b[0;32m----> 1\u001b[0;31m \u001b[0mnew_dir\u001b[0m\u001b[0;34m\u001b[0m\u001b[0;34m\u001b[0m\u001b[0m\n\u001b[0m",
      "\u001b[0;31mNameError\u001b[0m: name 'new_dir' is not defined"
     ]
    }
   ],
   "source": [
    "new_dir\n"
   ]
  },
  {
   "cell_type": "code",
   "execution_count": null,
   "metadata": {},
   "outputs": [],
   "source": []
  },
  {
   "cell_type": "code",
   "execution_count": 4,
   "metadata": {},
   "outputs": [],
   "source": []
  },
  {
   "cell_type": "code",
   "execution_count": 5,
   "metadata": {},
   "outputs": [
    {
     "ename": "NameError",
     "evalue": "name 'files' is not defined",
     "output_type": "error",
     "traceback": [
      "\u001b[0;31m---------------------------------------------------------------------------\u001b[0m",
      "\u001b[0;31mNameError\u001b[0m                                 Traceback (most recent call last)",
      "\u001b[0;32m<ipython-input-5-84bf9df89cba>\u001b[0m in \u001b[0;36m<module>\u001b[0;34m\u001b[0m\n\u001b[0;32m----> 1\u001b[0;31m \u001b[0mimg\u001b[0m \u001b[0;34m=\u001b[0m \u001b[0mnib\u001b[0m\u001b[0;34m.\u001b[0m\u001b[0mload\u001b[0m\u001b[0;34m(\u001b[0m\u001b[0mfiles\u001b[0m\u001b[0;34m[\u001b[0m\u001b[0;36m0\u001b[0m\u001b[0;34m]\u001b[0m\u001b[0;34m)\u001b[0m\u001b[0;34m\u001b[0m\u001b[0;34m\u001b[0m\u001b[0m\n\u001b[0m",
      "\u001b[0;31mNameError\u001b[0m: name 'files' is not defined"
     ]
    }
   ],
   "source": [
    "img = nib.load(files[0])"
   ]
  },
  {
   "cell_type": "code",
   "execution_count": null,
   "metadata": {},
   "outputs": [],
   "source": [
    "plot_anat(img)"
   ]
  },
  {
   "cell_type": "code",
   "execution_count": 10,
   "metadata": {},
   "outputs": [
    {
     "data": {
      "text/plain": [
       "<nilearn.plotting.displays.OrthoSlicer at 0x7fbf219df2e0>"
      ]
     },
     "execution_count": 10,
     "metadata": {},
     "output_type": "execute_result"
    },
    {
     "data": {
      "image/png": "[encoded data removed]",
      "text/plain": [
       "<Figure size 475.2x187.2 with 4 Axes>"
      ]
     },
     "metadata": {},
     "output_type": "display_data"
    }
   ],
   "source": [
    "boxes = _get_3d_boxes(img.get_fdata(), 10, box_size=96, include_zeros=False)\n",
    "\n",
    "\n",
    "plot_anat(numpy_to_nibabel(boxes[-1]))"
   ]
  },
  {
   "cell_type": "code",
   "execution_count": 7,
   "metadata": {},
   "outputs": [
    {
     "data": {
      "application/vnd.jupyter.widget-view+json": {
       "model_id": "b2602ae9dae54623bfefb7ac8da4a557",
       "version_major": 2,
       "version_minor": 0
      },
      "text/plain": [
       "HBox(children=(FloatProgress(value=0.0, layout=Layout(flex='2'), max=135168.0), HTML(value='')), layout=Layout…"
      ]
     },
     "metadata": {},
     "output_type": "display_data"
    }
   ],
   "source": [
    "from glob import glob\n",
    "from auto_tqdm import tqdm\n",
    "import os\n",
    "import nibabel as nib\n",
    "from deep_mri.dataset.dataset_encoder import _get_3d_boxes\n",
    "\n",
    "\n",
    "\n",
    "files = glob(\"/home/karelto1/MRI/minc_beast/*/*/*.nii\")\n",
    "new_dir = \"/home/karelto1/MRI/96_96_96_crop_64\"\n",
    "box_shape = 96\n",
    "slices = 64\n",
    "\n",
    "\n",
    "create_dir_if_not_exists(new_dir)\n",
    "create_dir_if_not_exists(os.path.join(new_dir, 'ad'))\n",
    "create_dir_if_not_exists(os.path.join(new_dir, 'mci'))\n",
    "create_dir_if_not_exists(os.path.join(new_dir, 'cn'))\n",
    "pbar = tqdm(total=len(files)*slices)\n",
    "for img_path in files:\n",
    "    group_dir = img_path.split(os.path.sep)[-3]\n",
    "    img_dir = img_path.split(os.path.sep)[-2]\n",
    "    img_name = img_path.split(os.path.sep)[-1].split('.')[0]\n",
    "    img_root = os.path.join(new_dir, group_dir, img_dir)\n",
    "    create_dir_if_not_exists(img_root)\n",
    "    img = nib.load(img_path)\n",
    "    boxes = _get_3d_boxes(img.get_fdata(), slices, box_size=box_shape, include_zeros=False)\n",
    "    for box_id in range(len(boxes)):\n",
    "        n_img = numpy_to_nibabel(boxes[box_id])\n",
    "        n_img.to_filename(os.path.join(img_root, f\"{img_name}_{box_id}.nii\"))\n",
    "        pbar.update(1)"
   ]
  },
  {
   "cell_type": "code",
   "execution_count": null,
   "metadata": {},
   "outputs": [],
   "source": []
  }
 ],
 "metadata": {
  "kernelspec": {
   "display_name": "deep_mri",
   "language": "python",
   "name": "deep_mri"
  },
  "language_info": {
   "codemirror_mode": {
    "name": "ipython",
    "version": 3
   },
   "file_extension": ".py",
   "mimetype": "text/x-python",
   "name": "python",
   "nbconvert_exporter": "python",
   "pygments_lexer": "ipython3",
   "version": "3.8.3"
  }
 },
 "nbformat": 4,
 "nbformat_minor": 2
}
