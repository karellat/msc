{
 "cells": [
  {
   "cell_type": "code",
   "execution_count": 1,
   "metadata": {},
   "outputs": [],
   "source": [
    "from deep_mri.dataset import dataset_factory, CLASS_NAMES\n",
    "from deep_mri.model_zoo import model_factory\n",
    "import pandas as pd"
   ]
  },
  {
   "cell_type": "code",
   "execution_count": 2,
   "metadata": {},
   "outputs": [
    {
     "name": "stdout",
     "output_type": "stream",
     "text": [
      "Num GPUs Available:  1\n"
     ]
    },
    {
     "data": {
      "text/plain": [
       "[PhysicalDevice(name='/physical_device:GPU:0', device_type='GPU')]"
      ]
     },
     "execution_count": 2,
     "metadata": {},
     "output_type": "execute_result"
    }
   ],
   "source": [
    "import tensorflow as tf\n",
    "print(\"Num GPUs Available: \", len(tf.config.experimental.list_physical_devices('GPU')))\n",
    "tf.config.experimental.list_physical_devices('GPU')"
   ]
  },
  {
   "cell_type": "code",
   "execution_count": 3,
   "metadata": {},
   "outputs": [
    {
     "name": "stdout",
     "output_type": "stream",
     "text": [
      "Model: \"sequential\"\n",
      "_________________________________________________________________\n",
      "Layer (type)                 Output Shape              Param #   \n",
      "=================================================================\n",
      "conv3d (Conv3D)              (None, 49, 58, 49, 128)   3584      \n",
      "_________________________________________________________________\n",
      "conv3d_1 (Conv3D)            (None, 25, 29, 25, 256)   884992    \n",
      "_________________________________________________________________\n",
      "flatten (Flatten)            (None, 4640000)           0         \n",
      "_________________________________________________________________\n",
      "dense (Dense)                (None, 400)               1856000400\n",
      "_________________________________________________________________\n",
      "dense_1 (Dense)              (None, 3)                 1203      \n",
      "=================================================================\n",
      "Total params: 1,856,890,179\n",
      "Trainable params: 1,856,890,179\n",
      "Non-trainable params: 0\n",
      "_________________________________________________________________\n"
     ]
    }
   ],
   "source": [
    "model = model_factory('3d_martin', **{\"input_shape\" : (97, 115, 97, 1),\n",
    "                                      \"conv_layers\": 2,\n",
    "                                      \"conv_kernel\" : 3,\n",
    "                                      \"init_filters\" : 128})\n",
    "model.summary()"
   ]
  },
  {
   "cell_type": "code",
   "execution_count": null,
   "metadata": {},
   "outputs": [],
   "source": [
    "train_ds, valid_ds = dataset_factory(\"3d\", True, True, '/home/karelto1/MRI/minc_beast/*/*/*.nii', **{\n",
    "    \"normalize\" : True,\n",
    "    \"downscale_ratio\" : 2\n",
    "  })\n"
   ]
  },
  {
   "cell_type": "code",
   "execution_count": null,
   "metadata": {
    "pycharm": {
     "name": "#%%\n"
    }
   },
   "outputs": [],
   "source": [
    "batch_size=1\n",
    "epochs=100\n",
    "model.compile(optimizer='adam',\n",
    "              loss=tf.keras.losses.CategoricalCrossentropy(),\n",
    "              metrics=['AUC', 'accuracy'])\n",
    "\n",
    "model.fit(train_ds.batch(batch_size),\n",
    "          epochs=epochs,\n",
    "          validation_data=valid_ds.batch(batch_size),\n",
    "          verbose=1,\n",
    "          workers=40,\n",
    "          use_multiprocessing=True\n",
    "          )\n"
   ]
  }
 ],
 "metadata": {
  "kernelspec": {
   "display_name": "deep_mri",
   "language": "python",
   "name": "deep_mri"
  },
  "language_info": {
   "codemirror_mode": {
    "name": "ipython",
    "version": 3
   },
   "file_extension": ".py",
   "mimetype": "text/x-python",
   "name": "python",
   "nbconvert_exporter": "python",
   "pygments_lexer": "ipython3",
   "version": "3.8.3"
  }
 },
 "nbformat": 4,
 "nbformat_minor": 2
}