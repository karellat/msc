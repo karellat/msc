{
 "cells": [
  {
   "cell_type": "code",
   "execution_count": null,
   "metadata": {},
   "outputs": [],
   "source": [
    "%pip install pandas nilearn auto-tqdm "
   ]
  },
  {
   "cell_type": "code",
   "execution_count": null,
   "metadata": {},
   "outputs": [],
   "source": [
    "from deep_mri.dataset import dataset_factory\n",
    "import tensorflow as tf\n",
    "import numpy as np\n",
    "import os"
   ]
  },
  {
   "cell_type": "code",
   "execution_count": null,
   "metadata": {},
   "outputs": [],
   "source": [
    "args = {\"normalize\" : True,\n",
    "    \"box_size\" : 32,\n",
    "    \"downscale_ratio\" : None,\n",
    "    \"boxes_per_img\" : 4}\n",
    "import tensorflow as tf\n",
    "import numpy as np\n",
    "train_ds, valid_ds = dataset_factory('encoder', True, True,**args)"
   ]
  },
  {
   "cell_type": "code",
   "execution_count": null,
   "metadata": {},
   "outputs": [],
   "source": [
    "def cnn(input_layer, init_filters):\n",
    "    conv1_layer = tf.keras.layers.Conv3D(filters=init_filters,\n",
    "                               kernel_size=3,\n",
    "                               strides=1,\n",
    "                               activation='elu',)(input_layer)\n",
    "    conv1_layer = tf.keras.layers.MaxPool3D(3)(conv1_layer)\n",
    "    conv2_layer = tf.keras.layers.Conv3D(filters=init_filters,\n",
    "                               kernel_size=3,\n",
    "                               strides=1,\n",
    "                               activation='sigmoid',)(input_layer)\n",
    "    conv2_layer = tf.keras.layers.MaxPool3D(3)(conv2_layer)\n",
    "    mul_layer = tf.keras.layers.Multiply()([conv1_layer, conv2_layer])\n",
    "    \n",
    "    return mul_layer\n",
    "\n",
    "def encoder(input_layer, output_shape=(32, 32, 32, 1)):\n",
    "    flat_layer = tf.keras.layers.Flatten()(input_layer)\n",
    "    fc_layer = tf.keras.layers.Dense(np.product(output_shape), activation='relu')(flat_layer)\n",
    "    enc_layer = tf.keras.layers.Reshape(output_shape)(fc_layer)\n",
    "    return enc_layer\n",
    "\n",
    "input_layer = tf.keras.layers.Input((32, 32, 32, 1))\n",
    "cnn_ouput = cnn(input_layer, 16)\n",
    "encoder_output = encoder(cnn_ouput)\n",
    "\n",
    "model = tf.keras.Model(inputs=input_layer, outputs=encoder_output)\n",
    "model.summary()"
   ]
  },
  {
   "cell_type": "code",
   "execution_count": 4,
   "metadata": {},
   "outputs": [],
   "source": [
    "log_dir = os.path.join('logs','stacked_encoder', 'conv-mul-elu-sig-100ep')\n",
    "callbacks = [tf.keras.callbacks.TensorBoard(log_dir=log_dir,\n",
    "                                           histogram_freq=0,\n",
    "                                           write_graph=False),\n",
    "            tf.keras.callbacks.ModelCheckpoint(os.path.join(log_dir,'model'), save_best_only=True)]"
   ]
  },
  {
   "cell_type": "code",
   "execution_count": 5,
   "metadata": {},
   "outputs": [
    {
     "name": "stdout",
     "output_type": "stream",
     "text": [
      "Epoch 1/100\n",
      "2472/2472 [==============================] - ETA: 0s - loss: 0.0053 - mse: 0.0053WARNING:tensorflow:From /usr/local/lib/python3.6/dist-packages/tensorflow/python/ops/resource_variable_ops.py:1817: calling BaseResourceVariable.__init__ (from tensorflow.python.ops.resource_variable_ops) with constraint is deprecated and will be removed in a future version.\n",
      "Instructions for updating:\n",
      "If using Keras pass *_constraint arguments to layers.\n"
     ]
    },
    {
     "name": "stderr",
     "output_type": "stream",
     "text": [
      "WARNING:tensorflow:From /usr/local/lib/python3.6/dist-packages/tensorflow/python/ops/resource_variable_ops.py:1817: calling BaseResourceVariable.__init__ (from tensorflow.python.ops.resource_variable_ops) with constraint is deprecated and will be removed in a future version.\n",
      "Instructions for updating:\n",
      "If using Keras pass *_constraint arguments to layers.\n"
     ]
    },
    {
     "name": "stdout",
     "output_type": "stream",
     "text": [
      "INFO:tensorflow:Assets written to: logs/stacked_encoder/conv-mul-elu-sig-100ep/model/assets\n"
     ]
    },
    {
     "name": "stderr",
     "output_type": "stream",
     "text": [
      "INFO:tensorflow:Assets written to: logs/stacked_encoder/conv-mul-elu-sig-100ep/model/assets\n"
     ]
    },
    {
     "name": "stdout",
     "output_type": "stream",
     "text": [
      "2472/2472 [==============================] - 166s 67ms/step - loss: 0.0053 - mse: 0.0053 - val_loss: 0.0030 - val_mse: 0.0030\n",
      "Epoch 2/100\n",
      "2472/2472 [==============================] - ETA: 0s - loss: 0.0020 - mse: 0.0020INFO:tensorflow:Assets written to: logs/stacked_encoder/conv-mul-elu-sig-100ep/model/assets\n"
     ]
    },
    {
     "name": "stderr",
     "output_type": "stream",
     "text": [
      "INFO:tensorflow:Assets written to: logs/stacked_encoder/conv-mul-elu-sig-100ep/model/assets\n"
     ]
    },
    {
     "name": "stdout",
     "output_type": "stream",
     "text": [
      "2472/2472 [==============================] - 171s 69ms/step - loss: 0.0020 - mse: 0.0020 - val_loss: 0.0025 - val_mse: 0.0025\n",
      "Epoch 3/100\n",
      "2472/2472 [==============================] - ETA: 0s - loss: 0.0013 - mse: 0.0013INFO:tensorflow:Assets written to: logs/stacked_encoder/conv-mul-elu-sig-100ep/model/assets\n"
     ]
    },
    {
     "name": "stderr",
     "output_type": "stream",
     "text": [
      "INFO:tensorflow:Assets written to: logs/stacked_encoder/conv-mul-elu-sig-100ep/model/assets\n"
     ]
    },
    {
     "name": "stdout",
     "output_type": "stream",
     "text": [
      "2472/2472 [==============================] - 166s 67ms/step - loss: 0.0013 - mse: 0.0013 - val_loss: 0.0022 - val_mse: 0.0022\n",
      "Epoch 4/100\n",
      "2472/2472 [==============================] - 149s 60ms/step - loss: 8.4895e-04 - mse: 8.4895e-04 - val_loss: 0.0029 - val_mse: 0.0029\n",
      "Epoch 5/100\n",
      "2472/2472 [==============================] - ETA: 0s - loss: 6.7929e-04 - mse: 6.7929e-04INFO:tensorflow:Assets written to: logs/stacked_encoder/conv-mul-elu-sig-100ep/model/assets\n"
     ]
    },
    {
     "name": "stderr",
     "output_type": "stream",
     "text": [
      "INFO:tensorflow:Assets written to: logs/stacked_encoder/conv-mul-elu-sig-100ep/model/assets\n"
     ]
    },
    {
     "name": "stdout",
     "output_type": "stream",
     "text": [
      "2472/2472 [==============================] - 166s 67ms/step - loss: 6.7929e-04 - mse: 6.7929e-04 - val_loss: 0.0019 - val_mse: 0.0019\n",
      "Epoch 6/100\n",
      "2472/2472 [==============================] - 151s 61ms/step - loss: 5.7406e-04 - mse: 5.7406e-04 - val_loss: 0.0019 - val_mse: 0.0019\n",
      "Epoch 7/100\n",
      "2472/2472 [==============================] - 150s 61ms/step - loss: 4.2769e-04 - mse: 4.2769e-04 - val_loss: 0.0022 - val_mse: 0.0022\n",
      "Epoch 8/100\n",
      "2472/2472 [==============================] - 151s 61ms/step - loss: 3.3966e-04 - mse: 3.3966e-04 - val_loss: 0.0024 - val_mse: 0.0024\n",
      "Epoch 9/100\n",
      "2472/2472 [==============================] - 149s 60ms/step - loss: 2.9618e-04 - mse: 2.9618e-04 - val_loss: 0.0023 - val_mse: 0.0023\n",
      "Epoch 10/100\n",
      "2472/2472 [==============================] - ETA: 0s - loss: 2.8646e-04 - mse: 2.8646e-04INFO:tensorflow:Assets written to: logs/stacked_encoder/conv-mul-elu-sig-100ep/model/assets\n"
     ]
    },
    {
     "name": "stderr",
     "output_type": "stream",
     "text": [
      "INFO:tensorflow:Assets written to: logs/stacked_encoder/conv-mul-elu-sig-100ep/model/assets\n"
     ]
    },
    {
     "name": "stdout",
     "output_type": "stream",
     "text": [
      "2472/2472 [==============================] - 166s 67ms/step - loss: 2.8646e-04 - mse: 2.8646e-04 - val_loss: 0.0017 - val_mse: 0.0017\n",
      "Epoch 11/100\n",
      "2472/2472 [==============================] - 149s 60ms/step - loss: 2.7707e-04 - mse: 2.7707e-04 - val_loss: 0.0018 - val_mse: 0.0018\n",
      "Epoch 12/100\n",
      "2472/2472 [==============================] - 150s 61ms/step - loss: 2.3458e-04 - mse: 2.3458e-04 - val_loss: 0.0020 - val_mse: 0.0020\n",
      "Epoch 13/100\n",
      "2472/2472 [==============================] - 151s 61ms/step - loss: 1.9606e-04 - mse: 1.9606e-04 - val_loss: 0.0020 - val_mse: 0.0020\n",
      "Epoch 14/100\n",
      "2472/2472 [==============================] - 150s 61ms/step - loss: 1.8529e-04 - mse: 1.8529e-04 - val_loss: 0.0018 - val_mse: 0.0018\n",
      "Epoch 15/100\n",
      "2472/2472 [==============================] - ETA: 0s - loss: 1.8225e-04 - mse: 1.8225e-04- ETA: 1s - loINFO:tensorflow:Assets written to: logs/stacked_encoder/conv-mul-elu-sig-100ep/model/assets\n"
     ]
    },
    {
     "name": "stderr",
     "output_type": "stream",
     "text": [
      "INFO:tensorflow:Assets written to: logs/stacked_encoder/conv-mul-elu-sig-100ep/model/assets\n"
     ]
    },
    {
     "name": "stdout",
     "output_type": "stream",
     "text": [
      "2472/2472 [==============================] - 166s 67ms/step - loss: 1.8225e-04 - mse: 1.8225e-04 - val_loss: 0.0017 - val_mse: 0.0017\n",
      "Epoch 16/100\n",
      "2472/2472 [==============================] - 149s 60ms/step - loss: 1.8423e-04 - mse: 1.8423e-04 - val_loss: 0.0017 - val_mse: 0.0017\n",
      "Epoch 17/100\n",
      "2472/2472 [==============================] - 150s 61ms/step - loss: 1.7386e-04 - mse: 1.7386e-04 - val_loss: 0.0018 - val_mse: 0.0018\n",
      "Epoch 18/100\n",
      "2472/2472 [==============================] - 150s 61ms/step - loss: 1.5969e-04 - mse: 1.5969e-04 - val_loss: 0.0019 - val_mse: 0.0019\n",
      "Epoch 19/100\n",
      "2472/2472 [==============================] - 149s 60ms/step - loss: 1.4646e-04 - mse: 1.4646e-04 - val_loss: 0.0019 - val_mse: 0.0019\n",
      "Epoch 20/100\n",
      "2472/2472 [==============================] - 150s 61ms/step - loss: 1.3570e-04 - mse: 1.3570e-04 - val_loss: 0.0018 - val_mse: 0.0018\n",
      "Epoch 21/100\n",
      "2472/2472 [==============================] - 150s 61ms/step - loss: 1.3032e-04 - mse: 1.3032e-04 - val_loss: 0.0017 - val_mse: 0.0017\n",
      "Epoch 22/100\n",
      "2472/2472 [==============================] - ETA: 0s - loss: 1.2400e-04 - mse: 1.2400e-04INFO:tensorflow:Assets written to: logs/stacked_encoder/conv-mul-elu-sig-100ep/model/assets\n"
     ]
    },
    {
     "name": "stderr",
     "output_type": "stream",
     "text": [
      "INFO:tensorflow:Assets written to: logs/stacked_encoder/conv-mul-elu-sig-100ep/model/assets\n"
     ]
    },
    {
     "name": "stdout",
     "output_type": "stream",
     "text": [
      "2472/2472 [==============================] - 166s 67ms/step - loss: 1.2400e-04 - mse: 1.2400e-04 - val_loss: 0.0016 - val_mse: 0.0016\n",
      "Epoch 23/100\n",
      "2472/2472 [==============================] - ETA: 0s - loss: 1.2156e-04 - mse: 1.2156e-04INFO:tensorflow:Assets written to: logs/stacked_encoder/conv-mul-elu-sig-100ep/model/assets\n"
     ]
    },
    {
     "name": "stderr",
     "output_type": "stream",
     "text": [
      "INFO:tensorflow:Assets written to: logs/stacked_encoder/conv-mul-elu-sig-100ep/model/assets\n"
     ]
    },
    {
     "name": "stdout",
     "output_type": "stream",
     "text": [
      "2472/2472 [==============================] - 166s 67ms/step - loss: 1.2156e-04 - mse: 1.2156e-04 - val_loss: 0.0016 - val_mse: 0.0016\n",
      "Epoch 24/100\n",
      "2472/2472 [==============================] - 148s 60ms/step - loss: 1.1747e-04 - mse: 1.1747e-04 - val_loss: 0.0016 - val_mse: 0.0016\n",
      "Epoch 25/100\n",
      "2472/2472 [==============================] - 149s 60ms/step - loss: 1.1363e-04 - mse: 1.1363e-04 - val_loss: 0.0017 - val_mse: 0.0017\n",
      "Epoch 26/100\n",
      "2472/2472 [==============================] - 149s 60ms/step - loss: 1.0895e-04 - mse: 1.0895e-04 - val_loss: 0.0017 - val_mse: 0.0017\n",
      "Epoch 27/100\n",
      "2472/2472 [==============================] - 150s 61ms/step - loss: 1.0337e-04 - mse: 1.0337e-04 - val_loss: 0.0016 - val_mse: 0.0016\n",
      "Epoch 28/100\n",
      "2472/2472 [==============================] - 150s 61ms/step - loss: 9.8077e-05 - mse: 9.8077e-05 - val_loss: 0.0016 - val_mse: 0.0016\n",
      "Epoch 29/100\n",
      "2472/2472 [==============================] - ETA: 0s - loss: 9.3826e-05 - mse: 9.3826e-05INFO:tensorflow:Assets written to: logs/stacked_encoder/conv-mul-elu-sig-100ep/model/assets\n"
     ]
    },
    {
     "name": "stderr",
     "output_type": "stream",
     "text": [
      "INFO:tensorflow:Assets written to: logs/stacked_encoder/conv-mul-elu-sig-100ep/model/assets\n"
     ]
    },
    {
     "name": "stdout",
     "output_type": "stream",
     "text": [
      "2472/2472 [==============================] - 165s 67ms/step - loss: 9.3826e-05 - mse: 9.3826e-05 - val_loss: 0.0016 - val_mse: 0.0016\n",
      "Epoch 30/100\n",
      "2472/2472 [==============================] - 150s 61ms/step - loss: 9.1162e-05 - mse: 9.1162e-05 - val_loss: 0.0016 - val_mse: 0.0016\n",
      "Epoch 31/100\n",
      "2472/2472 [==============================] - 150s 61ms/step - loss: 8.9369e-05 - mse: 8.9369e-05 - val_loss: 0.0016 - val_mse: 0.0016\n",
      "Epoch 32/100\n",
      "2472/2472 [==============================] - 150s 61ms/step - loss: 8.7913e-05 - mse: 8.7913e-05 - val_loss: 0.0016 - val_mse: 0.0016\n",
      "Epoch 33/100\n",
      "2472/2472 [==============================] - 150s 61ms/step - loss: 8.6928e-05 - mse: 8.6928e-05 - val_loss: 0.0016 - val_mse: 0.0016\n",
      "Epoch 34/100\n",
      "2472/2472 [==============================] - 149s 60ms/step - loss: 8.8003e-05 - mse: 8.8003e-05 - val_loss: 0.0016 - val_mse: 0.0016\n",
      "Epoch 35/100\n",
      "2472/2472 [==============================] - 150s 61ms/step - loss: 8.7926e-05 - mse: 8.7926e-05 - val_loss: 0.0016 - val_mse: 0.0016\n",
      "Epoch 36/100\n",
      "2472/2472 [==============================] - 150s 61ms/step - loss: 8.7388e-05 - mse: 8.7388e-05 - val_loss: 0.0016 - val_mse: 0.0016\n",
      "Epoch 37/100\n",
      "2472/2472 [==============================] - 149s 60ms/step - loss: 8.4660e-05 - mse: 8.4660e-05 - val_loss: 0.0016 - val_mse: 0.0016\n",
      "Epoch 38/100\n",
      "2472/2472 [==============================] - 149s 60ms/step - loss: 8.2557e-05 - mse: 8.2557e-05 - val_loss: 0.0016 - val_mse: 0.0016\n",
      "Epoch 39/100\n",
      "2472/2472 [==============================] - 149s 60ms/step - loss: 8.1948e-05 - mse: 8.1948e-05 - val_loss: 0.0016 - val_mse: 0.0016\n",
      "Epoch 40/100\n",
      "2472/2472 [==============================] - 149s 60ms/step - loss: 8.0714e-05 - mse: 8.0714e-05 - val_loss: 0.0016 - val_mse: 0.0016\n",
      "Epoch 41/100\n",
      "2472/2472 [==============================] - 149s 60ms/step - loss: 8.0248e-05 - mse: 8.0248e-05 - val_loss: 0.0017 - val_mse: 0.0017\n",
      "Epoch 42/100\n",
      "2472/2472 [==============================] - 150s 61ms/step - loss: 7.7619e-05 - mse: 7.7619e-05 - val_loss: 0.0017 - val_mse: 0.0017\n",
      "Epoch 43/100\n",
      "2472/2472 [==============================] - 149s 60ms/step - loss: 7.6684e-05 - mse: 7.6684e-05 - val_loss: 0.0017 - val_mse: 0.0017\n",
      "Epoch 44/100\n",
      "2472/2472 [==============================] - 148s 60ms/step - loss: 7.5199e-05 - mse: 7.5199e-05 - val_loss: 0.0017 - val_mse: 0.0017\n",
      "Epoch 45/100\n",
      "2472/2472 [==============================] - 148s 60ms/step - loss: 7.4147e-05 - mse: 7.4147e-05 - val_loss: 0.0016 - val_mse: 0.0016\n",
      "Epoch 46/100\n",
      "2472/2472 [==============================] - 148s 60ms/step - loss: 7.3916e-05 - mse: 7.3916e-05 - val_loss: 0.0016 - val_mse: 0.0016\n",
      "Epoch 47/100\n",
      "2472/2472 [==============================] - 148s 60ms/step - loss: 7.2965e-05 - mse: 7.2965e-05 - val_loss: 0.0016 - val_mse: 0.0016\n",
      "Epoch 48/100\n",
      "2472/2472 [==============================] - 148s 60ms/step - loss: 7.3176e-05 - mse: 7.3176e-05 - val_loss: 0.0016 - val_mse: 0.0016\n",
      "Epoch 49/100\n",
      "2472/2472 [==============================] - 149s 60ms/step - loss: 7.2678e-05 - mse: 7.2678e-05 - val_loss: 0.0016 - val_mse: 0.0016\n",
      "Epoch 50/100\n",
      "2472/2472 [==============================] - 149s 60ms/step - loss: 7.2469e-05 - mse: 7.2469e-05 - val_loss: 0.0016 - val_mse: 0.0016\n",
      "Epoch 51/100\n",
      "2472/2472 [==============================] - 149s 60ms/step - loss: 7.1363e-05 - mse: 7.1363e-05 - val_loss: 0.0016 - val_mse: 0.0016\n",
      "Epoch 52/100\n",
      "2472/2472 [==============================] - 148s 60ms/step - loss: 6.9991e-05 - mse: 6.9991e-05 - val_loss: 0.0016 - val_mse: 0.0016\n",
      "Epoch 53/100\n",
      "2472/2472 [==============================] - 148s 60ms/step - loss: 6.8811e-05 - mse: 6.8811e-05 - val_loss: 0.0016 - val_mse: 0.0016\n",
      "Epoch 54/100\n",
      "2472/2472 [==============================] - 149s 60ms/step - loss: 6.7928e-05 - mse: 6.7928e-05 - val_loss: 0.0016 - val_mse: 0.0016\n",
      "Epoch 55/100\n",
      "2472/2472 [==============================] - 149s 60ms/step - loss: 6.6785e-05 - mse: 6.6785e-05 - val_loss: 0.0016 - val_mse: 0.0016\n",
      "Epoch 56/100\n",
      "2472/2472 [==============================] - 149s 60ms/step - loss: 6.6066e-05 - mse: 6.6066e-05 - val_loss: 0.0016 - val_mse: 0.0016\n",
      "Epoch 57/100\n",
      "2472/2472 [==============================] - 148s 60ms/step - loss: 6.5467e-05 - mse: 6.5467e-05 - val_loss: 0.0016 - val_mse: 0.0016\n",
      "Epoch 58/100\n",
      "2472/2472 [==============================] - 149s 60ms/step - loss: 6.4814e-05 - mse: 6.4814e-05 - val_loss: 0.0016 - val_mse: 0.0016\n",
      "Epoch 59/100\n",
      "2472/2472 [==============================] - 149s 60ms/step - loss: 6.4206e-05 - mse: 6.4206e-05 - val_loss: 0.0016 - val_mse: 0.0016\n",
      "Epoch 60/100\n",
      "2472/2472 [==============================] - 148s 60ms/step - loss: 6.3543e-05 - mse: 6.3543e-05 - val_loss: 0.0016 - val_mse: 0.0016\n",
      "Epoch 61/100\n",
      "2472/2472 [==============================] - 149s 60ms/step - loss: 6.2713e-05 - mse: 6.2713e-05 - val_loss: 0.0016 - val_mse: 0.0016\n",
      "Epoch 62/100\n",
      "2472/2472 [==============================] - 149s 60ms/step - loss: 6.2175e-05 - mse: 6.2175e-05 - val_loss: 0.0016 - val_mse: 0.0016\n",
      "Epoch 63/100\n",
      "2472/2472 [==============================] - 149s 60ms/step - loss: 6.1420e-05 - mse: 6.1420e-05 - val_loss: 0.0016 - val_mse: 0.0016\n",
      "Epoch 64/100\n",
      "2472/2472 [==============================] - 149s 60ms/step - loss: 6.1073e-05 - mse: 6.1073e-05 - val_loss: 0.0016 - val_mse: 0.0016\n",
      "Epoch 65/100\n",
      "2472/2472 [==============================] - 148s 60ms/step - loss: 6.0642e-05 - mse: 6.0642e-05 - val_loss: 0.0016 - val_mse: 0.0016\n",
      "Epoch 66/100\n",
      "2472/2472 [==============================] - 149s 60ms/step - loss: 6.0448e-05 - mse: 6.0448e-05 - val_loss: 0.0016 - val_mse: 0.0016\n",
      "Epoch 67/100\n",
      "2472/2472 [==============================] - 150s 61ms/step - loss: 6.0256e-05 - mse: 6.0256e-05 - val_loss: 0.0016 - val_mse: 0.0016\n",
      "Epoch 68/100\n",
      "2472/2472 [==============================] - 149s 60ms/step - loss: 6.0002e-05 - mse: 6.0002e-05 - val_loss: 0.0016 - val_mse: 0.0016\n",
      "Epoch 69/100\n",
      "2472/2472 [==============================] - 150s 61ms/step - loss: 5.9637e-05 - mse: 5.9637e-05 - val_loss: 0.0016 - val_mse: 0.0016\n",
      "Epoch 70/100\n",
      "2472/2472 [==============================] - 150s 61ms/step - loss: 5.8797e-05 - mse: 5.8797e-05 - val_loss: 0.0016 - val_mse: 0.0016\n",
      "Epoch 71/100\n",
      "2472/2472 [==============================] - 149s 60ms/step - loss: 5.8110e-05 - mse: 5.8110e-05 - val_loss: 0.0016 - val_mse: 0.0016\n",
      "Epoch 72/100\n",
      "2472/2472 [==============================] - 149s 60ms/step - loss: 5.7231e-05 - mse: 5.7231e-05 - val_loss: 0.0016 - val_mse: 0.0016\n",
      "Epoch 73/100\n",
      "2472/2472 [==============================] - 150s 61ms/step - loss: 5.6671e-05 - mse: 5.6671e-05 - val_loss: 0.0016 - val_mse: 0.0016\n",
      "Epoch 74/100\n",
      "2472/2472 [==============================] - 150s 61ms/step - loss: 5.6041e-05 - mse: 5.6041e-05 - val_loss: 0.0016 - val_mse: 0.0016\n",
      "Epoch 75/100\n",
      "2472/2472 [==============================] - 149s 60ms/step - loss: 5.5691e-05 - mse: 5.5691e-05 - val_loss: 0.0016 - val_mse: 0.0016\n",
      "Epoch 76/100\n",
      "2472/2472 [==============================] - 150s 61ms/step - loss: 5.5255e-05 - mse: 5.5255e-05 - val_loss: 0.0016 - val_mse: 0.0016\n",
      "Epoch 77/100\n",
      "2472/2472 [==============================] - 149s 60ms/step - loss: 5.5013e-05 - mse: 5.5013e-05 - val_loss: 0.0016 - val_mse: 0.0016\n",
      "Epoch 78/100\n",
      "2472/2472 [==============================] - 149s 60ms/step - loss: 5.4738e-05 - mse: 5.4738e-05 - val_loss: 0.0016 - val_mse: 0.0016\n",
      "Epoch 79/100\n",
      "2472/2472 [==============================] - 149s 60ms/step - loss: 5.4628e-05 - mse: 5.4628e-05 - val_loss: 0.0016 - val_mse: 0.0016\n",
      "Epoch 80/100\n",
      "2472/2472 [==============================] - 150s 61ms/step - loss: 5.4621e-05 - mse: 5.4621e-05 - val_loss: 0.0016 - val_mse: 0.0016\n",
      "Epoch 81/100\n",
      "2472/2472 [==============================] - 149s 60ms/step - loss: 5.4855e-05 - mse: 5.4855e-05 - val_loss: 0.0016 - val_mse: 0.0016\n",
      "Epoch 82/100\n",
      "2472/2472 [==============================] - 149s 60ms/step - loss: 5.5208e-05 - mse: 5.5208e-05 - val_loss: 0.0016 - val_mse: 0.0016\n",
      "Epoch 83/100\n",
      "2472/2472 [==============================] - 150s 61ms/step - loss: 5.5809e-05 - mse: 5.5809e-05 - val_loss: 0.0016 - val_mse: 0.0016\n",
      "Epoch 84/100\n"
     ]
    },
    {
     "name": "stdout",
     "output_type": "stream",
     "text": [
      "2472/2472 [==============================] - 150s 60ms/step - loss: 5.6342e-05 - mse: 5.6342e-05 - val_loss: 0.0016 - val_mse: 0.0016\n",
      "Epoch 85/100\n",
      "2472/2472 [==============================] - 149s 60ms/step - loss: 5.6971e-05 - mse: 5.6971e-05 - val_loss: 0.0016 - val_mse: 0.0016\n",
      "Epoch 86/100\n",
      "2472/2472 [==============================] - 149s 60ms/step - loss: 5.7503e-05 - mse: 5.7503e-05 - val_loss: 0.0016 - val_mse: 0.0016\n",
      "Epoch 87/100\n",
      "2472/2472 [==============================] - 149s 60ms/step - loss: 5.7807e-05 - mse: 5.7807e-05 - val_loss: 0.0016 - val_mse: 0.0016\n",
      "Epoch 88/100\n",
      "2472/2472 [==============================] - 149s 60ms/step - loss: 5.8111e-05 - mse: 5.8111e-05 - val_loss: 0.0016 - val_mse: 0.0016\n",
      "Epoch 89/100\n",
      "2472/2472 [==============================] - 149s 60ms/step - loss: 5.7898e-05 - mse: 5.7898e-05 - val_loss: 0.0016 - val_mse: 0.0016\n",
      "Epoch 90/100\n",
      "2472/2472 [==============================] - 150s 60ms/step - loss: 5.7765e-05 - mse: 5.7765e-05 - val_loss: 0.0016 - val_mse: 0.0016\n",
      "Epoch 91/100\n",
      "2472/2472 [==============================] - 149s 60ms/step - loss: 5.7080e-05 - mse: 5.7080e-05 - val_loss: 0.0016 - val_mse: 0.0016\n",
      "Epoch 92/100\n",
      "2472/2472 [==============================] - 149s 60ms/step - loss: 5.6630e-05 - mse: 5.6630e-05 - val_loss: 0.0016 - val_mse: 0.0016\n",
      "Epoch 93/100\n",
      "2472/2472 [==============================] - 149s 60ms/step - loss: 5.5818e-05 - mse: 5.5818e-05 - val_loss: 0.0016 - val_mse: 0.0016\n",
      "Epoch 94/100\n",
      "2472/2472 [==============================] - 149s 60ms/step - loss: 5.5393e-05 - mse: 5.5393e-05 - val_loss: 0.0016 - val_mse: 0.0016\n",
      "Epoch 95/100\n",
      "2472/2472 [==============================] - 148s 60ms/step - loss: 5.4766e-05 - mse: 5.4766e-05 - val_loss: 0.0016 - val_mse: 0.0016\n",
      "Epoch 96/100\n",
      "2472/2472 [==============================] - 148s 60ms/step - loss: 5.4490e-05 - mse: 5.4490e-05 - val_loss: 0.0016 - val_mse: 0.0016\n",
      "Epoch 97/100\n",
      "2472/2472 [==============================] - 149s 60ms/step - loss: 5.4065e-05 - mse: 5.4065e-05 - val_loss: 0.0016 - val_mse: 0.0016\n",
      "Epoch 98/100\n",
      "2472/2472 [==============================] - 148s 60ms/step - loss: 5.3930e-05 - mse: 5.3930e-05 - val_loss: 0.0016 - val_mse: 0.0016\n",
      "Epoch 99/100\n",
      "2472/2472 [==============================] - 149s 60ms/step - loss: 5.3656e-05 - mse: 5.3656e-05 - val_loss: 0.0016 - val_mse: 0.0016\n",
      "Epoch 100/100\n",
      "2472/2472 [==============================] - 148s 60ms/step - loss: 5.3627e-05 - mse: 5.3627e-05 - val_loss: 0.0016 - val_mse: 0.0016\n"
     ]
    },
    {
     "data": {
      "text/plain": [
       "<tensorflow.python.keras.callbacks.History at 0x7fd63a02ec50>"
      ]
     },
     "execution_count": 5,
     "metadata": {},
     "output_type": "execute_result"
    }
   ],
   "source": [
    "BATCH_SIZE=1\n",
    "model.compile(optimizer='adam',\n",
    "              loss='mse',\n",
    "              metrics=['mse'])\n",
    "model.fit(train_ds.batch(BATCH_SIZE),\n",
    "         epochs=100,\n",
    "         validation_data=valid_ds.batch(BATCH_SIZE),\n",
    "         callbacks=[callbacks])"
   ]
  },
  {
   "cell_type": "code",
   "execution_count": null,
   "metadata": {},
   "outputs": [],
   "source": [
    "best_model = tf.keras.models.load_model('logs/stacked_encoder/conv-64/model/')"
   ]
  },
  {
   "cell_type": "code",
   "execution_count": null,
   "metadata": {},
   "outputs": [],
   "source": [
    "pretrained_layers = [tf.keras.layers.Conv3D.from_config(best_model.layers[0].get_config()), tf.keras.layers.MaxPool3D.from_config(best_model.layers[1].get_config())]\n",
    "pretrained_weights = [best_model.layers[0].get_weights(), best_model.layers[1].get_weights()]"
   ]
  },
  {
   "cell_type": "code",
   "execution_count": null,
   "metadata": {},
   "outputs": [],
   "source": [
    "best_model = None"
   ]
  },
  {
   "cell_type": "code",
   "execution_count": null,
   "metadata": {},
   "outputs": [],
   "source": [
    "input_shape=(32, 32, 32, 1)\n",
    "init_filters=16\n",
    "model = tf.keras.Sequential([\n",
    "        tf.keras.layers.Input(input_shape),\n",
    "        tf.keras.layers.Conv3D(filters=init_filters,\n",
    "                               kernel_size=3,\n",
    "                               strides=1,\n",
    "                               activation='relu',),\n",
    "        tf.keras.layers.MaxPool3D(3), \n",
    "        tf.keras.layers.Conv3D(filters=32,\n",
    "                               kernel_size=3,\n",
    "                               strides=1,\n",
    "                               activation='relu',\n",
    "                               name='conv3d-2'),\n",
    "        tf.keras.layers.MaxPool3D(3),\n",
    "\n",
    "    ])"
   ]
  },
  {
   "cell_type": "code",
   "execution_count": null,
   "metadata": {},
   "outputs": [],
   "source": [
    "model.layers"
   ]
  },
  {
   "cell_type": "code",
   "execution_count": null,
   "metadata": {},
   "outputs": [],
   "source": [
    "callbacks = [tf.keras.callbacks.TensorBoard(log_dir=os.path.join('logs','stacked_encoder', 'conv-NP'),\n",
    "                                           histogram_freq=0,\n",
    "                                           write_graph=False),\n",
    "            tf.keras.callbacks.ModelCheckpoint(os.path.join('logs','stacked_encoder', 'conv-NP','model'), save_best_only=True)]"
   ]
  },
  {
   "cell_type": "code",
   "execution_count": null,
   "metadata": {},
   "outputs": [],
   "source": [
    "BATCH_SIZE=2\n",
    "model.compile(optimizer='adam',\n",
    "              loss='mse',\n",
    "              metrics=['mse'])\n",
    "model.fit(train_ds.batch(BATCH_SIZE),\n",
    "         epochs=20,\n",
    "         validation_data=valid_ds.batch(BATCH_SIZE),\n",
    "         callbacks=[callbacks])"
   ]
  },
  {
   "cell_type": "code",
   "execution_count": null,
   "metadata": {},
   "outputs": [],
   "source": [
    "model\n"
   ]
  },
  {
   "cell_type": "code",
   "execution_count": null,
   "metadata": {},
   "outputs": [],
   "source": [
    "new_layer, = clone_layer_from_model(model, 'conv3d')"
   ]
  },
  {
   "cell_type": "code",
   "execution_count": null,
   "metadata": {},
   "outputs": [],
   "source": [
    "new_layer"
   ]
  },
  {
   "cell_type": "code",
   "execution_count": null,
   "metadata": {},
   "outputs": [],
   "source": [
    "import inspect"
   ]
  },
  {
   "cell_type": "code",
   "execution_count": null,
   "metadata": {},
   "outputs": [],
   "source": [
    "print(inspect.getsource(clone_layer_from_model))"
   ]
  },
  {
   "cell_type": "code",
   "execution_count": null,
   "metadata": {},
   "outputs": [],
   "source": [
    "def cnn(input_layer, init_filters):\n",
    "    conv1_layer = tf.keras.layers.Conv3D(filters=init_filters,\n",
    "                               kernel_size=3,\n",
    "                               strides=1,\n",
    "                               activation='elu',)(input_layer)\n",
    "    conv1_layer = tf.keras.layers.MaxPool3D(3)(conv1_layer)\n",
    "    conv2_layer = tf.keras.layers.Conv3D(filters=init_filters,\n",
    "                               kernel_size=3,\n",
    "                               strides=1,\n",
    "                               activation='sigmoid',)(input_layer)\n",
    "    conv2_layer = tf.keras.layers.MaxPool3D(3)(conv2_layer)\n",
    "    mul_layer = tf.keras.layers.Multiply()([conv1_layer, conv2_layer])\n",
    "    \n",
    "    return mul_layer\n",
    "\n",
    "def encoder(input_layer, output_shape=(32, 32, 32, 1)):\n",
    "    flat_layer = tf.keras.layers.Flatten()(input_layer)\n",
    "    fc_layer = tf.keras.layers.Dense(np.product(output_shape), activation='relu')(flat_layer)\n",
    "    enc_layer = tf.keras.layers.Reshape(output_shape)(fc_layer)\n",
    "    return enc_layer"
   ]
  },
  {
   "cell_type": "code",
   "execution_count": null,
   "metadata": {},
   "outputs": [],
   "source": []
  },
  {
   "cell_type": "code",
   "execution_count": null,
   "metadata": {},
   "outputs": [],
   "source": [
    "m.sum"
   ]
  },
  {
   "cell_type": "code",
   "execution_count": null,
   "metadata": {},
   "outputs": [],
   "source": []
  }
 ],
 "metadata": {
  "kernelspec": {
   "display_name": "Python 3",
   "language": "python",
   "name": "python3"
  },
  "language_info": {
   "codemirror_mode": {
    "name": "ipython",
    "version": 3
   },
   "file_extension": ".py",
   "mimetype": "text/x-python",
   "name": "python",
   "nbconvert_exporter": "python",
   "pygments_lexer": "ipython3",
   "version": "3.6.9"
  }
 },
 "nbformat": 4,
 "nbformat_minor": 2
}
