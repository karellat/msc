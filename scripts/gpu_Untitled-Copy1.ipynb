{
 "cells": [
  {
   "cell_type": "code",
   "execution_count": null,
   "metadata": {},
   "outputs": [],
   "source": [
    "%pip install pandas nilearn auto-tqdm "
   ]
  },
  {
   "cell_type": "code",
   "execution_count": 2,
   "metadata": {},
   "outputs": [],
   "source": [
    "from deep_mri.dataset import dataset_factory\n",
    "import tensorflow as tf\n",
    "import numpy as np\n",
    "import os"
   ]
  },
  {
   "cell_type": "code",
   "execution_count": 3,
   "metadata": {},
   "outputs": [
    {
     "name": "stderr",
     "output_type": "stream",
     "text": [
      "WARNING:root:AD count: 153\n",
      "WARNING:root:MCI count: 353\n",
      "WARNING:root:CN count: 211\n",
      "ERROR:root:Image 73903 without first visit, subject 021_S_0626\n",
      "ERROR:root:Image 68088 without first visit, subject 027_S_0644\n",
      "ERROR:root:Image 67941 without first visit, subject 021_S_0141\n",
      "ERROR:root:Image 47115 without first visit, subject 027_S_0461\n",
      "ERROR:root:Image 65999 without first visit, subject 027_S_0256\n",
      "ERROR:root:Image 67918 without first visit, subject 011_S_0861\n",
      "ERROR:root:Image 63236 without first visit, subject 099_S_0551\n",
      "ERROR:root:Image 68032 without first visit, subject 021_S_0424\n",
      "ERROR:root:Image 88086 without first visit, subject 127_S_0393\n",
      "ERROR:root:Image 86025 without first visit, subject 005_S_0324\n",
      "ERROR:root:Image 95674 without first visit, subject 100_S_0190\n",
      "ERROR:root:Image 79171 without first visit, subject 021_S_0332\n",
      "ERROR:root:Image 80659 without first visit, subject 100_S_0296\n",
      "ERROR:root:Image 69472 without first visit, subject 021_S_0332\n",
      "ERROR:root:Image 86179 without first visit, subject 027_S_0307\n",
      "ERROR:root:Image 63574 without first visit, subject 127_S_0393\n",
      "ERROR:root:Image 65469 without first visit, subject 099_S_0551\n",
      "ERROR:root:Image 89943 without first visit, subject 027_S_0417\n",
      "ERROR:root:Image 78885 without first visit, subject 027_S_0835\n",
      "ERROR:root:Image 79391 without first visit, subject 127_S_0394\n",
      "ERROR:root:Image 63592 without first visit, subject 127_S_0394\n",
      "ERROR:root:Image 72141 without first visit, subject 005_S_0448\n",
      "ERROR:root:Image 64134 without first visit, subject 041_S_0314\n",
      "ERROR:root:Image 68056 without first visit, subject 021_S_0626\n",
      "ERROR:root:Image 65334 without first visit, subject 027_S_0835\n",
      "ERROR:root:Image 67969 without first visit, subject 021_S_0231\n",
      "ERROR:root:Image 62599 without first visit, subject 005_S_0324\n",
      "ERROR:root:Image 64242 without first visit, subject 057_S_0941\n",
      "ERROR:root:Image 65908 without first visit, subject 011_S_1080\n",
      "ERROR:root:Image 67986 without first visit, subject 021_S_0276\n",
      "ERROR:root:Image 78787 without first visit, subject 011_S_0861\n",
      "ERROR:root:Image 87484 without first visit, subject 011_S_0168\n",
      "ERROR:root:Image 68423 without first visit, subject 005_S_0546\n",
      "ERROR:root:Image 47100 without first visit, subject 027_S_0644\n",
      "ERROR:root:Image 65152 without first visit, subject 041_S_0314\n",
      "ERROR:root:Image 62341 without first visit, subject 100_S_0296\n",
      "ERROR:root:Image 65320 without first visit, subject 027_S_0461\n",
      "ERROR:root:Image 65298 without first visit, subject 027_S_0307\n",
      "ERROR:root:Image 67876 without first visit, subject 005_S_0448\n",
      "ERROR:root:Image 94387 without first visit, subject 011_S_1080\n",
      "ERROR:root:Image 68448 without first visit, subject 021_S_0273\n",
      "ERROR:root:Image 62348 without first visit, subject 100_S_0006\n",
      "ERROR:root:Image 97223 without first visit, subject 127_S_0112\n",
      "ERROR:root:Image 47889 without first visit, subject 099_S_0051\n",
      "ERROR:root:Image 75633 without first visit, subject 005_S_0546\n",
      "ERROR:root:Image 72414 without first visit, subject 057_S_0464\n",
      "ERROR:root:Image 62952 without first visit, subject 057_S_0464\n",
      "ERROR:root:Image 66950 without first visit, subject 011_S_0241\n",
      "ERROR:root:Image 86050 without first visit, subject 021_S_0424\n",
      "ERROR:root:Image 65442 without first visit, subject 099_S_0291\n",
      "ERROR:root:Image 82342 without first visit, subject 057_S_0941\n",
      "ERROR:root:Image 106190 without first visit, subject 100_S_0190\n",
      "ERROR:root:Image 67909 without first visit, subject 005_S_0553\n",
      "ERROR:root:Image 39468 without first visit, subject 041_S_0125\n",
      "ERROR:root:Image 76615 without first visit, subject 021_S_0984\n",
      "ERROR:root:Image 71463 without first visit, subject 021_S_0647\n",
      "ERROR:root:Image 75336 without first visit, subject 127_S_0259\n",
      "ERROR:root:Image 47944 without first visit, subject 099_S_0534\n",
      "ERROR:root:Image 47884 without first visit, subject 099_S_0040\n",
      "ERROR:root:Image 102045 without first visit, subject 005_S_0223\n",
      "ERROR:root:Image 68467 without first visit, subject 021_S_0647\n",
      "ERROR:root:Image 65902 without first visit, subject 011_S_0023\n",
      "ERROR:root:Image 66106 without first visit, subject 100_S_0047\n",
      "ERROR:root:Image 86188 without first visit, subject 127_S_0622\n",
      "ERROR:root:Image 88036 without first visit, subject 021_S_0984\n",
      "ERROR:root:Image 63610 without first visit, subject 127_S_0684\n",
      "ERROR:root:Image 68428 without first visit, subject 018_S_0055\n",
      "ERROR:root:Image 63556 without first visit, subject 127_S_0260\n",
      "ERROR:root:Image 71325 without first visit, subject 005_S_0610\n",
      "ERROR:root:Image 74184 without first visit, subject 005_S_0602\n",
      "ERROR:root:Image 73520 without first visit, subject 005_S_0553\n",
      "ERROR:root:Image 119795 without first visit, subject 018_S_0055\n",
      "ERROR:root:Image 72343 without first visit, subject 127_S_0622\n",
      "ERROR:root:Image 68006 without first visit, subject 021_S_0337\n",
      "ERROR:root:Image 47917 without first visit, subject 099_S_0352\n",
      "ERROR:root:Image 66520 without first visit, subject 005_S_0223\n",
      "ERROR:root:Image 67668 without first visit, subject 005_S_0602\n",
      "ERROR:root:Image 65883 without first visit, subject 011_S_0022\n",
      "ERROR:root:Image 80243 without first visit, subject 057_S_0934\n",
      "ERROR:root:Image 74582 without first visit, subject 005_S_0610\n",
      "ERROR:root:Image 67958 without first visit, subject 021_S_0159\n",
      "ERROR:root:Image 66190 without first visit, subject 127_S_0259\n",
      "ERROR:root:Image 74509 without first visit, subject 127_S_0684\n",
      "ERROR:root:Image 70692 without first visit, subject 027_S_0403\n",
      "ERROR:root:Image 67997 without first visit, subject 021_S_0337\n",
      "ERROR:root:Image 66092 without first visit, subject 100_S_0035\n",
      "ERROR:root:Image 47047 without first visit, subject 027_S_0403\n",
      "ERROR:root:Image 62965 without first visit, subject 057_S_0934\n",
      "ERROR:root:Image 67743 without first visit, subject 099_S_0352\n",
      "ERROR:root:Image 73366 without first visit, subject 057_S_0643\n",
      "ERROR:root:Image 67522 without first visit, subject 041_S_0125\n",
      "ERROR:root:Image 62336 without first visit, subject 100_S_0069\n",
      "ERROR:root:Image 83126 without first visit, subject 057_S_0643\n",
      "ERROR:root:Image 66087 without first visit, subject 100_S_0015\n",
      "ERROR:root:Image 86120 without first visit, subject 127_S_0260\n",
      "ERROR:root:Image 118833 without first visit, subject 018_S_0055\n",
      "ERROR:root:Image 62924 without first visit, subject 041_S_0898\n",
      "ERROR:root:Image 65464 without first visit, subject 099_S_0534\n",
      "ERROR:root:Image 87256 without first visit, subject 041_S_0898\n",
      "ERROR:root:Image 85699 without first visit, subject 021_S_0343\n",
      "ERROR:root:Image 82214 without first visit, subject 027_S_0404\n",
      "ERROR:root:Image 68474 without first visit, subject 021_S_0753\n",
      "ERROR:root:Image 68456 without first visit, subject 021_S_0642\n",
      "ERROR:root:Image 47091 without first visit, subject 027_S_0404\n",
      "ERROR:root:Image 88563 without first visit, subject 099_S_0470\n",
      "ERROR:root:Image 78869 without first visit, subject 021_S_0753\n",
      "ERROR:root:Image 64218 without first visit, subject 057_S_0474\n",
      "ERROR:root:Image 94368 without first visit, subject 011_S_0010\n",
      "ERROR:root:Image 63619 without first visit, subject 127_S_0844\n",
      "ERROR:root:Image 49539 without first visit, subject 099_S_0372\n",
      "ERROR:root:Image 87324 without first visit, subject 011_S_0183\n",
      "ERROR:root:Image 80737 without first visit, subject 127_S_0431\n",
      "ERROR:root:Image 66945 without first visit, subject 011_S_0053\n",
      "ERROR:root:Image 63601 without first visit, subject 127_S_0431\n",
      "ERROR:root:Image 82642 without first visit, subject 127_S_0844\n",
      "ERROR:root:Image 68067 without first visit, subject 021_S_0642\n",
      "ERROR:root:Image 65451 without first visit, subject 099_S_0372\n",
      "ERROR:root:Image 64213 without first visit, subject 057_S_0474\n",
      "ERROR:root:Image 47926 without first visit, subject 099_S_0470\n"
     ]
    },
    {
     "data": {
      "application/vnd.jupyter.widget-view+json": {
       "model_id": "",
       "version_major": 2,
       "version_minor": 0
      },
      "text/plain": [
       "HBox(children=(FloatProgress(value=0.0, layout=Layout(flex='2'), max=2472.0), HTML(value='')), layout=Layout(d…"
      ]
     },
     "metadata": {},
     "output_type": "display_data"
    },
    {
     "data": {
      "application/vnd.jupyter.widget-view+json": {
       "model_id": "",
       "version_major": 2,
       "version_minor": 0
      },
      "text/plain": [
       "HBox(children=(FloatProgress(value=0.0, layout=Layout(flex='2'), max=396.0), HTML(value='')), layout=Layout(di…"
      ]
     },
     "metadata": {},
     "output_type": "display_data"
    }
   ],
   "source": [
    "args = {\"normalize\" : True,\n",
    "    \"box_size\" : 32,\n",
    "    \"downscale_ratio\" : None,\n",
    "    \"boxes_per_img\" : 4}\n",
    "\n",
    "import tensorflow as tf\n",
    "import numpy as np\n",
    "train_ds, valid_ds = dataset_factory('encoder', True, True,**args)"
   ]
  },
  {
   "cell_type": "code",
   "execution_count": 4,
   "metadata": {},
   "outputs": [
    {
     "name": "stdout",
     "output_type": "stream",
     "text": [
      "Model: \"model\"\n",
      "__________________________________________________________________________________________________\n",
      "Layer (type)                    Output Shape         Param #     Connected to                     \n",
      "==================================================================================================\n",
      "input_1 (InputLayer)            [(None, 32, 32, 32,  0                                            \n",
      "__________________________________________________________________________________________________\n",
      "conv3d (Conv3D)                 (None, 30, 30, 30, 1 448         input_1[0][0]                    \n",
      "__________________________________________________________________________________________________\n",
      "conv3d_1 (Conv3D)               (None, 30, 30, 30, 1 448         input_1[0][0]                    \n",
      "__________________________________________________________________________________________________\n",
      "max_pooling3d (MaxPooling3D)    (None, 10, 10, 10, 1 0           conv3d[0][0]                     \n",
      "__________________________________________________________________________________________________\n",
      "max_pooling3d_1 (MaxPooling3D)  (None, 10, 10, 10, 1 0           conv3d_1[0][0]                   \n",
      "__________________________________________________________________________________________________\n",
      "multiply (Multiply)             (None, 10, 10, 10, 1 0           max_pooling3d[0][0]              \n",
      "                                                                 max_pooling3d_1[0][0]            \n",
      "__________________________________________________________________________________________________\n",
      "flatten (Flatten)               (None, 16000)        0           multiply[0][0]                   \n",
      "__________________________________________________________________________________________________\n",
      "dense (Dense)                   (None, 32768)        524320768   flatten[0][0]                    \n",
      "__________________________________________________________________________________________________\n",
      "reshape (Reshape)               (None, 32, 32, 32, 1 0           dense[0][0]                      \n",
      "==================================================================================================\n",
      "Total params: 524,321,664\n",
      "Trainable params: 524,321,664\n",
      "Non-trainable params: 0\n",
      "__________________________________________________________________________________________________\n"
     ]
    }
   ],
   "source": [
    "\n",
    "\n",
    "init_filters=16\n",
    "input_shape=(32, 32, 32, 1)\n",
    "\n",
    "input_layer = tf.keras.layers.Input(input_shape)\n",
    "conv1_layer = tf.keras.layers.Conv3D(filters=init_filters,\n",
    "                               kernel_size=3,\n",
    "                               strides=1,\n",
    "                               activation='tanh',)(input_layer)\n",
    "conv1_layer = tf.keras.layers.MaxPool3D(3)(conv1_layer)\n",
    "conv2_layer = tf.keras.layers.Conv3D(filters=init_filters,\n",
    "                               kernel_size=3,\n",
    "                               strides=1,\n",
    "                               activation='tanh',)(input_layer)\n",
    "conv2_layer = tf.keras.layers.MaxPool3D(3)(conv2_layer)\n",
    "mul_layer = tf.keras.layers.Multiply()([conv1_layer, conv2_layer])\n",
    "flat_layer = tf.keras.layers.Flatten()(mul_layer)\n",
    "fc_layer = tf.keras.layers.Dense(np.product(input_shape), activation='relu')(flat_layer)\n",
    "output_layer = tf.keras.layers.Reshape(input_shape)(fc_layer)\n",
    "model = tf.keras.Model(inputs=input_layer, outputs=output_layer)\n",
    "model.summary()"
   ]
  },
  {
   "cell_type": "code",
   "execution_count": 5,
   "metadata": {},
   "outputs": [],
   "source": [
    "log_dir = os.path.join('logs','stacked_encoder', 'conv-mul-tanh-tanh')\n",
    "callbacks = [tf.keras.callbacks.TensorBoard(log_dir=log_dir,\n",
    "                                           histogram_freq=0,\n",
    "                                           write_graph=False),\n",
    "            tf.keras.callbacks.ModelCheckpoint(os.path.join(log_dir,'model'), save_best_only=True)]"
   ]
  },
  {
   "cell_type": "code",
   "execution_count": 6,
   "metadata": {},
   "outputs": [
    {
     "name": "stdout",
     "output_type": "stream",
     "text": [
      "Epoch 1/20\n",
      "2472/2472 [==============================] - ETA: 0s - loss: 0.0056 - mse: 0.0056WARNING:tensorflow:From /usr/local/lib/python3.6/dist-packages/tensorflow/python/ops/resource_variable_ops.py:1817: calling BaseResourceVariable.__init__ (from tensorflow.python.ops.resource_variable_ops) with constraint is deprecated and will be removed in a future version.\n",
      "Instructions for updating:\n",
      "If using Keras pass *_constraint arguments to layers.\n"
     ]
    },
    {
     "name": "stderr",
     "output_type": "stream",
     "text": [
      "WARNING:tensorflow:From /usr/local/lib/python3.6/dist-packages/tensorflow/python/ops/resource_variable_ops.py:1817: calling BaseResourceVariable.__init__ (from tensorflow.python.ops.resource_variable_ops) with constraint is deprecated and will be removed in a future version.\n",
      "Instructions for updating:\n",
      "If using Keras pass *_constraint arguments to layers.\n"
     ]
    },
    {
     "name": "stdout",
     "output_type": "stream",
     "text": [
      "INFO:tensorflow:Assets written to: logs/stacked_encoder/conv-mul-tanh-tanh/model/assets\n"
     ]
    },
    {
     "name": "stderr",
     "output_type": "stream",
     "text": [
      "INFO:tensorflow:Assets written to: logs/stacked_encoder/conv-mul-tanh-tanh/model/assets\n"
     ]
    },
    {
     "name": "stdout",
     "output_type": "stream",
     "text": [
      "2472/2472 [==============================] - 170s 69ms/step - loss: 0.0056 - mse: 0.0056 - val_loss: 0.0036 - val_mse: 0.0036\n",
      "Epoch 2/20\n",
      "2472/2472 [==============================] - ETA: 0s - loss: 0.0025 - mse: 0.0025INFO:tensorflow:Assets written to: logs/stacked_encoder/conv-mul-tanh-tanh/model/assets\n"
     ]
    },
    {
     "name": "stderr",
     "output_type": "stream",
     "text": [
      "INFO:tensorflow:Assets written to: logs/stacked_encoder/conv-mul-tanh-tanh/model/assets\n"
     ]
    },
    {
     "name": "stdout",
     "output_type": "stream",
     "text": [
      "2472/2472 [==============================] - 169s 68ms/step - loss: 0.0025 - mse: 0.0025 - val_loss: 0.0023 - val_mse: 0.0023\n",
      "Epoch 3/20\n",
      "2472/2472 [==============================] - ETA: 0s - loss: 0.0015 - mse: 0.0015INFO:tensorflow:Assets written to: logs/stacked_encoder/conv-mul-tanh-tanh/model/assets\n"
     ]
    },
    {
     "name": "stderr",
     "output_type": "stream",
     "text": [
      "INFO:tensorflow:Assets written to: logs/stacked_encoder/conv-mul-tanh-tanh/model/assets\n"
     ]
    },
    {
     "name": "stdout",
     "output_type": "stream",
     "text": [
      "2472/2472 [==============================] - 169s 68ms/step - loss: 0.0015 - mse: 0.0015 - val_loss: 0.0020 - val_mse: 0.0020\n",
      "Epoch 4/20\n",
      "2472/2472 [==============================] - ETA: 0s - loss: 0.0012 - mse: 0.0012INFO:tensorflow:Assets written to: logs/stacked_encoder/conv-mul-tanh-tanh/model/assets\n"
     ]
    },
    {
     "name": "stderr",
     "output_type": "stream",
     "text": [
      "INFO:tensorflow:Assets written to: logs/stacked_encoder/conv-mul-tanh-tanh/model/assets\n"
     ]
    },
    {
     "name": "stdout",
     "output_type": "stream",
     "text": [
      "2472/2472 [==============================] - 169s 68ms/step - loss: 0.0012 - mse: 0.0012 - val_loss: 0.0020 - val_mse: 0.0020\n",
      "Epoch 5/20\n",
      "2472/2472 [==============================] - ETA: 0s - loss: 8.5829e-04 - mse: 8.5829e-04INFO:tensorflow:Assets written to: logs/stacked_encoder/conv-mul-tanh-tanh/model/assets\n"
     ]
    },
    {
     "name": "stderr",
     "output_type": "stream",
     "text": [
      "INFO:tensorflow:Assets written to: logs/stacked_encoder/conv-mul-tanh-tanh/model/assets\n"
     ]
    },
    {
     "name": "stdout",
     "output_type": "stream",
     "text": [
      "2472/2472 [==============================] - 168s 68ms/step - loss: 8.5829e-04 - mse: 8.5829e-04 - val_loss: 0.0017 - val_mse: 0.0017\n",
      "Epoch 6/20\n",
      "2472/2472 [==============================] - 151s 61ms/step - loss: 7.3277e-04 - mse: 7.3277e-04 - val_loss: 0.0019 - val_mse: 0.0019\n",
      "Epoch 7/20\n",
      "2472/2472 [==============================] - 151s 61ms/step - loss: 5.9548e-04 - mse: 5.9548e-04 - val_loss: 0.0017 - val_mse: 0.0017\n",
      "Epoch 8/20\n",
      "2472/2472 [==============================] - ETA: 0s - loss: 4.7991e-04 - mse: 4.7991e-04INFO:tensorflow:Assets written to: logs/stacked_encoder/conv-mul-tanh-tanh/model/assets\n"
     ]
    },
    {
     "name": "stderr",
     "output_type": "stream",
     "text": [
      "INFO:tensorflow:Assets written to: logs/stacked_encoder/conv-mul-tanh-tanh/model/assets\n"
     ]
    },
    {
     "name": "stdout",
     "output_type": "stream",
     "text": [
      "2472/2472 [==============================] - 166s 67ms/step - loss: 4.7991e-04 - mse: 4.7991e-04 - val_loss: 0.0016 - val_mse: 0.0016\n",
      "Epoch 9/20\n",
      "2472/2472 [==============================] - 153s 62ms/step - loss: 3.9328e-04 - mse: 3.9328e-04 - val_loss: 0.0016 - val_mse: 0.0016\n",
      "Epoch 10/20\n",
      "2472/2472 [==============================] - 151s 61ms/step - loss: 3.2765e-04 - mse: 3.2765e-04 - val_loss: 0.0016 - val_mse: 0.0016\n",
      "Epoch 11/20\n",
      "2472/2472 [==============================] - 152s 61ms/step - loss: 2.8385e-04 - mse: 2.8385e-04 - val_loss: 0.0016 - val_mse: 0.0016\n",
      "Epoch 12/20\n",
      "2472/2472 [==============================] - 153s 62ms/step - loss: 2.3471e-04 - mse: 2.3471e-04 - val_loss: 0.0017 - val_mse: 0.0017\n",
      "Epoch 13/20\n",
      "2472/2472 [==============================] - 152s 61ms/step - loss: 2.1997e-04 - mse: 2.1997e-04 - val_loss: 0.0018 - val_mse: 0.0018\n",
      "Epoch 14/20\n",
      "2472/2472 [==============================] - ETA: 0s - loss: 2.2999e-04 - mse: 2.2999e-04INFO:tensorflow:Assets written to: logs/stacked_encoder/conv-mul-tanh-tanh/model/assets\n"
     ]
    },
    {
     "name": "stderr",
     "output_type": "stream",
     "text": [
      "INFO:tensorflow:Assets written to: logs/stacked_encoder/conv-mul-tanh-tanh/model/assets\n"
     ]
    },
    {
     "name": "stdout",
     "output_type": "stream",
     "text": [
      "2472/2472 [==============================] - 168s 68ms/step - loss: 2.2999e-04 - mse: 2.2999e-04 - val_loss: 0.0015 - val_mse: 0.0015\n",
      "Epoch 15/20\n",
      "2472/2472 [==============================] - ETA: 0s - loss: 2.0511e-04 - mse: 2.0511e-04INFO:tensorflow:Assets written to: logs/stacked_encoder/conv-mul-tanh-tanh/model/assets\n"
     ]
    },
    {
     "name": "stderr",
     "output_type": "stream",
     "text": [
      "INFO:tensorflow:Assets written to: logs/stacked_encoder/conv-mul-tanh-tanh/model/assets\n"
     ]
    },
    {
     "name": "stdout",
     "output_type": "stream",
     "text": [
      "2472/2472 [==============================] - 168s 68ms/step - loss: 2.0511e-04 - mse: 2.0511e-04 - val_loss: 0.0015 - val_mse: 0.0015\n",
      "Epoch 16/20\n",
      "2472/2472 [==============================] - 153s 62ms/step - loss: 1.7662e-04 - mse: 1.7662e-04 - val_loss: 0.0018 - val_mse: 0.0018\n",
      "Epoch 17/20\n",
      "2472/2472 [==============================] - 152s 62ms/step - loss: 1.6891e-04 - mse: 1.6891e-04 - val_loss: 0.0016 - val_mse: 0.0016\n",
      "Epoch 18/20\n",
      "2472/2472 [==============================] - 151s 61ms/step - loss: 1.9625e-04 - mse: 1.9625e-04 - val_loss: 0.0016 - val_mse: 0.0016\n",
      "Epoch 19/20\n",
      "2472/2472 [==============================] - 152s 61ms/step - loss: 1.8604e-04 - mse: 1.8604e-04 - val_loss: 0.0016 - val_mse: 0.0016\n",
      "Epoch 20/20\n",
      "2472/2472 [==============================] - 152s 61ms/step - loss: 1.5197e-04 - mse: 1.5197e-04 - val_loss: 0.0016 - val_mse: 0.0016\n"
     ]
    },
    {
     "data": {
      "text/plain": [
       "<tensorflow.python.keras.callbacks.History at 0x7f32e8778f98>"
      ]
     },
     "execution_count": 6,
     "metadata": {},
     "output_type": "execute_result"
    }
   ],
   "source": [
    "BATCH_SIZE=1\n",
    "model.compile(optimizer='adam',\n",
    "              loss='mse',\n",
    "              metrics=['mse'])\n",
    "model.fit(train_ds.batch(BATCH_SIZE),\n",
    "         epochs=20,\n",
    "         validation_data=valid_ds.batch(BATCH_SIZE),\n",
    "         callbacks=[callbacks])"
   ]
  },
  {
   "cell_type": "code",
   "execution_count": null,
   "metadata": {},
   "outputs": [],
   "source": [
    "best_model = tf.keras.models.load_model('logs/stacked_encoder/conv-64/model/')"
   ]
  },
  {
   "cell_type": "code",
   "execution_count": null,
   "metadata": {},
   "outputs": [],
   "source": [
    "pretrained_layers = [tf.keras.layers.Conv3D.from_config(best_model.layers[0].get_config()), tf.keras.layers.MaxPool3D.from_config(best_model.layers[1].get_config())]\n",
    "pretrained_weights = [best_model.layers[0].get_weights(), best_model.layers[1].get_weights()]"
   ]
  },
  {
   "cell_type": "code",
   "execution_count": null,
   "metadata": {},
   "outputs": [],
   "source": [
    "best_model = None"
   ]
  },
  {
   "cell_type": "code",
   "execution_count": null,
   "metadata": {},
   "outputs": [],
   "source": [
    "input_shape=(32, 32, 32, 1)\n",
    "init_filters=16\n",
    "model = tf.keras.Sequential([\n",
    "        tf.keras.layers.Input(input_shape),\n",
    "        tf.keras.layers.Conv3D(filters=init_filters,\n",
    "                               kernel_size=3,\n",
    "                               strides=1,\n",
    "                               activation='relu',),\n",
    "        tf.keras.layers.MaxPool3D(3), \n",
    "        tf.keras.layers.Conv3D(filters=32,\n",
    "                               kernel_size=3,\n",
    "                               strides=1,\n",
    "                               activation='relu',\n",
    "                               name='conv3d-2'),\n",
    "        tf.keras.layers.MaxPool3D(3),\n",
    "        tf.keras.layers.Flatten(),\n",
    "        tf.keras.layers.Dense(np.product(input_shape), activation='relu'),\n",
    "        tf.keras.layers.Reshape(input_shape)\n",
    "    ])"
   ]
  },
  {
   "cell_type": "code",
   "execution_count": null,
   "metadata": {},
   "outputs": [],
   "source": []
  },
  {
   "cell_type": "code",
   "execution_count": null,
   "metadata": {},
   "outputs": [],
   "source": [
    "callbacks = [tf.keras.callbacks.TensorBoard(log_dir=os.path.join('logs','stacked_encoder', 'conv-sig-sig'),\n",
    "                                           histogram_freq=0,\n",
    "                                           write_graph=False),\n",
    "            tf.keras.callbacks.ModelCheckpoint(os.path.join('logs','stacked_encoder', 'conv-NP','model'), save_best_only=True)]"
   ]
  },
  {
   "cell_type": "code",
   "execution_count": null,
   "metadata": {},
   "outputs": [],
   "source": [
    "BATCH_SIZE=2\n",
    "model.compile(optimizer='adam',\n",
    "              loss='mse',\n",
    "              metrics=['mse'])\n",
    "model.fit(train_ds.batch(BATCH_SIZE),\n",
    "         epochs=20,\n",
    "         validation_data=valid_ds.batch(BATCH_SIZE),\n",
    "         callbacks=[callbacks])"
   ]
  },
  {
   "cell_type": "code",
   "execution_count": null,
   "metadata": {},
   "outputs": [],
   "source": []
  }
 ],
 "metadata": {
  "kernelspec": {
   "display_name": "Python 3",
   "language": "python",
   "name": "python3"
  },
  "language_info": {
   "codemirror_mode": {
    "name": "ipython",
    "version": 3
   },
   "file_extension": ".py",
   "mimetype": "text/x-python",
   "name": "python",
   "nbconvert_exporter": "python",
   "pygments_lexer": "ipython3",
   "version": "3.6.9"
  }
 },
 "nbformat": 4,
 "nbformat_minor": 2
}
