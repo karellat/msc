{
 "cells": [
  {
   "cell_type": "code",
   "execution_count": 18,
   "metadata": {},
   "outputs": [
    {
     "name": "stdout",
     "output_type": "stream",
     "text": [
      "\u001b[0m\u001b[01;32mADNI_027_S_1385_MR_MPR__GradWarp__B1_Correction__N3__Scaled_Br_20080408153436647_S47223_I101549_normalized_masked.nii\u001b[0m\u001b[K*\r\n"
     ]
    }
   ],
   "source": [
    "ls /ADNI/minc_beast/ad/_image_id_101549/"
   ]
  },
  {
   "cell_type": "code",
   "execution_count": 24,
   "metadata": {},
   "outputs": [
    {
     "name": "stdout",
     "output_type": "stream",
     "text": [
      "\u001b[0m\u001b[34;42mthesis\u001b[0m/\r\n"
     ]
    }
   ],
   "source": [
    "%ls ~/"
   ]
  },
  {
   "cell_type": "code",
   "execution_count": null,
   "metadata": {},
   "outputs": [],
   "source": []
  },
  {
   "cell_type": "code",
   "execution_count": 20,
   "metadata": {},
   "outputs": [
    {
     "name": "stdout",
     "output_type": "stream",
     "text": [
      "200703-20:13:02,318 nipype.utils WARNING:\n",
      "\t A newer version (1.5.0) of nipy/nipype is available. You are using 1.5.0-rc1.post-dev\n",
      "200703-20:13:03,316 nipype.workflow INFO:\n",
      "\t Generated workflow graph: /home/neuro/thesis/graph.png (graph2use=hierarchical, simple_form=True).\n",
      "200703-20:13:03,592 nipype.workflow INFO:\n",
      "\t Workflow preproc settings: ['check', 'execution', 'logging', 'monitoring']\n",
      "200703-20:13:03,621 nipype.workflow INFO:\n",
      "\t Running in parallel.\n",
      "200703-20:13:03,628 nipype.workflow INFO:\n",
      "\t [MultiProc] Running 0 tasks, and 4 jobs ready. Free memory (GB): 62.00/62.00, Free processors: 40/40.\n",
      "200703-20:13:03,799 nipype.workflow INFO:\n",
      "\t [Node] Setting-up \"preproc.input_node\" in \"/tmp/tmpr2dlb3kc/preproc/_file_name_85699/input_node\".\n",
      "200703-20:13:03,816 nipype.workflow INFO:\n",
      "\t [Node] Running \"input_node\" (\"nipype.interfaces.io.SelectFiles\")200703-20:13:03,797 nipype.workflow INFO:\n",
      "\t [Node] Setting-up \"preproc.input_node\" in \"/tmp/tmpw9m1xha8/preproc/_file_name_108259/input_node\".\n",
      "\n",
      "200703-20:13:03,830 nipype.workflow INFO:\n",
      "\t [Node] Running \"input_node\" (\"nipype.interfaces.io.SelectFiles\")\n",
      "200703-20:13:03,798 nipype.workflow INFO:\n",
      "\t [Node] Setting-up \"preproc.input_node\" in \"/tmp/tmp4x8txi9k/preproc/_file_name_39919/input_node\".200703-20:13:03,798 nipype.workflow INFO:\n",
      "\t [Node] Setting-up \"preproc.input_node\" in \"/tmp/tmp_oelgiir/preproc/_file_name_92406/input_node\".\n",
      "\n",
      "200703-20:13:03,854 nipype.workflow INFO:\n",
      "\t [Node] Running \"input_node\" (\"nipype.interfaces.io.SelectFiles\")200703-20:13:03,855 nipype.workflow INFO:\n",
      "\t [Node] Running \"input_node\" (\"nipype.interfaces.io.SelectFiles\")\n",
      "\n",
      "200703-20:13:03,882 nipype.workflow INFO:\n",
      "\t [Node] Finished \"preproc.input_node\".\n",
      "200703-20:13:03,895 nipype.workflow INFO:\n",
      "\t [Node] Finished \"preproc.input_node\".\n",
      "200703-20:13:03,920 nipype.workflow INFO:\n",
      "\t [Node] Finished \"preproc.input_node\".200703-20:13:03,921 nipype.workflow INFO:\n",
      "\t [Node] Finished \"preproc.input_node\".\n",
      "\n",
      "200703-20:13:05,630 nipype.workflow INFO:\n",
      "\t [Job 0] Completed (preproc.input_node).\n",
      "200703-20:13:05,635 nipype.workflow INFO:\n",
      "\t [Job 3] Completed (preproc.input_node).\n",
      "200703-20:13:05,640 nipype.workflow INFO:\n",
      "\t [Job 6] Completed (preproc.input_node).\n",
      "200703-20:13:05,644 nipype.workflow INFO:\n",
      "\t [Job 9] Completed (preproc.input_node).\n",
      "200703-20:13:05,649 nipype.workflow INFO:\n",
      "\t [MultiProc] Running 0 tasks, and 4 jobs ready. Free memory (GB): 62.00/62.00, Free processors: 40/40.\n",
      "200703-20:13:05,781 nipype.workflow INFO:\n",
      "\t [Node] Setting-up \"preproc.FAST\" in \"/tmp/tmp0zbqlmmj/preproc/_file_name_108259/FAST\".200703-20:13:05,782 nipype.workflow INFO:\n",
      "\t [Node] Setting-up \"preproc.FAST\" in \"/tmp/tmp83w_st6e/preproc/_file_name_39919/FAST\".200703-20:13:05,783 nipype.workflow INFO:\n",
      "\t [Node] Setting-up \"preproc.FAST\" in \"/tmp/tmp76lcdt7g/preproc/_file_name_92406/FAST\".\n",
      "\n",
      "200703-20:13:05,784 nipype.workflow INFO:\n",
      "\t [Node] Setting-up \"preproc.FAST\" in \"/tmp/tmpvsnxuvbe/preproc/_file_name_85699/FAST\".\n",
      "\n",
      "200703-20:13:05,798 nipype.workflow INFO:\n",
      "\t [Node] Running \"FAST\" (\"nipype.interfaces.fsl.preprocess.FAST\"), a CommandLine Interface with command:\n",
      "fast -o fast -S 1 /tmp/tmp0zbqlmmj/preproc/_file_name_108259/FAST/ADNI_094_S_1402_MR_MPR-R__GradWarp__B1_Correction__N3__Scaled_Br_20080603180205063_S50488_I108259_normalized_masked.nii\n",
      "200703-20:13:05,799 nipype.workflow INFO:\n",
      "\t [Node] Running \"FAST\" (\"nipype.interfaces.fsl.preprocess.FAST\"), a CommandLine Interface with command:\n",
      "fast -o fast -S 1 /tmp/tmp83w_st6e/preproc/_file_name_39919/FAST/ADNI_073_S_0565_MR_MPR__GradWarp__B1_Correction__N3__Scaled_Br_20070213213329963_S15762_I39919_normalized_masked.nii\n",
      "200703-20:13:05,800 nipype.workflow INFO:\n",
      "\t [Node] Running \"FAST\" (\"nipype.interfaces.fsl.preprocess.FAST\"), a CommandLine Interface with command:\n",
      "fast -o fast -S 1 /tmp/tmp76lcdt7g/preproc/_file_name_92406/FAST/ADNI_131_S_0457_MR_MPR__GradWarp__B1_Correction__N3__Scaled_Br_20080225093858034_S13976_I92406_normalized_masked.nii\n",
      "200703-20:13:05,802 nipype.workflow INFO:\n",
      "\t [Node] Running \"FAST\" (\"nipype.interfaces.fsl.preprocess.FAST\"), a CommandLine Interface with command:\n",
      "fast -o fast -S 1 /tmp/tmpvsnxuvbe/preproc/_file_name_85699/FAST/ADNI_021_S_0343_MR_MPR__GradWarp__N3__Scaled_Br_20071219174234295_S30492_I85699_normalized_masked.nii\n",
      "200703-20:13:07,635 nipype.workflow INFO:\n",
      "\t [MultiProc] Running 4 tasks, and 0 jobs ready. Free memory (GB): 61.20/62.00, Free processors: 36/40.\n",
      "                     Currently running:\n",
      "                       * preproc.FAST\n",
      "                       * preproc.FAST\n",
      "                       * preproc.FAST\n",
      "                       * preproc.FAST\n",
      "200703-20:13:08,655 nipype.workflow WARNING:\n",
      "\t Storing result file without outputs\n",
      "200703-20:13:08,659 nipype.workflow WARNING:\n",
      "\t [Node] Error on \"preproc.FAST\" (/tmp/tmpvsnxuvbe/preproc/_file_name_85699/FAST)\n",
      "200703-20:13:08,686 nipype.workflow WARNING:\n",
      "\t Storing result file without outputs\n",
      "200703-20:13:08,689 nipype.workflow WARNING:\n",
      "\t [Node] Error on \"preproc.FAST\" (/tmp/tmp83w_st6e/preproc/_file_name_39919/FAST)\n",
      "200703-20:13:09,636 nipype.workflow ERROR:\n",
      "\t Node FAST.a2 failed to run on host 18009cc83530.\n",
      "200703-20:13:09,639 nipype.workflow ERROR:\n",
      "\t Saving crash info to /home/neuro/thesis/crash-20200703-201309-neuro-FAST.a2-4b0c0f5b-0fb6-4678-b389-40574db41043.pklz\n",
      "Traceback (most recent call last):\n",
      "  File \"/opt/miniconda-latest/envs/neuro/lib/python3.6/site-packages/nipype/pipeline/plugins/multiproc.py\", line 148, in __init__\n",
      "    mp_context=mp_context,\n",
      "TypeError: __init__() got an unexpected keyword argument 'initializer'\n",
      "\n",
      "During handling of the above exception, another exception occurred:\n",
      "\n",
      "Traceback (most recent call last):\n",
      "  File \"/opt/miniconda-latest/envs/neuro/lib/python3.6/site-packages/nipype/pipeline/plugins/multiproc.py\", line 67, in run_node\n",
      "    result[\"result\"] = node.run(updatehash=updatehash)\n",
      "  File \"/opt/miniconda-latest/envs/neuro/lib/python3.6/site-packages/nipype/pipeline/engine/nodes.py\", line 516, in run\n",
      "    result = self._run_interface(execute=True)\n",
      "  File \"/opt/miniconda-latest/envs/neuro/lib/python3.6/site-packages/nipype/pipeline/engine/nodes.py\", line 635, in _run_interface\n",
      "    return self._run_command(execute)\n",
      "  File \"/opt/miniconda-latest/envs/neuro/lib/python3.6/site-packages/nipype/pipeline/engine/nodes.py\", line 741, in _run_command\n",
      "    result = self._interface.run(cwd=outdir)\n",
      "  File \"/opt/miniconda-latest/envs/neuro/lib/python3.6/site-packages/nipype/interfaces/base/core.py\", line 397, in run\n",
      "    runtime = self._run_interface(runtime)\n",
      "  File \"/opt/miniconda-latest/envs/neuro/lib/python3.6/site-packages/nipype/interfaces/base/core.py\", line 792, in _run_interface\n",
      "    self.raise_exception(runtime)\n",
      "  File \"/opt/miniconda-latest/envs/neuro/lib/python3.6/site-packages/nipype/interfaces/base/core.py\", line 723, in raise_exception\n",
      "    ).format(**runtime.dictcopy())\n",
      "RuntimeError: Command:\n",
      "fast -o fast -S 1 /tmp/tmp83w_st6e/preproc/_file_name_39919/FAST/ADNI_073_S_0565_MR_MPR__GradWarp__B1_Correction__N3__Scaled_Br_20070213213329963_S15762_I39919_normalized_masked.nii\n",
      "Standard output:\n",
      "Exception: Not enough classes detected to init KMeans\n",
      "Standard error:\n",
      "\n",
      "Return code: 255\n",
      "\n",
      "200703-20:13:09,646 nipype.workflow ERROR:\n",
      "\t Node FAST.a0 failed to run on host 18009cc83530.\n",
      "200703-20:13:09,649 nipype.workflow ERROR:\n",
      "\t Saving crash info to /home/neuro/thesis/crash-20200703-201309-neuro-FAST.a0-7725d34a-483b-44dc-aea3-427d8a897c53.pklz\n",
      "Traceback (most recent call last):\n",
      "  File \"/opt/miniconda-latest/envs/neuro/lib/python3.6/site-packages/nipype/pipeline/plugins/multiproc.py\", line 148, in __init__\n",
      "    mp_context=mp_context,\n",
      "TypeError: __init__() got an unexpected keyword argument 'initializer'\n",
      "\n",
      "During handling of the above exception, another exception occurred:\n",
      "\n",
      "Traceback (most recent call last):\n",
      "  File \"/opt/miniconda-latest/envs/neuro/lib/python3.6/site-packages/nipype/pipeline/plugins/multiproc.py\", line 67, in run_node\n",
      "    result[\"result\"] = node.run(updatehash=updatehash)\n",
      "  File \"/opt/miniconda-latest/envs/neuro/lib/python3.6/site-packages/nipype/pipeline/engine/nodes.py\", line 516, in run\n",
      "    result = self._run_interface(execute=True)\n",
      "  File \"/opt/miniconda-latest/envs/neuro/lib/python3.6/site-packages/nipype/pipeline/engine/nodes.py\", line 635, in _run_interface\n",
      "    return self._run_command(execute)\n",
      "  File \"/opt/miniconda-latest/envs/neuro/lib/python3.6/site-packages/nipype/pipeline/engine/nodes.py\", line 741, in _run_command\n",
      "    result = self._interface.run(cwd=outdir)\n",
      "  File \"/opt/miniconda-latest/envs/neuro/lib/python3.6/site-packages/nipype/interfaces/base/core.py\", line 397, in run\n",
      "    runtime = self._run_interface(runtime)\n",
      "  File \"/opt/miniconda-latest/envs/neuro/lib/python3.6/site-packages/nipype/interfaces/base/core.py\", line 792, in _run_interface\n",
      "    self.raise_exception(runtime)\n",
      "  File \"/opt/miniconda-latest/envs/neuro/lib/python3.6/site-packages/nipype/interfaces/base/core.py\", line 723, in raise_exception\n",
      "    ).format(**runtime.dictcopy())\n",
      "RuntimeError: Command:\n",
      "fast -o fast -S 1 /tmp/tmpvsnxuvbe/preproc/_file_name_85699/FAST/ADNI_021_S_0343_MR_MPR__GradWarp__N3__Scaled_Br_20071219174234295_S30492_I85699_normalized_masked.nii\n",
      "Standard output:\n",
      "Exception: Not enough classes detected to init KMeans\n",
      "Standard error:\n",
      "\n",
      "Return code: 255\n",
      "\n"
     ]
    },
    {
     "name": "stdout",
     "output_type": "stream",
     "text": [
      "200703-20:13:09,654 nipype.workflow INFO:\n",
      "\t [MultiProc] Running 2 tasks, and 0 jobs ready. Free memory (GB): 61.60/62.00, Free processors: 38/40.\n",
      "                     Currently running:\n",
      "                       * preproc.FAST\n",
      "                       * preproc.FAST\n",
      "200703-20:16:46,941 nipype.workflow INFO:\n",
      "\t [Node] Finished \"preproc.FAST\".\n",
      "200703-20:16:47,864 nipype.workflow INFO:\n",
      "\t [Job 1] Completed (preproc.FAST).\n",
      "200703-20:16:47,872 nipype.workflow INFO:\n",
      "\t [MultiProc] Running 1 tasks, and 1 jobs ready. Free memory (GB): 61.80/62.00, Free processors: 39/40.\n",
      "                     Currently running:\n",
      "                       * preproc.FAST\n",
      "200703-20:16:48,16 nipype.workflow INFO:\n",
      "\t [Node] Setting-up \"preproc.sink\" in \"/tmp/tmp0n4wdni1/preproc/_file_name_108259/sink\".\n",
      "200703-20:16:48,33 nipype.workflow INFO:\n",
      "\t [Node] Running \"sink\" (\"nipype.interfaces.io.DataSink\")\n",
      "200703-20:16:48,148 nipype.workflow INFO:\n",
      "\t [Node] Finished \"preproc.sink\".\n",
      "200703-20:16:49,866 nipype.workflow INFO:\n",
      "\t [Job 2] Completed (preproc.sink).\n",
      "200703-20:16:49,874 nipype.workflow INFO:\n",
      "\t [MultiProc] Running 1 tasks, and 0 jobs ready. Free memory (GB): 61.80/62.00, Free processors: 39/40.\n",
      "                     Currently running:\n",
      "                       * preproc.FAST\n",
      "200703-20:16:50,389 nipype.workflow INFO:\n",
      "\t [Node] Finished \"preproc.FAST\".\n",
      "200703-20:16:51,868 nipype.workflow INFO:\n",
      "\t [Job 7] Completed (preproc.FAST).\n",
      "200703-20:16:51,876 nipype.workflow INFO:\n",
      "\t [MultiProc] Running 0 tasks, and 1 jobs ready. Free memory (GB): 62.00/62.00, Free processors: 40/40.\n",
      "200703-20:16:52,68 nipype.workflow INFO:\n",
      "\t [Node] Setting-up \"preproc.sink\" in \"/tmp/tmp15hjt2bz/preproc/_file_name_92406/sink\".\n",
      "200703-20:16:52,86 nipype.workflow INFO:\n",
      "\t [Node] Running \"sink\" (\"nipype.interfaces.io.DataSink\")\n",
      "200703-20:16:52,210 nipype.workflow INFO:\n",
      "\t [Node] Finished \"preproc.sink\".\n",
      "200703-20:16:53,870 nipype.workflow INFO:\n",
      "\t [Job 8] Completed (preproc.sink).\n",
      "200703-20:16:53,878 nipype.workflow INFO:\n",
      "\t [MultiProc] Running 0 tasks, and 0 jobs ready. Free memory (GB): 62.00/62.00, Free processors: 40/40.\n",
      "200703-20:16:55,869 nipype.workflow INFO:\n",
      "\t ***********************************\n",
      "200703-20:16:55,871 nipype.workflow ERROR:\n",
      "\t could not run node: preproc.FAST.a2\n",
      "200703-20:16:55,873 nipype.workflow INFO:\n",
      "\t crashfile: /home/neuro/thesis/crash-20200703-201309-neuro-FAST.a2-4b0c0f5b-0fb6-4678-b389-40574db41043.pklz\n",
      "200703-20:16:55,875 nipype.workflow ERROR:\n",
      "\t could not run node: preproc.FAST.a0\n",
      "200703-20:16:55,877 nipype.workflow INFO:\n",
      "\t crashfile: /home/neuro/thesis/crash-20200703-201309-neuro-FAST.a0-7725d34a-483b-44dc-aea3-427d8a897c53.pklz\n",
      "200703-20:16:55,878 nipype.workflow INFO:\n",
      "\t ***********************************\n"
     ]
    },
    {
     "ename": "RuntimeError",
     "evalue": "Workflow did not execute cleanly. Check log for details",
     "output_type": "error",
     "traceback": [
      "\u001b[0;31m---------------------------------------------------------------------------\u001b[0m",
      "\u001b[0;31mRuntimeError\u001b[0m                              Traceback (most recent call last)",
      "\u001b[0;32m<ipython-input-20-11b3fd293f51>\u001b[0m in \u001b[0;36m<module>\u001b[0;34m\u001b[0m\n\u001b[1;32m     39\u001b[0m \u001b[0margs_dict\u001b[0m \u001b[0;34m=\u001b[0m \u001b[0;34m{\u001b[0m\u001b[0;34m'n_procs'\u001b[0m \u001b[0;34m:\u001b[0m \u001b[0;36m40\u001b[0m\u001b[0;34m,\u001b[0m \u001b[0;34m'memory_gb'\u001b[0m \u001b[0;34m:\u001b[0m \u001b[0;36m62\u001b[0m\u001b[0;34m}\u001b[0m\u001b[0;34m\u001b[0m\u001b[0;34m\u001b[0m\u001b[0m\n\u001b[1;32m     40\u001b[0m \u001b[0;34m\u001b[0m\u001b[0m\n\u001b[0;32m---> 41\u001b[0;31m \u001b[0mwf\u001b[0m\u001b[0;34m.\u001b[0m\u001b[0mrun\u001b[0m\u001b[0;34m(\u001b[0m\u001b[0mplugin\u001b[0m\u001b[0;34m=\u001b[0m\u001b[0;34m'MultiProc'\u001b[0m\u001b[0;34m,\u001b[0m \u001b[0mplugin_args\u001b[0m\u001b[0;34m=\u001b[0m\u001b[0margs_dict\u001b[0m\u001b[0;34m)\u001b[0m\u001b[0;34m\u001b[0m\u001b[0;34m\u001b[0m\u001b[0m\n\u001b[0m",
      "\u001b[0;32m/opt/miniconda-latest/envs/neuro/lib/python3.6/site-packages/nipype/pipeline/engine/workflows.py\u001b[0m in \u001b[0;36mrun\u001b[0;34m(self, plugin, plugin_args, updatehash)\u001b[0m\n\u001b[1;32m    630\u001b[0m         \u001b[0;32mif\u001b[0m \u001b[0mstr2bool\u001b[0m\u001b[0;34m(\u001b[0m\u001b[0mself\u001b[0m\u001b[0;34m.\u001b[0m\u001b[0mconfig\u001b[0m\u001b[0;34m[\u001b[0m\u001b[0;34m\"execution\"\u001b[0m\u001b[0;34m]\u001b[0m\u001b[0;34m[\u001b[0m\u001b[0;34m\"create_report\"\u001b[0m\u001b[0;34m]\u001b[0m\u001b[0;34m)\u001b[0m\u001b[0;34m:\u001b[0m\u001b[0;34m\u001b[0m\u001b[0;34m\u001b[0m\u001b[0m\n\u001b[1;32m    631\u001b[0m             \u001b[0mself\u001b[0m\u001b[0;34m.\u001b[0m\u001b[0m_write_report_info\u001b[0m\u001b[0;34m(\u001b[0m\u001b[0mself\u001b[0m\u001b[0;34m.\u001b[0m\u001b[0mbase_dir\u001b[0m\u001b[0;34m,\u001b[0m \u001b[0mself\u001b[0m\u001b[0;34m.\u001b[0m\u001b[0mname\u001b[0m\u001b[0;34m,\u001b[0m \u001b[0mexecgraph\u001b[0m\u001b[0;34m)\u001b[0m\u001b[0;34m\u001b[0m\u001b[0;34m\u001b[0m\u001b[0m\n\u001b[0;32m--> 632\u001b[0;31m         \u001b[0mrunner\u001b[0m\u001b[0;34m.\u001b[0m\u001b[0mrun\u001b[0m\u001b[0;34m(\u001b[0m\u001b[0mexecgraph\u001b[0m\u001b[0;34m,\u001b[0m \u001b[0mupdatehash\u001b[0m\u001b[0;34m=\u001b[0m\u001b[0mupdatehash\u001b[0m\u001b[0;34m,\u001b[0m \u001b[0mconfig\u001b[0m\u001b[0;34m=\u001b[0m\u001b[0mself\u001b[0m\u001b[0;34m.\u001b[0m\u001b[0mconfig\u001b[0m\u001b[0;34m)\u001b[0m\u001b[0;34m\u001b[0m\u001b[0;34m\u001b[0m\u001b[0m\n\u001b[0m\u001b[1;32m    633\u001b[0m         \u001b[0mdatestr\u001b[0m \u001b[0;34m=\u001b[0m \u001b[0mdatetime\u001b[0m\u001b[0;34m.\u001b[0m\u001b[0mutcnow\u001b[0m\u001b[0;34m(\u001b[0m\u001b[0;34m)\u001b[0m\u001b[0;34m.\u001b[0m\u001b[0mstrftime\u001b[0m\u001b[0;34m(\u001b[0m\u001b[0;34m\"%Y%m%dT%H%M%S\"\u001b[0m\u001b[0;34m)\u001b[0m\u001b[0;34m\u001b[0m\u001b[0;34m\u001b[0m\u001b[0m\n\u001b[1;32m    634\u001b[0m         \u001b[0;32mif\u001b[0m \u001b[0mstr2bool\u001b[0m\u001b[0;34m(\u001b[0m\u001b[0mself\u001b[0m\u001b[0;34m.\u001b[0m\u001b[0mconfig\u001b[0m\u001b[0;34m[\u001b[0m\u001b[0;34m\"execution\"\u001b[0m\u001b[0;34m]\u001b[0m\u001b[0;34m[\u001b[0m\u001b[0;34m\"write_provenance\"\u001b[0m\u001b[0;34m]\u001b[0m\u001b[0;34m)\u001b[0m\u001b[0;34m:\u001b[0m\u001b[0;34m\u001b[0m\u001b[0;34m\u001b[0m\u001b[0m\n",
      "\u001b[0;32m/opt/miniconda-latest/envs/neuro/lib/python3.6/site-packages/nipype/pipeline/plugins/base.py\u001b[0m in \u001b[0;36mrun\u001b[0;34m(self, graph, config, updatehash)\u001b[0m\n\u001b[1;32m    190\u001b[0m \u001b[0;34m\u001b[0m\u001b[0m\n\u001b[1;32m    191\u001b[0m         \u001b[0mself\u001b[0m\u001b[0;34m.\u001b[0m\u001b[0m_remove_node_dirs\u001b[0m\u001b[0;34m(\u001b[0m\u001b[0;34m)\u001b[0m\u001b[0;34m\u001b[0m\u001b[0;34m\u001b[0m\u001b[0m\n\u001b[0;32m--> 192\u001b[0;31m         \u001b[0mreport_nodes_not_run\u001b[0m\u001b[0;34m(\u001b[0m\u001b[0mnotrun\u001b[0m\u001b[0;34m)\u001b[0m\u001b[0;34m\u001b[0m\u001b[0;34m\u001b[0m\u001b[0m\n\u001b[0m\u001b[1;32m    193\u001b[0m \u001b[0;34m\u001b[0m\u001b[0m\n\u001b[1;32m    194\u001b[0m         \u001b[0;31m# close any open resources\u001b[0m\u001b[0;34m\u001b[0m\u001b[0;34m\u001b[0m\u001b[0;34m\u001b[0m\u001b[0m\n",
      "\u001b[0;32m/opt/miniconda-latest/envs/neuro/lib/python3.6/site-packages/nipype/pipeline/plugins/tools.py\u001b[0m in \u001b[0;36mreport_nodes_not_run\u001b[0;34m(notrun)\u001b[0m\n\u001b[1;32m     96\u001b[0m         \u001b[0mlogger\u001b[0m\u001b[0;34m.\u001b[0m\u001b[0minfo\u001b[0m\u001b[0;34m(\u001b[0m\u001b[0;34m\"***********************************\"\u001b[0m\u001b[0;34m)\u001b[0m\u001b[0;34m\u001b[0m\u001b[0;34m\u001b[0m\u001b[0m\n\u001b[1;32m     97\u001b[0m         raise RuntimeError(\n\u001b[0;32m---> 98\u001b[0;31m             \u001b[0;34m(\u001b[0m\u001b[0;34m\"Workflow did not execute cleanly. \"\u001b[0m \u001b[0;34m\"Check log for details\"\u001b[0m\u001b[0;34m)\u001b[0m\u001b[0;34m\u001b[0m\u001b[0;34m\u001b[0m\u001b[0m\n\u001b[0m\u001b[1;32m     99\u001b[0m         )\n\u001b[1;32m    100\u001b[0m \u001b[0;34m\u001b[0m\u001b[0m\n",
      "\u001b[0;31mRuntimeError\u001b[0m: Workflow did not execute cleanly. Check log for details"
     ]
    }
   ],
   "source": []
  },
  {
   "cell_type": "code",
   "execution_count": 9,
   "metadata": {},
   "outputs": [],
   "source": [
    "fastr = fsl.FAST()\n",
    "\n",
    "fastr.inputs.in_files = 'structural.nii'\n",
    "\n",
    "fastr.inputs.out_basename = 'fast_'"
   ]
  },
  {
   "cell_type": "code",
   "execution_count": 33,
   "metadata": {},
   "outputs": [
    {
     "data": {
      "text/plain": [
       "<nipype.interfaces.base.support.InterfaceResult at 0x7f3edcb58f98>"
      ]
     },
     "execution_count": 33,
     "metadata": {},
     "output_type": "execute_result"
    }
   ],
   "source": [
    "fastr = FAST()\n",
    "\n",
    "fastr.inputs.in_files = iterables[1]\n",
    "\n",
    "\n",
    "fastr.inputs.\n",
    "\n",
    "fastr.cmdline\n",
    "\n",
    "fastr.run()"
   ]
  },
  {
   "cell_type": "code",
   "execution_count": 35,
   "metadata": {},
   "outputs": [
    {
     "data": {
      "text/plain": [
       "\n",
       "bias_field = <undefined>\n",
       "mixeltype = /home/neuro/thesis/fast__mixeltype.nii\n",
       "partial_volume_files = ['/home/neuro/thesis/fast__pve_0.nii', '/home/neuro/thesis/fast__pve_1.nii', '/home/neuro/thesis/fast__pve_2.nii']\n",
       "partial_volume_map = /home/neuro/thesis/fast__pveseg.nii\n",
       "probability_maps = <undefined>\n",
       "restored_image = <undefined>\n",
       "tissue_class_files = <undefined>\n",
       "tissue_class_map = /home/neuro/thesis/fast__seg.nii"
      ]
     },
     "execution_count": 35,
     "metadata": {},
     "output_type": "execute_result"
    }
   ],
   "source": [
    "fastr.aggregate_outputs()"
   ]
  },
  {
   "cell_type": "code",
   "execution_count": 36,
   "metadata": {},
   "outputs": [
    {
     "data": {
      "text/plain": [
       "\n",
       "args = <undefined>\n",
       "bias_iters = <undefined>\n",
       "bias_lowpass = <undefined>\n",
       "environ = {'FSLOUTPUTTYPE': 'NIFTI'}\n",
       "hyper = <undefined>\n",
       "img_type = <undefined>\n",
       "in_files = ['/ADNI/minc_beast/ad/_image_id_92406/ADNI_131_S_0457_MR_MPR__GradWarp__B1_Correction__N3__Scaled_Br_20080225093858034_S13976_I92406_normalized_masked.nii']\n",
       "init_seg_smooth = <undefined>\n",
       "init_transform = <undefined>\n",
       "iters_afterbias = <undefined>\n",
       "manual_seg = <undefined>\n",
       "mixel_smooth = <undefined>\n",
       "no_bias = <undefined>\n",
       "no_pve = <undefined>\n",
       "number_classes = <undefined>\n",
       "other_priors = <undefined>\n",
       "out_basename = fast_\n",
       "output_biascorrected = <undefined>\n",
       "output_biasfield = <undefined>\n",
       "output_type = NIFTI\n",
       "probability_maps = <undefined>\n",
       "segment_iters = <undefined>\n",
       "segments = <undefined>\n",
       "use_priors = <undefined>\n",
       "verbose = <undefined>"
      ]
     },
     "execution_count": 36,
     "metadata": {},
     "output_type": "execute_result"
    }
   ],
   "source": [
    "fastr.inputs"
   ]
  },
  {
   "cell_type": "code",
   "execution_count": 41,
   "metadata": {},
   "outputs": [
    {
     "name": "stdout",
     "output_type": "stream",
     "text": [
      "fast_pve_0.nii  fast_pve_1.nii  fast_pve_2.nii\r\n"
     ]
    }
   ],
   "source": [
    "%ls /ADNI/fast_test/test/x"
   ]
  },
  {
   "cell_type": "code",
   "execution_count": 45,
   "metadata": {},
   "outputs": [],
   "source": [
    "_I{image_id}"
   ]
  },
  {
   "cell_type": "code",
   "execution_count": 4,
   "metadata": {},
   "outputs": [],
   "source": [
    "import re"
   ]
  },
  {
   "cell_type": "code",
   "execution_count": 5,
   "metadata": {},
   "outputs": [
    {
     "ename": "SyntaxError",
     "evalue": "unexpected EOF while parsing (<ipython-input-5-5e60eccd3adc>, line 1)",
     "output_type": "error",
     "traceback": [
      "\u001b[0;36m  File \u001b[0;32m\"<ipython-input-5-5e60eccd3adc>\"\u001b[0;36m, line \u001b[0;32m1\u001b[0m\n\u001b[0;31m    int([-2][1:]\u001b[0m\n\u001b[0m                ^\u001b[0m\n\u001b[0;31mSyntaxError\u001b[0m\u001b[0;31m:\u001b[0m unexpected EOF while parsing\n"
     ]
    }
   ],
   "source": [
    "int([-2][1:]"
   ]
  },
  {
   "cell_type": "code",
   "execution_count": 23,
   "metadata": {},
   "outputs": [
    {
     "name": "stdout",
     "output_type": "stream",
     "text": [
      "fast_pve_0.nii  fast_pve_1.nii  fast_pve_2.nii\r\n"
     ]
    }
   ],
   "source": [
    "%ls /ADNI/fast_test/test/_file_name_108259/"
   ]
  },
  {
   "cell_type": "code",
   "execution_count": 51,
   "metadata": {},
   "outputs": [],
   "source": [
    "files_list['test']"
   ]
  },
  {
   "cell_type": "code",
   "execution_count": null,
   "metadata": {},
   "outputs": [],
   "source": []
  }
 ],
 "metadata": {
  "kernelspec": {
   "display_name": "Python 3",
   "language": "python",
   "name": "python3"
  },
  "language_info": {
   "codemirror_mode": {
    "name": "ipython",
    "version": 3
   },
   "file_extension": ".py",
   "mimetype": "text/x-python",
   "name": "python",
   "nbconvert_exporter": "python",
   "pygments_lexer": "ipython3",
   "version": "3.6.10"
  }
 },
 "nbformat": 4,
 "nbformat_minor": 4
}
