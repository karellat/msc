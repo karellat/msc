{
 "cells": [
  {
   "cell_type": "code",
   "execution_count": null,
   "metadata": {},
   "outputs": [],
   "source": [
    "from deep_mri.dataset import dataset_factory\n",
    "import tensorflow_hub as hub\n",
    "import tensorflow as tf"
   ]
  },
  {
   "cell_type": "code",
   "execution_count": null,
   "metadata": {},
   "outputs": [],
   "source": [
    "train_ds, valid_ds = dataset_factory(\"2d\", \n",
    "                                     train_filter_first_screen=False,\n",
    "                                     valid_filter_first_screen=False,\n",
    "                                     data_path='default',\n",
    "                                     data_csv_path='default',\n",
    "                                     img_size=193,\n",
    "                                     channels=3)"
   ]
  },
  {
   "cell_type": "code",
   "execution_count": 6,
   "metadata": {},
   "outputs": [
    {
     "name": "stdout",
     "output_type": "stream",
     "text": [
      "Model: \"sequential_1\"\n",
      "_________________________________________________________________\n",
      "Layer (type)                 Output Shape              Param #   \n",
      "=================================================================\n",
      "keras_layer_1 (KerasLayer)   (None, 2048)              42626560  \n",
      "_________________________________________________________________\n",
      "dense_2 (Dense)              (None, 1024)              2098176   \n",
      "_________________________________________________________________\n",
      "dropout_1 (Dropout)          (None, 1024)              0         \n",
      "_________________________________________________________________\n",
      "dense_3 (Dense)              (None, 3)                 3075      \n",
      "=================================================================\n",
      "Total params: 44,727,811\n",
      "Trainable params: 44,630,147\n",
      "Non-trainable params: 97,664\n",
      "_________________________________________________________________\n"
     ]
    }
   ],
   "source": []
  },
  {
   "cell_type": "code",
   "execution_count": 7,
   "metadata": {},
   "outputs": [],
   "source": [
    "model.compile(optimizer=tf.keras.optimizers.Adam(),\n",
    "                      loss=tf.keras.losses.CategoricalCrossentropy(),\n",
    "                      metrics=[tf.keras.metrics.CategoricalAccuracy(), \n",
    "            tf.keras.metrics.AUC()])"
   ]
  },
  {
   "cell_type": "code",
   "execution_count": null,
   "metadata": {},
   "outputs": [
    {
     "name": "stdout",
     "output_type": "stream",
     "text": [
      "Epoch 1/100\n",
      "18250/18250 [==============================] - 1204s 66ms/step - loss: 1.0174 - categorical_accuracy: 0.7249 - auc_1: 0.8837 - val_loss: 3.4103 - val_categorical_accuracy: 0.3882 - val_auc_1: 0.5610\n",
      "Epoch 2/100\n",
      "18250/18250 [==============================] - 1207s 66ms/step - loss: 0.8824 - categorical_accuracy: 0.8483 - auc_1: 0.9558 - val_loss: 6.5407 - val_categorical_accuracy: 0.3796 - val_auc_1: 0.5536\n",
      "Epoch 3/100\n",
      "18250/18250 [==============================] - 1197s 66ms/step - loss: 0.8277 - categorical_accuracy: 0.8885 - auc_1: 0.9734 - val_loss: 6.0684 - val_categorical_accuracy: 0.4045 - val_auc_1: 0.5773\n",
      "Epoch 4/100\n",
      "18250/18250 [==============================] - 1186s 65ms/step - loss: 0.7956 - categorical_accuracy: 0.9077 - auc_1: 0.9807 - val_loss: 4.4043 - val_categorical_accuracy: 0.3792 - val_auc_1: 0.5569\n",
      "Epoch 5/100\n",
      "18250/18250 [==============================] - 1199s 66ms/step - loss: 0.7760 - categorical_accuracy: 0.9181 - auc_1: 0.9840 - val_loss: 18.9234 - val_categorical_accuracy: 0.3481 - val_auc_1: 0.5168\n",
      "Epoch 6/100\n",
      "18250/18250 [==============================] - 1091s 60ms/step - loss: 0.7533 - categorical_accuracy: 0.9250 - auc_1: 0.9863 - val_loss: 4.9872 - val_categorical_accuracy: 0.4322 - val_auc_1: 0.6045\n",
      "Epoch 7/100\n",
      "18250/18250 [==============================] - 1004s 55ms/step - loss: 0.7322 - categorical_accuracy: 0.9318 - auc_1: 0.9880 - val_loss: 4.9546 - val_categorical_accuracy: 0.3986 - val_auc_1: 0.5545\n",
      "Epoch 8/100\n",
      "18250/18250 [==============================] - 995s 55ms/step - loss: 0.7164 - categorical_accuracy: 0.9332 - auc_1: 0.9891 - val_loss: 5.2438 - val_categorical_accuracy: 0.3709 - val_auc_1: 0.5491\n",
      "Epoch 9/100\n",
      "18250/18250 [==============================] - 1001s 55ms/step - loss: 0.7009 - categorical_accuracy: 0.9366 - auc_1: 0.9895 - val_loss: 5.3730 - val_categorical_accuracy: 0.3979 - val_auc_1: 0.5704\n",
      "Epoch 10/100\n",
      "18250/18250 [==============================] - 1004s 55ms/step - loss: 0.6890 - categorical_accuracy: 0.9382 - auc_1: 0.9900 - val_loss: 6.6441 - val_categorical_accuracy: 0.3983 - val_auc_1: 0.5632\n",
      "Epoch 11/100\n",
      "18250/18250 [==============================] - 997s 55ms/step - loss: 0.6759 - categorical_accuracy: 0.9433 - auc_1: 0.9906 - val_loss: 4.0773 - val_categorical_accuracy: 0.4291 - val_auc_1: 0.5944\n",
      "Epoch 12/100\n",
      "18250/18250 [==============================] - 999s 55ms/step - loss: 0.6662 - categorical_accuracy: 0.9425 - auc_1: 0.9911 - val_loss: 4.4145 - val_categorical_accuracy: 0.4405 - val_auc_1: 0.6089\n",
      "Epoch 13/100\n",
      "15423/18250 [========================>.....] - ETA: 2:25 - loss: 0.6552 - categorical_accuracy: 0.9462 - auc_1: 0.9915"
     ]
    }
   ],
   "source": [
    "BATCH_SIZE = 1\n",
    "EPOCHS = 100\n",
    "model.fit(train_ds.batch(BATCH_SIZE), \n",
    "          validation_data=valid_ds.batch(BATCH_SIZE),\n",
    "          epochs=EPOCHS,\n",
    "          verbose=1,\n",
    "          workers=16,\n",
    "          use_multiprocessing=True)"
   ]
  },
  {
   "cell_type": "code",
   "execution_count": null,
   "metadata": {},
   "outputs": [],
   "source": []
  }
 ],
 "metadata": {
  "kernelspec": {
   "display_name": "Python 3",
   "language": "python",
   "name": "python3"
  },
  "language_info": {
   "codemirror_mode": {
    "name": "ipython",
    "version": 3
   },
   "file_extension": ".py",
   "mimetype": "text/x-python",
   "name": "python",
   "nbconvert_exporter": "python",
   "pygments_lexer": "ipython3",
   "version": "3.6.9"
  }
 },
 "nbformat": 4,
 "nbformat_minor": 2
}
