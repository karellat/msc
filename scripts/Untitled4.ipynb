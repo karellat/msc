{
 "cells": [
  {
   "cell_type": "code",
   "execution_count": 19,
   "metadata": {},
   "outputs": [],
   "source": [
    "import pandas as pd "
   ]
  },
  {
   "cell_type": "code",
   "execution_count": 20,
   "metadata": {},
   "outputs": [],
   "source": [
    "import json\n",
    "with open('/home/karelto1/master_thesis/configs/payan_encoder.json', 'r') as f:\n",
    "    config = json.load(f)"
   ]
  },
  {
   "cell_type": "code",
   "execution_count": 15,
   "metadata": {},
   "outputs": [],
   "source": [
    "import tensorflow as tf\n",
    "from deep_mri.train.config_parser import config_to_model, config_to_ds, config_to_callbacks, config_batch_size, config_epochs"
   ]
  },
  {
   "cell_type": "code",
   "execution_count": 21,
   "metadata": {},
   "outputs": [],
   "source": [
    "model = config_to_model(config)"
   ]
  },
  {
   "cell_type": "code",
   "execution_count": 5,
   "metadata": {},
   "outputs": [
    {
     "name": "stderr",
     "output_type": "stream",
     "text": [
      "WARNING:root:AD count: 153\n",
      "WARNING:root:MCI count: 353\n",
      "WARNING:root:CN count: 213\n"
     ]
    },
    {
     "data": {
      "application/vnd.jupyter.widget-view+json": {
       "model_id": "",
       "version_major": 2,
       "version_minor": 0
      },
      "text/plain": [
       "HBox(children=(FloatProgress(value=0.0, layout=Layout(flex='2'), max=185300.0), HTML(value='')), layout=Layout…"
      ]
     },
     "metadata": {},
     "output_type": "display_data"
    },
    {
     "data": {
      "application/vnd.jupyter.widget-view+json": {
       "model_id": "",
       "version_major": 2,
       "version_minor": 0
      },
      "text/plain": [
       "HBox(children=(FloatProgress(value=0.0, layout=Layout(flex='2'), max=26500.0), HTML(value='')), layout=Layout(…"
      ]
     },
     "metadata": {},
     "output_type": "display_data"
    }
   ],
   "source": [
    "ds = config_to_ds(config)"
   ]
  },
  {
   "cell_type": "code",
   "execution_count": 22,
   "metadata": {},
   "outputs": [],
   "source": [
    "train_ds, valid_ds = ds"
   ]
  },
  {
   "cell_type": "code",
   "execution_count": 23,
   "metadata": {},
   "outputs": [],
   "source": [
    "callbacks = config_to_callbacks(config, train_ds, valid_ds)"
   ]
  },
  {
   "cell_type": "code",
   "execution_count": 25,
   "metadata": {},
   "outputs": [
    {
     "name": "stdout",
     "output_type": "stream",
     "text": [
      "Epoch 1/10\n",
      "185291/185300 [============================>.] - ETA: 0s - loss: 0.0332 - mse: 0.0316INFO:tensorflow:Assets written to: ./logs/final_3d/payan_encoder/models/assets\n"
     ]
    },
    {
     "name": "stderr",
     "output_type": "stream",
     "text": [
      "INFO:tensorflow:Assets written to: ./logs/final_3d/payan_encoder/models/assets\n"
     ]
    },
    {
     "name": "stdout",
     "output_type": "stream",
     "text": [
      "185300/185300 [==============================] - 573s 3ms/step - loss: 0.0332 - mse: 0.0316 - val_loss: 0.0312 - val_mse: 0.0312\n",
      "Epoch 2/10\n",
      "185300/185300 [==============================] - ETA: 0s - loss: 0.0312 - mse: 0.0313INFO:tensorflow:Assets written to: ./logs/final_3d/payan_encoder/models/assets\n"
     ]
    },
    {
     "name": "stderr",
     "output_type": "stream",
     "text": [
      "INFO:tensorflow:Assets written to: ./logs/final_3d/payan_encoder/models/assets\n"
     ]
    },
    {
     "name": "stdout",
     "output_type": "stream",
     "text": [
      "185300/185300 [==============================] - 572s 3ms/step - loss: 0.0312 - mse: 0.0313 - val_loss: 0.0312 - val_mse: 0.0312\n",
      "Epoch 3/10\n",
      "185299/185300 [============================>.] - ETA: 0s - loss: 0.0312 - mse: 0.0313INFO:tensorflow:Assets written to: ./logs/final_3d/payan_encoder/models/assets\n"
     ]
    },
    {
     "name": "stderr",
     "output_type": "stream",
     "text": [
      "INFO:tensorflow:Assets written to: ./logs/final_3d/payan_encoder/models/assets\n"
     ]
    },
    {
     "name": "stdout",
     "output_type": "stream",
     "text": [
      "185300/185300 [==============================] - 573s 3ms/step - loss: 0.0312 - mse: 0.0313 - val_loss: 0.0312 - val_mse: 0.0312\n",
      "Epoch 4/10\n",
      "185296/185300 [============================>.] - ETA: 0s - loss: 0.0312 - mse: 0.0313INFO:tensorflow:Assets written to: ./logs/final_3d/payan_encoder/models/assets\n"
     ]
    },
    {
     "name": "stderr",
     "output_type": "stream",
     "text": [
      "INFO:tensorflow:Assets written to: ./logs/final_3d/payan_encoder/models/assets\n"
     ]
    },
    {
     "name": "stdout",
     "output_type": "stream",
     "text": [
      "185300/185300 [==============================] - 572s 3ms/step - loss: 0.0312 - mse: 0.0313 - val_loss: 0.0312 - val_mse: 0.0312\n",
      "Epoch 5/10\n",
      "185292/185300 [============================>.] - ETA: 0s - loss: 0.0312 - mse: 0.0313INFO:tensorflow:Assets written to: ./logs/final_3d/payan_encoder/models/assets\n"
     ]
    },
    {
     "name": "stderr",
     "output_type": "stream",
     "text": [
      "INFO:tensorflow:Assets written to: ./logs/final_3d/payan_encoder/models/assets\n"
     ]
    },
    {
     "name": "stdout",
     "output_type": "stream",
     "text": [
      "185300/185300 [==============================] - 572s 3ms/step - loss: 0.0312 - mse: 0.0313 - val_loss: 0.0312 - val_mse: 0.0312\n",
      "Epoch 6/10\n",
      "185290/185300 [============================>.] - ETA: 0s - loss: 0.0312 - mse: 0.0313INFO:tensorflow:Assets written to: ./logs/final_3d/payan_encoder/models/assets\n"
     ]
    },
    {
     "name": "stderr",
     "output_type": "stream",
     "text": [
      "INFO:tensorflow:Assets written to: ./logs/final_3d/payan_encoder/models/assets\n"
     ]
    },
    {
     "name": "stdout",
     "output_type": "stream",
     "text": [
      "185300/185300 [==============================] - 571s 3ms/step - loss: 0.0312 - mse: 0.0313 - val_loss: 0.0312 - val_mse: 0.0312\n",
      "Epoch 7/10\n",
      "185287/185300 [============================>.] - ETA: 0s - loss: 0.0312 - mse: 0.0313INFO:tensorflow:Assets written to: ./logs/final_3d/payan_encoder/models/assets\n"
     ]
    },
    {
     "name": "stderr",
     "output_type": "stream",
     "text": [
      "INFO:tensorflow:Assets written to: ./logs/final_3d/payan_encoder/models/assets\n"
     ]
    },
    {
     "name": "stdout",
     "output_type": "stream",
     "text": [
      "185300/185300 [==============================] - 571s 3ms/step - loss: 0.0312 - mse: 0.0313 - val_loss: 0.0312 - val_mse: 0.0312\n",
      "Epoch 8/10\n",
      "185287/185300 [============================>.] - ETA: 0s - loss: 0.0312 - mse: 0.0313INFO:tensorflow:Assets written to: ./logs/final_3d/payan_encoder/models/assets\n"
     ]
    },
    {
     "name": "stderr",
     "output_type": "stream",
     "text": [
      "INFO:tensorflow:Assets written to: ./logs/final_3d/payan_encoder/models/assets\n"
     ]
    },
    {
     "name": "stdout",
     "output_type": "stream",
     "text": [
      "185300/185300 [==============================] - 571s 3ms/step - loss: 0.0312 - mse: 0.0313 - val_loss: 0.0312 - val_mse: 0.0312\n",
      "Epoch 9/10\n",
      "185284/185300 [============================>.] - ETA: 0s - loss: 0.0312 - mse: 0.0313INFO:tensorflow:Assets written to: ./logs/final_3d/payan_encoder/models/assets\n"
     ]
    },
    {
     "name": "stderr",
     "output_type": "stream",
     "text": [
      "INFO:tensorflow:Assets written to: ./logs/final_3d/payan_encoder/models/assets\n"
     ]
    },
    {
     "name": "stdout",
     "output_type": "stream",
     "text": [
      "185300/185300 [==============================] - 572s 3ms/step - loss: 0.0312 - mse: 0.0313 - val_loss: 0.0312 - val_mse: 0.0312\n",
      "Epoch 10/10\n",
      "185287/185300 [============================>.] - ETA: 0s - loss: 0.0312 - mse: 0.0313INFO:tensorflow:Assets written to: ./logs/final_3d/payan_encoder/models/assets\n"
     ]
    },
    {
     "name": "stderr",
     "output_type": "stream",
     "text": [
      "INFO:tensorflow:Assets written to: ./logs/final_3d/payan_encoder/models/assets\n"
     ]
    },
    {
     "name": "stdout",
     "output_type": "stream",
     "text": [
      "\b\b\b\b\b\b\b\b\b\b\b\b\b\b\b\b\b\b\b\b\b\b\b\b\b\b\b\b\b\b\b\b\b\b\b\b\b\b\b\b\b\b\b\b\b\b\b\b\b\b\b\b\b\b\b\b\b\b\b\b\b\b\b\b\b\b\b\b\b\b\b\b\b\b\b\b\b\b\b\b\b\b\b\b\b\r",
      "185300/185300 [==============================] - 573s 3ms/step - loss: 0.0312 - mse: 0.0313 - val_loss: 0.0312 - val_mse: 0.0312\n"
     ]
    },
    {
     "data": {
      "text/plain": [
       "<tensorflow.python.keras.callbacks.History at 0x7f81a84ad4c0>"
      ]
     },
     "execution_count": 25,
     "metadata": {},
     "output_type": "execute_result"
    }
   ],
   "source": [
    "batch_size = config_batch_size(config)\n",
    "epochs = config_epochs(config)\n",
    "\n",
    "model.fit(train_ds.batch(batch_size),\n",
    "          epochs=epochs,\n",
    "          validation_data=valid_ds.batch(batch_size),\n",
    "          verbose=1,\n",
    "          workers=40,\n",
    "          use_multiprocessing=True,\n",
    "          callbacks=callbacks)"
   ]
  },
  {
   "cell_type": "code",
   "execution_count": 24,
   "metadata": {},
   "outputs": [
    {
     "name": "stdout",
     "output_type": "stream",
     "text": [
      "Model: \"model_3\"\n",
      "__________________________________________________________________________________________________\n",
      "Layer (type)                    Output Shape         Param #     Connected to                     \n",
      "==================================================================================================\n",
      "input_4 (InputLayer)            [(None, 5, 5, 5, 1)] 0                                            \n",
      "__________________________________________________________________________________________________\n",
      "conv3d_9 (Conv3D)               (None, 5, 5, 5, 150) 18900       input_4[0][0]                    \n",
      "__________________________________________________________________________________________________\n",
      "conv3d_10 (Conv3D)              (None, 5, 5, 5, 150) 18900       input_4[0][0]                    \n",
      "__________________________________________________________________________________________________\n",
      "conv3d_11 (Conv3D)              (None, 5, 5, 5, 150) 18900       input_4[0][0]                    \n",
      "__________________________________________________________________________________________________\n",
      "max_pooling3d_9 (MaxPooling3D)  (None, 1, 1, 1, 150) 0           conv3d_9[0][0]                   \n",
      "__________________________________________________________________________________________________\n",
      "max_pooling3d_10 (MaxPooling3D) (None, 1, 1, 1, 150) 0           conv3d_10[0][0]                  \n",
      "__________________________________________________________________________________________________\n",
      "max_pooling3d_11 (MaxPooling3D) (None, 1, 1, 1, 150) 0           conv3d_11[0][0]                  \n",
      "__________________________________________________________________________________________________\n",
      "concatenate_3 (Concatenate)     (None, 1, 1, 1, 450) 0           max_pooling3d_9[0][0]            \n",
      "                                                                 max_pooling3d_10[0][0]           \n",
      "                                                                 max_pooling3d_11[0][0]           \n",
      "__________________________________________________________________________________________________\n",
      "flatten_3 (Flatten)             (None, 450)          0           concatenate_3[0][0]              \n",
      "__________________________________________________________________________________________________\n",
      "dense_3 (Dense)                 (None, 125)          56375       flatten_3[0][0]                  \n",
      "__________________________________________________________________________________________________\n",
      "reshape_3 (Reshape)             (None, 5, 5, 5, 1)   0           dense_3[0][0]                    \n",
      "==================================================================================================\n",
      "Total params: 113,075\n",
      "Trainable params: 113,075\n",
      "Non-trainable params: 0\n",
      "__________________________________________________________________________________________________\n"
     ]
    }
   ],
   "source": [
    "model.summary()"
   ]
  },
  {
   "cell_type": "code",
   "execution_count": null,
   "metadata": {},
   "outputs": [],
   "source": []
  }
 ],
 "metadata": {
  "kernelspec": {
   "display_name": "Python 3",
   "language": "python",
   "name": "python3"
  },
  "language_info": {
   "codemirror_mode": {
    "name": "ipython",
    "version": 3
   },
   "file_extension": ".py",
   "mimetype": "text/x-python",
   "name": "python",
   "nbconvert_exporter": "python",
   "pygments_lexer": "ipython3",
   "version": "3.8.3"
  }
 },
 "nbformat": 4,
 "nbformat_minor": 4
}
