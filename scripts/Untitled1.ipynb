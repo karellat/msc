{
 "cells": [
  {
   "cell_type": "code",
   "execution_count": null,
   "metadata": {},
   "outputs": [],
   "source": [
    "import tensorflow as tf\n",
    "import tensorflow_addons as tfa"
   ]
  },
  {
   "cell_type": "code",
   "execution_count": null,
   "metadata": {},
   "outputs": [],
   "source": [
    "tf.config.list_logical_devices('GPU')"
   ]
  },
  {
   "cell_type": "code",
   "execution_count": null,
   "metadata": {},
   "outputs": [],
   "source": [
    "def getLiuModel(f=8):\n",
    "    return tf.keras.Sequential(\n",
    "    [\n",
    "        tf.keras.layers.Input((97,115,97,1)),\n",
    "        tf.keras.layers.Conv3D(filters=f*4,\n",
    "                               kernel_size=1,\n",
    "                               padding='same',\n",
    "                               strides=1,\n",
    "                               activation=None,\n",
    "                               dilation_rate=1),\n",
    "        tfa.layers.InstanceNormalization(),\n",
    "        tf.keras.layers.Activation('relu', name='relu'),\n",
    "        tf.keras.layers.MaxPool3D(pool_size=3, strides=2),\n",
    "        tf.keras.layers.Conv3D(filters=f*32,\n",
    "                               kernel_size=3,\n",
    "                               padding='valid',\n",
    "                               strides=1,\n",
    "                               activation=None,\n",
    "                               dilation_rate=2),\n",
    "        tfa.layers.InstanceNormalization(), \n",
    "        tf.keras.layers.Activation('relu', name='relu2'),\n",
    "        tf.keras.layers.MaxPool3D(pool_size=3, strides=2),\n",
    "        tf.keras.layers.Conv3D(filters=f*64,\n",
    "                               kernel_size=5,\n",
    "                               padding='same',\n",
    "                               strides=1,\n",
    "                               activation=None,\n",
    "                               dilation_rate=2),\n",
    "        tfa.layers.InstanceNormalization(), \n",
    "        tf.keras.layers.Activation('relu', name='relu3'),\n",
    "        tf.keras.layers.MaxPool3D(pool_size=3, strides=2),\n",
    "        tf.keras.layers.Conv3D(filters=f*64,\n",
    "                               kernel_size=3,\n",
    "                               padding='same',\n",
    "                               strides=1,\n",
    "                               activation=None,\n",
    "                               dilation_rate=2),\n",
    "        tfa.layers.InstanceNormalization(), \n",
    "        tf.keras.layers.Activation('relu', name='relu4'),\n",
    "        tf.keras.layers.MaxPool3D(pool_size=5, strides=2, padding='same'),\n",
    "        tf.keras.layers.Flatten(),\n",
    "        tf.keras.layers.Dense(1024),\n",
    "        tf.keras.layers.Dense(3, activation='softmax')\n",
    "    ])\n",
    "getLiuModel().summary()"
   ]
  },
  {
   "cell_type": "code",
   "execution_count": null,
   "metadata": {},
   "outputs": [],
   "source": [
    "tf.keras.layers.Conv3D?"
   ]
  },
  {
   "cell_type": "code",
   "execution_count": null,
   "metadata": {},
   "outputs": [],
   "source": [
    "tf.keras.layers.MaxPool3D?"
   ]
  },
  {
   "cell_type": "code",
   "execution_count": null,
   "metadata": {},
   "outputs": [],
   "source": []
  },
  {
   "cell_type": "code",
   "execution_count": null,
   "metadata": {},
   "outputs": [],
   "source": [
    "import tensorflow as tf\n",
    "\n",
    "param_split = '-'\n",
    "layers_split = ';'\n",
    "\n",
    "\n",
    "def _get_pool(pool_text, input_layer):\n",
    "    params = pool_text.lower().split(param_split)\n",
    "    assert len(params) == 4, f'{pool_text}'\n",
    "    if params[0] == 'pmax3':\n",
    "        return tf.keras.layers.MaxPool3D(pool_size=int(params[1]),\n",
    "                                         strides=int(params[2]),\n",
    "                                         padding=str(params[3]))(input_layer)\n",
    "    elif params[0] == 'pmax2':\n",
    "        return tf.keras.layers.MaxPool2D(pool_size=int(params[1]),\n",
    "                                         strides=int(params[2]),\n",
    "                                         padding=str(params[3]))(input_layer)\n",
    "    elif params[0] == 'pavg3':\n",
    "        return tf.keras.layers.AvgPool3D(pool_size=int(params[1]),\n",
    "                                         strides=int(params[2]),\n",
    "                                         padding=str(params[3]))(input_layer)\n",
    "    elif params[0] == 'pavg2':\n",
    "        return tf.keras.layers.AvgPool2D(pool_size=int(params[1]),\n",
    "                                         strides=int(params[2]),\n",
    "                                         padding=str(params[3]))(input_layer)\n",
    "    else:\n",
    "        raise Exception(f'Unknown string {pool_text}')\n",
    "\n",
    "\n",
    "def _get_conv(conv_text, input_layer):\n",
    "    params = conv_text.lower().split(param_split)\n",
    "    act = str(params[5]) if str(params[5]) != 'none' else None\n",
    "    assert len(params) == 6, f'{conv_text}'\n",
    "    if params[0] == 'c3':\n",
    "        return tf.keras.layers.Conv3D(filters=int(params[1]),\n",
    "                                      kernel_size=int(params[2]),\n",
    "                                      strides=int(params[3]),\n",
    "                                      padding=str(params[4]),\n",
    "                                      activation=act)(input_layer)\n",
    "    elif params[0] == 'c2':\n",
    "        return tf.keras.layers.Conv2D(filters=int(params[1]),\n",
    "                                      kernel_size=int(params[2]),\n",
    "                                      strides=int(params[3]),\n",
    "                                      padding=str(params[4]),\n",
    "                                      activation=act)(input_layer)\n",
    "    elif params[0] == 'cb3':\n",
    "        conv = tf.keras.layers.Conv3D(filters=int(params[1]),\n",
    "                                      kernel_size=int(params[2]),\n",
    "                                      strides=int(params[3]),\n",
    "                                      padding=str(params[4]),\n",
    "                                      activation=None)(input_layer)\n",
    "        conv = tf.keras.layers.BatchNormalization()(conv)\n",
    "        conv = tf.keras.layers.Activation(act)(conv)\n",
    "        return conv\n",
    "    elif params[0] == 'cb2':\n",
    "        conv = tf.keras.layers.Conv2D(filters=int(params[1]),\n",
    "                                      kernel_size=int(params[2]),\n",
    "                                      strides=int(params[3]),\n",
    "                                      padding=str(params[4]),\n",
    "                                      activation=None)(input_layer)\n",
    "        conv = tf.keras.layers.BatchNormalization()(conv)\n",
    "        conv = tf.keras.layers.Activation(act)(conv)\n",
    "        return conv\n",
    "    else:\n",
    "        raise Exception(f'Unknown string {conv_text}')\n",
    "\n",
    "\n",
    "def _get_fc(fc_text, input_layer):\n",
    "    params = fc_text.lower().split(param_split)\n",
    "    assert len(params) == 3, f'{fc_text}'\n",
    "    if params[0] == 'fc':\n",
    "        act = str(params[2]) if str(params[2]) != 'none' else None\n",
    "        return tf.keras.layers.Dense(units=int(params[1]),\n",
    "                                     activation=act)(input_layer)\n",
    "    else:\n",
    "        raise Exception(f'Unknown string {fc_text}')\n",
    "\n",
    "\n",
    "def _get_layer(layer_text, input_layer):\n",
    "    if layer_text.lower().startswith('c'):\n",
    "        return _get_conv(layer_text, input_layer)\n",
    "    elif layer_text.lower().startswith('p'):\n",
    "        return _get_pool(layer_text, input_layer)\n",
    "    elif layer_text.lower().startswith('fc'):\n",
    "        return _get_fc(layer_text, input_layer)\n",
    "    elif layers_text.lower() == 'flat':\n",
    "        return tf.keras.layers.Flatten()\n",
    "    else:\n",
    "        raise Exception(f'Unknown string {layer_text}')\n",
    "\n",
    "\n",
    "def string_to_model(layers_text, input_shape, num_output=3):\n",
    "    input_layer = tf.keras.layers.Input(input_shape)\n",
    "    layers_text = layers_text.replace('\\n', '')\n",
    "    layers_text = layers_text.split(layers_split)\n",
    "    layers = []\n",
    "    last_layer = input_layer\n",
    "    for layer_text in layers_text:\n",
    "        last_layer = _get_layer(layer_text, last_layer)\n",
    "        layers.append(last_layer)\n",
    "    last_layer = tf.keras.layers.Flatten()(last_layer)\n",
    "    output_layer = tf.keras.layers.Dense(num_output, activation='softmax')(last_layer)\n",
    "    return tf.keras.Model(inputs=input_layer, outputs=output_layer)"
   ]
  },
  {
   "cell_type": "code",
   "execution_count": 5,
   "metadata": {},
   "outputs": [
    {
     "ename": "NameError",
     "evalue": "name 'tf' is not defined",
     "output_type": "error",
     "traceback": [
      "\u001b[0;31m---------------------------------------------------------------------------\u001b[0m",
      "\u001b[0;31mNameError\u001b[0m                                 Traceback (most recent call last)",
      "\u001b[0;32m<ipython-input-5-378c3150c555>\u001b[0m in \u001b[0;36m<module>\u001b[0;34m\u001b[0m\n\u001b[0;32m----> 1\u001b[0;31m \u001b[0minput_layer\u001b[0m \u001b[0;34m=\u001b[0m \u001b[0mtf\u001b[0m\u001b[0;34m.\u001b[0m\u001b[0mkeras\u001b[0m\u001b[0;34m.\u001b[0m\u001b[0mlayers\u001b[0m\u001b[0;34m.\u001b[0m\u001b[0mInput\u001b[0m\u001b[0;34m(\u001b[0m\u001b[0;34m(\u001b[0m\u001b[0;36m96\u001b[0m\u001b[0;34m,\u001b[0m\u001b[0;36m96\u001b[0m\u001b[0;34m,\u001b[0m\u001b[0;36m1\u001b[0m\u001b[0;34m)\u001b[0m\u001b[0;34m)\u001b[0m\u001b[0;34m\u001b[0m\u001b[0;34m\u001b[0m\u001b[0m\n\u001b[0m\u001b[1;32m      2\u001b[0m \u001b[0;34m\u001b[0m\u001b[0m\n\u001b[1;32m      3\u001b[0m \u001b[0;34m\u001b[0m\u001b[0m\n\u001b[1;32m      4\u001b[0m \u001b[0mmodel\u001b[0m \u001b[0;34m=\u001b[0m \u001b[0mstring_to_model\u001b[0m\u001b[0;34m(\u001b[0m\u001b[0mtext\u001b[0m\u001b[0;34m,\u001b[0m\u001b[0;34m(\u001b[0m\u001b[0;36m193\u001b[0m\u001b[0;34m,\u001b[0m\u001b[0;36m193\u001b[0m\u001b[0;34m,\u001b[0m\u001b[0;36m1\u001b[0m\u001b[0;34m)\u001b[0m \u001b[0;34m)\u001b[0m\u001b[0;34m\u001b[0m\u001b[0;34m\u001b[0m\u001b[0m\n\u001b[1;32m      5\u001b[0m \u001b[0mmodel\u001b[0m\u001b[0;34m.\u001b[0m\u001b[0msummary\u001b[0m\u001b[0;34m(\u001b[0m\u001b[0;34m)\u001b[0m\u001b[0;34m\u001b[0m\u001b[0;34m\u001b[0m\u001b[0m\n",
      "\u001b[0;31mNameError\u001b[0m: name 'tf' is not defined"
     ]
    }
   ],
   "source": [
    "input_layer = tf.keras.layers.Input((96,96,1))\n",
    "\n",
    "\n",
    "model = string_to_model(text,(193,193,1) )\n",
    "model.summary()"
   ]
  },
  {
   "cell_type": "code",
   "execution_count": 21,
   "metadata": {},
   "outputs": [
    {
     "name": "stdout",
     "output_type": "stream",
     "text": [
      "Model: \"MyModel\"\n",
      "_________________________________________________________________\n",
      "Layer (type)                 Output Shape              Param #   \n",
      "=================================================================\n",
      "input_19 (InputLayer)        [(None, 193, 193, 1)]     0         \n",
      "_________________________________________________________________\n",
      "conv2d_91 (Conv2D)           (None, 193, 193, 16)      32        \n",
      "_________________________________________________________________\n",
      "conv2d_92 (Conv2D)           (None, 191, 191, 32)      4640      \n",
      "_________________________________________________________________\n",
      "max_pooling2d_69 (MaxPooling (None, 95, 95, 32)        0         \n",
      "_________________________________________________________________\n",
      "conv2d_93 (Conv2D)           (None, 93, 93, 64)        18496     \n",
      "_________________________________________________________________\n",
      "max_pooling2d_70 (MaxPooling (None, 46, 46, 64)        0         \n",
      "_________________________________________________________________\n",
      "conv2d_94 (Conv2D)           (None, 44, 44, 128)       73856     \n",
      "_________________________________________________________________\n",
      "max_pooling2d_71 (MaxPooling (None, 21, 21, 128)       0         \n",
      "_________________________________________________________________\n",
      "conv2d_95 (Conv2D)           (None, 19, 19, 256)       295168    \n",
      "_________________________________________________________________\n",
      "max_pooling2d_72 (MaxPooling (None, 9, 9, 256)         0         \n",
      "_________________________________________________________________\n",
      "conv2d_96 (Conv2D)           (None, 7, 7, 512)         1180160   \n",
      "_________________________________________________________________\n",
      "max_pooling2d_73 (MaxPooling (None, 3, 3, 512)         0         \n",
      "_________________________________________________________________\n",
      "conv2d_97 (Conv2D)           (None, 1, 1, 1024)        4719616   \n",
      "_________________________________________________________________\n",
      "flatten_12 (Flatten)         (None, 1024)              0         \n",
      "_________________________________________________________________\n",
      "dense_14 (Dense)             (None, 3)                 3075      \n",
      "=================================================================\n",
      "Total params: 6,295,043\n",
      "Trainable params: 6,295,043\n",
      "Non-trainable params: 0\n",
      "_________________________________________________________________\n"
     ]
    }
   ],
   "source": [
    "from deep_mri.model_zoo import model_factory\n",
    "text = \n",
    "\n",
    "model = model_factory('str_MyModel', layers_text=text,input_shape=(193,193,1))\n",
    "model.summary()"
   ]
  },
  {
   "cell_type": "code",
   "execution_count": null,
   "metadata": {},
   "outputs": [],
   "source": [
    "tf.keras.layers.Dense?"
   ]
  },
  {
   "cell_type": "code",
   "execution_count": null,
   "metadata": {},
   "outputs": [],
   "source": []
  },
  {
   "cell_type": "code",
   "execution_count": null,
   "metadata": {},
   "outputs": [],
   "source": []
  }
 ],
 "metadata": {
  "kernelspec": {
   "display_name": "deep_mri",
   "language": "python",
   "name": "deep_mri"
  },
  "language_info": {
   "codemirror_mode": {
    "name": "ipython",
    "version": 3
   },
   "file_extension": ".py",
   "mimetype": "text/x-python",
   "name": "python",
   "nbconvert_exporter": "python",
   "pygments_lexer": "ipython3",
   "version": "3.8.3"
  }
 },
 "nbformat": 4,
 "nbformat_minor": 2
}
