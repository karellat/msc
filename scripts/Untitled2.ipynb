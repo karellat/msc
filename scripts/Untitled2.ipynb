{
 "cells": [
  {
   "cell_type": "code",
   "execution_count": null,
   "metadata": {},
   "outputs": [],
   "source": [
    "from deep_mri.dataset.dataset import get_train_valid_files, _get_image_group\n",
    "train_files,  valid_files = get_train_valid_files(path=\"/home/karelto1/MRI/front_slice/*/*/*.png\",\n",
    "                                                         csv_path=\"/home/karelto1/MRI/ADNI1_Complete_1Yr_1.5T_10_13_2019.csv\",\n",
    "                                                         train_filter_first_screen=True,\n",
    "                                                         valid_filter_first_screen=True,\n",
    "                                                         img_group_fnc=lambda x: _get_image_group(x, class_folder=-3))"
   ]
  },
  {
   "cell_type": "code",
   "execution_count": null,
   "metadata": {},
   "outputs": [],
   "source": [
    "from deep_mri.dataset.dataset_2d import factory\n",
    "factory(train_files, valid_files, transform='saturation')"
   ]
  },
  {
   "cell_type": "code",
   "execution_count": 5,
   "metadata": {},
   "outputs": [
    {
     "name": "stdout",
     "output_type": "stream",
     "text": [
      "\u001b[0m\u001b[01;34mad\u001b[0m/  \u001b[01;34mcn\u001b[0m/  \u001b[01;34mmci\u001b[0m/\r\n"
     ]
    }
   ],
   "source": [
    "ls /home/karelto1/MRI/front_slice/"
   ]
  },
  {
   "cell_type": "code",
   "execution_count": 13,
   "metadata": {
    "scrolled": false
   },
   "outputs": [
    {
     "name": "stderr",
     "output_type": "stream",
     "text": [
      "WARNING:root:AD count: 152\n",
      "WARNING:root:MCI count: 348\n",
      "WARNING:root:CN count: 209\n",
      "ERROR:root:Image 83126 without first visit, subject 057_S_0643\n",
      "ERROR:root:83126 appending to train set\n",
      "ERROR:root:Image 68006 without first visit, subject 021_S_0337\n",
      "ERROR:root:68006 appending to train set\n",
      "ERROR:root:Image 72343 without first visit, subject 127_S_0622\n",
      "ERROR:root:72343 appending to train set\n",
      "ERROR:root:Image 87256 without first visit, subject 041_S_0898\n",
      "ERROR:root:87256 appending to train set\n",
      "ERROR:root:Image 62924 without first visit, subject 041_S_0898\n",
      "ERROR:root:62924 appending to train set\n",
      "ERROR:root:Image 47884 without first visit, subject 099_S_0040\n",
      "ERROR:root:47884 appending to train set\n",
      "ERROR:root:Image 63610 without first visit, subject 127_S_0684\n",
      "ERROR:root:63610 appending to train set\n",
      "ERROR:root:Image 65464 without first visit, subject 099_S_0534\n",
      "ERROR:root:65464 appending to train set\n",
      "ERROR:root:Image 119795 without first visit, subject 018_S_0055\n",
      "ERROR:root:119795 appending to train set\n",
      "ERROR:root:Image 76615 without first visit, subject 021_S_0984\n",
      "ERROR:root:76615 appending to train set\n",
      "ERROR:root:Image 63556 without first visit, subject 127_S_0260\n",
      "ERROR:root:63556 appending to train set\n",
      "ERROR:root:Image 80243 without first visit, subject 057_S_0934\n",
      "ERROR:root:80243 appending to train set\n",
      "ERROR:root:Image 130236 without first visit, subject 068_S_0127\n",
      "ERROR:root:130236 appending to train set\n",
      "ERROR:root:Image 67958 without first visit, subject 021_S_0159\n",
      "ERROR:root:67958 appending to train set\n",
      "ERROR:root:Image 67743 without first visit, subject 099_S_0352\n",
      "ERROR:root:67743 appending to train set\n",
      "ERROR:root:Image 65883 without first visit, subject 011_S_0022\n",
      "ERROR:root:65883 appending to train set\n",
      "ERROR:root:Image 39468 without first visit, subject 041_S_0125\n",
      "ERROR:root:39468 appending to train set\n",
      "ERROR:root:Image 74184 without first visit, subject 005_S_0602\n",
      "ERROR:root:74184 appending to train set\n",
      "ERROR:root:Image 86120 without first visit, subject 127_S_0260\n",
      "ERROR:root:86120 appending to train set\n",
      "ERROR:root:Image 47917 without first visit, subject 099_S_0352\n",
      "ERROR:root:47917 appending to train set\n",
      "ERROR:root:Image 66190 without first visit, subject 127_S_0259\n",
      "ERROR:root:66190 appending to train set\n",
      "ERROR:root:Image 65902 without first visit, subject 011_S_0023\n",
      "ERROR:root:65902 appending to train set\n",
      "ERROR:root:Image 47944 without first visit, subject 099_S_0534\n",
      "ERROR:root:47944 appending to train set\n",
      "ERROR:root:Image 74582 without first visit, subject 005_S_0610\n",
      "ERROR:root:74582 appending to train set\n",
      "ERROR:root:Image 66106 without first visit, subject 100_S_0047\n",
      "ERROR:root:66106 appending to train set\n",
      "ERROR:root:Image 88036 without first visit, subject 021_S_0984\n",
      "ERROR:root:88036 appending to train set\n",
      "ERROR:root:Image 67997 without first visit, subject 021_S_0337\n",
      "ERROR:root:67997 appending to train set\n",
      "ERROR:root:Image 47047 without first visit, subject 027_S_0403\n",
      "ERROR:root:47047 appending to train set\n",
      "ERROR:root:Image 66087 without first visit, subject 100_S_0015\n",
      "ERROR:root:66087 appending to train set\n",
      "ERROR:root:Image 118833 without first visit, subject 018_S_0055\n",
      "ERROR:root:118833 appending to train set\n",
      "ERROR:root:Image 74509 without first visit, subject 127_S_0684\n",
      "ERROR:root:74509 appending to train set\n",
      "ERROR:root:Image 67909 without first visit, subject 005_S_0553\n",
      "ERROR:root:67909 appending to train set\n",
      "ERROR:root:Image 68467 without first visit, subject 021_S_0647\n",
      "ERROR:root:68467 appending to train set\n",
      "ERROR:root:Image 102045 without first visit, subject 005_S_0223\n",
      "ERROR:root:102045 appending to train set\n",
      "ERROR:root:Image 62336 without first visit, subject 100_S_0069\n",
      "ERROR:root:62336 appending to train set\n",
      "ERROR:root:Image 71325 without first visit, subject 005_S_0610\n",
      "ERROR:root:71325 appending to train set\n",
      "ERROR:root:Image 86188 without first visit, subject 127_S_0622\n",
      "ERROR:root:86188 appending to train set\n",
      "ERROR:root:Image 66092 without first visit, subject 100_S_0035\n",
      "ERROR:root:66092 appending to train set\n",
      "ERROR:root:Image 70754 without first visit, subject 068_S_0127\n",
      "ERROR:root:70754 appending to train set\n",
      "ERROR:root:Image 67522 without first visit, subject 041_S_0125\n",
      "ERROR:root:67522 appending to train set\n",
      "ERROR:root:Image 70692 without first visit, subject 027_S_0403\n",
      "ERROR:root:70692 appending to train set\n",
      "ERROR:root:Image 66520 without first visit, subject 005_S_0223\n",
      "ERROR:root:66520 appending to train set\n",
      "ERROR:root:Image 71463 without first visit, subject 021_S_0647\n",
      "ERROR:root:71463 appending to train set\n",
      "ERROR:root:Image 67668 without first visit, subject 005_S_0602\n",
      "ERROR:root:67668 appending to train set\n",
      "ERROR:root:Image 73520 without first visit, subject 005_S_0553\n",
      "ERROR:root:73520 appending to train set\n",
      "ERROR:root:Image 68428 without first visit, subject 018_S_0055\n",
      "ERROR:root:68428 appending to train set\n",
      "ERROR:root:Image 62965 without first visit, subject 057_S_0934\n",
      "ERROR:root:62965 appending to train set\n",
      "ERROR:root:Image 73366 without first visit, subject 057_S_0643\n",
      "ERROR:root:73366 appending to train set\n",
      "ERROR:root:Image 106190 without first visit, subject 100_S_0190\n",
      "ERROR:root:106190 appending to train set\n",
      "ERROR:root:Image 65152 without first visit, subject 041_S_0314\n",
      "ERROR:root:65152 appending to train set\n",
      "ERROR:root:Image 68423 without first visit, subject 005_S_0546\n",
      "ERROR:root:68423 appending to train set\n",
      "ERROR:root:Image 62348 without first visit, subject 100_S_0006\n",
      "ERROR:root:62348 appending to train set\n",
      "ERROR:root:Image 68088 without first visit, subject 027_S_0644\n",
      "ERROR:root:68088 appending to train set\n",
      "ERROR:root:Image 95674 without first visit, subject 100_S_0190\n",
      "ERROR:root:95674 appending to train set\n",
      "ERROR:root:Image 68032 without first visit, subject 021_S_0424\n",
      "ERROR:root:68032 appending to train set\n",
      "ERROR:root:Image 69472 without first visit, subject 021_S_0332\n",
      "ERROR:root:69472 appending to train set\n",
      "ERROR:root:Image 68056 without first visit, subject 021_S_0626\n",
      "ERROR:root:68056 appending to train set\n",
      "ERROR:root:Image 97223 without first visit, subject 127_S_0112\n",
      "ERROR:root:97223 appending to train set\n",
      "ERROR:root:Image 89943 without first visit, subject 027_S_0417\n",
      "ERROR:root:89943 appending to train set\n",
      "ERROR:root:Image 64242 without first visit, subject 057_S_0941\n",
      "ERROR:root:64242 appending to train set\n",
      "ERROR:root:Image 65999 without first visit, subject 027_S_0256\n",
      "ERROR:root:65999 appending to train set\n",
      "ERROR:root:Image 78885 without first visit, subject 027_S_0835\n",
      "ERROR:root:78885 appending to train set\n",
      "ERROR:root:Image 65334 without first visit, subject 027_S_0835\n",
      "ERROR:root:65334 appending to train set\n",
      "ERROR:root:Image 94387 without first visit, subject 011_S_1080\n",
      "ERROR:root:94387 appending to train set\n",
      "ERROR:root:Image 67876 without first visit, subject 005_S_0448\n",
      "ERROR:root:67876 appending to train set\n",
      "ERROR:root:Image 80659 without first visit, subject 100_S_0296\n",
      "ERROR:root:80659 appending to train set\n",
      "ERROR:root:Image 78787 without first visit, subject 011_S_0861\n",
      "ERROR:root:78787 appending to train set\n",
      "ERROR:root:Image 67969 without first visit, subject 021_S_0231\n",
      "ERROR:root:67969 appending to train set\n",
      "ERROR:root:Image 79205 without first visit, subject 027_S_1277\n",
      "ERROR:root:79205 appending to train set\n",
      "ERROR:root:Image 87484 without first visit, subject 011_S_0168\n",
      "ERROR:root:87484 appending to train set\n",
      "ERROR:root:Image 63574 without first visit, subject 127_S_0393\n",
      "ERROR:root:63574 appending to train set\n",
      "ERROR:root:Image 75633 without first visit, subject 005_S_0546\n",
      "ERROR:root:75633 appending to train set\n",
      "ERROR:root:Image 67918 without first visit, subject 011_S_0861\n",
      "ERROR:root:67918 appending to train set\n",
      "ERROR:root:Image 88086 without first visit, subject 127_S_0393\n",
      "ERROR:root:88086 appending to train set\n",
      "ERROR:root:Image 72141 without first visit, subject 005_S_0448\n",
      "ERROR:root:72141 appending to train set\n",
      "ERROR:root:Image 47115 without first visit, subject 027_S_0461\n",
      "ERROR:root:47115 appending to train set\n",
      "ERROR:root:Image 47889 without first visit, subject 099_S_0051\n",
      "ERROR:root:47889 appending to train set\n",
      "ERROR:root:Image 79171 without first visit, subject 021_S_0332\n",
      "ERROR:root:79171 appending to train set\n",
      "ERROR:root:Image 64134 without first visit, subject 041_S_0314\n",
      "ERROR:root:64134 appending to train set\n"
     ]
    },
    {
     "name": "stderr",
     "output_type": "stream",
     "text": [
      "ERROR:root:Image 62341 without first visit, subject 100_S_0296\n",
      "ERROR:root:62341 appending to train set\n",
      "ERROR:root:Image 67986 without first visit, subject 021_S_0276\n",
      "ERROR:root:67986 appending to train set\n",
      "ERROR:root:Image 62599 without first visit, subject 005_S_0324\n",
      "ERROR:root:62599 appending to train set\n",
      "ERROR:root:Image 86050 without first visit, subject 021_S_0424\n",
      "ERROR:root:86050 appending to train set\n",
      "ERROR:root:Image 47100 without first visit, subject 027_S_0644\n",
      "ERROR:root:47100 appending to train set\n",
      "ERROR:root:Image 86179 without first visit, subject 027_S_0307\n",
      "ERROR:root:86179 appending to train set\n",
      "ERROR:root:Image 65320 without first visit, subject 027_S_0461\n",
      "ERROR:root:65320 appending to train set\n",
      "ERROR:root:Image 79382 without first visit, subject 126_S_0865\n",
      "ERROR:root:79382 appending to train set\n",
      "ERROR:root:Image 86025 without first visit, subject 005_S_0324\n",
      "ERROR:root:86025 appending to train set\n",
      "ERROR:root:Image 72414 without first visit, subject 057_S_0464\n",
      "ERROR:root:72414 appending to train set\n",
      "ERROR:root:Image 62952 without first visit, subject 057_S_0464\n",
      "ERROR:root:62952 appending to train set\n",
      "ERROR:root:Image 65469 without first visit, subject 099_S_0551\n",
      "ERROR:root:65469 appending to train set\n",
      "ERROR:root:Image 79391 without first visit, subject 127_S_0394\n",
      "ERROR:root:79391 appending to train set\n",
      "ERROR:root:Image 73903 without first visit, subject 021_S_0626\n",
      "ERROR:root:73903 appending to train set\n",
      "ERROR:root:Image 67941 without first visit, subject 021_S_0141\n",
      "ERROR:root:67941 appending to train set\n",
      "ERROR:root:Image 63236 without first visit, subject 099_S_0551\n",
      "ERROR:root:63236 appending to train set\n",
      "ERROR:root:Image 63592 without first visit, subject 127_S_0394\n",
      "ERROR:root:63592 appending to train set\n",
      "ERROR:root:Image 65442 without first visit, subject 099_S_0291\n",
      "ERROR:root:65442 appending to train set\n",
      "ERROR:root:Image 68448 without first visit, subject 021_S_0273\n",
      "ERROR:root:68448 appending to train set\n",
      "ERROR:root:Image 65908 without first visit, subject 011_S_1080\n",
      "ERROR:root:65908 appending to train set\n",
      "ERROR:root:Image 82342 without first visit, subject 057_S_0941\n",
      "ERROR:root:82342 appending to train set\n",
      "ERROR:root:Image 66950 without first visit, subject 011_S_0241\n",
      "ERROR:root:66950 appending to train set\n",
      "ERROR:root:Image 65298 without first visit, subject 027_S_0307\n",
      "ERROR:root:65298 appending to train set\n",
      "ERROR:root:Image 94467 without first visit, subject 027_S_1277\n",
      "ERROR:root:94467 appending to train set\n",
      "ERROR:root:Image 81495 without first visit, subject 141_S_0790\n",
      "ERROR:root:81495 appending to train set\n",
      "ERROR:root:Image 47926 without first visit, subject 099_S_0470\n",
      "ERROR:root:47926 appending to train set\n",
      "ERROR:root:Image 63619 without first visit, subject 127_S_0844\n",
      "ERROR:root:63619 appending to train set\n",
      "ERROR:root:Image 82642 without first visit, subject 127_S_0844\n",
      "ERROR:root:82642 appending to train set\n",
      "ERROR:root:Image 87324 without first visit, subject 011_S_0183\n",
      "ERROR:root:87324 appending to train set\n",
      "ERROR:root:Image 66945 without first visit, subject 011_S_0053\n",
      "ERROR:root:66945 appending to train set\n",
      "ERROR:root:Image 78869 without first visit, subject 021_S_0753\n",
      "ERROR:root:78869 appending to train set\n",
      "ERROR:root:Image 68067 without first visit, subject 021_S_0642\n",
      "ERROR:root:68067 appending to train set\n",
      "ERROR:root:Image 64213 without first visit, subject 057_S_0474\n",
      "ERROR:root:64213 appending to train set\n",
      "ERROR:root:Image 85699 without first visit, subject 021_S_0343\n",
      "ERROR:root:85699 appending to train set\n",
      "ERROR:root:Image 49539 without first visit, subject 099_S_0372\n",
      "ERROR:root:49539 appending to train set\n",
      "ERROR:root:Image 65451 without first visit, subject 099_S_0372\n",
      "ERROR:root:65451 appending to train set\n",
      "ERROR:root:Image 64218 without first visit, subject 057_S_0474\n",
      "ERROR:root:64218 appending to train set\n",
      "ERROR:root:Image 88563 without first visit, subject 099_S_0470\n",
      "ERROR:root:88563 appending to train set\n",
      "ERROR:root:Image 102146 without first visit, subject 141_S_0790\n",
      "ERROR:root:102146 appending to train set\n",
      "ERROR:root:Image 94368 without first visit, subject 011_S_0010\n",
      "ERROR:root:94368 appending to train set\n",
      "ERROR:root:Image 80737 without first visit, subject 127_S_0431\n",
      "ERROR:root:80737 appending to train set\n",
      "ERROR:root:Image 82214 without first visit, subject 027_S_0404\n",
      "ERROR:root:82214 appending to train set\n",
      "ERROR:root:Image 68456 without first visit, subject 021_S_0642\n",
      "ERROR:root:68456 appending to train set\n",
      "ERROR:root:Image 68474 without first visit, subject 021_S_0753\n",
      "ERROR:root:68474 appending to train set\n",
      "ERROR:root:Image 63601 without first visit, subject 127_S_0431\n",
      "ERROR:root:63601 appending to train set\n",
      "ERROR:root:Image 47091 without first visit, subject 027_S_0404\n",
      "ERROR:root:47091 appending to train set\n"
     ]
    },
    {
     "data": {
      "application/vnd.jupyter.widget-view+json": {
       "model_id": "",
       "version_major": 2,
       "version_minor": 0
      },
      "text/plain": [
       "HBox(children=(FloatProgress(value=0.0, layout=Layout(flex='2'), max=183400.0), HTML(value='')), layout=Layout…"
      ]
     },
     "metadata": {},
     "output_type": "display_data"
    },
    {
     "data": {
      "application/vnd.jupyter.widget-view+json": {
       "model_id": "",
       "version_major": 2,
       "version_minor": 0
      },
      "text/plain": [
       "HBox(children=(FloatProgress(value=0.0, layout=Layout(flex='2'), max=26300.0), HTML(value='')), layout=Layout(…"
      ]
     },
     "metadata": {},
     "output_type": "display_data"
    }
   ],
   "source": [
    "from deep_mri.dataset import dataset_factory\n",
    "train_ds, valid_ds = dataset_factory(\"encoder\",\n",
    "                False,\n",
    "                False,\n",
    "                data_path=\"/home/karelto1/MRI/minc_beast/*/*/*.nii\",\n",
    "                data_csv_path=\"/home/karelto1/MRI/ADNI1_Complete_1Yr_1.5T_10_13_2019.csv\",\n",
    "                group_folder=-3)"
   ]
  },
  {
   "cell_type": "code",
   "execution_count": null,
   "metadata": {},
   "outputs": [],
   "source": [
    "valid_files[0].split(os.path.sep)[-3]"
   ]
  },
  {
   "cell_type": "code",
   "execution_count": null,
   "metadata": {},
   "outputs": [],
   "source": [
    "valid_files"
   ]
  },
  {
   "cell_type": "code",
   "execution_count": null,
   "metadata": {},
   "outputs": [],
   "source": [
    "def calc_entropy(array):\n",
    "    hist = np.histogram(array)\n",
    "    rv = rv_histogram(hist)\n",
    "    return float(rv.entropy())\n",
    "\n",
    "def max_entropy_slices(img, index):\n",
    "    slices = img.reshape((img.shape[0], img.shape[1] *  img.shape[2]))\n",
    "    entropies = [calc_entropy(slices[i]) for i in range(256)]\n",
    "    means = [np.mean(slices[i]) for i in range(256)]\n",
    "    max_entropy = np.argsort(entropies)\n",
    "    max_mean = np.argsort(means)\n",
    "    entropy_mean_difference = len(set(max_entropy[index:]) - set(max_mean[index:]))\n",
    "    return entropy_mean_difference, max_entropy[index:]"
   ]
  },
  {
   "cell_type": "code",
   "execution_count": null,
   "metadata": {},
   "outputs": [],
   "source": [
    "from scipy import stats\n",
    "from os import walk\n",
    "import tqdm\n",
    "from scipy.stats import rv_histogram\n",
    "import numpy as np \n",
    "\n"
   ]
  },
  {
   "cell_type": "code",
   "execution_count": null,
   "metadata": {},
   "outputs": [],
   "source": [
    "plt.imsave('example.png', np.rot90(img_arr[:,np.argmax(entropies),:]))"
   ]
  },
  {
   "cell_type": "code",
   "execution_count": null,
   "metadata": {},
   "outputs": [],
   "source": [
    "plt.imshow(np.rot90(img_arr[:,np.argmax(entropies),:]))"
   ]
  },
  {
   "cell_type": "code",
   "execution_count": null,
   "metadata": {},
   "outputs": [],
   "source": [
    "import glob\n",
    "files = glob.glob('/home/karelto1/MRI/minc_beast/*/*/*.nii')"
   ]
  },
  {
   "cell_type": "code",
   "execution_count": null,
   "metadata": {},
   "outputs": [],
   "source": [
    "from deep_mri.dataset.dataset import _get_image_group, _get_image_id, CLASS_NAMES"
   ]
  },
  {
   "cell_type": "code",
   "execution_count": null,
   "metadata": {},
   "outputs": [],
   "source": [
    "root_dir = '/home/karelto1/MRI/front_slice'\n",
    "pbar = tqdm(total=len(files))\n",
    "for f in files:\n",
    "    group = CLASS_NAMES[np.argmax(_get_image_group(f))]\n",
    "    image_id = _get_image_id(f)\n",
    "    image_dir =os.path.join(root_dir, group, str(image_id))\n",
    "    os.makedirs(image_dir,exist_ok=True)\n",
    "\n",
    "    img = nib.load(f)\n",
    "    img_arr = np.array(img.get_fdata())\n",
    "    entropies = []\n",
    "    index = 1\n",
    "\n",
    "    for i in range(img_arr.shape[index]):\n",
    "        arr = img_arr[:,i,:]\n",
    "        entropies.append(calc_entropy(arr.flatten()))\n",
    "\n",
    "    entropy_idx = np.flip(np.argsort(entropies))\n",
    "    for i in entropy_idx[:10]:\n",
    "        slice_name = os.path.join(image_dir, f'{os.path.basename(f).split(\".\")[0]}_s{i}.png')\n",
    "        plt.imsave(slice_name,img_arr[:,i,:])\n",
    "    pbar.update(1)"
   ]
  },
  {
   "cell_type": "code",
   "execution_count": null,
   "metadata": {},
   "outputs": [],
   "source": [
    "from auto_tqdm import tqdm"
   ]
  },
  {
   "cell_type": "code",
   "execution_count": null,
   "metadata": {},
   "outputs": [],
   "source": [
    "glob.glob('/home/karelto1/MRI/front_slice/*/*/*.png')[0].split(os.path.sep)[-2]"
   ]
  },
  {
   "cell_type": "code",
   "execution_count": null,
   "metadata": {},
   "outputs": [],
   "source": [
    "train_files, valid_files = get_train_valid_files(shuffle_stategy=ShuffleStrategy.SHUFFLE_SUBJECTS,\n",
    "                                                 path='/home/karelto1/MRI/front_slice/*/*/*.png',\n",
    "                                                 csv_path=\"/home/karelto1/MRI/ADNI1_Complete_1Yr_1.5T_10_13_2019.csv\",\n",
    "                                                 im_id_fnc= lambda x: int(x.split(os.path.sep)[-2]),\n",
    "                                                 img_group_fnc = lambda x: _get_image_group(x, -3))"
   ]
  },
  {
   "cell_type": "code",
   "execution_count": null,
   "metadata": {},
   "outputs": [],
   "source": [
    "import tensorflow as tf\n",
    "from deep_mri.dataset.dataset_2d import _get_label_tf, CLASS_NAMES, _generator\n"
   ]
  },
  {
   "cell_type": "code",
   "execution_count": null,
   "metadata": {},
   "outputs": [],
   "source": [
    "from deep_mri.dataset import numpy_to_nibabel\n",
    "import matplotlib.pyplot as plt\n",
    "plt.imshow(img.numpy())"
   ]
  },
  {
   "cell_type": "code",
   "execution_count": 9,
   "metadata": {},
   "outputs": [],
   "source": [
    "for img, label in iter(train_ds): \n",
    "    pass "
   ]
  },
  {
   "cell_type": "code",
   "execution_count": null,
   "metadata": {},
   "outputs": [],
   "source": [
    "gen =  iter(gen)"
   ]
  },
  {
   "cell_type": "code",
   "execution_count": null,
   "metadata": {},
   "outputs": [],
   "source": [
    "train_ds = tf.data.Dataset.from_generator(_generator,\n",
    "                                          output_types=(tf.float32, tf.bool),\n",
    "                                              output_shapes=((193, 193, 3), (3,)),\n",
    "                                          args=[193, 3, CLASS_NAMES, None])"
   ]
  },
  {
   "cell_type": "code",
   "execution_count": null,
   "metadata": {},
   "outputs": [],
   "source": [
    "gen = _generator(train_files, 193, 3, CLASS_NAMES, None)\n",
    "for img, label in gen: \n",
    "    if img is None: \n",
    "        print(img)"
   ]
  },
  {
   "cell_type": "code",
   "execution_count": null,
   "metadata": {},
   "outputs": [],
   "source": []
  }
 ],
 "metadata": {
  "kernelspec": {
   "display_name": "deep_mri",
   "language": "python",
   "name": "deep_mri"
  },
  "language_info": {
   "codemirror_mode": {
    "name": "ipython",
    "version": 3
   },
   "file_extension": ".py",
   "mimetype": "text/x-python",
   "name": "python",
   "nbconvert_exporter": "python",
   "pygments_lexer": "ipython3",
   "version": "3.8.3"
  }
 },
 "nbformat": 4,
 "nbformat_minor": 2
}
