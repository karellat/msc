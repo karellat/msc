{
 "cells": [
  {
   "cell_type": "code",
   "execution_count": 1,
   "metadata": {},
   "outputs": [
    {
     "name": "stdout",
     "output_type": "stream",
     "text": [
      "Collecting tensorflow-hub\n",
      "  Downloading tensorflow_hub-0.8.0-py2.py3-none-any.whl (101 kB)\n",
      "\u001b[K     |████████████████████████████████| 101 kB 3.3 MB/s ta 0:00:011\n",
      "\u001b[?25hRequirement already satisfied, skipping upgrade: protobuf>=3.8.0 in /usr/local/lib/python3.6/dist-packages (from tensorflow-hub) (3.11.3)\n",
      "Requirement already satisfied, skipping upgrade: six>=1.12.0 in /usr/local/lib/python3.6/dist-packages (from tensorflow-hub) (1.14.0)\n",
      "Requirement already satisfied, skipping upgrade: numpy>=1.12.0 in /usr/local/lib/python3.6/dist-packages (from tensorflow-hub) (1.18.4)\n",
      "Requirement already satisfied, skipping upgrade: setuptools in /usr/local/lib/python3.6/dist-packages (from protobuf>=3.8.0->tensorflow-hub) (46.1.3)\n",
      "Installing collected packages: tensorflow-hub\n",
      "Successfully installed tensorflow-hub-0.8.0\n",
      "\u001b[33mWARNING: You are using pip version 20.1; however, version 20.1.1 is available.\n",
      "You should consider upgrading via the '/usr/bin/python3 -m pip install --upgrade pip' command.\u001b[0m\n",
      "Note: you may need to restart the kernel to use updated packages.\n",
      "Collecting scikit-learn\n",
      "  Downloading scikit_learn-0.23.1-cp36-cp36m-manylinux1_x86_64.whl (6.8 MB)\n",
      "\u001b[K     |████████████████████████████████| 6.8 MB 1.8 MB/s eta 0:00:01\n",
      "\u001b[?25hRequirement already satisfied: numpy>=1.13.3 in /usr/local/lib/python3.6/dist-packages (from scikit-learn) (1.18.4)\n",
      "Collecting threadpoolctl>=2.0.0\n",
      "  Downloading threadpoolctl-2.0.0-py3-none-any.whl (34 kB)\n",
      "Requirement already satisfied: scipy>=0.19.1 in /usr/local/lib/python3.6/dist-packages (from scikit-learn) (1.4.1)\n",
      "Collecting joblib>=0.11\n",
      "  Downloading joblib-0.15.1-py3-none-any.whl (298 kB)\n",
      "\u001b[K     |████████████████████████████████| 298 kB 2.5 MB/s eta 0:00:01\n",
      "\u001b[?25hInstalling collected packages: threadpoolctl, joblib, scikit-learn\n",
      "Successfully installed joblib-0.15.1 scikit-learn-0.23.1 threadpoolctl-2.0.0\n",
      "\u001b[33mWARNING: You are using pip version 20.1; however, version 20.1.1 is available.\n",
      "You should consider upgrading via the '/usr/bin/python3 -m pip install --upgrade pip' command.\u001b[0m\n",
      "Note: you may need to restart the kernel to use updated packages.\n"
     ]
    }
   ],
   "source": [
    "%pip install --upgrade tensorflow-hub\n",
    "%pip install scikit-learn"
   ]
  },
  {
   "cell_type": "code",
   "execution_count": 2,
   "metadata": {},
   "outputs": [],
   "source": [
    "from prepare_dataset import get_datasets, CLASS_NAMES\n",
    "import tensorflow as tf\n",
    "import tensorflow_hub as hub\n",
    "from datetime import datetime\n",
    "import matplotlib.pyplot as plt\n",
    "import itertools\n",
    "import numpy as np\n",
    "import io\n",
    "from sklearn.metrics import confusion_matrix\n",
    "from slice_utils import show_batch, get_not_matching\n",
    "from prepare_dataset import decode_img, ImgReshape\n",
    "import itertools\n",
    "# Load the TensorBoard notebook extension.\n",
    "%load_ext tensorboard"
   ]
  },
  {
   "cell_type": "code",
   "execution_count": null,
   "metadata": {},
   "outputs": [],
   "source": []
  },
  {
   "cell_type": "code",
   "execution_count": null,
   "metadata": {},
   "outputs": [],
   "source": []
  },
  {
   "cell_type": "code",
   "execution_count": 3,
   "metadata": {},
   "outputs": [],
   "source": [
    "def plot_to_image(figure):\n",
    "    \"\"\"Converts the matplotlib plot specified by 'figure' to a PNG image and\n",
    "    returns it. The supplied figure is closed and inaccessible after this call.\"\"\"\n",
    "    # Save the plot to a PNG in memory.\n",
    "    buf = io.BytesIO()\n",
    "    plt.savefig(buf, format='png')\n",
    "    # Closing the figure prevents it from being displayed directly inside\n",
    "    # the notebook.\n",
    "    plt.close(figure)\n",
    "    buf.seek(0)\n",
    "    # Convert PNG buffer to TF image\n",
    "    image = tf.image.decode_png(buf.getvalue(), channels=4)\n",
    "    # Add the batch dimension\n",
    "    image = tf.expand_dims(image, 0)\n",
    "    return image\n",
    "\n",
    "def plot_confusion_matrix(cm, class_names):\n",
    "    \"\"\"\n",
    "    Returns a matplotlib figure containing the plotted confusion matrix.\n",
    "\n",
    "    Args:\n",
    "    cm (array, shape = [n, n]): a confusion matrix of integer classes\n",
    "    class_names (array, shape = [n]): String names of the integer classes\n",
    "    \"\"\"\n",
    "    figure = plt.figure(figsize=(10, 10))\n",
    "    plt.imshow(cm, interpolation='nearest', cmap=plt.cm.Blues)\n",
    "    plt.title(\"Confusion matrix\")\n",
    "    plt.colorbar()\n",
    "    tick_marks = np.arange(len(class_names))\n",
    "    plt.xticks(tick_marks, class_names, rotation=45)\n",
    "    plt.yticks(tick_marks, class_names)\n",
    "\n",
    "    # Normalize the confusion matrix.\n",
    "    cm = np.around(cm.astype('float') / cm.sum(axis=1)[:, np.newaxis], decimals=2)\n",
    "\n",
    "    # Use white text if squares are dark; otherwise black.\n",
    "    threshold = cm.max() / 2.\n",
    "    for i, j in itertools.product(range(cm.shape[0]), range(cm.shape[1])):\n",
    "        color = \"white\" if cm[i, j] > threshold else \"black\"\n",
    "        plt.text(j, i, cm[i, j], horizontalalignment=\"center\", color=color)\n",
    "\n",
    "    plt.tight_layout()\n",
    "    plt.ylabel('True label')\n",
    "    plt.xlabel('Predicted label')\n",
    "    return figure"
   ]
  },
  {
   "cell_type": "code",
   "execution_count": 4,
   "metadata": {},
   "outputs": [],
   "source": [
    "def log_confusion_matrix(epoch, logs):\n",
    "  # Use the model to predict the values from the validation dataset.\n",
    "    test_pred_raw = model.predict(valid_ds)\n",
    "    test_pred = np.argmax(test_pred_raw, axis=1)\n",
    "    labels = np.concatenate(list(valid_ds.map(lambda img, label: label).as_numpy_iterator()))\n",
    "    test_label = np.argmax(labels, axis=1)\n",
    "    # Calculate the confusion matrix.\n",
    "    cm = confusion_matrix(test_label, test_pred)\n",
    "    # Log the confusion matrix as an image summary.\n",
    "    figure = plot_confusion_matrix(cm, class_names=CLASS_NAMES)\n",
    "    cm_image = plot_to_image(figure)\n",
    "\n",
    "    # Log the confusion matrix as an image summary.\n",
    "    with file_writer_cm.as_default():\n",
    "        tf.summary.image(\"Confusion Matrix\", cm_image, step=epoch)"
   ]
  },
  {
   "cell_type": "code",
   "execution_count": 5,
   "metadata": {},
   "outputs": [],
   "source": [
    "def lr_schedule(epoch):\n",
    "    \"\"\"\n",
    "    Returns a custom learning rate that decreases as epochs progress.\n",
    "    \"\"\"\n",
    "    learning_rate = 0.001\n",
    "    if epoch > 70:\n",
    "        learning_rate = learning_rate * (0.96 ** (epoch - 70))\n",
    " \n",
    "    tf.summary.scalar('learning rate', data=learning_rate, step=epoch)\n",
    "    return learning_rate"
   ]
  },
  {
   "cell_type": "code",
   "execution_count": null,
   "metadata": {},
   "outputs": [],
   "source": [
    "for out_shape, reshape_method in itertools.product(out_shapes, reshape_methods):\n",
    "    print(out_shape,reshape_method )"
   ]
  },
  {
   "cell_type": "code",
   "execution_count": null,
   "metadata": {},
   "outputs": [
    {
     "name": "stderr",
     "output_type": "stream",
     "text": [
      "INFO:absl:Using /tmp/tfhub_modules to cache modules.\n",
      "INFO:absl:Downloading TF-Hub Module 'https://tfhub.dev/tensorflow/resnet_50/feature_vector/1'.\n",
      "INFO:absl:Downloaded https://tfhub.dev/tensorflow/resnet_50/feature_vector/1, Total size: 94.65MB\n",
      "INFO:absl:Downloaded TF-Hub Module 'https://tfhub.dev/tensorflow/resnet_50/feature_vector/1'.\n"
     ]
    },
    {
     "name": "stdout",
     "output_type": "stream",
     "text": [
      "in user code:\n",
      "\n",
      "    /usr/local/lib/python3.6/dist-packages/tensorflow_hub/keras_layer.py:229 call  *\n",
      "        result = smart_cond.smart_cond(training,\n",
      "    /usr/local/lib/python3.6/dist-packages/tensorflow/python/saved_model/load.py:486 _call_attribute  **\n",
      "        return instance.__call__(*args, **kwargs)\n",
      "    /usr/local/lib/python3.6/dist-packages/tensorflow/python/eager/def_function.py:580 __call__\n",
      "        result = self._call(*args, **kwds)\n",
      "    /usr/local/lib/python3.6/dist-packages/tensorflow/python/eager/def_function.py:627 _call\n",
      "        self._initialize(args, kwds, add_initializers_to=initializers)\n",
      "    /usr/local/lib/python3.6/dist-packages/tensorflow/python/eager/def_function.py:506 _initialize\n",
      "        *args, **kwds))\n",
      "    /usr/local/lib/python3.6/dist-packages/tensorflow/python/eager/function.py:2446 _get_concrete_function_internal_garbage_collected\n",
      "        graph_function, _, _ = self._maybe_define_function(args, kwargs)\n",
      "    /usr/local/lib/python3.6/dist-packages/tensorflow/python/eager/function.py:2777 _maybe_define_function\n",
      "        graph_function = self._create_graph_function(args, kwargs)\n",
      "    /usr/local/lib/python3.6/dist-packages/tensorflow/python/eager/function.py:2667 _create_graph_function\n",
      "        capture_by_value=self._capture_by_value),\n",
      "    /usr/local/lib/python3.6/dist-packages/tensorflow/python/framework/func_graph.py:981 func_graph_from_py_func\n",
      "        func_outputs = python_func(*func_args, **func_kwargs)\n",
      "    /usr/local/lib/python3.6/dist-packages/tensorflow/python/eager/def_function.py:441 wrapped_fn\n",
      "        return weak_wrapped_fn().__wrapped__(*args, **kwds)\n",
      "    /usr/local/lib/python3.6/dist-packages/tensorflow/python/saved_model/function_deserialization.py:261 restored_function_body\n",
      "        \"\\n\\n\".join(signature_descriptions)))\n",
      "\n",
      "    ValueError: Could not find matching function to call loaded from the SavedModel. Got:\n",
      "      Positional arguments (3 total):\n",
      "        * Tensor(\"inputs:0\", shape=(None, 193, 193, 3), dtype=float32)\n",
      "        * False\n",
      "        * None\n",
      "      Keyword arguments: {}\n",
      "    \n",
      "    Expected these arguments to match one of the following 4 option(s):\n",
      "    \n",
      "    Option 1:\n",
      "      Positional arguments (3 total):\n",
      "        * TensorSpec(shape=(None, 224, 224, 3), dtype=tf.float32, name='input_1')\n",
      "        * False\n",
      "        * None\n",
      "      Keyword arguments: {}\n",
      "    \n",
      "    Option 2:\n",
      "      Positional arguments (3 total):\n",
      "        * TensorSpec(shape=(None, 224, 224, 3), dtype=tf.float32, name='input_1')\n",
      "        * True\n",
      "        * None\n",
      "      Keyword arguments: {}\n",
      "    \n",
      "    Option 3:\n",
      "      Positional arguments (3 total):\n",
      "        * TensorSpec(shape=(None, 224, 224, 3), dtype=tf.float32, name='inputs')\n",
      "        * False\n",
      "        * None\n",
      "      Keyword arguments: {}\n",
      "    \n",
      "    Option 4:\n",
      "      Positional arguments (3 total):\n",
      "        * TensorSpec(shape=(None, 224, 224, 3), dtype=tf.float32, name='inputs')\n",
      "        * True\n",
      "        * None\n",
      "      Keyword arguments: {}\n",
      "\n"
     ]
    },
    {
     "name": "stderr",
     "output_type": "stream",
     "text": [
      "INFO:absl:Downloading TF-Hub Module 'https://tfhub.dev/google/imagenet/inception_resnet_v2/feature_vector/4'.\n",
      "INFO:absl:Downloaded https://tfhub.dev/google/imagenet/inception_resnet_v2/feature_vector/4, Total size: 213.55MB\n",
      "INFO:absl:Downloaded TF-Hub Module 'https://tfhub.dev/google/imagenet/inception_resnet_v2/feature_vector/4'.\n"
     ]
    },
    {
     "name": "stdout",
     "output_type": "stream",
     "text": [
      "Model: \"sequential_1\"\n",
      "_________________________________________________________________\n",
      "Layer (type)                 Output Shape              Param #   \n",
      "=================================================================\n",
      "keras_layer_1 (KerasLayer)   (None, 1536)              54336736  \n",
      "_________________________________________________________________\n",
      "dense_2 (Dense)              (None, 1024)              1573888   \n",
      "_________________________________________________________________\n",
      "dropout_1 (Dropout)          (None, 1024)              0         \n",
      "_________________________________________________________________\n",
      "dense_3 (Dense)              (None, 3)                 3075      \n",
      "=================================================================\n",
      "Total params: 55,913,699\n",
      "Trainable params: 1,576,963\n",
      "Non-trainable params: 54,336,736\n",
      "_________________________________________________________________\n",
      "Epoch 1/300\n",
      "133/133 [==============================] - ETA: 0s - loss: 1.5412 - categorical_accuracy: 0.4522WARNING:tensorflow:From /usr/local/lib/python3.6/dist-packages/tensorflow/python/ops/resource_variable_ops.py:1817: calling BaseResourceVariable.__init__ (from tensorflow.python.ops.resource_variable_ops) with constraint is deprecated and will be removed in a future version.\n",
      "Instructions for updating:\n",
      "If using Keras pass *_constraint arguments to layers.\n"
     ]
    },
    {
     "name": "stderr",
     "output_type": "stream",
     "text": [
      "WARNING:tensorflow:From /usr/local/lib/python3.6/dist-packages/tensorflow/python/ops/resource_variable_ops.py:1817: calling BaseResourceVariable.__init__ (from tensorflow.python.ops.resource_variable_ops) with constraint is deprecated and will be removed in a future version.\n",
      "Instructions for updating:\n",
      "If using Keras pass *_constraint arguments to layers.\n"
     ]
    },
    {
     "name": "stdout",
     "output_type": "stream",
     "text": [
      "INFO:tensorflow:Assets written to: tf_resize/logs/imagenet_inception_resnet_v2_(193, 193)_RESIZE/models/assets\n"
     ]
    },
    {
     "name": "stderr",
     "output_type": "stream",
     "text": [
      "INFO:tensorflow:Assets written to: tf_resize/logs/imagenet_inception_resnet_v2_(193, 193)_RESIZE/models/assets\n"
     ]
    },
    {
     "name": "stdout",
     "output_type": "stream",
     "text": [
      "133/133 [==============================] - 58s 439ms/step - loss: 1.5412 - categorical_accuracy: 0.4522 - val_loss: 1.0002 - val_categorical_accuracy: 0.5052 - lr: 0.0010\n",
      "Epoch 2/300\n",
      "133/133 [==============================] - ETA: 0s - loss: 1.0108 - categorical_accuracy: 0.4955INFO:tensorflow:Assets written to: tf_resize/logs/imagenet_inception_resnet_v2_(193, 193)_RESIZE/models/assets\n"
     ]
    },
    {
     "name": "stderr",
     "output_type": "stream",
     "text": [
      "INFO:tensorflow:Assets written to: tf_resize/logs/imagenet_inception_resnet_v2_(193, 193)_RESIZE/models/assets\n"
     ]
    },
    {
     "name": "stdout",
     "output_type": "stream",
     "text": [
      "133/133 [==============================] - 51s 387ms/step - loss: 1.0108 - categorical_accuracy: 0.4955 - val_loss: 0.9975 - val_categorical_accuracy: 0.5080 - lr: 0.0010\n",
      "Epoch 3/300\n",
      "132/133 [============================>.] - ETA: 0s - loss: 1.0072 - categorical_accuracy: 0.4998INFO:tensorflow:Assets written to: tf_resize/logs/imagenet_inception_resnet_v2_(193, 193)_RESIZE/models/assets\n"
     ]
    },
    {
     "name": "stderr",
     "output_type": "stream",
     "text": [
      "INFO:tensorflow:Assets written to: tf_resize/logs/imagenet_inception_resnet_v2_(193, 193)_RESIZE/models/assets\n"
     ]
    },
    {
     "name": "stdout",
     "output_type": "stream",
     "text": [
      "133/133 [==============================] - 52s 388ms/step - loss: 1.0071 - categorical_accuracy: 0.5000 - val_loss: 0.9832 - val_categorical_accuracy: 0.5170 - lr: 0.0010\n",
      "Epoch 4/300\n",
      "132/133 [============================>.] - ETA: 0s - loss: 0.9985 - categorical_accuracy: 0.5039INFO:tensorflow:Assets written to: tf_resize/logs/imagenet_inception_resnet_v2_(193, 193)_RESIZE/models/assets\n"
     ]
    },
    {
     "name": "stderr",
     "output_type": "stream",
     "text": [
      "INFO:tensorflow:Assets written to: tf_resize/logs/imagenet_inception_resnet_v2_(193, 193)_RESIZE/models/assets\n"
     ]
    },
    {
     "name": "stdout",
     "output_type": "stream",
     "text": [
      "133/133 [==============================] - 52s 389ms/step - loss: 0.9983 - categorical_accuracy: 0.5040 - val_loss: 0.9889 - val_categorical_accuracy: 0.5147 - lr: 0.0010\n",
      "Epoch 5/300\n",
      "132/133 [============================>.] - ETA: 0s - loss: 0.9955 - categorical_accuracy: 0.5070INFO:tensorflow:Assets written to: tf_resize/logs/imagenet_inception_resnet_v2_(193, 193)_RESIZE/models/assets\n"
     ]
    },
    {
     "name": "stderr",
     "output_type": "stream",
     "text": [
      "INFO:tensorflow:Assets written to: tf_resize/logs/imagenet_inception_resnet_v2_(193, 193)_RESIZE/models/assets\n"
     ]
    },
    {
     "name": "stdout",
     "output_type": "stream",
     "text": [
      "133/133 [==============================] - 52s 392ms/step - loss: 0.9954 - categorical_accuracy: 0.5072 - val_loss: 0.9845 - val_categorical_accuracy: 0.5180 - lr: 0.0010\n",
      "Epoch 6/300\n",
      "132/133 [============================>.] - ETA: 0s - loss: 0.9943 - categorical_accuracy: 0.5076INFO:tensorflow:Assets written to: tf_resize/logs/imagenet_inception_resnet_v2_(193, 193)_RESIZE/models/assets\n"
     ]
    },
    {
     "name": "stderr",
     "output_type": "stream",
     "text": [
      "INFO:tensorflow:Assets written to: tf_resize/logs/imagenet_inception_resnet_v2_(193, 193)_RESIZE/models/assets\n"
     ]
    },
    {
     "name": "stdout",
     "output_type": "stream",
     "text": [
      "133/133 [==============================] - 51s 386ms/step - loss: 0.9943 - categorical_accuracy: 0.5077 - val_loss: 0.9731 - val_categorical_accuracy: 0.5151 - lr: 0.0010\n",
      "Epoch 7/300\n",
      "132/133 [============================>.] - ETA: 0s - loss: 0.9830 - categorical_accuracy: 0.5125INFO:tensorflow:Assets written to: tf_resize/logs/imagenet_inception_resnet_v2_(193, 193)_RESIZE/models/assets\n"
     ]
    },
    {
     "name": "stderr",
     "output_type": "stream",
     "text": [
      "INFO:tensorflow:Assets written to: tf_resize/logs/imagenet_inception_resnet_v2_(193, 193)_RESIZE/models/assets\n"
     ]
    },
    {
     "name": "stdout",
     "output_type": "stream",
     "text": [
      "133/133 [==============================] - 53s 397ms/step - loss: 0.9829 - categorical_accuracy: 0.5128 - val_loss: 0.9763 - val_categorical_accuracy: 0.5180 - lr: 0.0010\n",
      "Epoch 8/300\n",
      "132/133 [============================>.] - ETA: 0s - loss: 0.9874 - categorical_accuracy: 0.5099INFO:tensorflow:Assets written to: tf_resize/logs/imagenet_inception_resnet_v2_(193, 193)_RESIZE/models/assets\n"
     ]
    },
    {
     "name": "stderr",
     "output_type": "stream",
     "text": [
      "INFO:tensorflow:Assets written to: tf_resize/logs/imagenet_inception_resnet_v2_(193, 193)_RESIZE/models/assets\n"
     ]
    },
    {
     "name": "stdout",
     "output_type": "stream",
     "text": [
      "133/133 [==============================] - 53s 395ms/step - loss: 0.9874 - categorical_accuracy: 0.5099 - val_loss: 0.9690 - val_categorical_accuracy: 0.5213 - lr: 0.0010\n",
      "Epoch 9/300\n",
      "132/133 [============================>.] - ETA: 0s - loss: 0.9853 - categorical_accuracy: 0.5133INFO:tensorflow:Assets written to: tf_resize/logs/imagenet_inception_resnet_v2_(193, 193)_RESIZE/models/assets\n"
     ]
    },
    {
     "name": "stderr",
     "output_type": "stream",
     "text": [
      "INFO:tensorflow:Assets written to: tf_resize/logs/imagenet_inception_resnet_v2_(193, 193)_RESIZE/models/assets\n"
     ]
    },
    {
     "name": "stdout",
     "output_type": "stream",
     "text": [
      "133/133 [==============================] - 53s 399ms/step - loss: 0.9852 - categorical_accuracy: 0.5134 - val_loss: 0.9716 - val_categorical_accuracy: 0.5194 - lr: 0.0010\n",
      "Epoch 10/300\n",
      "132/133 [============================>.] - ETA: 0s - loss: 0.9848 - categorical_accuracy: 0.5156INFO:tensorflow:Assets written to: tf_resize/logs/imagenet_inception_resnet_v2_(193, 193)_RESIZE/models/assets\n"
     ]
    },
    {
     "name": "stderr",
     "output_type": "stream",
     "text": [
      "INFO:tensorflow:Assets written to: tf_resize/logs/imagenet_inception_resnet_v2_(193, 193)_RESIZE/models/assets\n"
     ]
    },
    {
     "name": "stdout",
     "output_type": "stream",
     "text": [
      "133/133 [==============================] - 53s 400ms/step - loss: 0.9847 - categorical_accuracy: 0.5157 - val_loss: 0.9724 - val_categorical_accuracy: 0.5255 - lr: 0.0010\n",
      "Epoch 11/300\n",
      "132/133 [============================>.] - ETA: 0s - loss: 0.9863 - categorical_accuracy: 0.5076INFO:tensorflow:Assets written to: tf_resize/logs/imagenet_inception_resnet_v2_(193, 193)_RESIZE/models/assets\n"
     ]
    },
    {
     "name": "stderr",
     "output_type": "stream",
     "text": [
      "INFO:tensorflow:Assets written to: tf_resize/logs/imagenet_inception_resnet_v2_(193, 193)_RESIZE/models/assets\n"
     ]
    },
    {
     "name": "stdout",
     "output_type": "stream",
     "text": [
      "133/133 [==============================] - 53s 396ms/step - loss: 0.9862 - categorical_accuracy: 0.5077 - val_loss: 0.9634 - val_categorical_accuracy: 0.5246 - lr: 0.0010\n",
      "Epoch 12/300\n",
      "132/133 [============================>.] - ETA: 0s - loss: 0.9823 - categorical_accuracy: 0.5097INFO:tensorflow:Assets written to: tf_resize/logs/imagenet_inception_resnet_v2_(193, 193)_RESIZE/models/assets\n"
     ]
    },
    {
     "name": "stderr",
     "output_type": "stream",
     "text": [
      "INFO:tensorflow:Assets written to: tf_resize/logs/imagenet_inception_resnet_v2_(193, 193)_RESIZE/models/assets\n"
     ]
    },
    {
     "name": "stdout",
     "output_type": "stream",
     "text": [
      "133/133 [==============================] - 53s 402ms/step - loss: 0.9823 - categorical_accuracy: 0.5097 - val_loss: 0.9741 - val_categorical_accuracy: 0.5071 - lr: 0.0010\n",
      "Epoch 13/300\n",
      "132/133 [============================>.] - ETA: 0s - loss: 0.9803 - categorical_accuracy: 0.5094INFO:tensorflow:Assets written to: tf_resize/logs/imagenet_inception_resnet_v2_(193, 193)_RESIZE/models/assets\n"
     ]
    },
    {
     "name": "stderr",
     "output_type": "stream",
     "text": [
      "INFO:tensorflow:Assets written to: tf_resize/logs/imagenet_inception_resnet_v2_(193, 193)_RESIZE/models/assets\n"
     ]
    },
    {
     "name": "stdout",
     "output_type": "stream",
     "text": [
      "133/133 [==============================] - 52s 393ms/step - loss: 0.9802 - categorical_accuracy: 0.5096 - val_loss: 0.9792 - val_categorical_accuracy: 0.5274 - lr: 0.0010\n",
      "Epoch 14/300\n",
      "132/133 [============================>.] - ETA: 0s - loss: 0.9834 - categorical_accuracy: 0.5160INFO:tensorflow:Assets written to: tf_resize/logs/imagenet_inception_resnet_v2_(193, 193)_RESIZE/models/assets\n"
     ]
    },
    {
     "name": "stderr",
     "output_type": "stream",
     "text": [
      "INFO:tensorflow:Assets written to: tf_resize/logs/imagenet_inception_resnet_v2_(193, 193)_RESIZE/models/assets\n"
     ]
    },
    {
     "name": "stdout",
     "output_type": "stream",
     "text": [
      "133/133 [==============================] - 52s 392ms/step - loss: 0.9832 - categorical_accuracy: 0.5160 - val_loss: 0.9592 - val_categorical_accuracy: 0.5350 - lr: 0.0010\n",
      "Epoch 15/300\n",
      "132/133 [============================>.] - ETA: 0s - loss: 0.9793 - categorical_accuracy: 0.5153INFO:tensorflow:Assets written to: tf_resize/logs/imagenet_inception_resnet_v2_(193, 193)_RESIZE/models/assets\n"
     ]
    },
    {
     "name": "stderr",
     "output_type": "stream",
     "text": [
      "INFO:tensorflow:Assets written to: tf_resize/logs/imagenet_inception_resnet_v2_(193, 193)_RESIZE/models/assets\n"
     ]
    },
    {
     "name": "stdout",
     "output_type": "stream",
     "text": [
      "133/133 [==============================] - 51s 386ms/step - loss: 0.9793 - categorical_accuracy: 0.5154 - val_loss: 0.9703 - val_categorical_accuracy: 0.5298 - lr: 0.0010\n",
      "Epoch 16/300\n",
      "132/133 [============================>.] - ETA: 0s - loss: 0.9777 - categorical_accuracy: 0.5128INFO:tensorflow:Assets written to: tf_resize/logs/imagenet_inception_resnet_v2_(193, 193)_RESIZE/models/assets\n"
     ]
    },
    {
     "name": "stderr",
     "output_type": "stream",
     "text": [
      "INFO:tensorflow:Assets written to: tf_resize/logs/imagenet_inception_resnet_v2_(193, 193)_RESIZE/models/assets\n"
     ]
    },
    {
     "name": "stdout",
     "output_type": "stream",
     "text": [
      "133/133 [==============================] - 52s 388ms/step - loss: 0.9776 - categorical_accuracy: 0.5128 - val_loss: 0.9736 - val_categorical_accuracy: 0.5218 - lr: 0.0010\n",
      "Epoch 17/300\n",
      "132/133 [============================>.] - ETA: 0s - loss: 0.9800 - categorical_accuracy: 0.5118INFO:tensorflow:Assets written to: tf_resize/logs/imagenet_inception_resnet_v2_(193, 193)_RESIZE/models/assets\n"
     ]
    },
    {
     "name": "stderr",
     "output_type": "stream",
     "text": [
      "INFO:tensorflow:Assets written to: tf_resize/logs/imagenet_inception_resnet_v2_(193, 193)_RESIZE/models/assets\n"
     ]
    },
    {
     "name": "stdout",
     "output_type": "stream",
     "text": [
      "133/133 [==============================] - 52s 388ms/step - loss: 0.9798 - categorical_accuracy: 0.5121 - val_loss: 0.9692 - val_categorical_accuracy: 0.5137 - lr: 0.0010\n",
      "Epoch 18/300\n",
      "132/133 [============================>.] - ETA: 0s - loss: 0.9865 - categorical_accuracy: 0.4994INFO:tensorflow:Assets written to: tf_resize/logs/imagenet_inception_resnet_v2_(193, 193)_RESIZE/models/assets\n"
     ]
    },
    {
     "name": "stderr",
     "output_type": "stream",
     "text": [
      "INFO:tensorflow:Assets written to: tf_resize/logs/imagenet_inception_resnet_v2_(193, 193)_RESIZE/models/assets\n"
     ]
    },
    {
     "name": "stdout",
     "output_type": "stream",
     "text": [
      "133/133 [==============================] - 52s 390ms/step - loss: 0.9863 - categorical_accuracy: 0.4995 - val_loss: 0.9650 - val_categorical_accuracy: 0.5170 - lr: 0.0010\n",
      "Epoch 19/300\n",
      "132/133 [============================>.] - ETA: 0s - loss: 0.9797 - categorical_accuracy: 0.5166INFO:tensorflow:Assets written to: tf_resize/logs/imagenet_inception_resnet_v2_(193, 193)_RESIZE/models/assets\n"
     ]
    },
    {
     "name": "stderr",
     "output_type": "stream",
     "text": [
      "INFO:tensorflow:Assets written to: tf_resize/logs/imagenet_inception_resnet_v2_(193, 193)_RESIZE/models/assets\n"
     ]
    },
    {
     "name": "stdout",
     "output_type": "stream",
     "text": [
      "133/133 [==============================] - 50s 379ms/step - loss: 0.9795 - categorical_accuracy: 0.5169 - val_loss: 0.9737 - val_categorical_accuracy: 0.5251 - lr: 0.0010\n",
      "Epoch 20/300\n",
      "132/133 [============================>.] - ETA: 0s - loss: 0.9723 - categorical_accuracy: 0.5185INFO:tensorflow:Assets written to: tf_resize/logs/imagenet_inception_resnet_v2_(193, 193)_RESIZE/models/assets\n"
     ]
    },
    {
     "name": "stderr",
     "output_type": "stream",
     "text": [
      "INFO:tensorflow:Assets written to: tf_resize/logs/imagenet_inception_resnet_v2_(193, 193)_RESIZE/models/assets\n"
     ]
    },
    {
     "name": "stdout",
     "output_type": "stream",
     "text": [
      "133/133 [==============================] - 53s 399ms/step - loss: 0.9722 - categorical_accuracy: 0.5186 - val_loss: 0.9446 - val_categorical_accuracy: 0.5374 - lr: 0.0010\n",
      "Epoch 21/300\n",
      "133/133 [==============================] - ETA: 0s - loss: 0.9799 - categorical_accuracy: 0.5184INFO:tensorflow:Assets written to: tf_resize/logs/imagenet_inception_resnet_v2_(193, 193)_RESIZE/models/assets\n"
     ]
    },
    {
     "name": "stderr",
     "output_type": "stream",
     "text": [
      "INFO:tensorflow:Assets written to: tf_resize/logs/imagenet_inception_resnet_v2_(193, 193)_RESIZE/models/assets\n"
     ]
    },
    {
     "name": "stdout",
     "output_type": "stream",
     "text": [
      "133/133 [==============================] - 52s 393ms/step - loss: 0.9799 - categorical_accuracy: 0.5184 - val_loss: 0.9379 - val_categorical_accuracy: 0.5355 - lr: 0.0010\n",
      "Epoch 22/300\n",
      "132/133 [============================>.] - ETA: 0s - loss: 0.9722 - categorical_accuracy: 0.5158INFO:tensorflow:Assets written to: tf_resize/logs/imagenet_inception_resnet_v2_(193, 193)_RESIZE/models/assets\n"
     ]
    },
    {
     "name": "stderr",
     "output_type": "stream",
     "text": [
      "INFO:tensorflow:Assets written to: tf_resize/logs/imagenet_inception_resnet_v2_(193, 193)_RESIZE/models/assets\n"
     ]
    },
    {
     "name": "stdout",
     "output_type": "stream",
     "text": [
      "133/133 [==============================] - 52s 391ms/step - loss: 0.9720 - categorical_accuracy: 0.5161 - val_loss: 0.9545 - val_categorical_accuracy: 0.5265 - lr: 0.0010\n",
      "Epoch 23/300\n",
      "132/133 [============================>.] - ETA: 0s - loss: 0.9647 - categorical_accuracy: 0.5182INFO:tensorflow:Assets written to: tf_resize/logs/imagenet_inception_resnet_v2_(193, 193)_RESIZE/models/assets\n"
     ]
    },
    {
     "name": "stderr",
     "output_type": "stream",
     "text": [
      "INFO:tensorflow:Assets written to: tf_resize/logs/imagenet_inception_resnet_v2_(193, 193)_RESIZE/models/assets\n"
     ]
    },
    {
     "name": "stdout",
     "output_type": "stream",
     "text": [
      "133/133 [==============================] - 53s 399ms/step - loss: 0.9646 - categorical_accuracy: 0.5184 - val_loss: 0.9433 - val_categorical_accuracy: 0.5293 - lr: 0.0010\n",
      "Epoch 24/300\n",
      "133/133 [==============================] - ETA: 0s - loss: 0.9648 - categorical_accuracy: 0.5206INFO:tensorflow:Assets written to: tf_resize/logs/imagenet_inception_resnet_v2_(193, 193)_RESIZE/models/assets\n"
     ]
    },
    {
     "name": "stderr",
     "output_type": "stream",
     "text": [
      "INFO:tensorflow:Assets written to: tf_resize/logs/imagenet_inception_resnet_v2_(193, 193)_RESIZE/models/assets\n"
     ]
    },
    {
     "name": "stdout",
     "output_type": "stream",
     "text": [
      "133/133 [==============================] - 54s 404ms/step - loss: 0.9648 - categorical_accuracy: 0.5206 - val_loss: 0.9377 - val_categorical_accuracy: 0.5360 - lr: 0.0010\n",
      "Epoch 25/300\n",
      "132/133 [============================>.] - ETA: 0s - loss: 0.9655 - categorical_accuracy: 0.5204INFO:tensorflow:Assets written to: tf_resize/logs/imagenet_inception_resnet_v2_(193, 193)_RESIZE/models/assets\n"
     ]
    },
    {
     "name": "stderr",
     "output_type": "stream",
     "text": [
      "INFO:tensorflow:Assets written to: tf_resize/logs/imagenet_inception_resnet_v2_(193, 193)_RESIZE/models/assets\n"
     ]
    },
    {
     "name": "stdout",
     "output_type": "stream",
     "text": [
      "133/133 [==============================] - 53s 401ms/step - loss: 0.9653 - categorical_accuracy: 0.5205 - val_loss: 0.9368 - val_categorical_accuracy: 0.5350 - lr: 0.0010\n",
      "Epoch 26/300\n",
      "132/133 [============================>.] - ETA: 0s - loss: 0.9650 - categorical_accuracy: 0.5199INFO:tensorflow:Assets written to: tf_resize/logs/imagenet_inception_resnet_v2_(193, 193)_RESIZE/models/assets\n"
     ]
    },
    {
     "name": "stderr",
     "output_type": "stream",
     "text": [
      "INFO:tensorflow:Assets written to: tf_resize/logs/imagenet_inception_resnet_v2_(193, 193)_RESIZE/models/assets\n"
     ]
    },
    {
     "name": "stdout",
     "output_type": "stream",
     "text": [
      "133/133 [==============================] - 54s 404ms/step - loss: 0.9649 - categorical_accuracy: 0.5199 - val_loss: 0.9429 - val_categorical_accuracy: 0.5222 - lr: 0.0010\n",
      "Epoch 27/300\n",
      "132/133 [============================>.] - ETA: 0s - loss: 0.9632 - categorical_accuracy: 0.5259INFO:tensorflow:Assets written to: tf_resize/logs/imagenet_inception_resnet_v2_(193, 193)_RESIZE/models/assets\n"
     ]
    },
    {
     "name": "stderr",
     "output_type": "stream",
     "text": [
      "INFO:tensorflow:Assets written to: tf_resize/logs/imagenet_inception_resnet_v2_(193, 193)_RESIZE/models/assets\n"
     ]
    },
    {
     "name": "stdout",
     "output_type": "stream",
     "text": [
      "133/133 [==============================] - 55s 414ms/step - loss: 0.9630 - categorical_accuracy: 0.5260 - val_loss: 0.9478 - val_categorical_accuracy: 0.5345 - lr: 0.0010\n",
      "Epoch 28/300\n",
      "132/133 [============================>.] - ETA: 0s - loss: 0.9704 - categorical_accuracy: 0.5250INFO:tensorflow:Assets written to: tf_resize/logs/imagenet_inception_resnet_v2_(193, 193)_RESIZE/models/assets\n"
     ]
    },
    {
     "name": "stderr",
     "output_type": "stream",
     "text": [
      "INFO:tensorflow:Assets written to: tf_resize/logs/imagenet_inception_resnet_v2_(193, 193)_RESIZE/models/assets\n"
     ]
    },
    {
     "name": "stdout",
     "output_type": "stream",
     "text": [
      "133/133 [==============================] - 53s 399ms/step - loss: 0.9702 - categorical_accuracy: 0.5251 - val_loss: 0.9378 - val_categorical_accuracy: 0.5412 - lr: 0.0010\n",
      "Epoch 29/300\n",
      "132/133 [============================>.] - ETA: 0s - loss: 0.9620 - categorical_accuracy: 0.5249INFO:tensorflow:Assets written to: tf_resize/logs/imagenet_inception_resnet_v2_(193, 193)_RESIZE/models/assets\n"
     ]
    },
    {
     "name": "stderr",
     "output_type": "stream",
     "text": [
      "INFO:tensorflow:Assets written to: tf_resize/logs/imagenet_inception_resnet_v2_(193, 193)_RESIZE/models/assets\n"
     ]
    },
    {
     "name": "stdout",
     "output_type": "stream",
     "text": [
      "133/133 [==============================] - 51s 380ms/step - loss: 0.9617 - categorical_accuracy: 0.5251 - val_loss: 0.9390 - val_categorical_accuracy: 0.5388 - lr: 0.0010\n",
      "Epoch 30/300\n",
      "132/133 [============================>.] - ETA: 0s - loss: 0.9680 - categorical_accuracy: 0.5258INFO:tensorflow:Assets written to: tf_resize/logs/imagenet_inception_resnet_v2_(193, 193)_RESIZE/models/assets\n"
     ]
    },
    {
     "name": "stderr",
     "output_type": "stream",
     "text": [
      "INFO:tensorflow:Assets written to: tf_resize/logs/imagenet_inception_resnet_v2_(193, 193)_RESIZE/models/assets\n"
     ]
    },
    {
     "name": "stdout",
     "output_type": "stream",
     "text": [
      "133/133 [==============================] - 55s 410ms/step - loss: 0.9679 - categorical_accuracy: 0.5260 - val_loss: 0.9289 - val_categorical_accuracy: 0.5312 - lr: 0.0010\n",
      "Epoch 31/300\n",
      "132/133 [============================>.] - ETA: 0s - loss: 0.9632 - categorical_accuracy: 0.5263INFO:tensorflow:Assets written to: tf_resize/logs/imagenet_inception_resnet_v2_(193, 193)_RESIZE/models/assets\n"
     ]
    },
    {
     "name": "stderr",
     "output_type": "stream",
     "text": [
      "INFO:tensorflow:Assets written to: tf_resize/logs/imagenet_inception_resnet_v2_(193, 193)_RESIZE/models/assets\n"
     ]
    },
    {
     "name": "stdout",
     "output_type": "stream",
     "text": [
      "133/133 [==============================] - 52s 388ms/step - loss: 0.9630 - categorical_accuracy: 0.5265 - val_loss: 0.9423 - val_categorical_accuracy: 0.5312 - lr: 0.0010\n",
      "Epoch 32/300\n",
      "132/133 [============================>.] - ETA: 0s - loss: 0.9579 - categorical_accuracy: 0.5270INFO:tensorflow:Assets written to: tf_resize/logs/imagenet_inception_resnet_v2_(193, 193)_RESIZE/models/assets\n"
     ]
    },
    {
     "name": "stderr",
     "output_type": "stream",
     "text": [
      "INFO:tensorflow:Assets written to: tf_resize/logs/imagenet_inception_resnet_v2_(193, 193)_RESIZE/models/assets\n"
     ]
    },
    {
     "name": "stdout",
     "output_type": "stream",
     "text": [
      "133/133 [==============================] - 50s 379ms/step - loss: 0.9577 - categorical_accuracy: 0.5271 - val_loss: 0.9296 - val_categorical_accuracy: 0.5445 - lr: 0.0010\n",
      "Epoch 33/300\n",
      "132/133 [============================>.] - ETA: 0s - loss: 0.9584 - categorical_accuracy: 0.5242INFO:tensorflow:Assets written to: tf_resize/logs/imagenet_inception_resnet_v2_(193, 193)_RESIZE/models/assets\n"
     ]
    },
    {
     "name": "stderr",
     "output_type": "stream",
     "text": [
      "INFO:tensorflow:Assets written to: tf_resize/logs/imagenet_inception_resnet_v2_(193, 193)_RESIZE/models/assets\n"
     ]
    },
    {
     "name": "stdout",
     "output_type": "stream",
     "text": [
      "133/133 [==============================] - 53s 397ms/step - loss: 0.9582 - categorical_accuracy: 0.5243 - val_loss: 0.9287 - val_categorical_accuracy: 0.5397 - lr: 0.0010\n",
      "Epoch 34/300\n",
      "132/133 [============================>.] - ETA: 0s - loss: 0.9579 - categorical_accuracy: 0.5323INFO:tensorflow:Assets written to: tf_resize/logs/imagenet_inception_resnet_v2_(193, 193)_RESIZE/models/assets\n"
     ]
    },
    {
     "name": "stderr",
     "output_type": "stream",
     "text": [
      "INFO:tensorflow:Assets written to: tf_resize/logs/imagenet_inception_resnet_v2_(193, 193)_RESIZE/models/assets\n"
     ]
    },
    {
     "name": "stdout",
     "output_type": "stream",
     "text": [
      "133/133 [==============================] - 51s 384ms/step - loss: 0.9577 - categorical_accuracy: 0.5324 - val_loss: 0.9205 - val_categorical_accuracy: 0.5421 - lr: 0.0010\n",
      "Epoch 35/300\n",
      "132/133 [============================>.] - ETA: 0s - loss: 0.9558 - categorical_accuracy: 0.5287INFO:tensorflow:Assets written to: tf_resize/logs/imagenet_inception_resnet_v2_(193, 193)_RESIZE/models/assets\n"
     ]
    },
    {
     "name": "stderr",
     "output_type": "stream",
     "text": [
      "INFO:tensorflow:Assets written to: tf_resize/logs/imagenet_inception_resnet_v2_(193, 193)_RESIZE/models/assets\n"
     ]
    },
    {
     "name": "stdout",
     "output_type": "stream",
     "text": [
      "133/133 [==============================] - 50s 373ms/step - loss: 0.9557 - categorical_accuracy: 0.5287 - val_loss: 0.9466 - val_categorical_accuracy: 0.5322 - lr: 0.0010\n",
      "Epoch 36/300\n",
      "132/133 [============================>.] - ETA: 0s - loss: 0.9685 - categorical_accuracy: 0.5265INFO:tensorflow:Assets written to: tf_resize/logs/imagenet_inception_resnet_v2_(193, 193)_RESIZE/models/assets\n"
     ]
    },
    {
     "name": "stderr",
     "output_type": "stream",
     "text": [
      "INFO:tensorflow:Assets written to: tf_resize/logs/imagenet_inception_resnet_v2_(193, 193)_RESIZE/models/assets\n"
     ]
    },
    {
     "name": "stdout",
     "output_type": "stream",
     "text": [
      "133/133 [==============================] - 52s 394ms/step - loss: 0.9684 - categorical_accuracy: 0.5265 - val_loss: 0.9311 - val_categorical_accuracy: 0.5412 - lr: 0.0010\n",
      "Epoch 37/300\n",
      "132/133 [============================>.] - ETA: 0s - loss: 0.9535 - categorical_accuracy: 0.5343INFO:tensorflow:Assets written to: tf_resize/logs/imagenet_inception_resnet_v2_(193, 193)_RESIZE/models/assets\n"
     ]
    },
    {
     "name": "stderr",
     "output_type": "stream",
     "text": [
      "INFO:tensorflow:Assets written to: tf_resize/logs/imagenet_inception_resnet_v2_(193, 193)_RESIZE/models/assets\n"
     ]
    },
    {
     "name": "stdout",
     "output_type": "stream",
     "text": [
      "133/133 [==============================] - 52s 392ms/step - loss: 0.9533 - categorical_accuracy: 0.5344 - val_loss: 0.9264 - val_categorical_accuracy: 0.5482 - lr: 0.0010\n",
      "Epoch 38/300\n",
      "132/133 [============================>.] - ETA: 0s - loss: 0.9629 - categorical_accuracy: 0.5246INFO:tensorflow:Assets written to: tf_resize/logs/imagenet_inception_resnet_v2_(193, 193)_RESIZE/models/assets\n"
     ]
    },
    {
     "name": "stderr",
     "output_type": "stream",
     "text": [
      "INFO:tensorflow:Assets written to: tf_resize/logs/imagenet_inception_resnet_v2_(193, 193)_RESIZE/models/assets\n"
     ]
    },
    {
     "name": "stdout",
     "output_type": "stream",
     "text": [
      "133/133 [==============================] - 50s 378ms/step - loss: 0.9628 - categorical_accuracy: 0.5247 - val_loss: 0.9361 - val_categorical_accuracy: 0.5383 - lr: 0.0010\n",
      "Epoch 39/300\n",
      "132/133 [============================>.] - ETA: 0s - loss: 0.9525 - categorical_accuracy: 0.5333INFO:tensorflow:Assets written to: tf_resize/logs/imagenet_inception_resnet_v2_(193, 193)_RESIZE/models/assets\n"
     ]
    },
    {
     "name": "stderr",
     "output_type": "stream",
     "text": [
      "INFO:tensorflow:Assets written to: tf_resize/logs/imagenet_inception_resnet_v2_(193, 193)_RESIZE/models/assets\n"
     ]
    },
    {
     "name": "stdout",
     "output_type": "stream",
     "text": [
      "133/133 [==============================] - 53s 398ms/step - loss: 0.9524 - categorical_accuracy: 0.5334 - val_loss: 0.9398 - val_categorical_accuracy: 0.5426 - lr: 0.0010\n",
      "Epoch 40/300\n",
      "132/133 [============================>.] - ETA: 0s - loss: 0.9590 - categorical_accuracy: 0.5231INFO:tensorflow:Assets written to: tf_resize/logs/imagenet_inception_resnet_v2_(193, 193)_RESIZE/models/assets\n"
     ]
    },
    {
     "name": "stderr",
     "output_type": "stream",
     "text": [
      "INFO:tensorflow:Assets written to: tf_resize/logs/imagenet_inception_resnet_v2_(193, 193)_RESIZE/models/assets\n"
     ]
    },
    {
     "name": "stdout",
     "output_type": "stream",
     "text": [
      "133/133 [==============================] - 50s 376ms/step - loss: 0.9588 - categorical_accuracy: 0.5233 - val_loss: 0.9224 - val_categorical_accuracy: 0.5449 - lr: 0.0010\n",
      "Epoch 41/300\n",
      "132/133 [============================>.] - ETA: 0s - loss: 0.9730 - categorical_accuracy: 0.5076INFO:tensorflow:Assets written to: tf_resize/logs/imagenet_inception_resnet_v2_(193, 193)_RESIZE/models/assets\n"
     ]
    },
    {
     "name": "stderr",
     "output_type": "stream",
     "text": [
      "INFO:tensorflow:Assets written to: tf_resize/logs/imagenet_inception_resnet_v2_(193, 193)_RESIZE/models/assets\n"
     ]
    },
    {
     "name": "stdout",
     "output_type": "stream",
     "text": [
      "133/133 [==============================] - 53s 396ms/step - loss: 0.9728 - categorical_accuracy: 0.5077 - val_loss: 0.9204 - val_categorical_accuracy: 0.5421 - lr: 0.0010\n",
      "Epoch 42/300\n",
      "132/133 [============================>.] - ETA: 0s - loss: 0.9501 - categorical_accuracy: 0.5320INFO:tensorflow:Assets written to: tf_resize/logs/imagenet_inception_resnet_v2_(193, 193)_RESIZE/models/assets\n"
     ]
    },
    {
     "name": "stderr",
     "output_type": "stream",
     "text": [
      "INFO:tensorflow:Assets written to: tf_resize/logs/imagenet_inception_resnet_v2_(193, 193)_RESIZE/models/assets\n"
     ]
    },
    {
     "name": "stdout",
     "output_type": "stream",
     "text": [
      "133/133 [==============================] - 50s 373ms/step - loss: 0.9500 - categorical_accuracy: 0.5321 - val_loss: 0.9197 - val_categorical_accuracy: 0.5421 - lr: 0.0010\n",
      "Epoch 43/300\n",
      "132/133 [============================>.] - ETA: 0s - loss: 0.9488 - categorical_accuracy: 0.5318INFO:tensorflow:Assets written to: tf_resize/logs/imagenet_inception_resnet_v2_(193, 193)_RESIZE/models/assets\n"
     ]
    },
    {
     "name": "stderr",
     "output_type": "stream",
     "text": [
      "INFO:tensorflow:Assets written to: tf_resize/logs/imagenet_inception_resnet_v2_(193, 193)_RESIZE/models/assets\n"
     ]
    },
    {
     "name": "stdout",
     "output_type": "stream",
     "text": [
      "133/133 [==============================] - 53s 400ms/step - loss: 0.9487 - categorical_accuracy: 0.5319 - val_loss: 0.9157 - val_categorical_accuracy: 0.5416 - lr: 0.0010\n",
      "Epoch 44/300\n",
      "132/133 [============================>.] - ETA: 0s - loss: 0.9555 - categorical_accuracy: 0.5259INFO:tensorflow:Assets written to: tf_resize/logs/imagenet_inception_resnet_v2_(193, 193)_RESIZE/models/assets\n"
     ]
    },
    {
     "name": "stderr",
     "output_type": "stream",
     "text": [
      "INFO:tensorflow:Assets written to: tf_resize/logs/imagenet_inception_resnet_v2_(193, 193)_RESIZE/models/assets\n"
     ]
    },
    {
     "name": "stdout",
     "output_type": "stream",
     "text": [
      "133/133 [==============================] - 50s 374ms/step - loss: 0.9554 - categorical_accuracy: 0.5260 - val_loss: 0.9212 - val_categorical_accuracy: 0.5449 - lr: 0.0010\n",
      "Epoch 45/300\n",
      "132/133 [============================>.] - ETA: 0s - loss: 0.9511 - categorical_accuracy: 0.5283INFO:tensorflow:Assets written to: tf_resize/logs/imagenet_inception_resnet_v2_(193, 193)_RESIZE/models/assets\n"
     ]
    },
    {
     "name": "stderr",
     "output_type": "stream",
     "text": [
      "INFO:tensorflow:Assets written to: tf_resize/logs/imagenet_inception_resnet_v2_(193, 193)_RESIZE/models/assets\n"
     ]
    },
    {
     "name": "stdout",
     "output_type": "stream",
     "text": [
      "133/133 [==============================] - 54s 405ms/step - loss: 0.9510 - categorical_accuracy: 0.5285 - val_loss: 0.9151 - val_categorical_accuracy: 0.5468 - lr: 0.0010\n",
      "Epoch 46/300\n",
      "132/133 [============================>.] - ETA: 0s - loss: 0.9497 - categorical_accuracy: 0.5279INFO:tensorflow:Assets written to: tf_resize/logs/imagenet_inception_resnet_v2_(193, 193)_RESIZE/models/assets\n"
     ]
    },
    {
     "name": "stderr",
     "output_type": "stream",
     "text": [
      "INFO:tensorflow:Assets written to: tf_resize/logs/imagenet_inception_resnet_v2_(193, 193)_RESIZE/models/assets\n"
     ]
    },
    {
     "name": "stdout",
     "output_type": "stream",
     "text": [
      "133/133 [==============================] - 50s 373ms/step - loss: 0.9496 - categorical_accuracy: 0.5280 - val_loss: 0.9192 - val_categorical_accuracy: 0.5482 - lr: 0.0010\n",
      "Epoch 47/300\n",
      "132/133 [============================>.] - ETA: 0s - loss: 0.9555 - categorical_accuracy: 0.5233INFO:tensorflow:Assets written to: tf_resize/logs/imagenet_inception_resnet_v2_(193, 193)_RESIZE/models/assets\n"
     ]
    },
    {
     "name": "stderr",
     "output_type": "stream",
     "text": [
      "INFO:tensorflow:Assets written to: tf_resize/logs/imagenet_inception_resnet_v2_(193, 193)_RESIZE/models/assets\n"
     ]
    },
    {
     "name": "stdout",
     "output_type": "stream",
     "text": [
      "133/133 [==============================] - 53s 398ms/step - loss: 0.9553 - categorical_accuracy: 0.5235 - val_loss: 0.9124 - val_categorical_accuracy: 0.5407 - lr: 0.0010\n",
      "Epoch 48/300\n",
      "132/133 [============================>.] - ETA: 0s - loss: 0.9580 - categorical_accuracy: 0.5267INFO:tensorflow:Assets written to: tf_resize/logs/imagenet_inception_resnet_v2_(193, 193)_RESIZE/models/assets\n"
     ]
    },
    {
     "name": "stderr",
     "output_type": "stream",
     "text": [
      "INFO:tensorflow:Assets written to: tf_resize/logs/imagenet_inception_resnet_v2_(193, 193)_RESIZE/models/assets\n"
     ]
    },
    {
     "name": "stdout",
     "output_type": "stream",
     "text": [
      "133/133 [==============================] - 49s 372ms/step - loss: 0.9578 - categorical_accuracy: 0.5268 - val_loss: 0.9352 - val_categorical_accuracy: 0.5520 - lr: 0.0010\n",
      "Epoch 49/300\n",
      "132/133 [============================>.] - ETA: 0s - loss: 0.9554 - categorical_accuracy: 0.5280INFO:tensorflow:Assets written to: tf_resize/logs/imagenet_inception_resnet_v2_(193, 193)_RESIZE/models/assets\n"
     ]
    },
    {
     "name": "stderr",
     "output_type": "stream",
     "text": [
      "INFO:tensorflow:Assets written to: tf_resize/logs/imagenet_inception_resnet_v2_(193, 193)_RESIZE/models/assets\n"
     ]
    },
    {
     "name": "stdout",
     "output_type": "stream",
     "text": [
      "133/133 [==============================] - 53s 396ms/step - loss: 0.9553 - categorical_accuracy: 0.5280 - val_loss: 0.9338 - val_categorical_accuracy: 0.5468 - lr: 0.0010\n",
      "Epoch 50/300\n",
      "132/133 [============================>.] - ETA: 0s - loss: 0.9675 - categorical_accuracy: 0.5241INFO:tensorflow:Assets written to: tf_resize/logs/imagenet_inception_resnet_v2_(193, 193)_RESIZE/models/assets\n"
     ]
    },
    {
     "name": "stderr",
     "output_type": "stream",
     "text": [
      "INFO:tensorflow:Assets written to: tf_resize/logs/imagenet_inception_resnet_v2_(193, 193)_RESIZE/models/assets\n"
     ]
    },
    {
     "name": "stdout",
     "output_type": "stream",
     "text": [
      "133/133 [==============================] - 52s 394ms/step - loss: 0.9672 - categorical_accuracy: 0.5242 - val_loss: 0.9278 - val_categorical_accuracy: 0.5416 - lr: 0.0010\n",
      "Epoch 51/300\n",
      "132/133 [============================>.] - ETA: 0s - loss: 0.9690 - categorical_accuracy: 0.5257INFO:tensorflow:Assets written to: tf_resize/logs/imagenet_inception_resnet_v2_(193, 193)_RESIZE/models/assets\n"
     ]
    },
    {
     "name": "stderr",
     "output_type": "stream",
     "text": [
      "INFO:tensorflow:Assets written to: tf_resize/logs/imagenet_inception_resnet_v2_(193, 193)_RESIZE/models/assets\n"
     ]
    },
    {
     "name": "stdout",
     "output_type": "stream",
     "text": [
      "133/133 [==============================] - 50s 374ms/step - loss: 0.9689 - categorical_accuracy: 0.5258 - val_loss: 0.9348 - val_categorical_accuracy: 0.5497 - lr: 0.0010\n",
      "Epoch 52/300\n",
      "132/133 [============================>.] - ETA: 0s - loss: 0.9600 - categorical_accuracy: 0.5253INFO:tensorflow:Assets written to: tf_resize/logs/imagenet_inception_resnet_v2_(193, 193)_RESIZE/models/assets\n"
     ]
    },
    {
     "name": "stderr",
     "output_type": "stream",
     "text": [
      "INFO:tensorflow:Assets written to: tf_resize/logs/imagenet_inception_resnet_v2_(193, 193)_RESIZE/models/assets\n"
     ]
    },
    {
     "name": "stdout",
     "output_type": "stream",
     "text": [
      "133/133 [==============================] - 53s 399ms/step - loss: 0.9598 - categorical_accuracy: 0.5255 - val_loss: 0.9155 - val_categorical_accuracy: 0.5487 - lr: 0.0010\n",
      "Epoch 53/300\n",
      "132/133 [============================>.] - ETA: 0s - loss: 0.9572 - categorical_accuracy: 0.5274INFO:tensorflow:Assets written to: tf_resize/logs/imagenet_inception_resnet_v2_(193, 193)_RESIZE/models/assets\n"
     ]
    },
    {
     "name": "stderr",
     "output_type": "stream",
     "text": [
      "INFO:tensorflow:Assets written to: tf_resize/logs/imagenet_inception_resnet_v2_(193, 193)_RESIZE/models/assets\n"
     ]
    },
    {
     "name": "stdout",
     "output_type": "stream",
     "text": [
      "133/133 [==============================] - 49s 372ms/step - loss: 0.9571 - categorical_accuracy: 0.5275 - val_loss: 0.9396 - val_categorical_accuracy: 0.5360 - lr: 0.0010\n",
      "Epoch 54/300\n",
      "132/133 [============================>.] - ETA: 0s - loss: 0.9630 - categorical_accuracy: 0.5267INFO:tensorflow:Assets written to: tf_resize/logs/imagenet_inception_resnet_v2_(193, 193)_RESIZE/models/assets\n"
     ]
    },
    {
     "name": "stderr",
     "output_type": "stream",
     "text": [
      "INFO:tensorflow:Assets written to: tf_resize/logs/imagenet_inception_resnet_v2_(193, 193)_RESIZE/models/assets\n"
     ]
    },
    {
     "name": "stdout",
     "output_type": "stream",
     "text": [
      "133/133 [==============================] - 53s 396ms/step - loss: 0.9629 - categorical_accuracy: 0.5267 - val_loss: 0.9354 - val_categorical_accuracy: 0.5407 - lr: 0.0010\n",
      "Epoch 55/300\n",
      "132/133 [============================>.] - ETA: 0s - loss: 0.9533 - categorical_accuracy: 0.5301INFO:tensorflow:Assets written to: tf_resize/logs/imagenet_inception_resnet_v2_(193, 193)_RESIZE/models/assets\n"
     ]
    },
    {
     "name": "stderr",
     "output_type": "stream",
     "text": [
      "INFO:tensorflow:Assets written to: tf_resize/logs/imagenet_inception_resnet_v2_(193, 193)_RESIZE/models/assets\n"
     ]
    },
    {
     "name": "stdout",
     "output_type": "stream",
     "text": [
      "133/133 [==============================] - 53s 399ms/step - loss: 0.9531 - categorical_accuracy: 0.5302 - val_loss: 0.9255 - val_categorical_accuracy: 0.5497 - lr: 0.0010\n",
      "Epoch 56/300\n",
      "132/133 [============================>.] - ETA: 0s - loss: 0.9537 - categorical_accuracy: 0.5279INFO:tensorflow:Assets written to: tf_resize/logs/imagenet_inception_resnet_v2_(193, 193)_RESIZE/models/assets\n"
     ]
    },
    {
     "name": "stderr",
     "output_type": "stream",
     "text": [
      "INFO:tensorflow:Assets written to: tf_resize/logs/imagenet_inception_resnet_v2_(193, 193)_RESIZE/models/assets\n"
     ]
    },
    {
     "name": "stdout",
     "output_type": "stream",
     "text": [
      "133/133 [==============================] - 50s 376ms/step - loss: 0.9535 - categorical_accuracy: 0.5281 - val_loss: 0.9199 - val_categorical_accuracy: 0.5464 - lr: 0.0010\n",
      "Epoch 57/300\n",
      "132/133 [============================>.] - ETA: 0s - loss: 0.9479 - categorical_accuracy: 0.5331INFO:tensorflow:Assets written to: tf_resize/logs/imagenet_inception_resnet_v2_(193, 193)_RESIZE/models/assets\n"
     ]
    },
    {
     "name": "stderr",
     "output_type": "stream",
     "text": [
      "INFO:tensorflow:Assets written to: tf_resize/logs/imagenet_inception_resnet_v2_(193, 193)_RESIZE/models/assets\n"
     ]
    },
    {
     "name": "stdout",
     "output_type": "stream",
     "text": [
      "133/133 [==============================] - 53s 396ms/step - loss: 0.9477 - categorical_accuracy: 0.5332 - val_loss: 0.9173 - val_categorical_accuracy: 0.5440 - lr: 0.0010\n",
      "Epoch 58/300\n",
      "132/133 [============================>.] - ETA: 0s - loss: 0.9420 - categorical_accuracy: 0.5376INFO:tensorflow:Assets written to: tf_resize/logs/imagenet_inception_resnet_v2_(193, 193)_RESIZE/models/assets\n"
     ]
    },
    {
     "name": "stderr",
     "output_type": "stream",
     "text": [
      "INFO:tensorflow:Assets written to: tf_resize/logs/imagenet_inception_resnet_v2_(193, 193)_RESIZE/models/assets\n"
     ]
    },
    {
     "name": "stdout",
     "output_type": "stream",
     "text": [
      "133/133 [==============================] - 52s 390ms/step - loss: 0.9418 - categorical_accuracy: 0.5377 - val_loss: 0.9387 - val_categorical_accuracy: 0.5516 - lr: 0.0010\n",
      "Epoch 59/300\n",
      "132/133 [============================>.] - ETA: 0s - loss: 0.9452 - categorical_accuracy: 0.5369INFO:tensorflow:Assets written to: tf_resize/logs/imagenet_inception_resnet_v2_(193, 193)_RESIZE/models/assets\n"
     ]
    },
    {
     "name": "stderr",
     "output_type": "stream",
     "text": [
      "INFO:tensorflow:Assets written to: tf_resize/logs/imagenet_inception_resnet_v2_(193, 193)_RESIZE/models/assets\n"
     ]
    },
    {
     "name": "stdout",
     "output_type": "stream",
     "text": [
      "133/133 [==============================] - 50s 374ms/step - loss: 0.9451 - categorical_accuracy: 0.5369 - val_loss: 0.9028 - val_categorical_accuracy: 0.5492 - lr: 0.0010\n",
      "Epoch 60/300\n",
      "132/133 [============================>.] - ETA: 0s - loss: 0.9471 - categorical_accuracy: 0.5314INFO:tensorflow:Assets written to: tf_resize/logs/imagenet_inception_resnet_v2_(193, 193)_RESIZE/models/assets\n"
     ]
    },
    {
     "name": "stderr",
     "output_type": "stream",
     "text": [
      "INFO:tensorflow:Assets written to: tf_resize/logs/imagenet_inception_resnet_v2_(193, 193)_RESIZE/models/assets\n"
     ]
    },
    {
     "name": "stdout",
     "output_type": "stream",
     "text": [
      "133/133 [==============================] - 53s 402ms/step - loss: 0.9469 - categorical_accuracy: 0.5316 - val_loss: 0.9095 - val_categorical_accuracy: 0.5492 - lr: 0.0010\n",
      "Epoch 61/300\n",
      "132/133 [============================>.] - ETA: 0s - loss: 0.9505 - categorical_accuracy: 0.5367INFO:tensorflow:Assets written to: tf_resize/logs/imagenet_inception_resnet_v2_(193, 193)_RESIZE/models/assets\n"
     ]
    },
    {
     "name": "stderr",
     "output_type": "stream",
     "text": [
      "INFO:tensorflow:Assets written to: tf_resize/logs/imagenet_inception_resnet_v2_(193, 193)_RESIZE/models/assets\n"
     ]
    },
    {
     "name": "stdout",
     "output_type": "stream",
     "text": [
      "133/133 [==============================] - 52s 389ms/step - loss: 0.9503 - categorical_accuracy: 0.5369 - val_loss: 0.9038 - val_categorical_accuracy: 0.5492 - lr: 0.0010\n",
      "Epoch 62/300\n",
      "132/133 [============================>.] - ETA: 0s - loss: 0.9488 - categorical_accuracy: 0.5304INFO:tensorflow:Assets written to: tf_resize/logs/imagenet_inception_resnet_v2_(193, 193)_RESIZE/models/assets\n"
     ]
    },
    {
     "name": "stderr",
     "output_type": "stream",
     "text": [
      "INFO:tensorflow:Assets written to: tf_resize/logs/imagenet_inception_resnet_v2_(193, 193)_RESIZE/models/assets\n"
     ]
    },
    {
     "name": "stdout",
     "output_type": "stream",
     "text": [
      "133/133 [==============================] - 52s 390ms/step - loss: 0.9487 - categorical_accuracy: 0.5305 - val_loss: 0.8988 - val_categorical_accuracy: 0.5478 - lr: 0.0010\n",
      "Epoch 63/300\n",
      "133/133 [==============================] - ETA: 0s - loss: 0.9413 - categorical_accuracy: 0.5348INFO:tensorflow:Assets written to: tf_resize/logs/imagenet_inception_resnet_v2_(193, 193)_RESIZE/models/assets\n"
     ]
    },
    {
     "name": "stderr",
     "output_type": "stream",
     "text": [
      "INFO:tensorflow:Assets written to: tf_resize/logs/imagenet_inception_resnet_v2_(193, 193)_RESIZE/models/assets\n"
     ]
    },
    {
     "name": "stdout",
     "output_type": "stream",
     "text": [
      "133/133 [==============================] - 52s 392ms/step - loss: 0.9413 - categorical_accuracy: 0.5348 - val_loss: 0.9016 - val_categorical_accuracy: 0.5501 - lr: 0.0010\n",
      "Epoch 64/300\n",
      "132/133 [============================>.] - ETA: 0s - loss: 0.9376 - categorical_accuracy: 0.5379INFO:tensorflow:Assets written to: tf_resize/logs/imagenet_inception_resnet_v2_(193, 193)_RESIZE/models/assets\n"
     ]
    },
    {
     "name": "stderr",
     "output_type": "stream",
     "text": [
      "INFO:tensorflow:Assets written to: tf_resize/logs/imagenet_inception_resnet_v2_(193, 193)_RESIZE/models/assets\n"
     ]
    },
    {
     "name": "stdout",
     "output_type": "stream",
     "text": [
      "133/133 [==============================] - 52s 394ms/step - loss: 0.9375 - categorical_accuracy: 0.5380 - val_loss: 0.9021 - val_categorical_accuracy: 0.5473 - lr: 0.0010\n",
      "Epoch 65/300\n",
      "133/133 [==============================] - ETA: 0s - loss: 0.9354 - categorical_accuracy: 0.5389INFO:tensorflow:Assets written to: tf_resize/logs/imagenet_inception_resnet_v2_(193, 193)_RESIZE/models/assets\n"
     ]
    },
    {
     "name": "stderr",
     "output_type": "stream",
     "text": [
      "INFO:tensorflow:Assets written to: tf_resize/logs/imagenet_inception_resnet_v2_(193, 193)_RESIZE/models/assets\n"
     ]
    },
    {
     "name": "stdout",
     "output_type": "stream",
     "text": [
      "133/133 [==============================] - 52s 391ms/step - loss: 0.9354 - categorical_accuracy: 0.5389 - val_loss: 0.8876 - val_categorical_accuracy: 0.5591 - lr: 0.0010\n",
      "Epoch 66/300\n",
      "132/133 [============================>.] - ETA: 0s - loss: 0.9333 - categorical_accuracy: 0.5350INFO:tensorflow:Assets written to: tf_resize/logs/imagenet_inception_resnet_v2_(193, 193)_RESIZE/models/assets\n"
     ]
    },
    {
     "name": "stderr",
     "output_type": "stream",
     "text": [
      "INFO:tensorflow:Assets written to: tf_resize/logs/imagenet_inception_resnet_v2_(193, 193)_RESIZE/models/assets\n"
     ]
    },
    {
     "name": "stdout",
     "output_type": "stream",
     "text": [
      "133/133 [==============================] - 52s 393ms/step - loss: 0.9332 - categorical_accuracy: 0.5352 - val_loss: 0.8953 - val_categorical_accuracy: 0.5610 - lr: 0.0010\n",
      "Epoch 67/300\n",
      "132/133 [============================>.] - ETA: 0s - loss: 0.9363 - categorical_accuracy: 0.5381INFO:tensorflow:Assets written to: tf_resize/logs/imagenet_inception_resnet_v2_(193, 193)_RESIZE/models/assets\n"
     ]
    },
    {
     "name": "stderr",
     "output_type": "stream",
     "text": [
      "INFO:tensorflow:Assets written to: tf_resize/logs/imagenet_inception_resnet_v2_(193, 193)_RESIZE/models/assets\n"
     ]
    },
    {
     "name": "stdout",
     "output_type": "stream",
     "text": [
      "133/133 [==============================] - 52s 392ms/step - loss: 0.9363 - categorical_accuracy: 0.5382 - val_loss: 0.9205 - val_categorical_accuracy: 0.5435 - lr: 0.0010\n",
      "Epoch 68/300\n",
      "132/133 [============================>.] - ETA: 0s - loss: 0.9571 - categorical_accuracy: 0.5167INFO:tensorflow:Assets written to: tf_resize/logs/imagenet_inception_resnet_v2_(193, 193)_RESIZE/models/assets\n"
     ]
    },
    {
     "name": "stderr",
     "output_type": "stream",
     "text": [
      "INFO:tensorflow:Assets written to: tf_resize/logs/imagenet_inception_resnet_v2_(193, 193)_RESIZE/models/assets\n"
     ]
    },
    {
     "name": "stdout",
     "output_type": "stream",
     "text": [
      "133/133 [==============================] - 52s 392ms/step - loss: 0.9569 - categorical_accuracy: 0.5168 - val_loss: 0.9227 - val_categorical_accuracy: 0.5293 - lr: 0.0010\n",
      "Epoch 69/300\n",
      "132/133 [============================>.] - ETA: 0s - loss: 0.9516 - categorical_accuracy: 0.5163INFO:tensorflow:Assets written to: tf_resize/logs/imagenet_inception_resnet_v2_(193, 193)_RESIZE/models/assets\n"
     ]
    },
    {
     "name": "stderr",
     "output_type": "stream",
     "text": [
      "INFO:tensorflow:Assets written to: tf_resize/logs/imagenet_inception_resnet_v2_(193, 193)_RESIZE/models/assets\n"
     ]
    },
    {
     "name": "stdout",
     "output_type": "stream",
     "text": [
      "133/133 [==============================] - 52s 390ms/step - loss: 0.9514 - categorical_accuracy: 0.5164 - val_loss: 0.9038 - val_categorical_accuracy: 0.5421 - lr: 0.0010\n",
      "Epoch 70/300\n",
      "132/133 [============================>.] - ETA: 0s - loss: 0.9370 - categorical_accuracy: 0.5317INFO:tensorflow:Assets written to: tf_resize/logs/imagenet_inception_resnet_v2_(193, 193)_RESIZE/models/assets\n"
     ]
    },
    {
     "name": "stderr",
     "output_type": "stream",
     "text": [
      "INFO:tensorflow:Assets written to: tf_resize/logs/imagenet_inception_resnet_v2_(193, 193)_RESIZE/models/assets\n"
     ]
    },
    {
     "name": "stdout",
     "output_type": "stream",
     "text": [
      "133/133 [==============================] - 52s 393ms/step - loss: 0.9368 - categorical_accuracy: 0.5319 - val_loss: 0.9111 - val_categorical_accuracy: 0.5530 - lr: 0.0010\n",
      "Epoch 71/300\n",
      "132/133 [============================>.] - ETA: 0s - loss: 0.9267 - categorical_accuracy: 0.5427INFO:tensorflow:Assets written to: tf_resize/logs/imagenet_inception_resnet_v2_(193, 193)_RESIZE/models/assets\n"
     ]
    },
    {
     "name": "stderr",
     "output_type": "stream",
     "text": [
      "INFO:tensorflow:Assets written to: tf_resize/logs/imagenet_inception_resnet_v2_(193, 193)_RESIZE/models/assets\n"
     ]
    },
    {
     "name": "stdout",
     "output_type": "stream",
     "text": [
      "133/133 [==============================] - 52s 392ms/step - loss: 0.9265 - categorical_accuracy: 0.5428 - val_loss: 0.8883 - val_categorical_accuracy: 0.5577 - lr: 0.0010\n",
      "Epoch 72/300\n",
      "132/133 [============================>.] - ETA: 0s - loss: 0.9263 - categorical_accuracy: 0.5434INFO:tensorflow:Assets written to: tf_resize/logs/imagenet_inception_resnet_v2_(193, 193)_RESIZE/models/assets\n"
     ]
    },
    {
     "name": "stderr",
     "output_type": "stream",
     "text": [
      "INFO:tensorflow:Assets written to: tf_resize/logs/imagenet_inception_resnet_v2_(193, 193)_RESIZE/models/assets\n"
     ]
    },
    {
     "name": "stdout",
     "output_type": "stream",
     "text": [
      "133/133 [==============================] - 52s 390ms/step - loss: 0.9261 - categorical_accuracy: 0.5435 - val_loss: 0.8892 - val_categorical_accuracy: 0.5558 - lr: 9.6000e-04\n",
      "Epoch 73/300\n",
      "132/133 [============================>.] - ETA: 0s - loss: 0.9322 - categorical_accuracy: 0.5424INFO:tensorflow:Assets written to: tf_resize/logs/imagenet_inception_resnet_v2_(193, 193)_RESIZE/models/assets\n"
     ]
    },
    {
     "name": "stderr",
     "output_type": "stream",
     "text": [
      "INFO:tensorflow:Assets written to: tf_resize/logs/imagenet_inception_resnet_v2_(193, 193)_RESIZE/models/assets\n"
     ]
    },
    {
     "name": "stdout",
     "output_type": "stream",
     "text": [
      "133/133 [==============================] - 53s 399ms/step - loss: 0.9320 - categorical_accuracy: 0.5426 - val_loss: 0.9070 - val_categorical_accuracy: 0.5525 - lr: 9.2160e-04\n",
      "Epoch 74/300\n",
      "132/133 [============================>.] - ETA: 0s - loss: 0.9284 - categorical_accuracy: 0.5414INFO:tensorflow:Assets written to: tf_resize/logs/imagenet_inception_resnet_v2_(193, 193)_RESIZE/models/assets\n"
     ]
    },
    {
     "name": "stderr",
     "output_type": "stream",
     "text": [
      "INFO:tensorflow:Assets written to: tf_resize/logs/imagenet_inception_resnet_v2_(193, 193)_RESIZE/models/assets\n"
     ]
    },
    {
     "name": "stdout",
     "output_type": "stream",
     "text": [
      "133/133 [==============================] - 52s 391ms/step - loss: 0.9281 - categorical_accuracy: 0.5414 - val_loss: 0.8915 - val_categorical_accuracy: 0.5530 - lr: 8.8474e-04\n",
      "Epoch 75/300\n",
      "132/133 [============================>.] - ETA: 0s - loss: 0.9289 - categorical_accuracy: 0.5417INFO:tensorflow:Assets written to: tf_resize/logs/imagenet_inception_resnet_v2_(193, 193)_RESIZE/models/assets\n"
     ]
    },
    {
     "name": "stderr",
     "output_type": "stream",
     "text": [
      "INFO:tensorflow:Assets written to: tf_resize/logs/imagenet_inception_resnet_v2_(193, 193)_RESIZE/models/assets\n"
     ]
    },
    {
     "name": "stdout",
     "output_type": "stream",
     "text": [
      "133/133 [==============================] - 52s 394ms/step - loss: 0.9288 - categorical_accuracy: 0.5417 - val_loss: 0.8880 - val_categorical_accuracy: 0.5572 - lr: 8.4935e-04\n",
      "Epoch 76/300\n",
      "132/133 [============================>.] - ETA: 0s - loss: 0.9215 - categorical_accuracy: 0.5427INFO:tensorflow:Assets written to: tf_resize/logs/imagenet_inception_resnet_v2_(193, 193)_RESIZE/models/assets\n"
     ]
    },
    {
     "name": "stderr",
     "output_type": "stream",
     "text": [
      "INFO:tensorflow:Assets written to: tf_resize/logs/imagenet_inception_resnet_v2_(193, 193)_RESIZE/models/assets\n"
     ]
    },
    {
     "name": "stdout",
     "output_type": "stream",
     "text": [
      "133/133 [==============================] - 53s 396ms/step - loss: 0.9214 - categorical_accuracy: 0.5429 - val_loss: 0.8810 - val_categorical_accuracy: 0.5563 - lr: 8.1537e-04\n",
      "Epoch 77/300\n",
      "132/133 [============================>.] - ETA: 0s - loss: 0.9239 - categorical_accuracy: 0.5424INFO:tensorflow:Assets written to: tf_resize/logs/imagenet_inception_resnet_v2_(193, 193)_RESIZE/models/assets\n"
     ]
    },
    {
     "name": "stderr",
     "output_type": "stream",
     "text": [
      "INFO:tensorflow:Assets written to: tf_resize/logs/imagenet_inception_resnet_v2_(193, 193)_RESIZE/models/assets\n"
     ]
    },
    {
     "name": "stdout",
     "output_type": "stream",
     "text": [
      "133/133 [==============================] - 53s 400ms/step - loss: 0.9237 - categorical_accuracy: 0.5424 - val_loss: 0.8713 - val_categorical_accuracy: 0.5624 - lr: 7.8276e-04\n",
      "Epoch 78/300\n",
      "132/133 [============================>.] - ETA: 0s - loss: 0.9108 - categorical_accuracy: 0.5504INFO:tensorflow:Assets written to: tf_resize/logs/imagenet_inception_resnet_v2_(193, 193)_RESIZE/models/assets\n"
     ]
    },
    {
     "name": "stderr",
     "output_type": "stream",
     "text": [
      "INFO:tensorflow:Assets written to: tf_resize/logs/imagenet_inception_resnet_v2_(193, 193)_RESIZE/models/assets\n"
     ]
    },
    {
     "name": "stdout",
     "output_type": "stream",
     "text": [
      "133/133 [==============================] - 53s 398ms/step - loss: 0.9106 - categorical_accuracy: 0.5506 - val_loss: 0.8870 - val_categorical_accuracy: 0.5572 - lr: 7.5145e-04\n",
      "Epoch 79/300\n",
      "132/133 [============================>.] - ETA: 0s - loss: 0.9176 - categorical_accuracy: 0.5475INFO:tensorflow:Assets written to: tf_resize/logs/imagenet_inception_resnet_v2_(193, 193)_RESIZE/models/assets\n"
     ]
    },
    {
     "name": "stderr",
     "output_type": "stream",
     "text": [
      "INFO:tensorflow:Assets written to: tf_resize/logs/imagenet_inception_resnet_v2_(193, 193)_RESIZE/models/assets\n"
     ]
    },
    {
     "name": "stdout",
     "output_type": "stream",
     "text": [
      "133/133 [==============================] - 51s 383ms/step - loss: 0.9173 - categorical_accuracy: 0.5477 - val_loss: 0.8685 - val_categorical_accuracy: 0.5558 - lr: 7.2139e-04\n",
      "Epoch 80/300\n",
      "132/133 [============================>.] - ETA: 0s - loss: 0.9188 - categorical_accuracy: 0.5441INFO:tensorflow:Assets written to: tf_resize/logs/imagenet_inception_resnet_v2_(193, 193)_RESIZE/models/assets\n"
     ]
    },
    {
     "name": "stderr",
     "output_type": "stream",
     "text": [
      "INFO:tensorflow:Assets written to: tf_resize/logs/imagenet_inception_resnet_v2_(193, 193)_RESIZE/models/assets\n"
     ]
    },
    {
     "name": "stdout",
     "output_type": "stream",
     "text": [
      "133/133 [==============================] - 54s 407ms/step - loss: 0.9185 - categorical_accuracy: 0.5443 - val_loss: 0.8958 - val_categorical_accuracy: 0.5516 - lr: 6.9253e-04\n",
      "Epoch 81/300\n",
      "132/133 [============================>.] - ETA: 0s - loss: 0.9163 - categorical_accuracy: 0.5461INFO:tensorflow:Assets written to: tf_resize/logs/imagenet_inception_resnet_v2_(193, 193)_RESIZE/models/assets\n"
     ]
    },
    {
     "name": "stderr",
     "output_type": "stream",
     "text": [
      "INFO:tensorflow:Assets written to: tf_resize/logs/imagenet_inception_resnet_v2_(193, 193)_RESIZE/models/assets\n"
     ]
    },
    {
     "name": "stdout",
     "output_type": "stream",
     "text": [
      "133/133 [==============================] - 52s 392ms/step - loss: 0.9162 - categorical_accuracy: 0.5463 - val_loss: 0.8744 - val_categorical_accuracy: 0.5601 - lr: 6.6483e-04\n",
      "Epoch 82/300\n",
      "132/133 [============================>.] - ETA: 0s - loss: 0.9124 - categorical_accuracy: 0.5505INFO:tensorflow:Assets written to: tf_resize/logs/imagenet_inception_resnet_v2_(193, 193)_RESIZE/models/assets\n"
     ]
    },
    {
     "name": "stderr",
     "output_type": "stream",
     "text": [
      "INFO:tensorflow:Assets written to: tf_resize/logs/imagenet_inception_resnet_v2_(193, 193)_RESIZE/models/assets\n"
     ]
    },
    {
     "name": "stdout",
     "output_type": "stream",
     "text": [
      "133/133 [==============================] - 53s 399ms/step - loss: 0.9123 - categorical_accuracy: 0.5505 - val_loss: 0.8867 - val_categorical_accuracy: 0.5601 - lr: 6.3824e-04\n",
      "Epoch 83/300\n",
      "132/133 [============================>.] - ETA: 0s - loss: 0.9059 - categorical_accuracy: 0.5511INFO:tensorflow:Assets written to: tf_resize/logs/imagenet_inception_resnet_v2_(193, 193)_RESIZE/models/assets\n"
     ]
    },
    {
     "name": "stderr",
     "output_type": "stream",
     "text": [
      "INFO:tensorflow:Assets written to: tf_resize/logs/imagenet_inception_resnet_v2_(193, 193)_RESIZE/models/assets\n"
     ]
    },
    {
     "name": "stdout",
     "output_type": "stream",
     "text": [
      "133/133 [==============================] - 53s 399ms/step - loss: 0.9057 - categorical_accuracy: 0.5513 - val_loss: 0.8782 - val_categorical_accuracy: 0.5615 - lr: 6.1271e-04\n",
      "Epoch 84/300\n",
      "132/133 [============================>.] - ETA: 0s - loss: 0.9066 - categorical_accuracy: 0.5488INFO:tensorflow:Assets written to: tf_resize/logs/imagenet_inception_resnet_v2_(193, 193)_RESIZE/models/assets\n"
     ]
    },
    {
     "name": "stderr",
     "output_type": "stream",
     "text": [
      "INFO:tensorflow:Assets written to: tf_resize/logs/imagenet_inception_resnet_v2_(193, 193)_RESIZE/models/assets\n"
     ]
    },
    {
     "name": "stdout",
     "output_type": "stream",
     "text": [
      "133/133 [==============================] - 53s 397ms/step - loss: 0.9064 - categorical_accuracy: 0.5489 - val_loss: 0.8794 - val_categorical_accuracy: 0.5634 - lr: 5.8820e-04\n",
      "Epoch 85/300\n",
      "132/133 [============================>.] - ETA: 0s - loss: 0.9079 - categorical_accuracy: 0.5449INFO:tensorflow:Assets written to: tf_resize/logs/imagenet_inception_resnet_v2_(193, 193)_RESIZE/models/assets\n"
     ]
    },
    {
     "name": "stderr",
     "output_type": "stream",
     "text": [
      "INFO:tensorflow:Assets written to: tf_resize/logs/imagenet_inception_resnet_v2_(193, 193)_RESIZE/models/assets\n"
     ]
    },
    {
     "name": "stdout",
     "output_type": "stream",
     "text": [
      "133/133 [==============================] - 53s 400ms/step - loss: 0.9078 - categorical_accuracy: 0.5449 - val_loss: 0.8641 - val_categorical_accuracy: 0.5648 - lr: 5.6467e-04\n",
      "Epoch 86/300\n",
      "132/133 [============================>.] - ETA: 0s - loss: 0.9003 - categorical_accuracy: 0.5552INFO:tensorflow:Assets written to: tf_resize/logs/imagenet_inception_resnet_v2_(193, 193)_RESIZE/models/assets\n"
     ]
    },
    {
     "name": "stderr",
     "output_type": "stream",
     "text": [
      "INFO:tensorflow:Assets written to: tf_resize/logs/imagenet_inception_resnet_v2_(193, 193)_RESIZE/models/assets\n"
     ]
    },
    {
     "name": "stdout",
     "output_type": "stream",
     "text": [
      "133/133 [==============================] - 50s 378ms/step - loss: 0.9001 - categorical_accuracy: 0.5552 - val_loss: 0.8723 - val_categorical_accuracy: 0.5615 - lr: 5.4209e-04\n",
      "Epoch 87/300\n",
      "132/133 [============================>.] - ETA: 0s - loss: 0.9013 - categorical_accuracy: 0.5514INFO:tensorflow:Assets written to: tf_resize/logs/imagenet_inception_resnet_v2_(193, 193)_RESIZE/models/assets\n"
     ]
    },
    {
     "name": "stderr",
     "output_type": "stream",
     "text": [
      "INFO:tensorflow:Assets written to: tf_resize/logs/imagenet_inception_resnet_v2_(193, 193)_RESIZE/models/assets\n"
     ]
    },
    {
     "name": "stdout",
     "output_type": "stream",
     "text": [
      "133/133 [==============================] - 53s 398ms/step - loss: 0.9011 - categorical_accuracy: 0.5516 - val_loss: 0.8759 - val_categorical_accuracy: 0.5629 - lr: 5.2040e-04\n",
      "Epoch 88/300\n",
      "132/133 [============================>.] - ETA: 0s - loss: 0.8970 - categorical_accuracy: 0.5552INFO:tensorflow:Assets written to: tf_resize/logs/imagenet_inception_resnet_v2_(193, 193)_RESIZE/models/assets\n"
     ]
    },
    {
     "name": "stderr",
     "output_type": "stream",
     "text": [
      "INFO:tensorflow:Assets written to: tf_resize/logs/imagenet_inception_resnet_v2_(193, 193)_RESIZE/models/assets\n"
     ]
    },
    {
     "name": "stdout",
     "output_type": "stream",
     "text": [
      "133/133 [==============================] - 52s 393ms/step - loss: 0.8968 - categorical_accuracy: 0.5553 - val_loss: 0.8741 - val_categorical_accuracy: 0.5615 - lr: 4.9959e-04\n",
      "Epoch 89/300\n",
      "132/133 [============================>.] - ETA: 0s - loss: 0.8992 - categorical_accuracy: 0.5560INFO:tensorflow:Assets written to: tf_resize/logs/imagenet_inception_resnet_v2_(193, 193)_RESIZE/models/assets\n"
     ]
    },
    {
     "name": "stderr",
     "output_type": "stream",
     "text": [
      "INFO:tensorflow:Assets written to: tf_resize/logs/imagenet_inception_resnet_v2_(193, 193)_RESIZE/models/assets\n"
     ]
    },
    {
     "name": "stdout",
     "output_type": "stream",
     "text": [
      "133/133 [==============================] - 52s 394ms/step - loss: 0.8990 - categorical_accuracy: 0.5562 - val_loss: 0.8653 - val_categorical_accuracy: 0.5615 - lr: 4.7960e-04\n",
      "Epoch 90/300\n",
      "132/133 [============================>.] - ETA: 0s - loss: 0.8933 - categorical_accuracy: 0.5569INFO:tensorflow:Assets written to: tf_resize/logs/imagenet_inception_resnet_v2_(193, 193)_RESIZE/models/assets\n"
     ]
    },
    {
     "name": "stderr",
     "output_type": "stream",
     "text": [
      "INFO:tensorflow:Assets written to: tf_resize/logs/imagenet_inception_resnet_v2_(193, 193)_RESIZE/models/assets\n"
     ]
    },
    {
     "name": "stdout",
     "output_type": "stream",
     "text": [
      "133/133 [==============================] - 52s 393ms/step - loss: 0.8929 - categorical_accuracy: 0.5571 - val_loss: 0.8704 - val_categorical_accuracy: 0.5624 - lr: 4.6042e-04\n",
      "Epoch 91/300\n",
      "132/133 [============================>.] - ETA: 0s - loss: 0.8910 - categorical_accuracy: 0.5555INFO:tensorflow:Assets written to: tf_resize/logs/imagenet_inception_resnet_v2_(193, 193)_RESIZE/models/assets\n"
     ]
    },
    {
     "name": "stderr",
     "output_type": "stream",
     "text": [
      "INFO:tensorflow:Assets written to: tf_resize/logs/imagenet_inception_resnet_v2_(193, 193)_RESIZE/models/assets\n"
     ]
    },
    {
     "name": "stdout",
     "output_type": "stream",
     "text": [
      "133/133 [==============================] - 53s 400ms/step - loss: 0.8908 - categorical_accuracy: 0.5556 - val_loss: 0.8714 - val_categorical_accuracy: 0.5615 - lr: 4.4200e-04\n",
      "Epoch 92/300\n",
      "132/133 [============================>.] - ETA: 0s - loss: 0.8935 - categorical_accuracy: 0.5582INFO:tensorflow:Assets written to: tf_resize/logs/imagenet_inception_resnet_v2_(193, 193)_RESIZE/models/assets\n"
     ]
    },
    {
     "name": "stderr",
     "output_type": "stream",
     "text": [
      "INFO:tensorflow:Assets written to: tf_resize/logs/imagenet_inception_resnet_v2_(193, 193)_RESIZE/models/assets\n"
     ]
    },
    {
     "name": "stdout",
     "output_type": "stream",
     "text": [
      "133/133 [==============================] - 54s 404ms/step - loss: 0.8932 - categorical_accuracy: 0.5583 - val_loss: 0.8754 - val_categorical_accuracy: 0.5624 - lr: 4.2432e-04\n",
      "Epoch 93/300\n",
      "132/133 [============================>.] - ETA: 0s - loss: 0.8887 - categorical_accuracy: 0.5587INFO:tensorflow:Assets written to: tf_resize/logs/imagenet_inception_resnet_v2_(193, 193)_RESIZE/models/assets\n"
     ]
    },
    {
     "name": "stderr",
     "output_type": "stream",
     "text": [
      "INFO:tensorflow:Assets written to: tf_resize/logs/imagenet_inception_resnet_v2_(193, 193)_RESIZE/models/assets\n"
     ]
    },
    {
     "name": "stdout",
     "output_type": "stream",
     "text": [
      "133/133 [==============================] - 51s 381ms/step - loss: 0.8884 - categorical_accuracy: 0.5589 - val_loss: 0.8611 - val_categorical_accuracy: 0.5658 - lr: 4.0735e-04\n",
      "Epoch 94/300\n",
      "132/133 [============================>.] - ETA: 0s - loss: 0.8901 - categorical_accuracy: 0.5639INFO:tensorflow:Assets written to: tf_resize/logs/imagenet_inception_resnet_v2_(193, 193)_RESIZE/models/assets\n"
     ]
    },
    {
     "name": "stderr",
     "output_type": "stream",
     "text": [
      "INFO:tensorflow:Assets written to: tf_resize/logs/imagenet_inception_resnet_v2_(193, 193)_RESIZE/models/assets\n"
     ]
    },
    {
     "name": "stdout",
     "output_type": "stream",
     "text": [
      "133/133 [==============================] - 54s 404ms/step - loss: 0.8899 - categorical_accuracy: 0.5640 - val_loss: 0.8684 - val_categorical_accuracy: 0.5605 - lr: 3.9106e-04\n",
      "Epoch 95/300\n",
      "132/133 [============================>.] - ETA: 0s - loss: 0.8859 - categorical_accuracy: 0.5590INFO:tensorflow:Assets written to: tf_resize/logs/imagenet_inception_resnet_v2_(193, 193)_RESIZE/models/assets\n"
     ]
    },
    {
     "name": "stderr",
     "output_type": "stream",
     "text": [
      "INFO:tensorflow:Assets written to: tf_resize/logs/imagenet_inception_resnet_v2_(193, 193)_RESIZE/models/assets\n"
     ]
    },
    {
     "name": "stdout",
     "output_type": "stream",
     "text": [
      "133/133 [==============================] - 53s 400ms/step - loss: 0.8857 - categorical_accuracy: 0.5591 - val_loss: 0.8770 - val_categorical_accuracy: 0.5624 - lr: 3.7541e-04\n",
      "Epoch 96/300\n",
      "132/133 [============================>.] - ETA: 0s - loss: 0.8870 - categorical_accuracy: 0.5616INFO:tensorflow:Assets written to: tf_resize/logs/imagenet_inception_resnet_v2_(193, 193)_RESIZE/models/assets\n"
     ]
    },
    {
     "name": "stderr",
     "output_type": "stream",
     "text": [
      "INFO:tensorflow:Assets written to: tf_resize/logs/imagenet_inception_resnet_v2_(193, 193)_RESIZE/models/assets\n"
     ]
    },
    {
     "name": "stdout",
     "output_type": "stream",
     "text": [
      "133/133 [==============================] - 53s 396ms/step - loss: 0.8866 - categorical_accuracy: 0.5618 - val_loss: 0.8515 - val_categorical_accuracy: 0.5686 - lr: 3.6040e-04\n",
      "Epoch 97/300\n",
      "132/133 [============================>.] - ETA: 0s - loss: 0.8765 - categorical_accuracy: 0.5640INFO:tensorflow:Assets written to: tf_resize/logs/imagenet_inception_resnet_v2_(193, 193)_RESIZE/models/assets\n"
     ]
    },
    {
     "name": "stderr",
     "output_type": "stream",
     "text": [
      "INFO:tensorflow:Assets written to: tf_resize/logs/imagenet_inception_resnet_v2_(193, 193)_RESIZE/models/assets\n"
     ]
    },
    {
     "name": "stdout",
     "output_type": "stream",
     "text": [
      "133/133 [==============================] - 53s 397ms/step - loss: 0.8763 - categorical_accuracy: 0.5641 - val_loss: 0.8598 - val_categorical_accuracy: 0.5643 - lr: 3.4598e-04\n",
      "Epoch 98/300\n",
      "132/133 [============================>.] - ETA: 0s - loss: 0.8797 - categorical_accuracy: 0.5622INFO:tensorflow:Assets written to: tf_resize/logs/imagenet_inception_resnet_v2_(193, 193)_RESIZE/models/assets\n"
     ]
    },
    {
     "name": "stderr",
     "output_type": "stream",
     "text": [
      "INFO:tensorflow:Assets written to: tf_resize/logs/imagenet_inception_resnet_v2_(193, 193)_RESIZE/models/assets\n"
     ]
    },
    {
     "name": "stdout",
     "output_type": "stream",
     "text": [
      "133/133 [==============================] - 53s 396ms/step - loss: 0.8795 - categorical_accuracy: 0.5623 - val_loss: 0.8486 - val_categorical_accuracy: 0.5700 - lr: 3.3214e-04\n",
      "Epoch 99/300\n",
      "132/133 [============================>.] - ETA: 0s - loss: 0.8760 - categorical_accuracy: 0.5621INFO:tensorflow:Assets written to: tf_resize/logs/imagenet_inception_resnet_v2_(193, 193)_RESIZE/models/assets\n"
     ]
    },
    {
     "name": "stderr",
     "output_type": "stream",
     "text": [
      "INFO:tensorflow:Assets written to: tf_resize/logs/imagenet_inception_resnet_v2_(193, 193)_RESIZE/models/assets\n"
     ]
    },
    {
     "name": "stdout",
     "output_type": "stream",
     "text": [
      "133/133 [==============================] - 51s 383ms/step - loss: 0.8757 - categorical_accuracy: 0.5623 - val_loss: 0.8566 - val_categorical_accuracy: 0.5648 - lr: 3.1886e-04\n",
      "Epoch 100/300\n",
      "132/133 [============================>.] - ETA: 0s - loss: 0.8704 - categorical_accuracy: 0.5659INFO:tensorflow:Assets written to: tf_resize/logs/imagenet_inception_resnet_v2_(193, 193)_RESIZE/models/assets\n"
     ]
    },
    {
     "name": "stderr",
     "output_type": "stream",
     "text": [
      "INFO:tensorflow:Assets written to: tf_resize/logs/imagenet_inception_resnet_v2_(193, 193)_RESIZE/models/assets\n"
     ]
    },
    {
     "name": "stdout",
     "output_type": "stream",
     "text": [
      "133/133 [==============================] - 54s 405ms/step - loss: 0.8702 - categorical_accuracy: 0.5660 - val_loss: 0.8527 - val_categorical_accuracy: 0.5648 - lr: 3.0610e-04\n",
      "Epoch 101/300\n",
      "132/133 [============================>.] - ETA: 0s - loss: 0.8722 - categorical_accuracy: 0.5647INFO:tensorflow:Assets written to: tf_resize/logs/imagenet_inception_resnet_v2_(193, 193)_RESIZE/models/assets\n"
     ]
    },
    {
     "name": "stderr",
     "output_type": "stream",
     "text": [
      "INFO:tensorflow:Assets written to: tf_resize/logs/imagenet_inception_resnet_v2_(193, 193)_RESIZE/models/assets\n"
     ]
    },
    {
     "name": "stdout",
     "output_type": "stream",
     "text": [
      "133/133 [==============================] - 52s 395ms/step - loss: 0.8719 - categorical_accuracy: 0.5649 - val_loss: 0.8521 - val_categorical_accuracy: 0.5620 - lr: 2.9386e-04\n",
      "Epoch 102/300\n",
      "132/133 [============================>.] - ETA: 0s - loss: 0.8655 - categorical_accuracy: 0.5691INFO:tensorflow:Assets written to: tf_resize/logs/imagenet_inception_resnet_v2_(193, 193)_RESIZE/models/assets\n"
     ]
    },
    {
     "name": "stderr",
     "output_type": "stream",
     "text": [
      "INFO:tensorflow:Assets written to: tf_resize/logs/imagenet_inception_resnet_v2_(193, 193)_RESIZE/models/assets\n"
     ]
    },
    {
     "name": "stdout",
     "output_type": "stream",
     "text": [
      "133/133 [==============================] - 54s 407ms/step - loss: 0.8652 - categorical_accuracy: 0.5692 - val_loss: 0.8414 - val_categorical_accuracy: 0.5738 - lr: 2.8210e-04\n",
      "Epoch 103/300\n",
      "132/133 [============================>.] - ETA: 0s - loss: 0.8686 - categorical_accuracy: 0.5674INFO:tensorflow:Assets written to: tf_resize/logs/imagenet_inception_resnet_v2_(193, 193)_RESIZE/models/assets\n"
     ]
    },
    {
     "name": "stderr",
     "output_type": "stream",
     "text": [
      "INFO:tensorflow:Assets written to: tf_resize/logs/imagenet_inception_resnet_v2_(193, 193)_RESIZE/models/assets\n"
     ]
    },
    {
     "name": "stdout",
     "output_type": "stream",
     "text": [
      "133/133 [==============================] - 55s 411ms/step - loss: 0.8683 - categorical_accuracy: 0.5675 - val_loss: 0.8473 - val_categorical_accuracy: 0.5667 - lr: 2.7082e-04\n",
      "Epoch 104/300\n",
      "132/133 [============================>.] - ETA: 0s - loss: 0.8655 - categorical_accuracy: 0.5666INFO:tensorflow:Assets written to: tf_resize/logs/imagenet_inception_resnet_v2_(193, 193)_RESIZE/models/assets\n"
     ]
    },
    {
     "name": "stderr",
     "output_type": "stream",
     "text": [
      "INFO:tensorflow:Assets written to: tf_resize/logs/imagenet_inception_resnet_v2_(193, 193)_RESIZE/models/assets\n"
     ]
    },
    {
     "name": "stdout",
     "output_type": "stream",
     "text": [
      "133/133 [==============================] - 53s 399ms/step - loss: 0.8653 - categorical_accuracy: 0.5668 - val_loss: 0.8446 - val_categorical_accuracy: 0.5672 - lr: 2.5999e-04\n",
      "Epoch 105/300\n",
      "132/133 [============================>.] - ETA: 0s - loss: 0.8636 - categorical_accuracy: 0.5682INFO:tensorflow:Assets written to: tf_resize/logs/imagenet_inception_resnet_v2_(193, 193)_RESIZE/models/assets\n"
     ]
    },
    {
     "name": "stderr",
     "output_type": "stream",
     "text": [
      "INFO:tensorflow:Assets written to: tf_resize/logs/imagenet_inception_resnet_v2_(193, 193)_RESIZE/models/assets\n"
     ]
    },
    {
     "name": "stdout",
     "output_type": "stream",
     "text": [
      "133/133 [==============================] - 52s 389ms/step - loss: 0.8634 - categorical_accuracy: 0.5683 - val_loss: 0.8377 - val_categorical_accuracy: 0.5733 - lr: 2.4959e-04\n",
      "Epoch 106/300\n",
      "132/133 [============================>.] - ETA: 0s - loss: 0.8644 - categorical_accuracy: 0.5678INFO:tensorflow:Assets written to: tf_resize/logs/imagenet_inception_resnet_v2_(193, 193)_RESIZE/models/assets\n"
     ]
    },
    {
     "name": "stderr",
     "output_type": "stream",
     "text": [
      "INFO:tensorflow:Assets written to: tf_resize/logs/imagenet_inception_resnet_v2_(193, 193)_RESIZE/models/assets\n"
     ]
    },
    {
     "name": "stdout",
     "output_type": "stream",
     "text": [
      "133/133 [==============================] - 53s 401ms/step - loss: 0.8641 - categorical_accuracy: 0.5679 - val_loss: 0.8354 - val_categorical_accuracy: 0.5757 - lr: 2.3960e-04\n",
      "Epoch 107/300\n",
      "132/133 [============================>.] - ETA: 0s - loss: 0.8643 - categorical_accuracy: 0.5713INFO:tensorflow:Assets written to: tf_resize/logs/imagenet_inception_resnet_v2_(193, 193)_RESIZE/models/assets\n"
     ]
    },
    {
     "name": "stderr",
     "output_type": "stream",
     "text": [
      "INFO:tensorflow:Assets written to: tf_resize/logs/imagenet_inception_resnet_v2_(193, 193)_RESIZE/models/assets\n"
     ]
    },
    {
     "name": "stdout",
     "output_type": "stream",
     "text": [
      "133/133 [==============================] - 53s 396ms/step - loss: 0.8641 - categorical_accuracy: 0.5714 - val_loss: 0.8508 - val_categorical_accuracy: 0.5695 - lr: 2.3002e-04\n",
      "Epoch 108/300\n",
      "133/133 [==============================] - ETA: 0s - loss: 0.8595 - categorical_accuracy: 0.5675INFO:tensorflow:Assets written to: tf_resize/logs/imagenet_inception_resnet_v2_(193, 193)_RESIZE/models/assets\n"
     ]
    },
    {
     "name": "stderr",
     "output_type": "stream",
     "text": [
      "INFO:tensorflow:Assets written to: tf_resize/logs/imagenet_inception_resnet_v2_(193, 193)_RESIZE/models/assets\n"
     ]
    },
    {
     "name": "stdout",
     "output_type": "stream",
     "text": [
      "133/133 [==============================] - 53s 395ms/step - loss: 0.8595 - categorical_accuracy: 0.5675 - val_loss: 0.8415 - val_categorical_accuracy: 0.5766 - lr: 2.2082e-04\n",
      "Epoch 109/300\n",
      "132/133 [============================>.] - ETA: 0s - loss: 0.8614 - categorical_accuracy: 0.5613INFO:tensorflow:Assets written to: tf_resize/logs/imagenet_inception_resnet_v2_(193, 193)_RESIZE/models/assets\n"
     ]
    },
    {
     "name": "stderr",
     "output_type": "stream",
     "text": [
      "INFO:tensorflow:Assets written to: tf_resize/logs/imagenet_inception_resnet_v2_(193, 193)_RESIZE/models/assets\n"
     ]
    },
    {
     "name": "stdout",
     "output_type": "stream",
     "text": [
      "133/133 [==============================] - 53s 397ms/step - loss: 0.8611 - categorical_accuracy: 0.5614 - val_loss: 0.8375 - val_categorical_accuracy: 0.5733 - lr: 2.1199e-04\n",
      "Epoch 110/300\n",
      "132/133 [============================>.] - ETA: 0s - loss: 0.8636 - categorical_accuracy: 0.5681INFO:tensorflow:Assets written to: tf_resize/logs/imagenet_inception_resnet_v2_(193, 193)_RESIZE/models/assets\n"
     ]
    },
    {
     "name": "stderr",
     "output_type": "stream",
     "text": [
      "INFO:tensorflow:Assets written to: tf_resize/logs/imagenet_inception_resnet_v2_(193, 193)_RESIZE/models/assets\n"
     ]
    },
    {
     "name": "stdout",
     "output_type": "stream",
     "text": [
      "133/133 [==============================] - 50s 380ms/step - loss: 0.8635 - categorical_accuracy: 0.5681 - val_loss: 0.8374 - val_categorical_accuracy: 0.5733 - lr: 2.0351e-04\n",
      "Epoch 111/300\n",
      "132/133 [============================>.] - ETA: 0s - loss: 0.8593 - categorical_accuracy: 0.5701INFO:tensorflow:Assets written to: tf_resize/logs/imagenet_inception_resnet_v2_(193, 193)_RESIZE/models/assets\n"
     ]
    },
    {
     "name": "stderr",
     "output_type": "stream",
     "text": [
      "INFO:tensorflow:Assets written to: tf_resize/logs/imagenet_inception_resnet_v2_(193, 193)_RESIZE/models/assets\n"
     ]
    },
    {
     "name": "stdout",
     "output_type": "stream",
     "text": [
      "133/133 [==============================] - 54s 403ms/step - loss: 0.8592 - categorical_accuracy: 0.5701 - val_loss: 0.8376 - val_categorical_accuracy: 0.5733 - lr: 1.9537e-04\n",
      "Epoch 112/300\n",
      "132/133 [============================>.] - ETA: 0s - loss: 0.8575 - categorical_accuracy: 0.5697INFO:tensorflow:Assets written to: tf_resize/logs/imagenet_inception_resnet_v2_(193, 193)_RESIZE/models/assets\n"
     ]
    },
    {
     "name": "stderr",
     "output_type": "stream",
     "text": [
      "INFO:tensorflow:Assets written to: tf_resize/logs/imagenet_inception_resnet_v2_(193, 193)_RESIZE/models/assets\n"
     ]
    },
    {
     "name": "stdout",
     "output_type": "stream",
     "text": [
      "133/133 [==============================] - 52s 393ms/step - loss: 0.8574 - categorical_accuracy: 0.5697 - val_loss: 0.8328 - val_categorical_accuracy: 0.5790 - lr: 1.8755e-04\n",
      "Epoch 113/300\n",
      "132/133 [============================>.] - ETA: 0s - loss: 0.8591 - categorical_accuracy: 0.5687INFO:tensorflow:Assets written to: tf_resize/logs/imagenet_inception_resnet_v2_(193, 193)_RESIZE/models/assets\n"
     ]
    },
    {
     "name": "stderr",
     "output_type": "stream",
     "text": [
      "INFO:tensorflow:Assets written to: tf_resize/logs/imagenet_inception_resnet_v2_(193, 193)_RESIZE/models/assets\n"
     ]
    },
    {
     "name": "stdout",
     "output_type": "stream",
     "text": [
      "133/133 [==============================] - 53s 400ms/step - loss: 0.8588 - categorical_accuracy: 0.5687 - val_loss: 0.8345 - val_categorical_accuracy: 0.5705 - lr: 1.8005e-04\n",
      "Epoch 114/300\n",
      "132/133 [============================>.] - ETA: 0s - loss: 0.8540 - categorical_accuracy: 0.5698INFO:tensorflow:Assets written to: tf_resize/logs/imagenet_inception_resnet_v2_(193, 193)_RESIZE/models/assets\n"
     ]
    },
    {
     "name": "stderr",
     "output_type": "stream",
     "text": [
      "INFO:tensorflow:Assets written to: tf_resize/logs/imagenet_inception_resnet_v2_(193, 193)_RESIZE/models/assets\n"
     ]
    },
    {
     "name": "stdout",
     "output_type": "stream",
     "text": [
      "133/133 [==============================] - 51s 381ms/step - loss: 0.8538 - categorical_accuracy: 0.5698 - val_loss: 0.8311 - val_categorical_accuracy: 0.5743 - lr: 1.7285e-04\n",
      "Epoch 115/300\n",
      "132/133 [============================>.] - ETA: 0s - loss: 0.8524 - categorical_accuracy: 0.5752INFO:tensorflow:Assets written to: tf_resize/logs/imagenet_inception_resnet_v2_(193, 193)_RESIZE/models/assets\n"
     ]
    },
    {
     "name": "stderr",
     "output_type": "stream",
     "text": [
      "INFO:tensorflow:Assets written to: tf_resize/logs/imagenet_inception_resnet_v2_(193, 193)_RESIZE/models/assets\n"
     ]
    },
    {
     "name": "stdout",
     "output_type": "stream",
     "text": [
      "133/133 [==============================] - 54s 403ms/step - loss: 0.8521 - categorical_accuracy: 0.5753 - val_loss: 0.8306 - val_categorical_accuracy: 0.5752 - lr: 1.6593e-04\n",
      "Epoch 116/300\n",
      "132/133 [============================>.] - ETA: 0s - loss: 0.8487 - categorical_accuracy: 0.5703INFO:tensorflow:Assets written to: tf_resize/logs/imagenet_inception_resnet_v2_(193, 193)_RESIZE/models/assets\n"
     ]
    },
    {
     "name": "stderr",
     "output_type": "stream",
     "text": [
      "INFO:tensorflow:Assets written to: tf_resize/logs/imagenet_inception_resnet_v2_(193, 193)_RESIZE/models/assets\n"
     ]
    },
    {
     "name": "stdout",
     "output_type": "stream",
     "text": [
      "133/133 [==============================] - 53s 396ms/step - loss: 0.8484 - categorical_accuracy: 0.5705 - val_loss: 0.8314 - val_categorical_accuracy: 0.5686 - lr: 1.5930e-04\n",
      "Epoch 117/300\n",
      "132/133 [============================>.] - ETA: 0s - loss: 0.8506 - categorical_accuracy: 0.5775INFO:tensorflow:Assets written to: tf_resize/logs/imagenet_inception_resnet_v2_(193, 193)_RESIZE/models/assets\n"
     ]
    },
    {
     "name": "stderr",
     "output_type": "stream",
     "text": [
      "INFO:tensorflow:Assets written to: tf_resize/logs/imagenet_inception_resnet_v2_(193, 193)_RESIZE/models/assets\n"
     ]
    },
    {
     "name": "stdout",
     "output_type": "stream",
     "text": [
      "133/133 [==============================] - 53s 398ms/step - loss: 0.8505 - categorical_accuracy: 0.5776 - val_loss: 0.8339 - val_categorical_accuracy: 0.5776 - lr: 1.5292e-04\n",
      "Epoch 118/300\n",
      "132/133 [============================>.] - ETA: 0s - loss: 0.8540 - categorical_accuracy: 0.5713INFO:tensorflow:Assets written to: tf_resize/logs/imagenet_inception_resnet_v2_(193, 193)_RESIZE/models/assets\n"
     ]
    },
    {
     "name": "stderr",
     "output_type": "stream",
     "text": [
      "INFO:tensorflow:Assets written to: tf_resize/logs/imagenet_inception_resnet_v2_(193, 193)_RESIZE/models/assets\n"
     ]
    },
    {
     "name": "stdout",
     "output_type": "stream",
     "text": [
      "133/133 [==============================] - 53s 402ms/step - loss: 0.8537 - categorical_accuracy: 0.5714 - val_loss: 0.8294 - val_categorical_accuracy: 0.5724 - lr: 1.4681e-04\n",
      "Epoch 119/300\n",
      "132/133 [============================>.] - ETA: 0s - loss: 0.8471 - categorical_accuracy: 0.5718INFO:tensorflow:Assets written to: tf_resize/logs/imagenet_inception_resnet_v2_(193, 193)_RESIZE/models/assets\n"
     ]
    },
    {
     "name": "stderr",
     "output_type": "stream",
     "text": [
      "INFO:tensorflow:Assets written to: tf_resize/logs/imagenet_inception_resnet_v2_(193, 193)_RESIZE/models/assets\n"
     ]
    },
    {
     "name": "stdout",
     "output_type": "stream",
     "text": [
      "133/133 [==============================] - 52s 393ms/step - loss: 0.8468 - categorical_accuracy: 0.5719 - val_loss: 0.8247 - val_categorical_accuracy: 0.5738 - lr: 1.4094e-04\n",
      "Epoch 120/300\n",
      "132/133 [============================>.] - ETA: 0s - loss: 0.8473 - categorical_accuracy: 0.5757INFO:tensorflow:Assets written to: tf_resize/logs/imagenet_inception_resnet_v2_(193, 193)_RESIZE/models/assets\n"
     ]
    },
    {
     "name": "stderr",
     "output_type": "stream",
     "text": [
      "INFO:tensorflow:Assets written to: tf_resize/logs/imagenet_inception_resnet_v2_(193, 193)_RESIZE/models/assets\n"
     ]
    },
    {
     "name": "stdout",
     "output_type": "stream",
     "text": [
      "133/133 [==============================] - 50s 378ms/step - loss: 0.8471 - categorical_accuracy: 0.5758 - val_loss: 0.8256 - val_categorical_accuracy: 0.5790 - lr: 1.3530e-04\n",
      "Epoch 121/300\n",
      "132/133 [============================>.] - ETA: 0s - loss: 0.8466 - categorical_accuracy: 0.5721INFO:tensorflow:Assets written to: tf_resize/logs/imagenet_inception_resnet_v2_(193, 193)_RESIZE/models/assets\n"
     ]
    },
    {
     "name": "stderr",
     "output_type": "stream",
     "text": [
      "INFO:tensorflow:Assets written to: tf_resize/logs/imagenet_inception_resnet_v2_(193, 193)_RESIZE/models/assets\n"
     ]
    },
    {
     "name": "stdout",
     "output_type": "stream",
     "text": [
      "133/133 [==============================] - 54s 408ms/step - loss: 0.8465 - categorical_accuracy: 0.5721 - val_loss: 0.8262 - val_categorical_accuracy: 0.5724 - lr: 1.2989e-04\n",
      "Epoch 122/300\n",
      "132/133 [============================>.] - ETA: 0s - loss: 0.8479 - categorical_accuracy: 0.5738INFO:tensorflow:Assets written to: tf_resize/logs/imagenet_inception_resnet_v2_(193, 193)_RESIZE/models/assets\n"
     ]
    },
    {
     "name": "stderr",
     "output_type": "stream",
     "text": [
      "INFO:tensorflow:Assets written to: tf_resize/logs/imagenet_inception_resnet_v2_(193, 193)_RESIZE/models/assets\n"
     ]
    },
    {
     "name": "stdout",
     "output_type": "stream",
     "text": [
      "133/133 [==============================] - 53s 395ms/step - loss: 0.8476 - categorical_accuracy: 0.5739 - val_loss: 0.8285 - val_categorical_accuracy: 0.5781 - lr: 1.2469e-04\n",
      "Epoch 123/300\n",
      "132/133 [============================>.] - ETA: 0s - loss: 0.8459 - categorical_accuracy: 0.5760INFO:tensorflow:Assets written to: tf_resize/logs/imagenet_inception_resnet_v2_(193, 193)_RESIZE/models/assets\n"
     ]
    },
    {
     "name": "stderr",
     "output_type": "stream",
     "text": [
      "INFO:tensorflow:Assets written to: tf_resize/logs/imagenet_inception_resnet_v2_(193, 193)_RESIZE/models/assets\n"
     ]
    },
    {
     "name": "stdout",
     "output_type": "stream",
     "text": [
      "133/133 [==============================] - 54s 405ms/step - loss: 0.8456 - categorical_accuracy: 0.5762 - val_loss: 0.8250 - val_categorical_accuracy: 0.5851 - lr: 1.1970e-04\n",
      "Epoch 124/300\n",
      "132/133 [============================>.] - ETA: 0s - loss: 0.8417 - categorical_accuracy: 0.5721INFO:tensorflow:Assets written to: tf_resize/logs/imagenet_inception_resnet_v2_(193, 193)_RESIZE/models/assets\n"
     ]
    },
    {
     "name": "stderr",
     "output_type": "stream",
     "text": [
      "INFO:tensorflow:Assets written to: tf_resize/logs/imagenet_inception_resnet_v2_(193, 193)_RESIZE/models/assets\n"
     ]
    },
    {
     "name": "stdout",
     "output_type": "stream",
     "text": [
      "133/133 [==============================] - 51s 380ms/step - loss: 0.8416 - categorical_accuracy: 0.5721 - val_loss: 0.8227 - val_categorical_accuracy: 0.5795 - lr: 1.1491e-04\n",
      "Epoch 125/300\n",
      "132/133 [============================>.] - ETA: 0s - loss: 0.8458 - categorical_accuracy: 0.5716INFO:tensorflow:Assets written to: tf_resize/logs/imagenet_inception_resnet_v2_(193, 193)_RESIZE/models/assets\n"
     ]
    },
    {
     "name": "stderr",
     "output_type": "stream",
     "text": [
      "INFO:tensorflow:Assets written to: tf_resize/logs/imagenet_inception_resnet_v2_(193, 193)_RESIZE/models/assets\n"
     ]
    },
    {
     "name": "stdout",
     "output_type": "stream",
     "text": [
      "133/133 [==============================] - 54s 406ms/step - loss: 0.8455 - categorical_accuracy: 0.5717 - val_loss: 0.8237 - val_categorical_accuracy: 0.5818 - lr: 1.1032e-04\n",
      "Epoch 126/300\n",
      "132/133 [============================>.] - ETA: 0s - loss: 0.8440 - categorical_accuracy: 0.5745INFO:tensorflow:Assets written to: tf_resize/logs/imagenet_inception_resnet_v2_(193, 193)_RESIZE/models/assets\n"
     ]
    },
    {
     "name": "stderr",
     "output_type": "stream",
     "text": [
      "INFO:tensorflow:Assets written to: tf_resize/logs/imagenet_inception_resnet_v2_(193, 193)_RESIZE/models/assets\n"
     ]
    },
    {
     "name": "stdout",
     "output_type": "stream",
     "text": [
      "133/133 [==============================] - 54s 403ms/step - loss: 0.8438 - categorical_accuracy: 0.5746 - val_loss: 0.8226 - val_categorical_accuracy: 0.5757 - lr: 1.0591e-04\n",
      "Epoch 127/300\n",
      "132/133 [============================>.] - ETA: 0s - loss: 0.8465 - categorical_accuracy: 0.5731INFO:tensorflow:Assets written to: tf_resize/logs/imagenet_inception_resnet_v2_(193, 193)_RESIZE/models/assets\n"
     ]
    },
    {
     "name": "stderr",
     "output_type": "stream",
     "text": [
      "INFO:tensorflow:Assets written to: tf_resize/logs/imagenet_inception_resnet_v2_(193, 193)_RESIZE/models/assets\n"
     ]
    },
    {
     "name": "stdout",
     "output_type": "stream",
     "text": [
      "133/133 [==============================] - 53s 401ms/step - loss: 0.8462 - categorical_accuracy: 0.5732 - val_loss: 0.8234 - val_categorical_accuracy: 0.5781 - lr: 1.0167e-04\n",
      "Epoch 128/300\n",
      "133/133 [==============================] - ETA: 0s - loss: 0.8428 - categorical_accuracy: 0.5768INFO:tensorflow:Assets written to: tf_resize/logs/imagenet_inception_resnet_v2_(193, 193)_RESIZE/models/assets\n"
     ]
    },
    {
     "name": "stderr",
     "output_type": "stream",
     "text": [
      "INFO:tensorflow:Assets written to: tf_resize/logs/imagenet_inception_resnet_v2_(193, 193)_RESIZE/models/assets\n"
     ]
    },
    {
     "name": "stdout",
     "output_type": "stream",
     "text": [
      "133/133 [==============================] - 50s 378ms/step - loss: 0.8428 - categorical_accuracy: 0.5768 - val_loss: 0.8222 - val_categorical_accuracy: 0.5781 - lr: 9.7602e-05\n",
      "Epoch 129/300\n",
      "132/133 [============================>.] - ETA: 0s - loss: 0.8373 - categorical_accuracy: 0.5781INFO:tensorflow:Assets written to: tf_resize/logs/imagenet_inception_resnet_v2_(193, 193)_RESIZE/models/assets\n"
     ]
    },
    {
     "name": "stderr",
     "output_type": "stream",
     "text": [
      "INFO:tensorflow:Assets written to: tf_resize/logs/imagenet_inception_resnet_v2_(193, 193)_RESIZE/models/assets\n"
     ]
    },
    {
     "name": "stdout",
     "output_type": "stream",
     "text": [
      "133/133 [==============================] - 53s 400ms/step - loss: 0.8370 - categorical_accuracy: 0.5782 - val_loss: 0.8209 - val_categorical_accuracy: 0.5828 - lr: 9.3698e-05\n",
      "Epoch 130/300\n",
      "132/133 [============================>.] - ETA: 0s - loss: 0.8431 - categorical_accuracy: 0.5750INFO:tensorflow:Assets written to: tf_resize/logs/imagenet_inception_resnet_v2_(193, 193)_RESIZE/models/assets\n"
     ]
    },
    {
     "name": "stderr",
     "output_type": "stream",
     "text": [
      "INFO:tensorflow:Assets written to: tf_resize/logs/imagenet_inception_resnet_v2_(193, 193)_RESIZE/models/assets\n"
     ]
    },
    {
     "name": "stdout",
     "output_type": "stream",
     "text": [
      "133/133 [==============================] - 53s 397ms/step - loss: 0.8429 - categorical_accuracy: 0.5751 - val_loss: 0.8209 - val_categorical_accuracy: 0.5771 - lr: 8.9950e-05\n",
      "Epoch 131/300\n",
      "132/133 [============================>.] - ETA: 0s - loss: 0.8429 - categorical_accuracy: 0.5744INFO:tensorflow:Assets written to: tf_resize/logs/imagenet_inception_resnet_v2_(193, 193)_RESIZE/models/assets\n"
     ]
    },
    {
     "name": "stderr",
     "output_type": "stream",
     "text": [
      "INFO:tensorflow:Assets written to: tf_resize/logs/imagenet_inception_resnet_v2_(193, 193)_RESIZE/models/assets\n"
     ]
    },
    {
     "name": "stdout",
     "output_type": "stream",
     "text": [
      "133/133 [==============================] - 52s 393ms/step - loss: 0.8426 - categorical_accuracy: 0.5746 - val_loss: 0.8215 - val_categorical_accuracy: 0.5790 - lr: 8.6352e-05\n",
      "Epoch 132/300\n",
      "133/133 [==============================] - ETA: 0s - loss: 0.8402 - categorical_accuracy: 0.5762INFO:tensorflow:Assets written to: tf_resize/logs/imagenet_inception_resnet_v2_(193, 193)_RESIZE/models/assets\n"
     ]
    },
    {
     "name": "stderr",
     "output_type": "stream",
     "text": [
      "INFO:tensorflow:Assets written to: tf_resize/logs/imagenet_inception_resnet_v2_(193, 193)_RESIZE/models/assets\n"
     ]
    },
    {
     "name": "stdout",
     "output_type": "stream",
     "text": [
      "133/133 [==============================] - 51s 380ms/step - loss: 0.8402 - categorical_accuracy: 0.5762 - val_loss: 0.8188 - val_categorical_accuracy: 0.5799 - lr: 8.2898e-05\n",
      "Epoch 133/300\n",
      "132/133 [============================>.] - ETA: 0s - loss: 0.8370 - categorical_accuracy: 0.5804INFO:tensorflow:Assets written to: tf_resize/logs/imagenet_inception_resnet_v2_(193, 193)_RESIZE/models/assets\n"
     ]
    },
    {
     "name": "stderr",
     "output_type": "stream",
     "text": [
      "INFO:tensorflow:Assets written to: tf_resize/logs/imagenet_inception_resnet_v2_(193, 193)_RESIZE/models/assets\n"
     ]
    },
    {
     "name": "stdout",
     "output_type": "stream",
     "text": [
      "133/133 [==============================] - 54s 403ms/step - loss: 0.8368 - categorical_accuracy: 0.5805 - val_loss: 0.8186 - val_categorical_accuracy: 0.5795 - lr: 7.9582e-05\n",
      "Epoch 134/300\n",
      "132/133 [============================>.] - ETA: 0s - loss: 0.8425 - categorical_accuracy: 0.5761INFO:tensorflow:Assets written to: tf_resize/logs/imagenet_inception_resnet_v2_(193, 193)_RESIZE/models/assets\n"
     ]
    },
    {
     "name": "stderr",
     "output_type": "stream",
     "text": [
      "INFO:tensorflow:Assets written to: tf_resize/logs/imagenet_inception_resnet_v2_(193, 193)_RESIZE/models/assets\n"
     ]
    },
    {
     "name": "stdout",
     "output_type": "stream",
     "text": [
      "133/133 [==============================] - 52s 394ms/step - loss: 0.8423 - categorical_accuracy: 0.5762 - val_loss: 0.8228 - val_categorical_accuracy: 0.5818 - lr: 7.6399e-05\n",
      "Epoch 135/300\n",
      "132/133 [============================>.] - ETA: 0s - loss: 0.8361 - categorical_accuracy: 0.5791INFO:tensorflow:Assets written to: tf_resize/logs/imagenet_inception_resnet_v2_(193, 193)_RESIZE/models/assets\n"
     ]
    },
    {
     "name": "stderr",
     "output_type": "stream",
     "text": [
      "INFO:tensorflow:Assets written to: tf_resize/logs/imagenet_inception_resnet_v2_(193, 193)_RESIZE/models/assets\n"
     ]
    },
    {
     "name": "stdout",
     "output_type": "stream",
     "text": [
      "133/133 [==============================] - 53s 401ms/step - loss: 0.8358 - categorical_accuracy: 0.5792 - val_loss: 0.8207 - val_categorical_accuracy: 0.5790 - lr: 7.3343e-05\n",
      "Epoch 136/300\n",
      "132/133 [============================>.] - ETA: 0s - loss: 0.8376 - categorical_accuracy: 0.5776INFO:tensorflow:Assets written to: tf_resize/logs/imagenet_inception_resnet_v2_(193, 193)_RESIZE/models/assets\n"
     ]
    },
    {
     "name": "stderr",
     "output_type": "stream",
     "text": [
      "INFO:tensorflow:Assets written to: tf_resize/logs/imagenet_inception_resnet_v2_(193, 193)_RESIZE/models/assets\n"
     ]
    },
    {
     "name": "stdout",
     "output_type": "stream",
     "text": [
      "133/133 [==============================] - 53s 395ms/step - loss: 0.8373 - categorical_accuracy: 0.5777 - val_loss: 0.8181 - val_categorical_accuracy: 0.5823 - lr: 7.0409e-05\n",
      "Epoch 137/300\n",
      "132/133 [============================>.] - ETA: 0s - loss: 0.8401 - categorical_accuracy: 0.5769INFO:tensorflow:Assets written to: tf_resize/logs/imagenet_inception_resnet_v2_(193, 193)_RESIZE/models/assets\n"
     ]
    },
    {
     "name": "stderr",
     "output_type": "stream",
     "text": [
      "INFO:tensorflow:Assets written to: tf_resize/logs/imagenet_inception_resnet_v2_(193, 193)_RESIZE/models/assets\n"
     ]
    },
    {
     "name": "stdout",
     "output_type": "stream",
     "text": [
      "133/133 [==============================] - 51s 385ms/step - loss: 0.8399 - categorical_accuracy: 0.5769 - val_loss: 0.8172 - val_categorical_accuracy: 0.5809 - lr: 6.7593e-05\n",
      "Epoch 138/300\n",
      "132/133 [============================>.] - ETA: 0s - loss: 0.8377 - categorical_accuracy: 0.5784INFO:tensorflow:Assets written to: tf_resize/logs/imagenet_inception_resnet_v2_(193, 193)_RESIZE/models/assets\n"
     ]
    },
    {
     "name": "stderr",
     "output_type": "stream",
     "text": [
      "INFO:tensorflow:Assets written to: tf_resize/logs/imagenet_inception_resnet_v2_(193, 193)_RESIZE/models/assets\n"
     ]
    },
    {
     "name": "stdout",
     "output_type": "stream",
     "text": [
      "133/133 [==============================] - 54s 405ms/step - loss: 0.8374 - categorical_accuracy: 0.5785 - val_loss: 0.8166 - val_categorical_accuracy: 0.5809 - lr: 6.4889e-05\n",
      "Epoch 139/300\n",
      "132/133 [============================>.] - ETA: 0s - loss: 0.8378 - categorical_accuracy: 0.5771INFO:tensorflow:Assets written to: tf_resize/logs/imagenet_inception_resnet_v2_(193, 193)_RESIZE/models/assets\n"
     ]
    },
    {
     "name": "stderr",
     "output_type": "stream",
     "text": [
      "INFO:tensorflow:Assets written to: tf_resize/logs/imagenet_inception_resnet_v2_(193, 193)_RESIZE/models/assets\n"
     ]
    },
    {
     "name": "stdout",
     "output_type": "stream",
     "text": [
      "133/133 [==============================] - 53s 397ms/step - loss: 0.8376 - categorical_accuracy: 0.5772 - val_loss: 0.8163 - val_categorical_accuracy: 0.5790 - lr: 6.2294e-05\n",
      "Epoch 140/300\n",
      "132/133 [============================>.] - ETA: 0s - loss: 0.8341 - categorical_accuracy: 0.5790INFO:tensorflow:Assets written to: tf_resize/logs/imagenet_inception_resnet_v2_(193, 193)_RESIZE/models/assets\n"
     ]
    },
    {
     "name": "stderr",
     "output_type": "stream",
     "text": [
      "INFO:tensorflow:Assets written to: tf_resize/logs/imagenet_inception_resnet_v2_(193, 193)_RESIZE/models/assets\n"
     ]
    },
    {
     "name": "stdout",
     "output_type": "stream",
     "text": [
      "133/133 [==============================] - 50s 379ms/step - loss: 0.8340 - categorical_accuracy: 0.5791 - val_loss: 0.8167 - val_categorical_accuracy: 0.5866 - lr: 5.9802e-05\n",
      "Epoch 141/300\n",
      "132/133 [============================>.] - ETA: 0s - loss: 0.8392 - categorical_accuracy: 0.5769INFO:tensorflow:Assets written to: tf_resize/logs/imagenet_inception_resnet_v2_(193, 193)_RESIZE/models/assets\n"
     ]
    },
    {
     "name": "stderr",
     "output_type": "stream",
     "text": [
      "INFO:tensorflow:Assets written to: tf_resize/logs/imagenet_inception_resnet_v2_(193, 193)_RESIZE/models/assets\n"
     ]
    },
    {
     "name": "stdout",
     "output_type": "stream",
     "text": [
      "133/133 [==============================] - 54s 403ms/step - loss: 0.8390 - categorical_accuracy: 0.5769 - val_loss: 0.8158 - val_categorical_accuracy: 0.5814 - lr: 5.7410e-05\n",
      "Epoch 142/300\n",
      "132/133 [============================>.] - ETA: 0s - loss: 0.8354 - categorical_accuracy: 0.5795INFO:tensorflow:Assets written to: tf_resize/logs/imagenet_inception_resnet_v2_(193, 193)_RESIZE/models/assets\n"
     ]
    },
    {
     "name": "stderr",
     "output_type": "stream",
     "text": [
      "INFO:tensorflow:Assets written to: tf_resize/logs/imagenet_inception_resnet_v2_(193, 193)_RESIZE/models/assets\n"
     ]
    },
    {
     "name": "stdout",
     "output_type": "stream",
     "text": [
      "133/133 [==============================] - 52s 394ms/step - loss: 0.8350 - categorical_accuracy: 0.5797 - val_loss: 0.8160 - val_categorical_accuracy: 0.5908 - lr: 5.5113e-05\n",
      "Epoch 143/300\n",
      "132/133 [============================>.] - ETA: 0s - loss: 0.8370 - categorical_accuracy: 0.5800INFO:tensorflow:Assets written to: tf_resize/logs/imagenet_inception_resnet_v2_(193, 193)_RESIZE/models/assets\n"
     ]
    },
    {
     "name": "stderr",
     "output_type": "stream",
     "text": [
      "INFO:tensorflow:Assets written to: tf_resize/logs/imagenet_inception_resnet_v2_(193, 193)_RESIZE/models/assets\n"
     ]
    },
    {
     "name": "stdout",
     "output_type": "stream",
     "text": [
      "133/133 [==============================] - 53s 400ms/step - loss: 0.8368 - categorical_accuracy: 0.5801 - val_loss: 0.8162 - val_categorical_accuracy: 0.5804 - lr: 5.2909e-05\n",
      "Epoch 144/300\n",
      "132/133 [============================>.] - ETA: 0s - loss: 0.8362 - categorical_accuracy: 0.5786INFO:tensorflow:Assets written to: tf_resize/logs/imagenet_inception_resnet_v2_(193, 193)_RESIZE/models/assets\n"
     ]
    },
    {
     "name": "stderr",
     "output_type": "stream",
     "text": [
      "INFO:tensorflow:Assets written to: tf_resize/logs/imagenet_inception_resnet_v2_(193, 193)_RESIZE/models/assets\n"
     ]
    },
    {
     "name": "stdout",
     "output_type": "stream",
     "text": [
      "133/133 [==============================] - 51s 381ms/step - loss: 0.8359 - categorical_accuracy: 0.5787 - val_loss: 0.8135 - val_categorical_accuracy: 0.5851 - lr: 5.0793e-05\n",
      "Epoch 145/300\n",
      "132/133 [============================>.] - ETA: 0s - loss: 0.8372 - categorical_accuracy: 0.5783INFO:tensorflow:Assets written to: tf_resize/logs/imagenet_inception_resnet_v2_(193, 193)_RESIZE/models/assets\n"
     ]
    },
    {
     "name": "stderr",
     "output_type": "stream",
     "text": [
      "INFO:tensorflow:Assets written to: tf_resize/logs/imagenet_inception_resnet_v2_(193, 193)_RESIZE/models/assets\n"
     ]
    },
    {
     "name": "stdout",
     "output_type": "stream",
     "text": [
      "133/133 [==============================] - 53s 401ms/step - loss: 0.8371 - categorical_accuracy: 0.5783 - val_loss: 0.8145 - val_categorical_accuracy: 0.5885 - lr: 4.8761e-05\n",
      "Epoch 146/300\n",
      "132/133 [============================>.] - ETA: 0s - loss: 0.8347 - categorical_accuracy: 0.5795INFO:tensorflow:Assets written to: tf_resize/logs/imagenet_inception_resnet_v2_(193, 193)_RESIZE/models/assets\n"
     ]
    },
    {
     "name": "stderr",
     "output_type": "stream",
     "text": [
      "INFO:tensorflow:Assets written to: tf_resize/logs/imagenet_inception_resnet_v2_(193, 193)_RESIZE/models/assets\n"
     ]
    },
    {
     "name": "stdout",
     "output_type": "stream",
     "text": [
      "133/133 [==============================] - 52s 392ms/step - loss: 0.8345 - categorical_accuracy: 0.5796 - val_loss: 0.8161 - val_categorical_accuracy: 0.5828 - lr: 4.6810e-05\n",
      "Epoch 147/300\n",
      "133/133 [==============================] - ETA: 0s - loss: 0.8338 - categorical_accuracy: 0.5788INFO:tensorflow:Assets written to: tf_resize/logs/imagenet_inception_resnet_v2_(193, 193)_RESIZE/models/assets\n"
     ]
    },
    {
     "name": "stderr",
     "output_type": "stream",
     "text": [
      "INFO:tensorflow:Assets written to: tf_resize/logs/imagenet_inception_resnet_v2_(193, 193)_RESIZE/models/assets\n"
     ]
    },
    {
     "name": "stdout",
     "output_type": "stream",
     "text": [
      "133/133 [==============================] - 53s 398ms/step - loss: 0.8338 - categorical_accuracy: 0.5788 - val_loss: 0.8151 - val_categorical_accuracy: 0.5866 - lr: 4.4938e-05\n",
      "Epoch 148/300\n",
      "132/133 [============================>.] - ETA: 0s - loss: 0.8346 - categorical_accuracy: 0.5780INFO:tensorflow:Assets written to: tf_resize/logs/imagenet_inception_resnet_v2_(193, 193)_RESIZE/models/assets\n"
     ]
    },
    {
     "name": "stderr",
     "output_type": "stream",
     "text": [
      "INFO:tensorflow:Assets written to: tf_resize/logs/imagenet_inception_resnet_v2_(193, 193)_RESIZE/models/assets\n"
     ]
    },
    {
     "name": "stdout",
     "output_type": "stream",
     "text": [
      "133/133 [==============================] - 51s 384ms/step - loss: 0.8344 - categorical_accuracy: 0.5781 - val_loss: 0.8158 - val_categorical_accuracy: 0.5809 - lr: 4.3140e-05\n",
      "Epoch 149/300\n",
      "132/133 [============================>.] - ETA: 0s - loss: 0.8338 - categorical_accuracy: 0.5771INFO:tensorflow:Assets written to: tf_resize/logs/imagenet_inception_resnet_v2_(193, 193)_RESIZE/models/assets\n"
     ]
    },
    {
     "name": "stderr",
     "output_type": "stream",
     "text": [
      "INFO:tensorflow:Assets written to: tf_resize/logs/imagenet_inception_resnet_v2_(193, 193)_RESIZE/models/assets\n"
     ]
    },
    {
     "name": "stdout",
     "output_type": "stream",
     "text": [
      "133/133 [==============================] - 53s 402ms/step - loss: 0.8335 - categorical_accuracy: 0.5772 - val_loss: 0.8163 - val_categorical_accuracy: 0.5809 - lr: 4.1415e-05\n",
      "Epoch 150/300\n",
      "132/133 [============================>.] - ETA: 0s - loss: 0.8324 - categorical_accuracy: 0.5830INFO:tensorflow:Assets written to: tf_resize/logs/imagenet_inception_resnet_v2_(193, 193)_RESIZE/models/assets\n"
     ]
    },
    {
     "name": "stderr",
     "output_type": "stream",
     "text": [
      "INFO:tensorflow:Assets written to: tf_resize/logs/imagenet_inception_resnet_v2_(193, 193)_RESIZE/models/assets\n"
     ]
    },
    {
     "name": "stdout",
     "output_type": "stream",
     "text": [
      "133/133 [==============================] - 53s 395ms/step - loss: 0.8321 - categorical_accuracy: 0.5830 - val_loss: 0.8156 - val_categorical_accuracy: 0.5828 - lr: 3.9758e-05\n",
      "Epoch 151/300\n",
      "132/133 [============================>.] - ETA: 0s - loss: 0.8360 - categorical_accuracy: 0.5846INFO:tensorflow:Assets written to: tf_resize/logs/imagenet_inception_resnet_v2_(193, 193)_RESIZE/models/assets\n"
     ]
    },
    {
     "name": "stderr",
     "output_type": "stream",
     "text": [
      "INFO:tensorflow:Assets written to: tf_resize/logs/imagenet_inception_resnet_v2_(193, 193)_RESIZE/models/assets\n"
     ]
    },
    {
     "name": "stdout",
     "output_type": "stream",
     "text": [
      "133/133 [==============================] - 54s 404ms/step - loss: 0.8359 - categorical_accuracy: 0.5847 - val_loss: 0.8153 - val_categorical_accuracy: 0.5861 - lr: 3.8168e-05\n",
      "Epoch 152/300\n",
      "132/133 [============================>.] - ETA: 0s - loss: 0.8343 - categorical_accuracy: 0.5798INFO:tensorflow:Assets written to: tf_resize/logs/imagenet_inception_resnet_v2_(193, 193)_RESIZE/models/assets\n"
     ]
    },
    {
     "name": "stderr",
     "output_type": "stream",
     "text": [
      "INFO:tensorflow:Assets written to: tf_resize/logs/imagenet_inception_resnet_v2_(193, 193)_RESIZE/models/assets\n"
     ]
    },
    {
     "name": "stdout",
     "output_type": "stream",
     "text": [
      "133/133 [==============================] - 51s 381ms/step - loss: 0.8341 - categorical_accuracy: 0.5798 - val_loss: 0.8142 - val_categorical_accuracy: 0.5894 - lr: 3.6641e-05\n",
      "Epoch 153/300\n",
      "132/133 [============================>.] - ETA: 0s - loss: 0.8323 - categorical_accuracy: 0.5822INFO:tensorflow:Assets written to: tf_resize/logs/imagenet_inception_resnet_v2_(193, 193)_RESIZE/models/assets\n"
     ]
    },
    {
     "name": "stderr",
     "output_type": "stream",
     "text": [
      "INFO:tensorflow:Assets written to: tf_resize/logs/imagenet_inception_resnet_v2_(193, 193)_RESIZE/models/assets\n"
     ]
    },
    {
     "name": "stdout",
     "output_type": "stream",
     "text": [
      "133/133 [==============================] - 53s 400ms/step - loss: 0.8320 - categorical_accuracy: 0.5823 - val_loss: 0.8143 - val_categorical_accuracy: 0.5856 - lr: 3.5176e-05\n",
      "Epoch 154/300\n",
      "132/133 [============================>.] - ETA: 0s - loss: 0.8311 - categorical_accuracy: 0.5816INFO:tensorflow:Assets written to: tf_resize/logs/imagenet_inception_resnet_v2_(193, 193)_RESIZE/models/assets\n"
     ]
    },
    {
     "name": "stderr",
     "output_type": "stream",
     "text": [
      "INFO:tensorflow:Assets written to: tf_resize/logs/imagenet_inception_resnet_v2_(193, 193)_RESIZE/models/assets\n"
     ]
    },
    {
     "name": "stdout",
     "output_type": "stream",
     "text": [
      "133/133 [==============================] - 52s 394ms/step - loss: 0.8308 - categorical_accuracy: 0.5817 - val_loss: 0.8141 - val_categorical_accuracy: 0.5861 - lr: 3.3769e-05\n",
      "Epoch 155/300\n",
      "132/133 [============================>.] - ETA: 0s - loss: 0.8344 - categorical_accuracy: 0.5792INFO:tensorflow:Assets written to: tf_resize/logs/imagenet_inception_resnet_v2_(193, 193)_RESIZE/models/assets\n"
     ]
    },
    {
     "name": "stderr",
     "output_type": "stream",
     "text": [
      "INFO:tensorflow:Assets written to: tf_resize/logs/imagenet_inception_resnet_v2_(193, 193)_RESIZE/models/assets\n"
     ]
    },
    {
     "name": "stdout",
     "output_type": "stream",
     "text": [
      "133/133 [==============================] - 53s 398ms/step - loss: 0.8342 - categorical_accuracy: 0.5792 - val_loss: 0.8143 - val_categorical_accuracy: 0.5842 - lr: 3.2418e-05\n",
      "Epoch 156/300\n",
      "132/133 [============================>.] - ETA: 0s - loss: 0.8305 - categorical_accuracy: 0.5814INFO:tensorflow:Assets written to: tf_resize/logs/imagenet_inception_resnet_v2_(193, 193)_RESIZE/models/assets\n"
     ]
    },
    {
     "name": "stderr",
     "output_type": "stream",
     "text": [
      "INFO:tensorflow:Assets written to: tf_resize/logs/imagenet_inception_resnet_v2_(193, 193)_RESIZE/models/assets\n"
     ]
    },
    {
     "name": "stdout",
     "output_type": "stream",
     "text": [
      "133/133 [==============================] - 51s 381ms/step - loss: 0.8302 - categorical_accuracy: 0.5815 - val_loss: 0.8154 - val_categorical_accuracy: 0.5866 - lr: 3.1121e-05\n",
      "Epoch 157/300\n",
      "132/133 [============================>.] - ETA: 0s - loss: 0.8320 - categorical_accuracy: 0.5794INFO:tensorflow:Assets written to: tf_resize/logs/imagenet_inception_resnet_v2_(193, 193)_RESIZE/models/assets\n"
     ]
    },
    {
     "name": "stderr",
     "output_type": "stream",
     "text": [
      "INFO:tensorflow:Assets written to: tf_resize/logs/imagenet_inception_resnet_v2_(193, 193)_RESIZE/models/assets\n"
     ]
    },
    {
     "name": "stdout",
     "output_type": "stream",
     "text": [
      "133/133 [==============================] - 53s 402ms/step - loss: 0.8317 - categorical_accuracy: 0.5794 - val_loss: 0.8149 - val_categorical_accuracy: 0.5880 - lr: 2.9876e-05\n",
      "Epoch 158/300\n",
      "132/133 [============================>.] - ETA: 0s - loss: 0.8383 - categorical_accuracy: 0.5791INFO:tensorflow:Assets written to: tf_resize/logs/imagenet_inception_resnet_v2_(193, 193)_RESIZE/models/assets\n"
     ]
    },
    {
     "name": "stderr",
     "output_type": "stream",
     "text": [
      "INFO:tensorflow:Assets written to: tf_resize/logs/imagenet_inception_resnet_v2_(193, 193)_RESIZE/models/assets\n"
     ]
    },
    {
     "name": "stdout",
     "output_type": "stream",
     "text": [
      "133/133 [==============================] - 53s 395ms/step - loss: 0.8380 - categorical_accuracy: 0.5792 - val_loss: 0.8154 - val_categorical_accuracy: 0.5861 - lr: 2.8681e-05\n",
      "Epoch 159/300\n",
      "132/133 [============================>.] - ETA: 0s - loss: 0.8368 - categorical_accuracy: 0.5801INFO:tensorflow:Assets written to: tf_resize/logs/imagenet_inception_resnet_v2_(193, 193)_RESIZE/models/assets\n"
     ]
    },
    {
     "name": "stderr",
     "output_type": "stream",
     "text": [
      "INFO:tensorflow:Assets written to: tf_resize/logs/imagenet_inception_resnet_v2_(193, 193)_RESIZE/models/assets\n"
     ]
    },
    {
     "name": "stdout",
     "output_type": "stream",
     "text": [
      "133/133 [==============================] - 54s 402ms/step - loss: 0.8364 - categorical_accuracy: 0.5802 - val_loss: 0.8137 - val_categorical_accuracy: 0.5866 - lr: 2.7534e-05\n",
      "Epoch 160/300\n",
      "132/133 [============================>.] - ETA: 0s - loss: 0.8374 - categorical_accuracy: 0.5758INFO:tensorflow:Assets written to: tf_resize/logs/imagenet_inception_resnet_v2_(193, 193)_RESIZE/models/assets\n"
     ]
    },
    {
     "name": "stderr",
     "output_type": "stream",
     "text": [
      "INFO:tensorflow:Assets written to: tf_resize/logs/imagenet_inception_resnet_v2_(193, 193)_RESIZE/models/assets\n"
     ]
    },
    {
     "name": "stdout",
     "output_type": "stream",
     "text": [
      "133/133 [==============================] - 51s 382ms/step - loss: 0.8372 - categorical_accuracy: 0.5759 - val_loss: 0.8131 - val_categorical_accuracy: 0.5889 - lr: 2.6433e-05\n",
      "Epoch 161/300\n",
      "132/133 [============================>.] - ETA: 0s - loss: 0.8318 - categorical_accuracy: 0.5795INFO:tensorflow:Assets written to: tf_resize/logs/imagenet_inception_resnet_v2_(193, 193)_RESIZE/models/assets\n"
     ]
    },
    {
     "name": "stderr",
     "output_type": "stream",
     "text": [
      "INFO:tensorflow:Assets written to: tf_resize/logs/imagenet_inception_resnet_v2_(193, 193)_RESIZE/models/assets\n"
     ]
    },
    {
     "name": "stdout",
     "output_type": "stream",
     "text": [
      "133/133 [==============================] - 55s 410ms/step - loss: 0.8316 - categorical_accuracy: 0.5795 - val_loss: 0.8147 - val_categorical_accuracy: 0.5861 - lr: 2.5375e-05\n",
      "Epoch 162/300\n",
      "132/133 [============================>.] - ETA: 0s - loss: 0.8329 - categorical_accuracy: 0.5794INFO:tensorflow:Assets written to: tf_resize/logs/imagenet_inception_resnet_v2_(193, 193)_RESIZE/models/assets\n"
     ]
    },
    {
     "name": "stderr",
     "output_type": "stream",
     "text": [
      "INFO:tensorflow:Assets written to: tf_resize/logs/imagenet_inception_resnet_v2_(193, 193)_RESIZE/models/assets\n"
     ]
    },
    {
     "name": "stdout",
     "output_type": "stream",
     "text": [
      "133/133 [==============================] - 53s 399ms/step - loss: 0.8326 - categorical_accuracy: 0.5795 - val_loss: 0.8140 - val_categorical_accuracy: 0.5856 - lr: 2.4360e-05\n",
      "Epoch 163/300\n",
      "132/133 [============================>.] - ETA: 0s - loss: 0.8295 - categorical_accuracy: 0.5815INFO:tensorflow:Assets written to: tf_resize/logs/imagenet_inception_resnet_v2_(193, 193)_RESIZE/models/assets\n"
     ]
    },
    {
     "name": "stderr",
     "output_type": "stream",
     "text": [
      "INFO:tensorflow:Assets written to: tf_resize/logs/imagenet_inception_resnet_v2_(193, 193)_RESIZE/models/assets\n"
     ]
    },
    {
     "name": "stdout",
     "output_type": "stream",
     "text": [
      "133/133 [==============================] - 51s 384ms/step - loss: 0.8292 - categorical_accuracy: 0.5815 - val_loss: 0.8130 - val_categorical_accuracy: 0.5847 - lr: 2.3386e-05\n",
      "Epoch 164/300\n",
      "132/133 [============================>.] - ETA: 0s - loss: 0.8318 - categorical_accuracy: 0.5778INFO:tensorflow:Assets written to: tf_resize/logs/imagenet_inception_resnet_v2_(193, 193)_RESIZE/models/assets\n"
     ]
    },
    {
     "name": "stderr",
     "output_type": "stream",
     "text": [
      "INFO:tensorflow:Assets written to: tf_resize/logs/imagenet_inception_resnet_v2_(193, 193)_RESIZE/models/assets\n"
     ]
    },
    {
     "name": "stdout",
     "output_type": "stream",
     "text": [
      "133/133 [==============================] - 54s 409ms/step - loss: 0.8316 - categorical_accuracy: 0.5779 - val_loss: 0.8141 - val_categorical_accuracy: 0.5837 - lr: 2.2450e-05\n",
      "Epoch 165/300\n",
      "132/133 [============================>.] - ETA: 0s - loss: 0.8318 - categorical_accuracy: 0.5801INFO:tensorflow:Assets written to: tf_resize/logs/imagenet_inception_resnet_v2_(193, 193)_RESIZE/models/assets\n"
     ]
    },
    {
     "name": "stderr",
     "output_type": "stream",
     "text": [
      "INFO:tensorflow:Assets written to: tf_resize/logs/imagenet_inception_resnet_v2_(193, 193)_RESIZE/models/assets\n"
     ]
    },
    {
     "name": "stdout",
     "output_type": "stream",
     "text": [
      "133/133 [==============================] - 53s 398ms/step - loss: 0.8315 - categorical_accuracy: 0.5802 - val_loss: 0.8133 - val_categorical_accuracy: 0.5885 - lr: 2.1552e-05\n",
      "Epoch 166/300\n",
      "132/133 [============================>.] - ETA: 0s - loss: 0.8332 - categorical_accuracy: 0.5803INFO:tensorflow:Assets written to: tf_resize/logs/imagenet_inception_resnet_v2_(193, 193)_RESIZE/models/assets\n"
     ]
    },
    {
     "name": "stderr",
     "output_type": "stream",
     "text": [
      "INFO:tensorflow:Assets written to: tf_resize/logs/imagenet_inception_resnet_v2_(193, 193)_RESIZE/models/assets\n"
     ]
    },
    {
     "name": "stdout",
     "output_type": "stream",
     "text": [
      "133/133 [==============================] - 52s 389ms/step - loss: 0.8329 - categorical_accuracy: 0.5804 - val_loss: 0.8128 - val_categorical_accuracy: 0.5913 - lr: 2.0690e-05\n",
      "Epoch 167/300\n",
      "132/133 [============================>.] - ETA: 0s - loss: 0.8309 - categorical_accuracy: 0.5818INFO:tensorflow:Assets written to: tf_resize/logs/imagenet_inception_resnet_v2_(193, 193)_RESIZE/models/assets\n"
     ]
    },
    {
     "name": "stderr",
     "output_type": "stream",
     "text": [
      "INFO:tensorflow:Assets written to: tf_resize/logs/imagenet_inception_resnet_v2_(193, 193)_RESIZE/models/assets\n"
     ]
    },
    {
     "name": "stdout",
     "output_type": "stream",
     "text": [
      "133/133 [==============================] - 51s 380ms/step - loss: 0.8307 - categorical_accuracy: 0.5819 - val_loss: 0.8135 - val_categorical_accuracy: 0.5899 - lr: 1.9863e-05\n",
      "Epoch 168/300\n",
      "132/133 [============================>.] - ETA: 0s - loss: 0.8330 - categorical_accuracy: 0.5801INFO:tensorflow:Assets written to: tf_resize/logs/imagenet_inception_resnet_v2_(193, 193)_RESIZE/models/assets\n"
     ]
    },
    {
     "name": "stderr",
     "output_type": "stream",
     "text": [
      "INFO:tensorflow:Assets written to: tf_resize/logs/imagenet_inception_resnet_v2_(193, 193)_RESIZE/models/assets\n"
     ]
    },
    {
     "name": "stdout",
     "output_type": "stream",
     "text": [
      "133/133 [==============================] - 54s 403ms/step - loss: 0.8328 - categorical_accuracy: 0.5802 - val_loss: 0.8140 - val_categorical_accuracy: 0.5885 - lr: 1.9068e-05\n",
      "Epoch 169/300\n",
      "132/133 [============================>.] - ETA: 0s - loss: 0.8326 - categorical_accuracy: 0.5787INFO:tensorflow:Assets written to: tf_resize/logs/imagenet_inception_resnet_v2_(193, 193)_RESIZE/models/assets\n"
     ]
    },
    {
     "name": "stderr",
     "output_type": "stream",
     "text": [
      "INFO:tensorflow:Assets written to: tf_resize/logs/imagenet_inception_resnet_v2_(193, 193)_RESIZE/models/assets\n"
     ]
    },
    {
     "name": "stdout",
     "output_type": "stream",
     "text": [
      "133/133 [==============================] - 52s 393ms/step - loss: 0.8324 - categorical_accuracy: 0.5788 - val_loss: 0.8140 - val_categorical_accuracy: 0.5880 - lr: 1.8305e-05\n",
      "Epoch 170/300\n",
      "132/133 [============================>.] - ETA: 0s - loss: 0.8303 - categorical_accuracy: 0.5837INFO:tensorflow:Assets written to: tf_resize/logs/imagenet_inception_resnet_v2_(193, 193)_RESIZE/models/assets\n"
     ]
    },
    {
     "name": "stderr",
     "output_type": "stream",
     "text": [
      "INFO:tensorflow:Assets written to: tf_resize/logs/imagenet_inception_resnet_v2_(193, 193)_RESIZE/models/assets\n"
     ]
    },
    {
     "name": "stdout",
     "output_type": "stream",
     "text": [
      "133/133 [==============================] - 51s 382ms/step - loss: 0.8301 - categorical_accuracy: 0.5838 - val_loss: 0.8133 - val_categorical_accuracy: 0.5908 - lr: 1.7573e-05\n",
      "Epoch 171/300\n",
      "132/133 [============================>.] - ETA: 0s - loss: 0.8334 - categorical_accuracy: 0.5778INFO:tensorflow:Assets written to: tf_resize/logs/imagenet_inception_resnet_v2_(193, 193)_RESIZE/models/assets\n"
     ]
    },
    {
     "name": "stderr",
     "output_type": "stream",
     "text": [
      "INFO:tensorflow:Assets written to: tf_resize/logs/imagenet_inception_resnet_v2_(193, 193)_RESIZE/models/assets\n"
     ]
    },
    {
     "name": "stdout",
     "output_type": "stream",
     "text": [
      "133/133 [==============================] - 55s 412ms/step - loss: 0.8332 - categorical_accuracy: 0.5779 - val_loss: 0.8133 - val_categorical_accuracy: 0.5875 - lr: 1.6870e-05\n",
      "Epoch 172/300\n",
      "132/133 [============================>.] - ETA: 0s - loss: 0.8355 - categorical_accuracy: 0.5808INFO:tensorflow:Assets written to: tf_resize/logs/imagenet_inception_resnet_v2_(193, 193)_RESIZE/models/assets\n"
     ]
    },
    {
     "name": "stderr",
     "output_type": "stream",
     "text": [
      "INFO:tensorflow:Assets written to: tf_resize/logs/imagenet_inception_resnet_v2_(193, 193)_RESIZE/models/assets\n"
     ]
    },
    {
     "name": "stdout",
     "output_type": "stream",
     "text": [
      "133/133 [==============================] - 52s 394ms/step - loss: 0.8353 - categorical_accuracy: 0.5808 - val_loss: 0.8144 - val_categorical_accuracy: 0.5875 - lr: 1.6196e-05\n",
      "Epoch 173/300\n",
      "132/133 [============================>.] - ETA: 0s - loss: 0.8253 - categorical_accuracy: 0.5821INFO:tensorflow:Assets written to: tf_resize/logs/imagenet_inception_resnet_v2_(193, 193)_RESIZE/models/assets\n"
     ]
    },
    {
     "name": "stderr",
     "output_type": "stream",
     "text": [
      "INFO:tensorflow:Assets written to: tf_resize/logs/imagenet_inception_resnet_v2_(193, 193)_RESIZE/models/assets\n"
     ]
    },
    {
     "name": "stdout",
     "output_type": "stream",
     "text": [
      "133/133 [==============================] - 50s 379ms/step - loss: 0.8252 - categorical_accuracy: 0.5821 - val_loss: 0.8127 - val_categorical_accuracy: 0.5885 - lr: 1.5548e-05\n",
      "Epoch 174/300\n",
      "132/133 [============================>.] - ETA: 0s - loss: 0.8292 - categorical_accuracy: 0.5835INFO:tensorflow:Assets written to: tf_resize/logs/imagenet_inception_resnet_v2_(193, 193)_RESIZE/models/assets\n"
     ]
    },
    {
     "name": "stderr",
     "output_type": "stream",
     "text": [
      "INFO:tensorflow:Assets written to: tf_resize/logs/imagenet_inception_resnet_v2_(193, 193)_RESIZE/models/assets\n"
     ]
    },
    {
     "name": "stdout",
     "output_type": "stream",
     "text": [
      "133/133 [==============================] - 54s 404ms/step - loss: 0.8290 - categorical_accuracy: 0.5834 - val_loss: 0.8130 - val_categorical_accuracy: 0.5889 - lr: 1.4926e-05\n",
      "Epoch 175/300\n",
      "132/133 [============================>.] - ETA: 0s - loss: 0.8310 - categorical_accuracy: 0.5792INFO:tensorflow:Assets written to: tf_resize/logs/imagenet_inception_resnet_v2_(193, 193)_RESIZE/models/assets\n"
     ]
    },
    {
     "name": "stderr",
     "output_type": "stream",
     "text": [
      "INFO:tensorflow:Assets written to: tf_resize/logs/imagenet_inception_resnet_v2_(193, 193)_RESIZE/models/assets\n"
     ]
    },
    {
     "name": "stdout",
     "output_type": "stream",
     "text": [
      "133/133 [==============================] - 51s 381ms/step - loss: 0.8308 - categorical_accuracy: 0.5792 - val_loss: 0.8135 - val_categorical_accuracy: 0.5866 - lr: 1.4329e-05\n",
      "Epoch 176/300\n",
      "133/133 [==============================] - ETA: 0s - loss: 0.8287 - categorical_accuracy: 0.5847INFO:tensorflow:Assets written to: tf_resize/logs/imagenet_inception_resnet_v2_(193, 193)_RESIZE/models/assets\n"
     ]
    },
    {
     "name": "stderr",
     "output_type": "stream",
     "text": [
      "INFO:tensorflow:Assets written to: tf_resize/logs/imagenet_inception_resnet_v2_(193, 193)_RESIZE/models/assets\n"
     ]
    },
    {
     "name": "stdout",
     "output_type": "stream",
     "text": [
      "133/133 [==============================] - 53s 402ms/step - loss: 0.8287 - categorical_accuracy: 0.5847 - val_loss: 0.8131 - val_categorical_accuracy: 0.5880 - lr: 1.3756e-05\n",
      "Epoch 177/300\n",
      "132/133 [============================>.] - ETA: 0s - loss: 0.8301 - categorical_accuracy: 0.5826INFO:tensorflow:Assets written to: tf_resize/logs/imagenet_inception_resnet_v2_(193, 193)_RESIZE/models/assets\n"
     ]
    },
    {
     "name": "stderr",
     "output_type": "stream",
     "text": [
      "INFO:tensorflow:Assets written to: tf_resize/logs/imagenet_inception_resnet_v2_(193, 193)_RESIZE/models/assets\n"
     ]
    },
    {
     "name": "stdout",
     "output_type": "stream",
     "text": [
      "133/133 [==============================] - 53s 396ms/step - loss: 0.8299 - categorical_accuracy: 0.5827 - val_loss: 0.8133 - val_categorical_accuracy: 0.5885 - lr: 1.3205e-05\n",
      "Epoch 178/300\n",
      "132/133 [============================>.] - ETA: 0s - loss: 0.8292 - categorical_accuracy: 0.5788INFO:tensorflow:Assets written to: tf_resize/logs/imagenet_inception_resnet_v2_(193, 193)_RESIZE/models/assets\n"
     ]
    },
    {
     "name": "stderr",
     "output_type": "stream",
     "text": [
      "INFO:tensorflow:Assets written to: tf_resize/logs/imagenet_inception_resnet_v2_(193, 193)_RESIZE/models/assets\n"
     ]
    },
    {
     "name": "stdout",
     "output_type": "stream",
     "text": [
      "133/133 [==============================] - 53s 399ms/step - loss: 0.8290 - categorical_accuracy: 0.5788 - val_loss: 0.8134 - val_categorical_accuracy: 0.5861 - lr: 1.2677e-05\n",
      "Epoch 179/300\n",
      "132/133 [============================>.] - ETA: 0s - loss: 0.8361 - categorical_accuracy: 0.5745INFO:tensorflow:Assets written to: tf_resize/logs/imagenet_inception_resnet_v2_(193, 193)_RESIZE/models/assets\n"
     ]
    },
    {
     "name": "stderr",
     "output_type": "stream",
     "text": [
      "INFO:tensorflow:Assets written to: tf_resize/logs/imagenet_inception_resnet_v2_(193, 193)_RESIZE/models/assets\n"
     ]
    },
    {
     "name": "stdout",
     "output_type": "stream",
     "text": [
      "133/133 [==============================] - 50s 376ms/step - loss: 0.8360 - categorical_accuracy: 0.5745 - val_loss: 0.8142 - val_categorical_accuracy: 0.5875 - lr: 1.2170e-05\n",
      "Epoch 180/300\n",
      "132/133 [============================>.] - ETA: 0s - loss: 0.8299 - categorical_accuracy: 0.5846INFO:tensorflow:Assets written to: tf_resize/logs/imagenet_inception_resnet_v2_(193, 193)_RESIZE/models/assets\n"
     ]
    },
    {
     "name": "stderr",
     "output_type": "stream",
     "text": [
      "INFO:tensorflow:Assets written to: tf_resize/logs/imagenet_inception_resnet_v2_(193, 193)_RESIZE/models/assets\n"
     ]
    },
    {
     "name": "stdout",
     "output_type": "stream",
     "text": [
      "133/133 [==============================] - 53s 402ms/step - loss: 0.8297 - categorical_accuracy: 0.5847 - val_loss: 0.8147 - val_categorical_accuracy: 0.5870 - lr: 1.1683e-05\n",
      "Epoch 181/300\n",
      "132/133 [============================>.] - ETA: 0s - loss: 0.8296 - categorical_accuracy: 0.5788INFO:tensorflow:Assets written to: tf_resize/logs/imagenet_inception_resnet_v2_(193, 193)_RESIZE/models/assets\n"
     ]
    },
    {
     "name": "stderr",
     "output_type": "stream",
     "text": [
      "INFO:tensorflow:Assets written to: tf_resize/logs/imagenet_inception_resnet_v2_(193, 193)_RESIZE/models/assets\n"
     ]
    },
    {
     "name": "stdout",
     "output_type": "stream",
     "text": [
      "133/133 [==============================] - 53s 395ms/step - loss: 0.8294 - categorical_accuracy: 0.5789 - val_loss: 0.8129 - val_categorical_accuracy: 0.5880 - lr: 1.1216e-05\n",
      "Epoch 182/300\n",
      "132/133 [============================>.] - ETA: 0s - loss: 0.8329 - categorical_accuracy: 0.5798INFO:tensorflow:Assets written to: tf_resize/logs/imagenet_inception_resnet_v2_(193, 193)_RESIZE/models/assets\n"
     ]
    },
    {
     "name": "stderr",
     "output_type": "stream",
     "text": [
      "INFO:tensorflow:Assets written to: tf_resize/logs/imagenet_inception_resnet_v2_(193, 193)_RESIZE/models/assets\n"
     ]
    },
    {
     "name": "stdout",
     "output_type": "stream",
     "text": [
      "133/133 [==============================] - 50s 379ms/step - loss: 0.8326 - categorical_accuracy: 0.5799 - val_loss: 0.8127 - val_categorical_accuracy: 0.5875 - lr: 1.0767e-05\n",
      "Epoch 183/300\n",
      "132/133 [============================>.] - ETA: 0s - loss: 0.8320 - categorical_accuracy: 0.5757INFO:tensorflow:Assets written to: tf_resize/logs/imagenet_inception_resnet_v2_(193, 193)_RESIZE/models/assets\n"
     ]
    },
    {
     "name": "stderr",
     "output_type": "stream",
     "text": [
      "INFO:tensorflow:Assets written to: tf_resize/logs/imagenet_inception_resnet_v2_(193, 193)_RESIZE/models/assets\n"
     ]
    },
    {
     "name": "stdout",
     "output_type": "stream",
     "text": [
      "133/133 [==============================] - 54s 404ms/step - loss: 0.8317 - categorical_accuracy: 0.5758 - val_loss: 0.8130 - val_categorical_accuracy: 0.5851 - lr: 1.0337e-05\n",
      "Epoch 184/300\n",
      "132/133 [============================>.] - ETA: 0s - loss: 0.8277 - categorical_accuracy: 0.5843INFO:tensorflow:Assets written to: tf_resize/logs/imagenet_inception_resnet_v2_(193, 193)_RESIZE/models/assets\n"
     ]
    },
    {
     "name": "stderr",
     "output_type": "stream",
     "text": [
      "INFO:tensorflow:Assets written to: tf_resize/logs/imagenet_inception_resnet_v2_(193, 193)_RESIZE/models/assets\n"
     ]
    },
    {
     "name": "stdout",
     "output_type": "stream",
     "text": [
      "133/133 [==============================] - 53s 397ms/step - loss: 0.8275 - categorical_accuracy: 0.5844 - val_loss: 0.8134 - val_categorical_accuracy: 0.5861 - lr: 9.9231e-06\n",
      "Epoch 185/300\n",
      "132/133 [============================>.] - ETA: 0s - loss: 0.8292 - categorical_accuracy: 0.5790INFO:tensorflow:Assets written to: tf_resize/logs/imagenet_inception_resnet_v2_(193, 193)_RESIZE/models/assets\n"
     ]
    },
    {
     "name": "stderr",
     "output_type": "stream",
     "text": [
      "INFO:tensorflow:Assets written to: tf_resize/logs/imagenet_inception_resnet_v2_(193, 193)_RESIZE/models/assets\n"
     ]
    },
    {
     "name": "stdout",
     "output_type": "stream",
     "text": [
      "133/133 [==============================] - 50s 377ms/step - loss: 0.8288 - categorical_accuracy: 0.5791 - val_loss: 0.8131 - val_categorical_accuracy: 0.5913 - lr: 9.5262e-06\n",
      "Epoch 186/300\n",
      "132/133 [============================>.] - ETA: 0s - loss: 0.8324 - categorical_accuracy: 0.5837INFO:tensorflow:Assets written to: tf_resize/logs/imagenet_inception_resnet_v2_(193, 193)_RESIZE/models/assets\n"
     ]
    },
    {
     "name": "stderr",
     "output_type": "stream",
     "text": [
      "INFO:tensorflow:Assets written to: tf_resize/logs/imagenet_inception_resnet_v2_(193, 193)_RESIZE/models/assets\n"
     ]
    },
    {
     "name": "stdout",
     "output_type": "stream",
     "text": [
      "133/133 [==============================] - 54s 409ms/step - loss: 0.8322 - categorical_accuracy: 0.5838 - val_loss: 0.8141 - val_categorical_accuracy: 0.5847 - lr: 9.1452e-06\n",
      "Epoch 187/300\n",
      "132/133 [============================>.] - ETA: 0s - loss: 0.8279 - categorical_accuracy: 0.5845INFO:tensorflow:Assets written to: tf_resize/logs/imagenet_inception_resnet_v2_(193, 193)_RESIZE/models/assets\n"
     ]
    },
    {
     "name": "stderr",
     "output_type": "stream",
     "text": [
      "INFO:tensorflow:Assets written to: tf_resize/logs/imagenet_inception_resnet_v2_(193, 193)_RESIZE/models/assets\n"
     ]
    },
    {
     "name": "stdout",
     "output_type": "stream",
     "text": [
      "133/133 [==============================] - 54s 406ms/step - loss: 0.8276 - categorical_accuracy: 0.5846 - val_loss: 0.8132 - val_categorical_accuracy: 0.5861 - lr: 8.7794e-06\n",
      "Epoch 188/300\n",
      "132/133 [============================>.] - ETA: 0s - loss: 0.8353 - categorical_accuracy: 0.5794INFO:tensorflow:Assets written to: tf_resize/logs/imagenet_inception_resnet_v2_(193, 193)_RESIZE/models/assets\n"
     ]
    },
    {
     "name": "stderr",
     "output_type": "stream",
     "text": [
      "INFO:tensorflow:Assets written to: tf_resize/logs/imagenet_inception_resnet_v2_(193, 193)_RESIZE/models/assets\n"
     ]
    },
    {
     "name": "stdout",
     "output_type": "stream",
     "text": [
      "133/133 [==============================] - 50s 378ms/step - loss: 0.8350 - categorical_accuracy: 0.5795 - val_loss: 0.8125 - val_categorical_accuracy: 0.5894 - lr: 8.4282e-06\n",
      "Epoch 189/300\n",
      "132/133 [============================>.] - ETA: 0s - loss: 0.8281 - categorical_accuracy: 0.5826INFO:tensorflow:Assets written to: tf_resize/logs/imagenet_inception_resnet_v2_(193, 193)_RESIZE/models/assets\n"
     ]
    },
    {
     "name": "stderr",
     "output_type": "stream",
     "text": [
      "INFO:tensorflow:Assets written to: tf_resize/logs/imagenet_inception_resnet_v2_(193, 193)_RESIZE/models/assets\n"
     ]
    },
    {
     "name": "stdout",
     "output_type": "stream",
     "text": [
      "133/133 [==============================] - 53s 402ms/step - loss: 0.8279 - categorical_accuracy: 0.5827 - val_loss: 0.8131 - val_categorical_accuracy: 0.5880 - lr: 8.0911e-06\n",
      "Epoch 190/300\n",
      "132/133 [============================>.] - ETA: 0s - loss: 0.8291 - categorical_accuracy: 0.5832INFO:tensorflow:Assets written to: tf_resize/logs/imagenet_inception_resnet_v2_(193, 193)_RESIZE/models/assets\n"
     ]
    },
    {
     "name": "stderr",
     "output_type": "stream",
     "text": [
      "INFO:tensorflow:Assets written to: tf_resize/logs/imagenet_inception_resnet_v2_(193, 193)_RESIZE/models/assets\n"
     ]
    },
    {
     "name": "stdout",
     "output_type": "stream",
     "text": [
      "133/133 [==============================] - 54s 406ms/step - loss: 0.8288 - categorical_accuracy: 0.5833 - val_loss: 0.8135 - val_categorical_accuracy: 0.5866 - lr: 7.7674e-06\n",
      "Epoch 191/300\n",
      "132/133 [============================>.] - ETA: 0s - loss: 0.8321 - categorical_accuracy: 0.5779INFO:tensorflow:Assets written to: tf_resize/logs/imagenet_inception_resnet_v2_(193, 193)_RESIZE/models/assets\n"
     ]
    },
    {
     "name": "stderr",
     "output_type": "stream",
     "text": [
      "INFO:tensorflow:Assets written to: tf_resize/logs/imagenet_inception_resnet_v2_(193, 193)_RESIZE/models/assets\n"
     ]
    },
    {
     "name": "stdout",
     "output_type": "stream",
     "text": [
      "133/133 [==============================] - 51s 381ms/step - loss: 0.8318 - categorical_accuracy: 0.5781 - val_loss: 0.8136 - val_categorical_accuracy: 0.5856 - lr: 7.4567e-06\n",
      "Epoch 192/300\n",
      "132/133 [============================>.] - ETA: 0s - loss: 0.8299 - categorical_accuracy: 0.5804INFO:tensorflow:Assets written to: tf_resize/logs/imagenet_inception_resnet_v2_(193, 193)_RESIZE/models/assets\n"
     ]
    },
    {
     "name": "stderr",
     "output_type": "stream",
     "text": [
      "INFO:tensorflow:Assets written to: tf_resize/logs/imagenet_inception_resnet_v2_(193, 193)_RESIZE/models/assets\n"
     ]
    },
    {
     "name": "stdout",
     "output_type": "stream",
     "text": [
      "133/133 [==============================] - 54s 407ms/step - loss: 0.8296 - categorical_accuracy: 0.5805 - val_loss: 0.8134 - val_categorical_accuracy: 0.5885 - lr: 7.1585e-06\n",
      "Epoch 193/300\n",
      "132/133 [============================>.] - ETA: 0s - loss: 0.8295 - categorical_accuracy: 0.5839INFO:tensorflow:Assets written to: tf_resize/logs/imagenet_inception_resnet_v2_(193, 193)_RESIZE/models/assets\n"
     ]
    },
    {
     "name": "stderr",
     "output_type": "stream",
     "text": [
      "INFO:tensorflow:Assets written to: tf_resize/logs/imagenet_inception_resnet_v2_(193, 193)_RESIZE/models/assets\n"
     ]
    },
    {
     "name": "stdout",
     "output_type": "stream",
     "text": [
      "133/133 [==============================] - 53s 396ms/step - loss: 0.8293 - categorical_accuracy: 0.5840 - val_loss: 0.8140 - val_categorical_accuracy: 0.5875 - lr: 6.8721e-06\n",
      "Epoch 194/300\n",
      "132/133 [============================>.] - ETA: 0s - loss: 0.8319 - categorical_accuracy: 0.5766INFO:tensorflow:Assets written to: tf_resize/logs/imagenet_inception_resnet_v2_(193, 193)_RESIZE/models/assets\n"
     ]
    },
    {
     "name": "stderr",
     "output_type": "stream",
     "text": [
      "INFO:tensorflow:Assets written to: tf_resize/logs/imagenet_inception_resnet_v2_(193, 193)_RESIZE/models/assets\n"
     ]
    },
    {
     "name": "stdout",
     "output_type": "stream",
     "text": [
      "133/133 [==============================] - 51s 381ms/step - loss: 0.8318 - categorical_accuracy: 0.5766 - val_loss: 0.8138 - val_categorical_accuracy: 0.5851 - lr: 6.5972e-06\n",
      "Epoch 195/300\n",
      "132/133 [============================>.] - ETA: 0s - loss: 0.8304 - categorical_accuracy: 0.5815INFO:tensorflow:Assets written to: tf_resize/logs/imagenet_inception_resnet_v2_(193, 193)_RESIZE/models/assets\n"
     ]
    },
    {
     "name": "stderr",
     "output_type": "stream",
     "text": [
      "INFO:tensorflow:Assets written to: tf_resize/logs/imagenet_inception_resnet_v2_(193, 193)_RESIZE/models/assets\n"
     ]
    },
    {
     "name": "stdout",
     "output_type": "stream",
     "text": [
      "133/133 [==============================] - 54s 405ms/step - loss: 0.8302 - categorical_accuracy: 0.5816 - val_loss: 0.8134 - val_categorical_accuracy: 0.5880 - lr: 6.3333e-06\n",
      "Epoch 196/300\n",
      "132/133 [============================>.] - ETA: 0s - loss: 0.8280 - categorical_accuracy: 0.5794INFO:tensorflow:Assets written to: tf_resize/logs/imagenet_inception_resnet_v2_(193, 193)_RESIZE/models/assets\n"
     ]
    },
    {
     "name": "stderr",
     "output_type": "stream",
     "text": [
      "INFO:tensorflow:Assets written to: tf_resize/logs/imagenet_inception_resnet_v2_(193, 193)_RESIZE/models/assets\n"
     ]
    },
    {
     "name": "stdout",
     "output_type": "stream",
     "text": [
      "133/133 [==============================] - 54s 403ms/step - loss: 0.8278 - categorical_accuracy: 0.5795 - val_loss: 0.8132 - val_categorical_accuracy: 0.5880 - lr: 6.0800e-06\n",
      "Epoch 197/300\n",
      "132/133 [============================>.] - ETA: 0s - loss: 0.8288 - categorical_accuracy: 0.5796INFO:tensorflow:Assets written to: tf_resize/logs/imagenet_inception_resnet_v2_(193, 193)_RESIZE/models/assets\n"
     ]
    },
    {
     "name": "stderr",
     "output_type": "stream",
     "text": [
      "INFO:tensorflow:Assets written to: tf_resize/logs/imagenet_inception_resnet_v2_(193, 193)_RESIZE/models/assets\n"
     ]
    },
    {
     "name": "stdout",
     "output_type": "stream",
     "text": [
      "133/133 [==============================] - 51s 383ms/step - loss: 0.8286 - categorical_accuracy: 0.5796 - val_loss: 0.8126 - val_categorical_accuracy: 0.5856 - lr: 5.8368e-06\n",
      "Epoch 198/300\n",
      "132/133 [============================>.] - ETA: 0s - loss: 0.8261 - categorical_accuracy: 0.5827INFO:tensorflow:Assets written to: tf_resize/logs/imagenet_inception_resnet_v2_(193, 193)_RESIZE/models/assets\n"
     ]
    },
    {
     "name": "stderr",
     "output_type": "stream",
     "text": [
      "INFO:tensorflow:Assets written to: tf_resize/logs/imagenet_inception_resnet_v2_(193, 193)_RESIZE/models/assets\n"
     ]
    },
    {
     "name": "stdout",
     "output_type": "stream",
     "text": [
      "133/133 [==============================] - 54s 405ms/step - loss: 0.8258 - categorical_accuracy: 0.5828 - val_loss: 0.8130 - val_categorical_accuracy: 0.5861 - lr: 5.6033e-06\n",
      "Epoch 199/300\n",
      "132/133 [============================>.] - ETA: 0s - loss: 0.8267 - categorical_accuracy: 0.5819INFO:tensorflow:Assets written to: tf_resize/logs/imagenet_inception_resnet_v2_(193, 193)_RESIZE/models/assets\n"
     ]
    },
    {
     "name": "stderr",
     "output_type": "stream",
     "text": [
      "INFO:tensorflow:Assets written to: tf_resize/logs/imagenet_inception_resnet_v2_(193, 193)_RESIZE/models/assets\n"
     ]
    },
    {
     "name": "stdout",
     "output_type": "stream",
     "text": [
      "133/133 [==============================] - 50s 377ms/step - loss: 0.8264 - categorical_accuracy: 0.5820 - val_loss: 0.8136 - val_categorical_accuracy: 0.5875 - lr: 5.3792e-06\n",
      "Epoch 200/300\n",
      "132/133 [============================>.] - ETA: 0s - loss: 0.8288 - categorical_accuracy: 0.5795INFO:tensorflow:Assets written to: tf_resize/logs/imagenet_inception_resnet_v2_(193, 193)_RESIZE/models/assets\n"
     ]
    },
    {
     "name": "stderr",
     "output_type": "stream",
     "text": [
      "INFO:tensorflow:Assets written to: tf_resize/logs/imagenet_inception_resnet_v2_(193, 193)_RESIZE/models/assets\n"
     ]
    },
    {
     "name": "stdout",
     "output_type": "stream",
     "text": [
      "133/133 [==============================] - 54s 403ms/step - loss: 0.8285 - categorical_accuracy: 0.5796 - val_loss: 0.8129 - val_categorical_accuracy: 0.5875 - lr: 5.1640e-06\n",
      "Epoch 201/300\n",
      "132/133 [============================>.] - ETA: 0s - loss: 0.8281 - categorical_accuracy: 0.5849INFO:tensorflow:Assets written to: tf_resize/logs/imagenet_inception_resnet_v2_(193, 193)_RESIZE/models/assets\n"
     ]
    },
    {
     "name": "stderr",
     "output_type": "stream",
     "text": [
      "INFO:tensorflow:Assets written to: tf_resize/logs/imagenet_inception_resnet_v2_(193, 193)_RESIZE/models/assets\n"
     ]
    },
    {
     "name": "stdout",
     "output_type": "stream",
     "text": [
      "133/133 [==============================] - 54s 405ms/step - loss: 0.8278 - categorical_accuracy: 0.5850 - val_loss: 0.8130 - val_categorical_accuracy: 0.5880 - lr: 4.9575e-06\n",
      "Epoch 202/300\n",
      "133/133 [==============================] - ETA: 0s - loss: 0.8292 - categorical_accuracy: 0.5770INFO:tensorflow:Assets written to: tf_resize/logs/imagenet_inception_resnet_v2_(193, 193)_RESIZE/models/assets\n"
     ]
    },
    {
     "name": "stderr",
     "output_type": "stream",
     "text": [
      "INFO:tensorflow:Assets written to: tf_resize/logs/imagenet_inception_resnet_v2_(193, 193)_RESIZE/models/assets\n"
     ]
    },
    {
     "name": "stdout",
     "output_type": "stream",
     "text": [
      "133/133 [==============================] - 51s 384ms/step - loss: 0.8292 - categorical_accuracy: 0.5770 - val_loss: 0.8128 - val_categorical_accuracy: 0.5894 - lr: 4.7592e-06\n",
      "Epoch 203/300\n",
      "132/133 [============================>.] - ETA: 0s - loss: 0.8346 - categorical_accuracy: 0.5752INFO:tensorflow:Assets written to: tf_resize/logs/imagenet_inception_resnet_v2_(193, 193)_RESIZE/models/assets\n"
     ]
    },
    {
     "name": "stderr",
     "output_type": "stream",
     "text": [
      "INFO:tensorflow:Assets written to: tf_resize/logs/imagenet_inception_resnet_v2_(193, 193)_RESIZE/models/assets\n"
     ]
    },
    {
     "name": "stdout",
     "output_type": "stream",
     "text": [
      "133/133 [==============================] - 53s 402ms/step - loss: 0.8344 - categorical_accuracy: 0.5753 - val_loss: 0.8134 - val_categorical_accuracy: 0.5880 - lr: 4.5688e-06\n",
      "Epoch 204/300\n",
      "132/133 [============================>.] - ETA: 0s - loss: 0.8278 - categorical_accuracy: 0.5821INFO:tensorflow:Assets written to: tf_resize/logs/imagenet_inception_resnet_v2_(193, 193)_RESIZE/models/assets\n"
     ]
    },
    {
     "name": "stderr",
     "output_type": "stream",
     "text": [
      "INFO:tensorflow:Assets written to: tf_resize/logs/imagenet_inception_resnet_v2_(193, 193)_RESIZE/models/assets\n"
     ]
    },
    {
     "name": "stdout",
     "output_type": "stream",
     "text": [
      "133/133 [==============================] - 53s 396ms/step - loss: 0.8277 - categorical_accuracy: 0.5821 - val_loss: 0.8132 - val_categorical_accuracy: 0.5889 - lr: 4.3861e-06\n",
      "Epoch 205/300\n",
      " 16/133 [==>...........................] - ETA: 20s - loss: 0.8537 - categorical_accuracy: 0.5742"
     ]
    }
   ],
   "source": [
    "# Iterate over preprecessing \n",
    "\n",
    "urls = [\n",
    "\n",
    "        \"https://tfhub.dev/tensorflow/resnet_50/feature_vector/1\",\n",
    "        \"https://tfhub.dev/google/imagenet/inception_resnet_v2/feature_vector/4\",\n",
    "        \"https://tfhub.dev/google/imagenet/resnet_v1_152/feature_vector/4\",\n",
    "        \"https://tfhub.dev/google/tf2-preview/inception_v3/feature_vector/4\",\n",
    "        \"https://tfhub.dev/google/inaturalist/inception_v3/feature_vector/4\",\n",
    "        \"https://tfhub.dev/google/bit/m-r50x1/1\",\n",
    "        \"https://tfhub.dev/google/imagenet/pnasnet_large/feature_vector/4\",\n",
    "        \"https://tfhub.dev/tensorflow/efficientnet/b7/feature-vector/1\",\n",
    "        \"https://tfhub.dev/tensorflow/efficientnet/b1/feature-vector/1\",\n",
    "        \"https://tfhub.dev/tensorflow/efficientnet/b2/feature-vector/1\",\n",
    "        \"https://tfhub.dev/tensorflow/efficientnet/b4/feature-vector/1\",\n",
    "        \"https://tfhub.dev/tensorflow/efficientnet/b3/feature-vector/1\",\n",
    "        \"https://tfhub.dev/tensorflow/efficientnet/b0/feature-vector/1\",\n",
    "        \"https://tfhub.dev/tensorflow/efficientnet/b6/feature-vector/1\",\n",
    "        \"https://tfhub.dev/google/imagenet/mobilenet_v1_100_128/feature_vector/4\",\n",
    "        ]\n",
    "\n",
    "EPOCHS = 300\n",
    "#TODO:  Solve smaller nets\n",
    "non_compatible = [\"https://tfhub.dev/google/imagenet/mobilenet_v2_050_96/feature_vector/4\",\n",
    "                  \"https://tfhub.dev/google/imagenet/mobilenet_v2_075_96/feature_vector/4\"]\n",
    "\n",
    "# out_shapes= [ (193, 193), (229, 229), (331, 331), (128,128), (224,224)]\n",
    "# reshape_methods = [ImgReshape.RESIZE_CROP_PAD, ImgReshape.RESIZE, ImgReshape.RESIZE_PAD]\n",
    "out_shapes = [(193, 193)]\n",
    "reshape_methods = [ImgReshape.RESIZE]\n",
    "\n",
    "for url, out_shape, reshape_method in itertools.product(urls, out_shapes, reshape_methods):\n",
    "    train_ds, valid_ds, test_ds = get_datasets(shuffle=False, out_shape=out_shape, reshape_method=reshape_method)\n",
    "    try:\n",
    "        feature_extractor_url = url\n",
    "        feature_extractor_layer = hub.KerasLayer(feature_extractor_url,\n",
    "                                                 input_shape=(out_shape[0], out_shape[1], 3),\n",
    "                                                 trainable=False)\n",
    "\n",
    "        model = tf.keras.Sequential([\n",
    "          feature_extractor_layer,\n",
    "          tf.keras.layers.Dense(1024, activation='relu'), \n",
    "          tf.keras.layers.Dropout(0.5),\n",
    "          tf.keras.layers.Dense(3, activation=\"softmax\")\n",
    "        ])\n",
    "\n",
    "        model.summary()\n",
    "\n",
    "\n",
    "        LOG_DIR = f\"tf_resize/logs/{url.split('/')[-4]}_{url.split('/')[-3]}_{out_shape}_{str(reshape_method).split('.')[-1]}\"\n",
    "        MODELS_DIR = LOG_DIR + \"/models\"\n",
    "        file_writer_cm = tf.summary.create_file_writer(LOG_DIR + '/cm')\n",
    "\n",
    "        file_writer = tf.summary.create_file_writer(LOG_DIR + \"/metrics\")\n",
    "        file_writer.set_as_default()\n",
    "\n",
    "        lr_callback = tf.keras.callbacks.LearningRateScheduler(lr_schedule)\n",
    "        tensorboard_callback = tf.keras.callbacks.TensorBoard(log_dir=LOG_DIR)\n",
    "        model_save_callback = tf.keras.callbacks.ModelCheckpoint(MODELS_DIR)\n",
    "        cm_callback = tf.keras.callbacks.LambdaCallback(on_epoch_end=log_confusion_matrix)\n",
    "        earlystopping_callback = tf.keras.callbacks.EarlyStopping(patience=10)\n",
    "\n",
    "        model.compile(optimizer=tf.keras.optimizers.Adam(),\n",
    "                      loss=tf.keras.losses.CategoricalCrossentropy(),\n",
    "                      metrics=[tf.keras.metrics.CategoricalAccuracy()])\n",
    "\n",
    "        #TODO: set up learning rate \n",
    "\n",
    "        model.fit(train_ds,\n",
    "                  validation_data=valid_ds,\n",
    "                  epochs=EPOCHS,\n",
    "                  callbacks=[tensorboard_callback, model_save_callback, lr_callback, cm_callback])\n",
    "    except Exception as e:\n",
    "        print(e)\n",
    "        continue\n"
   ]
  },
  {
   "cell_type": "code",
   "execution_count": null,
   "metadata": {},
   "outputs": [],
   "source": [
    "%tensorboard --logdir tf_resize/logs --port 6007 --bind_all"
   ]
  },
  {
   "cell_type": "code",
   "execution_count": 9,
   "metadata": {},
   "outputs": [],
   "source": [
    "!kill 83"
   ]
  },
  {
   "cell_type": "code",
   "execution_count": null,
   "metadata": {},
   "outputs": [],
   "source": [
    "\"https://tfhub.dev/tensorflow/efficientnet/b2/feature-vector/1\".split('/')[-3]"
   ]
  },
  {
   "cell_type": "code",
   "execution_count": 7,
   "metadata": {},
   "outputs": [],
   "source": [
    "!rm -rf tf_resize"
   ]
  },
  {
   "cell_type": "code",
   "execution_count": null,
   "metadata": {},
   "outputs": [],
   "source": [
    "from prepare_dataset import get_label\n",
    "la = \"/ADNI/slice_minc/ad/_image_id_101549/_slicer_node0/ADNI_027_S_1385_MR_MPR__GradWarp__B1_Correction__N3__Scaled_Br_20080408153436647_S47223_I101549_normalized_masked_split78_ax2.png\""
   ]
  },
  {
   "cell_type": "code",
   "execution_count": null,
   "metadata": {},
   "outputs": [],
   "source": [
    "!kill 23867"
   ]
  },
  {
   "cell_type": "code",
   "execution_count": null,
   "metadata": {},
   "outputs": [],
   "source": [
    "def get_img_id(file_path): \n",
    "    parts = tf.strings.split(file_path, os.path.sep)\n",
    "    parts2 = tf.strings.split(parts[-3], '_')\n",
    "    return parts2[-1]"
   ]
  },
  {
   "cell_type": "code",
   "execution_count": null,
   "metadata": {},
   "outputs": [],
   "source": [
    "get_img_id(\"/ADNI/slice_minc/ad/_image_id_101549/_slicer_node0/ADNI_027_S_1385_MR_MPR__GradWarp__B1_Correction__N3__Scaled_Br_20080408153436647_S47223_I101549_normalized_masked_split78_ax2.png\")"
   ]
  },
  {
   "cell_type": "code",
   "execution_count": null,
   "metadata": {},
   "outputs": [],
   "source": []
  },
  {
   "cell_type": "code",
   "execution_count": null,
   "metadata": {},
   "outputs": [],
   "source": [
    "img_path = \"/ADNI/slice_minc/ad/_image_id_101549/_slicer_node0/ADNI_027_S_1385_MR_MPR__GradWarp__B1_Correction__N3__Scaled_Br_20080408153436647_S47223_I101549_normalized_masked_split78_ax2.png\""
   ]
  },
  {
   "cell_type": "code",
   "execution_count": null,
   "metadata": {},
   "outputs": [],
   "source": [
    "img = tf.io.read_file(img_path)\n",
    "img = tf.image.decode_png(img, channels=3)\n",
    "img = tf.image.convert_image_dtype(img, tf.float32)\n",
    "img = tf.image.resize_with_crop_or_pad(img,target_height=193, target_width=193)\n",
    "plt.imshow(img)"
   ]
  },
  {
   "cell_type": "code",
   "execution_count": null,
   "metadata": {},
   "outputs": [],
   "source": [
    "img = tf.io.read_file(img_path)\n",
    "img = tf.image.decode_png(img, channels=3)\n",
    "img = tf.image.convert_image_dtype(img, tf.float32)\n",
    "img.shape"
   ]
  },
  {
   "cell_type": "code",
   "execution_count": null,
   "metadata": {},
   "outputs": [],
   "source": [
    "from prepare_dataset import decode_img, ImgReshape\n"
   ]
  },
  {
   "cell_type": "code",
   "execution_count": null,
   "metadata": {},
   "outputs": [],
   "source": [
    "decode_img?"
   ]
  },
  {
   "cell_type": "code",
   "execution_count": null,
   "metadata": {},
   "outputs": [],
   "source": [
    "img = tf.io.read_file(img_path)\n",
    "img = decode_img(img,reshape_method=ImgReshape.RESIZE_CROP_PAD, out_shape=(224, 224))\n",
    "plt.imshow(img)"
   ]
  },
  {
   "cell_type": "code",
   "execution_count": null,
   "metadata": {},
   "outputs": [],
   "source": [
    "train_ds, valid_ds, test_ds = get_datasets(shuffle=False)"
   ]
  },
  {
   "cell_type": "code",
   "execution_count": null,
   "metadata": {},
   "outputs": [],
   "source": [
    "!rm -rf /tmp/logs/"
   ]
  },
  {
   "cell_type": "code",
   "execution_count": null,
   "metadata": {},
   "outputs": [],
   "source": []
  }
 ],
 "metadata": {
  "kernelspec": {
   "display_name": "Python 3",
   "language": "python",
   "name": "python3"
  },
  "language_info": {
   "codemirror_mode": {
    "name": "ipython",
    "version": 3
   },
   "file_extension": ".py",
   "mimetype": "text/x-python",
   "name": "python",
   "nbconvert_exporter": "python",
   "pygments_lexer": "ipython3",
   "version": "3.6.9"
  }
 },
 "nbformat": 4,
 "nbformat_minor": 2
}
