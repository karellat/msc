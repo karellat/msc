{
 "cells": [
  {
   "cell_type": "code",
   "execution_count": 2,
   "metadata": {},
   "outputs": [
    {
     "data": {
      "text/plain": [
       "[]"
      ]
     },
     "execution_count": 2,
     "metadata": {},
     "output_type": "execute_result"
    }
   ],
   "source": [
    "\n"
   ]
  },
  {
   "cell_type": "code",
   "execution_count": null,
   "metadata": {},
   "outputs": [
    {
     "name": "stdout",
     "output_type": "stream",
     "text": [
      "Epoch 1/100\n",
      "      1/Unknown - 0s 126us/step - loss: 1.1031 - categorical_accuracy: 0.1562"
     ]
    }
   ],
   "source": []
  },
  {
   "cell_type": "code",
   "execution_count": 4,
   "metadata": {},
   "outputs": [],
   "source": [
    "logging.basicConfig(level=logging.WARN)"
   ]
  },
  {
   "cell_type": "code",
   "execution_count": null,
   "metadata": {},
   "outputs": [],
   "source": [
    "img, label = next(train_ds.as_numpy_iterator())"
   ]
  },
  {
   "cell_type": "code",
   "execution_count": null,
   "metadata": {},
   "outputs": [],
   "source": [
    "%timeit train_ds, valid_ds, test_ds = get_3d_dataset(batch_size=1,prefetch_count=64)"
   ]
  },
  {
   "cell_type": "code",
   "execution_count": null,
   "metadata": {},
   "outputs": [],
   "source": [
    "%timeit img, label = next(iter(train_ds.batch(1)))"
   ]
  },
  {
   "cell_type": "code",
   "execution_count": null,
   "metadata": {},
   "outputs": [],
   "source": [
    "img, label = next(iter(train_ds))\n",
    "train_ds.batch(1)"
   ]
  },
  {
   "cell_type": "code",
   "execution_count": null,
   "metadata": {},
   "outputs": [],
   "source": [
    "def numpy2nifty(numpy_array): \n",
    "    return Nifti2Image(numpy_array, np.eye(4))"
   ]
  },
  {
   "cell_type": "code",
   "execution_count": null,
   "metadata": {},
   "outputs": [],
   "source": [
    "def decode_img(path, normalize, downscale_ratio): \n",
    "    #TODO: add reshape\n",
    "    img = nib.load(path)\n",
    "    if downscale_ratio is not None and downscale_ratio != 1: \n",
    "        img = resample_img(img, target_affine=np.eye(3)*downscale_ratio)\n",
    "    tensor = tf.convert_to_tensor(img.get_fdata(), tf.float32)\n",
    "    tensor = tf.expand_dims(tensor, -1)\n",
    "    if normalize:\n",
    "        tensor /= 255.0\n",
    "    return tensor"
   ]
  },
  {
   "cell_type": "code",
   "execution_count": null,
   "metadata": {},
   "outputs": [],
   "source": [
    "conv = tf.keras.layers.Conv3D(64, (5,5,5),activation='relu',kernel_regularizer=tf.keras.regularizers.l2())\n",
    "model = tf.keras.Sequential([\n",
    "    tf.keras.layers.Input((5,5,5,1)), \n",
    "    conv,\n",
    "    tf.keras.layers.Flatten(),\n",
    "    tf.keras.layers.Dense(125),\n",
    "    tf.keras.layers.Reshape((5,5,5,1))\n",
    "])\n"
   ]
  },
  {
   "cell_type": "code",
   "execution_count": null,
   "metadata": {},
   "outputs": [],
   "source": [
    "np.ceil(np.array(img.shape)/1000.0).astype(int)"
   ]
  },
  {
   "cell_type": "code",
   "execution_count": null,
   "metadata": {},
   "outputs": [],
   "source": [
    "mirrored_strategy = tf.distribute.MirroredStrategy()\n",
    "with mirrored_strategy.scope():\n",
    "   "
   ]
  },
  {
   "cell_type": "code",
   "execution_count": null,
   "metadata": {},
   "outputs": [],
   "source": [
    "def payan_montana_model(pretrained_conv=None):\n",
    "    #TODO: add paper name\n",
    "    input_shape = (97, 115, 97, 1)\n",
    "    convolution_filters = 150\n",
    "    assert len(input_shape) == 4 \n",
    "    fc_size = 800\n",
    "    input_layer = tf.keras.layers.Input(input_shape, name=f'Input')\n",
    "    conv_layer1 = tf.keras.layers.Convolution3D(convolution_filters, (5,5,5), name='Conv-1', activation='relu')(input_layer)\n",
    "    conv_layer2 = tf.keras.layers.Convolution3D(convolution_filters, (5,5,5), name='Conv-2', activation='relu')(input_layer)\n",
    "    conv_layer3 = tf.keras.layers.Convolution3D(convolution_filters, (5,5,5), name='Conv-3', activation='relu')(input_layer)\n",
    "    maxp_layer1 = tf.keras.layers.MaxPool3D(name='MaxP-1', pool_size=(5,5,5))(conv_layer1)\n",
    "    maxp_layer2 = tf.keras.layers.MaxPool3D(name='MaxP-2', pool_size=(5,5,5))(conv_layer2)\n",
    "    maxp_layer3 = tf.keras.layers.MaxPool3D(name='MaxP-3', pool_size=(5,5,5))(conv_layer3)\n",
    "    maxp_layer1 = tf.keras.layers.Flatten()(maxp_layer1)\n",
    "    maxp_layer2 = tf.keras.layers.Flatten()(maxp_layer2)\n",
    "    maxp_layer3 = tf.keras.layers.Flatten()(maxp_layer3)\n",
    "    conv_layer = tf.keras.layers.Concatenate(name='Concat')([maxp_layer1, maxp_layer2, maxp_layer3])\n",
    "    fc_layer = tf.keras.layers.Dense(fc_size,name=f'FC-{fc_size}', activation='relu')(conv_layer)\n",
    "    output_layer = tf.keras.layers.Dense(3, name='Classification', activation='softmax')(fc_layer)\n",
    "\n",
    "    return tf.keras.Model(input_layer, output_layer)"
   ]
  },
  {
   "cell_type": "code",
   "execution_count": null,
   "metadata": {},
   "outputs": [],
   "source": [
    "model = payan_montana_model()\n",
    "model.summary(line_length=120)"
   ]
  },
  {
   "cell_type": "code",
   "execution_count": null,
   "metadata": {},
   "outputs": [],
   "source": [
    "path = \"/ADNI/minc_beast/ad/_image_id_101549/ADNI_027_S_1385_MR_MPR__GradWarp__B1_Correction__N3__Scaled_Br_20080408153436647_S47223_I101549_normalized_masked.nii\"\n"
   ]
  },
  {
   "cell_type": "code",
   "execution_count": null,
   "metadata": {},
   "outputs": [],
   "source": [
    "np.array((97, 115, 97, 1))*2-1"
   ]
  },
  {
   "cell_type": "code",
   "execution_count": null,
   "metadata": {},
   "outputs": [],
   "source": [
    "%timeit load(path)"
   ]
  },
  {
   "cell_type": "code",
   "execution_count": null,
   "metadata": {},
   "outputs": [],
   "source": [
    "prefetch"
   ]
  },
  {
   "cell_type": "code",
   "execution_count": null,
   "metadata": {},
   "outputs": [],
   "source": [
    "def load2(path):\n",
    "    img = sitk.ReadImage(path)\n",
    "    #img = resample_img(img, np.eye(3)*2.0)\n",
    "    img = sitk.GetArrayFromImage(img)\n",
    "    # Add chanels dimension\n",
    "    img = np.expand_dims(img, axis=-1)\n",
    "    tensorf = tf.convert_to_tensor(img, tf.float32)"
   ]
  },
  {
   "cell_type": "code",
   "execution_count": null,
   "metadata": {},
   "outputs": [],
   "source": [
    "%timeit load2(path)"
   ]
  },
  {
   "cell_type": "code",
   "execution_count": null,
   "metadata": {},
   "outputs": [],
   "source": [
    "img = sitk.ReadImage(path)\n",
    "\n",
    "img2 = sitk.Resample(img,affine , )"
   ]
  },
  {
   "cell_type": "code",
   "execution_count": null,
   "metadata": {},
   "outputs": [],
   "source": [
    "%timeit files = len(list(tf.data.Dataset.list_files(DEFAULT_PATH).as_numpy_iterator()))\n"
   ]
  },
  {
   "cell_type": "code",
   "execution_count": null,
   "metadata": {},
   "outputs": [],
   "source": [
    "%timeit files = len()"
   ]
  },
  {
   "cell_type": "code",
   "execution_count": null,
   "metadata": {},
   "outputs": [],
   "source": [
    "len(list(tf.data.Dataset.list_files(DEFAULT_PATH).as_numpy_iterator()))"
   ]
  },
  {
   "cell_type": "code",
   "execution_count": null,
   "metadata": {},
   "outputs": [],
   "source": [
    "glob.glob(DEFAULT_PATH)[0]"
   ]
  },
  {
   "cell_type": "code",
   "execution_count": null,
   "metadata": {},
   "outputs": [],
   "source": []
  },
  {
   "cell_type": "code",
   "execution_count": null,
   "metadata": {},
   "outputs": [],
   "source": []
  },
  {
   "cell_type": "code",
   "execution_count": null,
   "metadata": {},
   "outputs": [],
   "source": [
    "%timeit process_path(path)"
   ]
  },
  {
   "cell_type": "code",
   "execution_count": null,
   "metadata": {},
   "outputs": [],
   "source": [
    "%timeit generator(DEFAULT_PATH)"
   ]
  },
  {
   "cell_type": "code",
   "execution_count": null,
   "metadata": {},
   "outputs": [],
   "source": [
    "def get_dataset():\n",
    "    input_shape = (193, 229, 193, 1)\n",
    "    dataset_size = len(glob.glob(path))\n",
    "    return tf.data.Dataset.from_generator(generator,\n",
    "                                             output_types=(tf.float32, tf.bool),\n",
    "                                             output_shapes=(input_shape, (3,)),\n",
    "                                             args=[path])"
   ]
  },
  {
   "cell_type": "code",
   "execution_count": null,
   "metadata": {},
   "outputs": [],
   "source": [
    "%timeit get_dataset()"
   ]
  },
  {
   "cell_type": "code",
   "execution_count": null,
   "metadata": {},
   "outputs": [],
   "source": [
    "ds = get_dataset()"
   ]
  },
  {
   "cell_type": "code",
   "execution_count": null,
   "metadata": {},
   "outputs": [],
   "source": [
    "%timeit ds.take(1)"
   ]
  },
  {
   "cell_type": "code",
   "execution_count": null,
   "metadata": {},
   "outputs": [],
   "source": [
    "%timeit next(iter(ds))"
   ]
  },
  {
   "cell_type": "code",
   "execution_count": null,
   "metadata": {},
   "outputs": [],
   "source": []
  },
  {
   "cell_type": "code",
   "execution_count": null,
   "metadata": {},
   "outputs": [],
   "source": [
    "%timeit get_3d_dataset2()"
   ]
  },
  {
   "cell_type": "code",
   "execution_count": null,
   "metadata": {},
   "outputs": [],
   "source": []
  },
  {
   "cell_type": "code",
   "execution_count": null,
   "metadata": {},
   "outputs": [],
   "source": [
    "train_ds, valid_ds, test_ds = get_3d_dataset2()"
   ]
  },
  {
   "cell_type": "code",
   "execution_count": null,
   "metadata": {},
   "outputs": [],
   "source": [
    "%timeit next(iter(train_ds))"
   ]
  },
  {
   "cell_type": "code",
   "execution_count": null,
   "metadata": {},
   "outputs": [],
   "source": [
    "img, label = next(iter(train_ds))"
   ]
  },
  {
   "cell_type": "code",
   "execution_count": null,
   "metadata": {},
   "outputs": [],
   "source": [
    "diag = 'ad'\n",
    "assert len(set(valid_ds[diag]) & set(train_ds[diag])) == 0 \n",
    "assert len(set(test_ds[diag]) & set(train_ds[diag])) == 0\n",
    "assert len(set(valid_ds[diag]) & set(train_ds[diag])) == 0"
   ]
  },
  {
   "cell_type": "code",
   "execution_count": null,
   "metadata": {},
   "outputs": [],
   "source": [
    "for diag in test_ds.keys():\n",
    "    assert len(set(valid_ds[diag]) & set(train_ds[diag])) == 0 \n",
    "    assert len(set(test_ds[diag]) & set(train_ds[diag])) == 0\n",
    "    assert len(set(valid_ds[diag]) & set(train_ds[diag])) == 0"
   ]
  },
  {
   "cell_type": "code",
   "execution_count": null,
   "metadata": {},
   "outputs": [],
   "source": [
    "plot_anat(numpy2nifty(img.numpy()))"
   ]
  },
  {
   "cell_type": "code",
   "execution_count": null,
   "metadata": {},
   "outputs": [],
   "source": []
  },
  {
   "cell_type": "code",
   "execution_count": null,
   "metadata": {},
   "outputs": [],
   "source": [
    "list([ v for _,v in train_ds.items()])"
   ]
  },
  {
   "cell_type": "code",
   "execution_count": null,
   "metadata": {},
   "outputs": [],
   "source": []
  }
 ],
 "metadata": {
  "kernelspec": {
   "display_name": "Python 3",
   "language": "python",
   "name": "python3"
  },
  "language_info": {
   "codemirror_mode": {
    "name": "ipython",
    "version": 3
   },
   "file_extension": ".py",
   "mimetype": "text/x-python",
   "name": "python",
   "nbconvert_exporter": "python",
   "pygments_lexer": "ipython3",
   "version": "3.6.9"
  }
 },
 "nbformat": 4,
 "nbformat_minor": 2
}
